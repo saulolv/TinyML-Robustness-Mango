{
 "cells": [
  {
   "cell_type": "code",
   "execution_count": 5,
   "metadata": {},
   "outputs": [
    {
     "name": "stderr",
     "output_type": "stream",
     "text": [
      "2025-06-11 13:42:31.046641: I tensorflow/core/util/port.cc:153] oneDNN custom operations are on. You may see slightly different numerical results due to floating-point round-off errors from different computation orders. To turn them off, set the environment variable `TF_ENABLE_ONEDNN_OPTS=0`.\n",
      "2025-06-11 13:42:31.052925: I external/local_xla/xla/tsl/cuda/cudart_stub.cc:32] Could not find cuda drivers on your machine, GPU will not be used.\n",
      "2025-06-11 13:42:31.101988: I external/local_xla/xla/tsl/cuda/cudart_stub.cc:32] Could not find cuda drivers on your machine, GPU will not be used.\n",
      "2025-06-11 13:42:31.149357: E external/local_xla/xla/stream_executor/cuda/cuda_fft.cc:467] Unable to register cuFFT factory: Attempting to register factory for plugin cuFFT when one has already been registered\n",
      "WARNING: All log messages before absl::InitializeLog() is called are written to STDERR\n",
      "E0000 00:00:1749660151.192955    4480 cuda_dnn.cc:8579] Unable to register cuDNN factory: Attempting to register factory for plugin cuDNN when one has already been registered\n",
      "E0000 00:00:1749660151.203909    4480 cuda_blas.cc:1407] Unable to register cuBLAS factory: Attempting to register factory for plugin cuBLAS when one has already been registered\n",
      "W0000 00:00:1749660151.285337    4480 computation_placer.cc:177] computation placer already registered. Please check linkage and avoid linking the same target more than once.\n",
      "W0000 00:00:1749660151.285354    4480 computation_placer.cc:177] computation placer already registered. Please check linkage and avoid linking the same target more than once.\n",
      "W0000 00:00:1749660151.285355    4480 computation_placer.cc:177] computation placer already registered. Please check linkage and avoid linking the same target more than once.\n",
      "W0000 00:00:1749660151.285356    4480 computation_placer.cc:177] computation placer already registered. Please check linkage and avoid linking the same target more than once.\n",
      "2025-06-11 13:42:31.296311: I tensorflow/core/platform/cpu_feature_guard.cc:210] This TensorFlow binary is optimized to use available CPU instructions in performance-critical operations.\n",
      "To enable the following instructions: AVX2 AVX512F AVX512_VNNI FMA, in other operations, rebuild TensorFlow with the appropriate compiler flags.\n"
     ]
    }
   ],
   "source": [
    "import tensorflow as tf\n",
    "import keras\n",
    "from tensorflow.keras.preprocessing import image\n",
    "import numpy as np\n",
    "import matplotlib.pyplot as plt\n",
    "from sklearn.metrics import accuracy_score\n",
    "import pandas as pd\n",
    "from tensorflow.keras.models import load_model\n"
   ]
  },
  {
   "cell_type": "markdown",
   "metadata": {},
   "source": [
    "## LCNN"
   ]
  },
  {
   "cell_type": "code",
   "execution_count": 6,
   "metadata": {},
   "outputs": [
    {
     "name": "stderr",
     "output_type": "stream",
     "text": [
      "E0000 00:00:1749660156.739226    4480 cuda_executor.cc:1228] INTERNAL: CUDA Runtime error: Failed call to cudaGetRuntimeVersion: Error loading CUDA libraries. GPU will not be used.: Error loading CUDA libraries. GPU will not be used.\n",
      "W0000 00:00:1749660156.740408    4480 gpu_device.cc:2341] Cannot dlopen some GPU libraries. Please make sure the missing libraries mentioned above are installed properly if you would like to use GPU. Follow the guide at https://www.tensorflow.org/install/gpu for how to download and setup the required libraries for your platform.\n",
      "Skipping registering GPU devices...\n"
     ]
    }
   ],
   "source": [
    "model_lcnn = keras.models.load_model(\"models/lcnn_v2.keras\")\n"
   ]
  },
  {
   "cell_type": "code",
   "execution_count": 7,
   "metadata": {},
   "outputs": [
    {
     "data": {
      "text/html": [
       "<pre style=\"white-space:pre;overflow-x:auto;line-height:normal;font-family:Menlo,'DejaVu Sans Mono',consolas,'Courier New',monospace\"><span style=\"font-weight: bold\">Model: \"sequential_1\"</span>\n",
       "</pre>\n"
      ],
      "text/plain": [
       "\u001b[1mModel: \"sequential_1\"\u001b[0m\n"
      ]
     },
     "metadata": {},
     "output_type": "display_data"
    },
    {
     "data": {
      "text/html": [
       "<pre style=\"white-space:pre;overflow-x:auto;line-height:normal;font-family:Menlo,'DejaVu Sans Mono',consolas,'Courier New',monospace\">┏━━━━━━━━━━━━━━━━━━━━━━━━━━━━━━━━━┳━━━━━━━━━━━━━━━━━━━━━━━━┳━━━━━━━━━━━━━━━┓\n",
       "┃<span style=\"font-weight: bold\"> Layer (type)                    </span>┃<span style=\"font-weight: bold\"> Output Shape           </span>┃<span style=\"font-weight: bold\">       Param # </span>┃\n",
       "┡━━━━━━━━━━━━━━━━━━━━━━━━━━━━━━━━━╇━━━━━━━━━━━━━━━━━━━━━━━━╇━━━━━━━━━━━━━━━┩\n",
       "│ conv2d_6 (<span style=\"color: #0087ff; text-decoration-color: #0087ff\">Conv2D</span>)               │ (<span style=\"color: #00d7ff; text-decoration-color: #00d7ff\">None</span>, <span style=\"color: #00af00; text-decoration-color: #00af00\">222</span>, <span style=\"color: #00af00; text-decoration-color: #00af00\">222</span>, <span style=\"color: #00af00; text-decoration-color: #00af00\">32</span>)   │           <span style=\"color: #00af00; text-decoration-color: #00af00\">896</span> │\n",
       "├─────────────────────────────────┼────────────────────────┼───────────────┤\n",
       "│ max_pooling2d_6 (<span style=\"color: #0087ff; text-decoration-color: #0087ff\">MaxPooling2D</span>)  │ (<span style=\"color: #00d7ff; text-decoration-color: #00d7ff\">None</span>, <span style=\"color: #00af00; text-decoration-color: #00af00\">111</span>, <span style=\"color: #00af00; text-decoration-color: #00af00\">111</span>, <span style=\"color: #00af00; text-decoration-color: #00af00\">32</span>)   │             <span style=\"color: #00af00; text-decoration-color: #00af00\">0</span> │\n",
       "├─────────────────────────────────┼────────────────────────┼───────────────┤\n",
       "│ conv2d_7 (<span style=\"color: #0087ff; text-decoration-color: #0087ff\">Conv2D</span>)               │ (<span style=\"color: #00d7ff; text-decoration-color: #00d7ff\">None</span>, <span style=\"color: #00af00; text-decoration-color: #00af00\">109</span>, <span style=\"color: #00af00; text-decoration-color: #00af00\">109</span>, <span style=\"color: #00af00; text-decoration-color: #00af00\">64</span>)   │        <span style=\"color: #00af00; text-decoration-color: #00af00\">18,496</span> │\n",
       "├─────────────────────────────────┼────────────────────────┼───────────────┤\n",
       "│ max_pooling2d_7 (<span style=\"color: #0087ff; text-decoration-color: #0087ff\">MaxPooling2D</span>)  │ (<span style=\"color: #00d7ff; text-decoration-color: #00d7ff\">None</span>, <span style=\"color: #00af00; text-decoration-color: #00af00\">54</span>, <span style=\"color: #00af00; text-decoration-color: #00af00\">54</span>, <span style=\"color: #00af00; text-decoration-color: #00af00\">64</span>)     │             <span style=\"color: #00af00; text-decoration-color: #00af00\">0</span> │\n",
       "├─────────────────────────────────┼────────────────────────┼───────────────┤\n",
       "│ conv2d_8 (<span style=\"color: #0087ff; text-decoration-color: #0087ff\">Conv2D</span>)               │ (<span style=\"color: #00d7ff; text-decoration-color: #00d7ff\">None</span>, <span style=\"color: #00af00; text-decoration-color: #00af00\">52</span>, <span style=\"color: #00af00; text-decoration-color: #00af00\">52</span>, <span style=\"color: #00af00; text-decoration-color: #00af00\">64</span>)     │        <span style=\"color: #00af00; text-decoration-color: #00af00\">36,928</span> │\n",
       "├─────────────────────────────────┼────────────────────────┼───────────────┤\n",
       "│ max_pooling2d_8 (<span style=\"color: #0087ff; text-decoration-color: #0087ff\">MaxPooling2D</span>)  │ (<span style=\"color: #00d7ff; text-decoration-color: #00d7ff\">None</span>, <span style=\"color: #00af00; text-decoration-color: #00af00\">26</span>, <span style=\"color: #00af00; text-decoration-color: #00af00\">26</span>, <span style=\"color: #00af00; text-decoration-color: #00af00\">64</span>)     │             <span style=\"color: #00af00; text-decoration-color: #00af00\">0</span> │\n",
       "├─────────────────────────────────┼────────────────────────┼───────────────┤\n",
       "│ conv2d_9 (<span style=\"color: #0087ff; text-decoration-color: #0087ff\">Conv2D</span>)               │ (<span style=\"color: #00d7ff; text-decoration-color: #00d7ff\">None</span>, <span style=\"color: #00af00; text-decoration-color: #00af00\">24</span>, <span style=\"color: #00af00; text-decoration-color: #00af00\">24</span>, <span style=\"color: #00af00; text-decoration-color: #00af00\">64</span>)     │        <span style=\"color: #00af00; text-decoration-color: #00af00\">36,928</span> │\n",
       "├─────────────────────────────────┼────────────────────────┼───────────────┤\n",
       "│ max_pooling2d_9 (<span style=\"color: #0087ff; text-decoration-color: #0087ff\">MaxPooling2D</span>)  │ (<span style=\"color: #00d7ff; text-decoration-color: #00d7ff\">None</span>, <span style=\"color: #00af00; text-decoration-color: #00af00\">12</span>, <span style=\"color: #00af00; text-decoration-color: #00af00\">12</span>, <span style=\"color: #00af00; text-decoration-color: #00af00\">64</span>)     │             <span style=\"color: #00af00; text-decoration-color: #00af00\">0</span> │\n",
       "├─────────────────────────────────┼────────────────────────┼───────────────┤\n",
       "│ conv2d_10 (<span style=\"color: #0087ff; text-decoration-color: #0087ff\">Conv2D</span>)              │ (<span style=\"color: #00d7ff; text-decoration-color: #00d7ff\">None</span>, <span style=\"color: #00af00; text-decoration-color: #00af00\">10</span>, <span style=\"color: #00af00; text-decoration-color: #00af00\">10</span>, <span style=\"color: #00af00; text-decoration-color: #00af00\">64</span>)     │        <span style=\"color: #00af00; text-decoration-color: #00af00\">36,928</span> │\n",
       "├─────────────────────────────────┼────────────────────────┼───────────────┤\n",
       "│ max_pooling2d_10 (<span style=\"color: #0087ff; text-decoration-color: #0087ff\">MaxPooling2D</span>) │ (<span style=\"color: #00d7ff; text-decoration-color: #00d7ff\">None</span>, <span style=\"color: #00af00; text-decoration-color: #00af00\">5</span>, <span style=\"color: #00af00; text-decoration-color: #00af00\">5</span>, <span style=\"color: #00af00; text-decoration-color: #00af00\">64</span>)       │             <span style=\"color: #00af00; text-decoration-color: #00af00\">0</span> │\n",
       "├─────────────────────────────────┼────────────────────────┼───────────────┤\n",
       "│ conv2d_11 (<span style=\"color: #0087ff; text-decoration-color: #0087ff\">Conv2D</span>)              │ (<span style=\"color: #00d7ff; text-decoration-color: #00d7ff\">None</span>, <span style=\"color: #00af00; text-decoration-color: #00af00\">3</span>, <span style=\"color: #00af00; text-decoration-color: #00af00\">3</span>, <span style=\"color: #00af00; text-decoration-color: #00af00\">64</span>)       │        <span style=\"color: #00af00; text-decoration-color: #00af00\">36,928</span> │\n",
       "├─────────────────────────────────┼────────────────────────┼───────────────┤\n",
       "│ max_pooling2d_11 (<span style=\"color: #0087ff; text-decoration-color: #0087ff\">MaxPooling2D</span>) │ (<span style=\"color: #00d7ff; text-decoration-color: #00d7ff\">None</span>, <span style=\"color: #00af00; text-decoration-color: #00af00\">1</span>, <span style=\"color: #00af00; text-decoration-color: #00af00\">1</span>, <span style=\"color: #00af00; text-decoration-color: #00af00\">64</span>)       │             <span style=\"color: #00af00; text-decoration-color: #00af00\">0</span> │\n",
       "├─────────────────────────────────┼────────────────────────┼───────────────┤\n",
       "│ flatten_1 (<span style=\"color: #0087ff; text-decoration-color: #0087ff\">Flatten</span>)             │ (<span style=\"color: #00d7ff; text-decoration-color: #00d7ff\">None</span>, <span style=\"color: #00af00; text-decoration-color: #00af00\">64</span>)             │             <span style=\"color: #00af00; text-decoration-color: #00af00\">0</span> │\n",
       "├─────────────────────────────────┼────────────────────────┼───────────────┤\n",
       "│ dense_2 (<span style=\"color: #0087ff; text-decoration-color: #0087ff\">Dense</span>)                 │ (<span style=\"color: #00d7ff; text-decoration-color: #00d7ff\">None</span>, <span style=\"color: #00af00; text-decoration-color: #00af00\">64</span>)             │         <span style=\"color: #00af00; text-decoration-color: #00af00\">4,160</span> │\n",
       "├─────────────────────────────────┼────────────────────────┼───────────────┤\n",
       "│ dense_3 (<span style=\"color: #0087ff; text-decoration-color: #0087ff\">Dense</span>)                 │ (<span style=\"color: #00d7ff; text-decoration-color: #00d7ff\">None</span>, <span style=\"color: #00af00; text-decoration-color: #00af00\">8</span>)              │           <span style=\"color: #00af00; text-decoration-color: #00af00\">520</span> │\n",
       "└─────────────────────────────────┴────────────────────────┴───────────────┘\n",
       "</pre>\n"
      ],
      "text/plain": [
       "┏━━━━━━━━━━━━━━━━━━━━━━━━━━━━━━━━━┳━━━━━━━━━━━━━━━━━━━━━━━━┳━━━━━━━━━━━━━━━┓\n",
       "┃\u001b[1m \u001b[0m\u001b[1mLayer (type)                   \u001b[0m\u001b[1m \u001b[0m┃\u001b[1m \u001b[0m\u001b[1mOutput Shape          \u001b[0m\u001b[1m \u001b[0m┃\u001b[1m \u001b[0m\u001b[1m      Param #\u001b[0m\u001b[1m \u001b[0m┃\n",
       "┡━━━━━━━━━━━━━━━━━━━━━━━━━━━━━━━━━╇━━━━━━━━━━━━━━━━━━━━━━━━╇━━━━━━━━━━━━━━━┩\n",
       "│ conv2d_6 (\u001b[38;5;33mConv2D\u001b[0m)               │ (\u001b[38;5;45mNone\u001b[0m, \u001b[38;5;34m222\u001b[0m, \u001b[38;5;34m222\u001b[0m, \u001b[38;5;34m32\u001b[0m)   │           \u001b[38;5;34m896\u001b[0m │\n",
       "├─────────────────────────────────┼────────────────────────┼───────────────┤\n",
       "│ max_pooling2d_6 (\u001b[38;5;33mMaxPooling2D\u001b[0m)  │ (\u001b[38;5;45mNone\u001b[0m, \u001b[38;5;34m111\u001b[0m, \u001b[38;5;34m111\u001b[0m, \u001b[38;5;34m32\u001b[0m)   │             \u001b[38;5;34m0\u001b[0m │\n",
       "├─────────────────────────────────┼────────────────────────┼───────────────┤\n",
       "│ conv2d_7 (\u001b[38;5;33mConv2D\u001b[0m)               │ (\u001b[38;5;45mNone\u001b[0m, \u001b[38;5;34m109\u001b[0m, \u001b[38;5;34m109\u001b[0m, \u001b[38;5;34m64\u001b[0m)   │        \u001b[38;5;34m18,496\u001b[0m │\n",
       "├─────────────────────────────────┼────────────────────────┼───────────────┤\n",
       "│ max_pooling2d_7 (\u001b[38;5;33mMaxPooling2D\u001b[0m)  │ (\u001b[38;5;45mNone\u001b[0m, \u001b[38;5;34m54\u001b[0m, \u001b[38;5;34m54\u001b[0m, \u001b[38;5;34m64\u001b[0m)     │             \u001b[38;5;34m0\u001b[0m │\n",
       "├─────────────────────────────────┼────────────────────────┼───────────────┤\n",
       "│ conv2d_8 (\u001b[38;5;33mConv2D\u001b[0m)               │ (\u001b[38;5;45mNone\u001b[0m, \u001b[38;5;34m52\u001b[0m, \u001b[38;5;34m52\u001b[0m, \u001b[38;5;34m64\u001b[0m)     │        \u001b[38;5;34m36,928\u001b[0m │\n",
       "├─────────────────────────────────┼────────────────────────┼───────────────┤\n",
       "│ max_pooling2d_8 (\u001b[38;5;33mMaxPooling2D\u001b[0m)  │ (\u001b[38;5;45mNone\u001b[0m, \u001b[38;5;34m26\u001b[0m, \u001b[38;5;34m26\u001b[0m, \u001b[38;5;34m64\u001b[0m)     │             \u001b[38;5;34m0\u001b[0m │\n",
       "├─────────────────────────────────┼────────────────────────┼───────────────┤\n",
       "│ conv2d_9 (\u001b[38;5;33mConv2D\u001b[0m)               │ (\u001b[38;5;45mNone\u001b[0m, \u001b[38;5;34m24\u001b[0m, \u001b[38;5;34m24\u001b[0m, \u001b[38;5;34m64\u001b[0m)     │        \u001b[38;5;34m36,928\u001b[0m │\n",
       "├─────────────────────────────────┼────────────────────────┼───────────────┤\n",
       "│ max_pooling2d_9 (\u001b[38;5;33mMaxPooling2D\u001b[0m)  │ (\u001b[38;5;45mNone\u001b[0m, \u001b[38;5;34m12\u001b[0m, \u001b[38;5;34m12\u001b[0m, \u001b[38;5;34m64\u001b[0m)     │             \u001b[38;5;34m0\u001b[0m │\n",
       "├─────────────────────────────────┼────────────────────────┼───────────────┤\n",
       "│ conv2d_10 (\u001b[38;5;33mConv2D\u001b[0m)              │ (\u001b[38;5;45mNone\u001b[0m, \u001b[38;5;34m10\u001b[0m, \u001b[38;5;34m10\u001b[0m, \u001b[38;5;34m64\u001b[0m)     │        \u001b[38;5;34m36,928\u001b[0m │\n",
       "├─────────────────────────────────┼────────────────────────┼───────────────┤\n",
       "│ max_pooling2d_10 (\u001b[38;5;33mMaxPooling2D\u001b[0m) │ (\u001b[38;5;45mNone\u001b[0m, \u001b[38;5;34m5\u001b[0m, \u001b[38;5;34m5\u001b[0m, \u001b[38;5;34m64\u001b[0m)       │             \u001b[38;5;34m0\u001b[0m │\n",
       "├─────────────────────────────────┼────────────────────────┼───────────────┤\n",
       "│ conv2d_11 (\u001b[38;5;33mConv2D\u001b[0m)              │ (\u001b[38;5;45mNone\u001b[0m, \u001b[38;5;34m3\u001b[0m, \u001b[38;5;34m3\u001b[0m, \u001b[38;5;34m64\u001b[0m)       │        \u001b[38;5;34m36,928\u001b[0m │\n",
       "├─────────────────────────────────┼────────────────────────┼───────────────┤\n",
       "│ max_pooling2d_11 (\u001b[38;5;33mMaxPooling2D\u001b[0m) │ (\u001b[38;5;45mNone\u001b[0m, \u001b[38;5;34m1\u001b[0m, \u001b[38;5;34m1\u001b[0m, \u001b[38;5;34m64\u001b[0m)       │             \u001b[38;5;34m0\u001b[0m │\n",
       "├─────────────────────────────────┼────────────────────────┼───────────────┤\n",
       "│ flatten_1 (\u001b[38;5;33mFlatten\u001b[0m)             │ (\u001b[38;5;45mNone\u001b[0m, \u001b[38;5;34m64\u001b[0m)             │             \u001b[38;5;34m0\u001b[0m │\n",
       "├─────────────────────────────────┼────────────────────────┼───────────────┤\n",
       "│ dense_2 (\u001b[38;5;33mDense\u001b[0m)                 │ (\u001b[38;5;45mNone\u001b[0m, \u001b[38;5;34m64\u001b[0m)             │         \u001b[38;5;34m4,160\u001b[0m │\n",
       "├─────────────────────────────────┼────────────────────────┼───────────────┤\n",
       "│ dense_3 (\u001b[38;5;33mDense\u001b[0m)                 │ (\u001b[38;5;45mNone\u001b[0m, \u001b[38;5;34m8\u001b[0m)              │           \u001b[38;5;34m520\u001b[0m │\n",
       "└─────────────────────────────────┴────────────────────────┴───────────────┘\n"
      ]
     },
     "metadata": {},
     "output_type": "display_data"
    },
    {
     "data": {
      "text/html": [
       "<pre style=\"white-space:pre;overflow-x:auto;line-height:normal;font-family:Menlo,'DejaVu Sans Mono',consolas,'Courier New',monospace\"><span style=\"font-weight: bold\"> Total params: </span><span style=\"color: #00af00; text-decoration-color: #00af00\">515,354</span> (1.97 MB)\n",
       "</pre>\n"
      ],
      "text/plain": [
       "\u001b[1m Total params: \u001b[0m\u001b[38;5;34m515,354\u001b[0m (1.97 MB)\n"
      ]
     },
     "metadata": {},
     "output_type": "display_data"
    },
    {
     "data": {
      "text/html": [
       "<pre style=\"white-space:pre;overflow-x:auto;line-height:normal;font-family:Menlo,'DejaVu Sans Mono',consolas,'Courier New',monospace\"><span style=\"font-weight: bold\"> Trainable params: </span><span style=\"color: #00af00; text-decoration-color: #00af00\">171,784</span> (671.03 KB)\n",
       "</pre>\n"
      ],
      "text/plain": [
       "\u001b[1m Trainable params: \u001b[0m\u001b[38;5;34m171,784\u001b[0m (671.03 KB)\n"
      ]
     },
     "metadata": {},
     "output_type": "display_data"
    },
    {
     "data": {
      "text/html": [
       "<pre style=\"white-space:pre;overflow-x:auto;line-height:normal;font-family:Menlo,'DejaVu Sans Mono',consolas,'Courier New',monospace\"><span style=\"font-weight: bold\"> Non-trainable params: </span><span style=\"color: #00af00; text-decoration-color: #00af00\">0</span> (0.00 B)\n",
       "</pre>\n"
      ],
      "text/plain": [
       "\u001b[1m Non-trainable params: \u001b[0m\u001b[38;5;34m0\u001b[0m (0.00 B)\n"
      ]
     },
     "metadata": {},
     "output_type": "display_data"
    },
    {
     "data": {
      "text/html": [
       "<pre style=\"white-space:pre;overflow-x:auto;line-height:normal;font-family:Menlo,'DejaVu Sans Mono',consolas,'Courier New',monospace\"><span style=\"font-weight: bold\"> Optimizer params: </span><span style=\"color: #00af00; text-decoration-color: #00af00\">343,570</span> (1.31 MB)\n",
       "</pre>\n"
      ],
      "text/plain": [
       "\u001b[1m Optimizer params: \u001b[0m\u001b[38;5;34m343,570\u001b[0m (1.31 MB)\n"
      ]
     },
     "metadata": {},
     "output_type": "display_data"
    }
   ],
   "source": [
    "model_lcnn.summary()\n"
   ]
  },
  {
   "cell_type": "code",
   "execution_count": 8,
   "metadata": {},
   "outputs": [],
   "source": [
    "datagen_lcnn = tf.keras.preprocessing.image.ImageDataGenerator()\n"
   ]
  },
  {
   "cell_type": "code",
   "execution_count": 9,
   "metadata": {},
   "outputs": [
    {
     "name": "stdout",
     "output_type": "stream",
     "text": [
      "Found 4000 images belonging to 8 classes.\n"
     ]
    }
   ],
   "source": [
    "CLEAN_VALIDATION_DATASET_PATH = \"MangoLeaf\"\n",
    "clean_validation_dataset_generator_lcnn = datagen_lcnn.flow_from_directory(\n",
    "    CLEAN_VALIDATION_DATASET_PATH,\n",
    "    target_size=(224, 224),\n",
    "    batch_size=128,\n",
    "    shuffle=False\n",
    ")"
   ]
  },
  {
   "cell_type": "code",
   "execution_count": 11,
   "metadata": {},
   "outputs": [
    {
     "name": "stderr",
     "output_type": "stream",
     "text": [
      "/home/saulolv/PIBIC/TinyML/.venv/lib/python3.12/site-packages/keras/src/trainers/data_adapters/py_dataset_adapter.py:121: UserWarning: Your `PyDataset` class should call `super().__init__(**kwargs)` in its constructor. `**kwargs` can include `workers`, `use_multiprocessing`, `max_queue_size`. Do not pass these arguments to `fit()`, as they will be ignored.\n",
      "  self._warn_if_super_not_called()\n"
     ]
    },
    {
     "name": "stdout",
     "output_type": "stream",
     "text": [
      "\u001b[1m32/32\u001b[0m \u001b[32m━━━━━━━━━━━━━━━━━━━━\u001b[0m\u001b[37m\u001b[0m \u001b[1m16s\u001b[0m 480ms/step\n"
     ]
    }
   ],
   "source": [
    "preds = model_lcnn.predict(clean_validation_dataset_generator_lcnn)\n",
    "predicted_classes = np.argmax(preds, axis=1)\n",
    "\n",
    "accuracy = accuracy_score(clean_validation_dataset_generator_lcnn.labels, predicted_classes)"
   ]
  },
  {
   "cell_type": "markdown",
   "metadata": {},
   "source": [
    "### Image Data Loading"
   ]
  },
  {
   "cell_type": "code",
   "execution_count": 12,
   "metadata": {},
   "outputs": [
    {
     "name": "stdout",
     "output_type": "stream",
     "text": [
      "Found 4000 files belonging to 8 classes.\n"
     ]
    }
   ],
   "source": [
    "images = keras.utils.image_dataset_from_directory(CLEAN_VALIDATION_DATASET_PATH, batch_size=128, image_size=(224, 224), shuffle=False, crop_to_aspect_ratio=True, interpolation='bicubic')"
   ]
  },
  {
   "cell_type": "code",
   "execution_count": 13,
   "metadata": {},
   "outputs": [
    {
     "name": "stderr",
     "output_type": "stream",
     "text": [
      "2025-06-11 13:44:16.548784: I tensorflow/core/framework/local_rendezvous.cc:407] Local rendezvous is aborting with status: OUT_OF_RANGE: End of sequence\n"
     ]
    }
   ],
   "source": [
    "true_class_names = tf.concat([label for _, label in images], axis = 0)"
   ]
  },
  {
   "cell_type": "code",
   "execution_count": 14,
   "metadata": {},
   "outputs": [
    {
     "name": "stdout",
     "output_type": "stream",
     "text": [
      "\u001b[1m32/32\u001b[0m \u001b[32m━━━━━━━━━━━━━━━━━━━━\u001b[0m\u001b[37m\u001b[0m \u001b[1m14s\u001b[0m 447ms/step\n"
     ]
    }
   ],
   "source": [
    "preds = model_lcnn.predict(images)\n",
    "\n",
    "predicted_classes = np.argmax(preds, axis=1)\n",
    "accuracy = accuracy_score(true_class_names, predicted_classes)"
   ]
  },
  {
   "cell_type": "code",
   "execution_count": 15,
   "metadata": {},
   "outputs": [
    {
     "data": {
      "text/plain": [
       "0.97025"
      ]
     },
     "execution_count": 15,
     "metadata": {},
     "output_type": "execute_result"
    }
   ],
   "source": [
    "accuracy"
   ]
  },
  {
   "cell_type": "code",
   "execution_count": 16,
   "metadata": {},
   "outputs": [
    {
     "name": "stdout",
     "output_type": "stream",
     "text": [
      "Copied Zoom Blur severity 1, class Powdery Mildew to bancos_mce/blur/zoom_blur/1/Powdery Mildew\n",
      "Copied Zoom Blur severity 1, class Cutting Weevil to bancos_mce/blur/zoom_blur/1/Cutting Weevil\n",
      "Copied Zoom Blur severity 1, class Bacterial Canker to bancos_mce/blur/zoom_blur/1/Bacterial Canker\n",
      "Copied Zoom Blur severity 1, class Healthy to bancos_mce/blur/zoom_blur/1/Healthy\n",
      "Copied Zoom Blur severity 1, class Gall Midge to bancos_mce/blur/zoom_blur/1/Gall Midge\n",
      "Copied Zoom Blur severity 1, class Anthracnose to bancos_mce/blur/zoom_blur/1/Anthracnose\n",
      "Copied Zoom Blur severity 1, class Die Back to bancos_mce/blur/zoom_blur/1/Die Back\n",
      "Copied Zoom Blur severity 1, class Sooty Mould to bancos_mce/blur/zoom_blur/1/Sooty Mould\n",
      "Copied Contrast severity 4, class Powdery Mildew to bancos_mce/digital/contrast/4/Powdery Mildew\n",
      "Copied Contrast severity 4, class Cutting Weevil to bancos_mce/digital/contrast/4/Cutting Weevil\n",
      "Copied Contrast severity 4, class Bacterial Canker to bancos_mce/digital/contrast/4/Bacterial Canker\n",
      "Copied Contrast severity 4, class Healthy to bancos_mce/digital/contrast/4/Healthy\n",
      "Copied Contrast severity 4, class Gall Midge to bancos_mce/digital/contrast/4/Gall Midge\n",
      "Copied Contrast severity 4, class Anthracnose to bancos_mce/digital/contrast/4/Anthracnose\n",
      "Copied Contrast severity 4, class Die Back to bancos_mce/digital/contrast/4/Die Back\n",
      "Copied Contrast severity 4, class Sooty Mould to bancos_mce/digital/contrast/4/Sooty Mould\n",
      "Copied Motion Blur severity 4, class Powdery Mildew to bancos_mce/blur/motion_blur/4/Powdery Mildew\n",
      "Copied Motion Blur severity 4, class Cutting Weevil to bancos_mce/blur/motion_blur/4/Cutting Weevil\n",
      "Copied Motion Blur severity 4, class Bacterial Canker to bancos_mce/blur/motion_blur/4/Bacterial Canker\n",
      "Copied Motion Blur severity 4, class Healthy to bancos_mce/blur/motion_blur/4/Healthy\n",
      "Copied Motion Blur severity 4, class Gall Midge to bancos_mce/blur/motion_blur/4/Gall Midge\n",
      "Copied Motion Blur severity 4, class Anthracnose to bancos_mce/blur/motion_blur/4/Anthracnose\n",
      "Copied Motion Blur severity 4, class Die Back to bancos_mce/blur/motion_blur/4/Die Back\n",
      "Copied Motion Blur severity 4, class Sooty Mould to bancos_mce/blur/motion_blur/4/Sooty Mould\n",
      "Copied Shot Noise severity 1, class Powdery Mildew to bancos_mce/noise/shot_noise/1/Powdery Mildew\n",
      "Copied Shot Noise severity 1, class Cutting Weevil to bancos_mce/noise/shot_noise/1/Cutting Weevil\n",
      "Copied Shot Noise severity 1, class Bacterial Canker to bancos_mce/noise/shot_noise/1/Bacterial Canker\n",
      "Copied Shot Noise severity 1, class Healthy to bancos_mce/noise/shot_noise/1/Healthy\n",
      "Copied Shot Noise severity 1, class Gall Midge to bancos_mce/noise/shot_noise/1/Gall Midge\n",
      "Copied Shot Noise severity 1, class Anthracnose to bancos_mce/noise/shot_noise/1/Anthracnose\n",
      "Copied Shot Noise severity 1, class Die Back to bancos_mce/noise/shot_noise/1/Die Back\n",
      "Copied Shot Noise severity 1, class Sooty Mould to bancos_mce/noise/shot_noise/1/Sooty Mould\n",
      "Copied Frost severity 4, class Powdery Mildew to bancos_mce/weather/frost/4/Powdery Mildew\n",
      "Copied Frost severity 4, class Cutting Weevil to bancos_mce/weather/frost/4/Cutting Weevil\n",
      "Copied Frost severity 4, class Bacterial Canker to bancos_mce/weather/frost/4/Bacterial Canker\n",
      "Copied Frost severity 4, class Healthy to bancos_mce/weather/frost/4/Healthy\n",
      "Copied Frost severity 4, class Gall Midge to bancos_mce/weather/frost/4/Gall Midge\n",
      "Copied Frost severity 4, class Anthracnose to bancos_mce/weather/frost/4/Anthracnose\n",
      "Copied Frost severity 4, class Die Back to bancos_mce/weather/frost/4/Die Back\n",
      "Copied Frost severity 4, class Sooty Mould to bancos_mce/weather/frost/4/Sooty Mould\n",
      "Copied Brightness severity 1, class Powdery Mildew to bancos_mce/weather/brightness/1/Powdery Mildew\n",
      "Copied Brightness severity 1, class Cutting Weevil to bancos_mce/weather/brightness/1/Cutting Weevil\n",
      "Copied Brightness severity 1, class Bacterial Canker to bancos_mce/weather/brightness/1/Bacterial Canker\n",
      "Copied Brightness severity 1, class Healthy to bancos_mce/weather/brightness/1/Healthy\n",
      "Copied Brightness severity 1, class Gall Midge to bancos_mce/weather/brightness/1/Gall Midge\n",
      "Copied Brightness severity 1, class Anthracnose to bancos_mce/weather/brightness/1/Anthracnose\n",
      "Copied Brightness severity 1, class Die Back to bancos_mce/weather/brightness/1/Die Back\n",
      "Copied Brightness severity 1, class Sooty Mould to bancos_mce/weather/brightness/1/Sooty Mould\n",
      "Copied Gaussian Noise severity 1, class Powdery Mildew to bancos_mce/noise/gaussian_noise/1/Powdery Mildew\n",
      "Copied Gaussian Noise severity 1, class Cutting Weevil to bancos_mce/noise/gaussian_noise/1/Cutting Weevil\n",
      "Copied Gaussian Noise severity 1, class Bacterial Canker to bancos_mce/noise/gaussian_noise/1/Bacterial Canker\n",
      "Copied Gaussian Noise severity 1, class Healthy to bancos_mce/noise/gaussian_noise/1/Healthy\n",
      "Copied Gaussian Noise severity 1, class Gall Midge to bancos_mce/noise/gaussian_noise/1/Gall Midge\n",
      "Copied Gaussian Noise severity 1, class Anthracnose to bancos_mce/noise/gaussian_noise/1/Anthracnose\n",
      "Copied Gaussian Noise severity 1, class Die Back to bancos_mce/noise/gaussian_noise/1/Die Back\n",
      "Copied Gaussian Noise severity 1, class Sooty Mould to bancos_mce/noise/gaussian_noise/1/Sooty Mould\n",
      "Copied Impulse Noise severity 4, class Powdery Mildew to bancos_mce/noise/impulse_noise/4/Powdery Mildew\n",
      "Copied Impulse Noise severity 4, class Cutting Weevil to bancos_mce/noise/impulse_noise/4/Cutting Weevil\n",
      "Copied Impulse Noise severity 4, class Bacterial Canker to bancos_mce/noise/impulse_noise/4/Bacterial Canker\n",
      "Copied Impulse Noise severity 4, class Healthy to bancos_mce/noise/impulse_noise/4/Healthy\n",
      "Copied Impulse Noise severity 4, class Gall Midge to bancos_mce/noise/impulse_noise/4/Gall Midge\n",
      "Copied Impulse Noise severity 4, class Anthracnose to bancos_mce/noise/impulse_noise/4/Anthracnose\n",
      "Copied Impulse Noise severity 4, class Die Back to bancos_mce/noise/impulse_noise/4/Die Back\n",
      "Copied Impulse Noise severity 4, class Sooty Mould to bancos_mce/noise/impulse_noise/4/Sooty Mould\n",
      "Copied Contrast severity 1, class Powdery Mildew to bancos_mce/digital/contrast/1/Powdery Mildew\n",
      "Copied Contrast severity 1, class Cutting Weevil to bancos_mce/digital/contrast/1/Cutting Weevil\n",
      "Copied Contrast severity 1, class Bacterial Canker to bancos_mce/digital/contrast/1/Bacterial Canker\n",
      "Copied Contrast severity 1, class Healthy to bancos_mce/digital/contrast/1/Healthy\n",
      "Copied Contrast severity 1, class Gall Midge to bancos_mce/digital/contrast/1/Gall Midge\n",
      "Copied Contrast severity 1, class Anthracnose to bancos_mce/digital/contrast/1/Anthracnose\n",
      "Copied Contrast severity 1, class Die Back to bancos_mce/digital/contrast/1/Die Back\n",
      "Copied Contrast severity 1, class Sooty Mould to bancos_mce/digital/contrast/1/Sooty Mould\n",
      "Copied Gaussian Noise severity 2, class Powdery Mildew to bancos_mce/noise/gaussian_noise/2/Powdery Mildew\n",
      "Copied Gaussian Noise severity 2, class Cutting Weevil to bancos_mce/noise/gaussian_noise/2/Cutting Weevil\n",
      "Copied Gaussian Noise severity 2, class Bacterial Canker to bancos_mce/noise/gaussian_noise/2/Bacterial Canker\n",
      "Copied Gaussian Noise severity 2, class Healthy to bancos_mce/noise/gaussian_noise/2/Healthy\n",
      "Copied Gaussian Noise severity 2, class Gall Midge to bancos_mce/noise/gaussian_noise/2/Gall Midge\n",
      "Copied Gaussian Noise severity 2, class Anthracnose to bancos_mce/noise/gaussian_noise/2/Anthracnose\n",
      "Copied Gaussian Noise severity 2, class Die Back to bancos_mce/noise/gaussian_noise/2/Die Back\n",
      "Copied Gaussian Noise severity 2, class Sooty Mould to bancos_mce/noise/gaussian_noise/2/Sooty Mould\n",
      "Copied Fog severity 4, class Powdery Mildew to bancos_mce/weather/fog/4/Powdery Mildew\n",
      "Copied Fog severity 4, class Cutting Weevil to bancos_mce/weather/fog/4/Cutting Weevil\n",
      "Copied Fog severity 4, class Bacterial Canker to bancos_mce/weather/fog/4/Bacterial Canker\n",
      "Copied Fog severity 4, class Healthy to bancos_mce/weather/fog/4/Healthy\n",
      "Copied Fog severity 4, class Gall Midge to bancos_mce/weather/fog/4/Gall Midge\n",
      "Copied Fog severity 4, class Anthracnose to bancos_mce/weather/fog/4/Anthracnose\n",
      "Copied Fog severity 4, class Die Back to bancos_mce/weather/fog/4/Die Back\n",
      "Copied Fog severity 4, class Sooty Mould to bancos_mce/weather/fog/4/Sooty Mould\n",
      "Copied Fog severity 3, class Powdery Mildew to bancos_mce/weather/fog/3/Powdery Mildew\n",
      "Copied Fog severity 3, class Cutting Weevil to bancos_mce/weather/fog/3/Cutting Weevil\n",
      "Copied Fog severity 3, class Bacterial Canker to bancos_mce/weather/fog/3/Bacterial Canker\n",
      "Copied Fog severity 3, class Healthy to bancos_mce/weather/fog/3/Healthy\n",
      "Copied Fog severity 3, class Gall Midge to bancos_mce/weather/fog/3/Gall Midge\n",
      "Copied Fog severity 3, class Anthracnose to bancos_mce/weather/fog/3/Anthracnose\n",
      "Copied Fog severity 3, class Die Back to bancos_mce/weather/fog/3/Die Back\n",
      "Copied Fog severity 3, class Sooty Mould to bancos_mce/weather/fog/3/Sooty Mould\n",
      "Copied Brightness severity 4, class Powdery Mildew to bancos_mce/weather/brightness/4/Powdery Mildew\n",
      "Copied Brightness severity 4, class Cutting Weevil to bancos_mce/weather/brightness/4/Cutting Weevil\n",
      "Copied Brightness severity 4, class Bacterial Canker to bancos_mce/weather/brightness/4/Bacterial Canker\n",
      "Copied Brightness severity 4, class Healthy to bancos_mce/weather/brightness/4/Healthy\n",
      "Copied Brightness severity 4, class Gall Midge to bancos_mce/weather/brightness/4/Gall Midge\n",
      "Copied Brightness severity 4, class Anthracnose to bancos_mce/weather/brightness/4/Anthracnose\n",
      "Copied Brightness severity 4, class Die Back to bancos_mce/weather/brightness/4/Die Back\n",
      "Copied Brightness severity 4, class Sooty Mould to bancos_mce/weather/brightness/4/Sooty Mould\n",
      "Copied JPEG severity 4, class Powdery Mildew to bancos_mce/digital/jpeg_compression/4/Powdery Mildew\n",
      "Copied JPEG severity 4, class Cutting Weevil to bancos_mce/digital/jpeg_compression/4/Cutting Weevil\n",
      "Copied JPEG severity 4, class Bacterial Canker to bancos_mce/digital/jpeg_compression/4/Bacterial Canker\n",
      "Copied JPEG severity 4, class Healthy to bancos_mce/digital/jpeg_compression/4/Healthy\n",
      "Copied JPEG severity 4, class Gall Midge to bancos_mce/digital/jpeg_compression/4/Gall Midge\n",
      "Copied JPEG severity 4, class Anthracnose to bancos_mce/digital/jpeg_compression/4/Anthracnose\n",
      "Copied JPEG severity 4, class Die Back to bancos_mce/digital/jpeg_compression/4/Die Back\n",
      "Copied JPEG severity 4, class Sooty Mould to bancos_mce/digital/jpeg_compression/4/Sooty Mould\n",
      "Copied Defocus Blur severity 3, class Powdery Mildew to bancos_mce/blur/defocus_blur/3/Powdery Mildew\n",
      "Copied Defocus Blur severity 3, class Cutting Weevil to bancos_mce/blur/defocus_blur/3/Cutting Weevil\n",
      "Copied Defocus Blur severity 3, class Bacterial Canker to bancos_mce/blur/defocus_blur/3/Bacterial Canker\n",
      "Copied Defocus Blur severity 3, class Healthy to bancos_mce/blur/defocus_blur/3/Healthy\n",
      "Copied Defocus Blur severity 3, class Gall Midge to bancos_mce/blur/defocus_blur/3/Gall Midge\n",
      "Copied Defocus Blur severity 3, class Anthracnose to bancos_mce/blur/defocus_blur/3/Anthracnose\n",
      "Copied Defocus Blur severity 3, class Die Back to bancos_mce/blur/defocus_blur/3/Die Back\n",
      "Copied Defocus Blur severity 3, class Sooty Mould to bancos_mce/blur/defocus_blur/3/Sooty Mould\n",
      "Copied Glass Blur severity 2, class Powdery Mildew to bancos_mce/blur/glass_blur/2/Powdery Mildew\n",
      "Copied Glass Blur severity 2, class Cutting Weevil to bancos_mce/blur/glass_blur/2/Cutting Weevil\n",
      "Copied Glass Blur severity 2, class Bacterial Canker to bancos_mce/blur/glass_blur/2/Bacterial Canker\n",
      "Copied Glass Blur severity 2, class Healthy to bancos_mce/blur/glass_blur/2/Healthy\n",
      "Copied Glass Blur severity 2, class Gall Midge to bancos_mce/blur/glass_blur/2/Gall Midge\n",
      "Copied Glass Blur severity 2, class Anthracnose to bancos_mce/blur/glass_blur/2/Anthracnose\n",
      "Copied Glass Blur severity 2, class Die Back to bancos_mce/blur/glass_blur/2/Die Back\n",
      "Copied Glass Blur severity 2, class Sooty Mould to bancos_mce/blur/glass_blur/2/Sooty Mould\n",
      "Copied Zoom Blur severity 3, class Powdery Mildew to bancos_mce/blur/zoom_blur/3/Powdery Mildew\n",
      "Copied Zoom Blur severity 3, class Cutting Weevil to bancos_mce/blur/zoom_blur/3/Cutting Weevil\n",
      "Copied Zoom Blur severity 3, class Bacterial Canker to bancos_mce/blur/zoom_blur/3/Bacterial Canker\n",
      "Copied Zoom Blur severity 3, class Healthy to bancos_mce/blur/zoom_blur/3/Healthy\n",
      "Copied Zoom Blur severity 3, class Gall Midge to bancos_mce/blur/zoom_blur/3/Gall Midge\n",
      "Copied Zoom Blur severity 3, class Anthracnose to bancos_mce/blur/zoom_blur/3/Anthracnose\n",
      "Copied Zoom Blur severity 3, class Die Back to bancos_mce/blur/zoom_blur/3/Die Back\n",
      "Copied Zoom Blur severity 3, class Sooty Mould to bancos_mce/blur/zoom_blur/3/Sooty Mould\n",
      "Copied Elastic severity 5, class Powdery Mildew to bancos_mce/digital/elastic_transform/5/Powdery Mildew\n",
      "Copied Elastic severity 5, class Cutting Weevil to bancos_mce/digital/elastic_transform/5/Cutting Weevil\n",
      "Copied Elastic severity 5, class Bacterial Canker to bancos_mce/digital/elastic_transform/5/Bacterial Canker\n",
      "Copied Elastic severity 5, class Healthy to bancos_mce/digital/elastic_transform/5/Healthy\n",
      "Copied Elastic severity 5, class Gall Midge to bancos_mce/digital/elastic_transform/5/Gall Midge\n",
      "Copied Elastic severity 5, class Anthracnose to bancos_mce/digital/elastic_transform/5/Anthracnose\n",
      "Copied Elastic severity 5, class Die Back to bancos_mce/digital/elastic_transform/5/Die Back\n",
      "Copied Elastic severity 5, class Sooty Mould to bancos_mce/digital/elastic_transform/5/Sooty Mould\n",
      "Copied Elastic severity 4, class Powdery Mildew to bancos_mce/digital/elastic_transform/4/Powdery Mildew\n",
      "Copied Elastic severity 4, class Cutting Weevil to bancos_mce/digital/elastic_transform/4/Cutting Weevil\n",
      "Copied Elastic severity 4, class Bacterial Canker to bancos_mce/digital/elastic_transform/4/Bacterial Canker\n",
      "Copied Elastic severity 4, class Healthy to bancos_mce/digital/elastic_transform/4/Healthy\n",
      "Copied Elastic severity 4, class Gall Midge to bancos_mce/digital/elastic_transform/4/Gall Midge\n",
      "Copied Elastic severity 4, class Anthracnose to bancos_mce/digital/elastic_transform/4/Anthracnose\n",
      "Copied Elastic severity 4, class Die Back to bancos_mce/digital/elastic_transform/4/Die Back\n",
      "Copied Elastic severity 4, class Sooty Mould to bancos_mce/digital/elastic_transform/4/Sooty Mould\n",
      "Copied Saturate severity 1, class Powdery Mildew to bancos_mce/digital/saturate/1/Powdery Mildew\n",
      "Copied Saturate severity 1, class Cutting Weevil to bancos_mce/digital/saturate/1/Cutting Weevil\n",
      "Copied Saturate severity 1, class Bacterial Canker to bancos_mce/digital/saturate/1/Bacterial Canker\n",
      "Copied Saturate severity 1, class Healthy to bancos_mce/digital/saturate/1/Healthy\n",
      "Copied Saturate severity 1, class Gall Midge to bancos_mce/digital/saturate/1/Gall Midge\n",
      "Copied Saturate severity 1, class Anthracnose to bancos_mce/digital/saturate/1/Anthracnose\n",
      "Copied Saturate severity 1, class Die Back to bancos_mce/digital/saturate/1/Die Back\n",
      "Copied Saturate severity 1, class Sooty Mould to bancos_mce/digital/saturate/1/Sooty Mould\n",
      "Copied Speckle Noise severity 5, class Powdery Mildew to bancos_mce/noise/speckle_noise/5/Powdery Mildew\n",
      "Copied Speckle Noise severity 5, class Cutting Weevil to bancos_mce/noise/speckle_noise/5/Cutting Weevil\n",
      "Copied Speckle Noise severity 5, class Bacterial Canker to bancos_mce/noise/speckle_noise/5/Bacterial Canker\n",
      "Copied Speckle Noise severity 5, class Healthy to bancos_mce/noise/speckle_noise/5/Healthy\n",
      "Copied Speckle Noise severity 5, class Gall Midge to bancos_mce/noise/speckle_noise/5/Gall Midge\n",
      "Copied Speckle Noise severity 5, class Anthracnose to bancos_mce/noise/speckle_noise/5/Anthracnose\n",
      "Copied Speckle Noise severity 5, class Die Back to bancos_mce/noise/speckle_noise/5/Die Back\n",
      "Copied Speckle Noise severity 5, class Sooty Mould to bancos_mce/noise/speckle_noise/5/Sooty Mould\n",
      "Copied Defocus Blur severity 2, class Powdery Mildew to bancos_mce/blur/defocus_blur/2/Powdery Mildew\n",
      "Copied Defocus Blur severity 2, class Cutting Weevil to bancos_mce/blur/defocus_blur/2/Cutting Weevil\n",
      "Copied Defocus Blur severity 2, class Bacterial Canker to bancos_mce/blur/defocus_blur/2/Bacterial Canker\n",
      "Copied Defocus Blur severity 2, class Healthy to bancos_mce/blur/defocus_blur/2/Healthy\n",
      "Copied Defocus Blur severity 2, class Gall Midge to bancos_mce/blur/defocus_blur/2/Gall Midge\n",
      "Copied Defocus Blur severity 2, class Anthracnose to bancos_mce/blur/defocus_blur/2/Anthracnose\n",
      "Copied Defocus Blur severity 2, class Die Back to bancos_mce/blur/defocus_blur/2/Die Back\n",
      "Copied Defocus Blur severity 2, class Sooty Mould to bancos_mce/blur/defocus_blur/2/Sooty Mould\n",
      "Copied Defocus Blur severity 1, class Powdery Mildew to bancos_mce/blur/defocus_blur/1/Powdery Mildew\n",
      "Copied Defocus Blur severity 1, class Cutting Weevil to bancos_mce/blur/defocus_blur/1/Cutting Weevil\n",
      "Copied Defocus Blur severity 1, class Bacterial Canker to bancos_mce/blur/defocus_blur/1/Bacterial Canker\n",
      "Copied Defocus Blur severity 1, class Healthy to bancos_mce/blur/defocus_blur/1/Healthy\n",
      "Copied Defocus Blur severity 1, class Gall Midge to bancos_mce/blur/defocus_blur/1/Gall Midge\n",
      "Copied Defocus Blur severity 1, class Anthracnose to bancos_mce/blur/defocus_blur/1/Anthracnose\n",
      "Copied Defocus Blur severity 1, class Die Back to bancos_mce/blur/defocus_blur/1/Die Back\n",
      "Copied Defocus Blur severity 1, class Sooty Mould to bancos_mce/blur/defocus_blur/1/Sooty Mould\n",
      "Copied Defocus Blur severity 5, class Powdery Mildew to bancos_mce/blur/defocus_blur/5/Powdery Mildew\n",
      "Copied Defocus Blur severity 5, class Cutting Weevil to bancos_mce/blur/defocus_blur/5/Cutting Weevil\n",
      "Copied Defocus Blur severity 5, class Bacterial Canker to bancos_mce/blur/defocus_blur/5/Bacterial Canker\n",
      "Copied Defocus Blur severity 5, class Healthy to bancos_mce/blur/defocus_blur/5/Healthy\n",
      "Copied Defocus Blur severity 5, class Gall Midge to bancos_mce/blur/defocus_blur/5/Gall Midge\n",
      "Copied Defocus Blur severity 5, class Anthracnose to bancos_mce/blur/defocus_blur/5/Anthracnose\n",
      "Copied Defocus Blur severity 5, class Die Back to bancos_mce/blur/defocus_blur/5/Die Back\n",
      "Copied Defocus Blur severity 5, class Sooty Mould to bancos_mce/blur/defocus_blur/5/Sooty Mould\n",
      "Copied Gaussian Blur severity 5, class Powdery Mildew to bancos_mce/blur/gaussian_blur/5/Powdery Mildew\n",
      "Copied Gaussian Blur severity 5, class Cutting Weevil to bancos_mce/blur/gaussian_blur/5/Cutting Weevil\n",
      "Copied Gaussian Blur severity 5, class Bacterial Canker to bancos_mce/blur/gaussian_blur/5/Bacterial Canker\n",
      "Copied Gaussian Blur severity 5, class Healthy to bancos_mce/blur/gaussian_blur/5/Healthy\n",
      "Copied Gaussian Blur severity 5, class Gall Midge to bancos_mce/blur/gaussian_blur/5/Gall Midge\n",
      "Copied Gaussian Blur severity 5, class Anthracnose to bancos_mce/blur/gaussian_blur/5/Anthracnose\n",
      "Copied Gaussian Blur severity 5, class Die Back to bancos_mce/blur/gaussian_blur/5/Die Back\n",
      "Copied Gaussian Blur severity 5, class Sooty Mould to bancos_mce/blur/gaussian_blur/5/Sooty Mould\n",
      "Copied Snow severity 3, class Powdery Mildew to bancos_mce/weather/snow/3/Powdery Mildew\n",
      "Copied Snow severity 3, class Cutting Weevil to bancos_mce/weather/snow/3/Cutting Weevil\n",
      "Copied Snow severity 3, class Bacterial Canker to bancos_mce/weather/snow/3/Bacterial Canker\n",
      "Copied Snow severity 3, class Healthy to bancos_mce/weather/snow/3/Healthy\n",
      "Copied Snow severity 3, class Gall Midge to bancos_mce/weather/snow/3/Gall Midge\n",
      "Copied Snow severity 3, class Anthracnose to bancos_mce/weather/snow/3/Anthracnose\n",
      "Copied Snow severity 3, class Die Back to bancos_mce/weather/snow/3/Die Back\n",
      "Copied Snow severity 3, class Sooty Mould to bancos_mce/weather/snow/3/Sooty Mould\n",
      "Copied Fog severity 5, class Powdery Mildew to bancos_mce/weather/fog/5/Powdery Mildew\n",
      "Copied Fog severity 5, class Cutting Weevil to bancos_mce/weather/fog/5/Cutting Weevil\n",
      "Copied Fog severity 5, class Bacterial Canker to bancos_mce/weather/fog/5/Bacterial Canker\n",
      "Copied Fog severity 5, class Healthy to bancos_mce/weather/fog/5/Healthy\n",
      "Copied Fog severity 5, class Gall Midge to bancos_mce/weather/fog/5/Gall Midge\n",
      "Copied Fog severity 5, class Anthracnose to bancos_mce/weather/fog/5/Anthracnose\n",
      "Copied Fog severity 5, class Die Back to bancos_mce/weather/fog/5/Die Back\n",
      "Copied Fog severity 5, class Sooty Mould to bancos_mce/weather/fog/5/Sooty Mould\n",
      "Copied Zoom Blur severity 4, class Powdery Mildew to bancos_mce/blur/zoom_blur/4/Powdery Mildew\n",
      "Copied Zoom Blur severity 4, class Cutting Weevil to bancos_mce/blur/zoom_blur/4/Cutting Weevil\n",
      "Copied Zoom Blur severity 4, class Bacterial Canker to bancos_mce/blur/zoom_blur/4/Bacterial Canker\n",
      "Copied Zoom Blur severity 4, class Healthy to bancos_mce/blur/zoom_blur/4/Healthy\n",
      "Copied Zoom Blur severity 4, class Gall Midge to bancos_mce/blur/zoom_blur/4/Gall Midge\n",
      "Copied Zoom Blur severity 4, class Anthracnose to bancos_mce/blur/zoom_blur/4/Anthracnose\n",
      "Copied Zoom Blur severity 4, class Die Back to bancos_mce/blur/zoom_blur/4/Die Back\n",
      "Copied Zoom Blur severity 4, class Sooty Mould to bancos_mce/blur/zoom_blur/4/Sooty Mould\n",
      "Copied Spatter severity 3, class Powdery Mildew to bancos_mce/weather/spatter/3/Powdery Mildew\n",
      "Copied Spatter severity 3, class Cutting Weevil to bancos_mce/weather/spatter/3/Cutting Weevil\n",
      "Copied Spatter severity 3, class Bacterial Canker to bancos_mce/weather/spatter/3/Bacterial Canker\n",
      "Copied Spatter severity 3, class Healthy to bancos_mce/weather/spatter/3/Healthy\n",
      "Copied Spatter severity 3, class Gall Midge to bancos_mce/weather/spatter/3/Gall Midge\n",
      "Copied Spatter severity 3, class Anthracnose to bancos_mce/weather/spatter/3/Anthracnose\n",
      "Copied Spatter severity 3, class Die Back to bancos_mce/weather/spatter/3/Die Back\n",
      "Copied Spatter severity 3, class Sooty Mould to bancos_mce/weather/spatter/3/Sooty Mould\n",
      "Copied Contrast severity 2, class Powdery Mildew to bancos_mce/digital/contrast/2/Powdery Mildew\n",
      "Copied Contrast severity 2, class Cutting Weevil to bancos_mce/digital/contrast/2/Cutting Weevil\n",
      "Copied Contrast severity 2, class Bacterial Canker to bancos_mce/digital/contrast/2/Bacterial Canker\n",
      "Copied Contrast severity 2, class Healthy to bancos_mce/digital/contrast/2/Healthy\n",
      "Copied Contrast severity 2, class Gall Midge to bancos_mce/digital/contrast/2/Gall Midge\n",
      "Copied Contrast severity 2, class Anthracnose to bancos_mce/digital/contrast/2/Anthracnose\n",
      "Copied Contrast severity 2, class Die Back to bancos_mce/digital/contrast/2/Die Back\n",
      "Copied Contrast severity 2, class Sooty Mould to bancos_mce/digital/contrast/2/Sooty Mould\n",
      "Copied Gaussian Blur severity 2, class Powdery Mildew to bancos_mce/blur/gaussian_blur/2/Powdery Mildew\n",
      "Copied Gaussian Blur severity 2, class Cutting Weevil to bancos_mce/blur/gaussian_blur/2/Cutting Weevil\n",
      "Copied Gaussian Blur severity 2, class Bacterial Canker to bancos_mce/blur/gaussian_blur/2/Bacterial Canker\n",
      "Copied Gaussian Blur severity 2, class Healthy to bancos_mce/blur/gaussian_blur/2/Healthy\n",
      "Copied Gaussian Blur severity 2, class Gall Midge to bancos_mce/blur/gaussian_blur/2/Gall Midge\n",
      "Copied Gaussian Blur severity 2, class Anthracnose to bancos_mce/blur/gaussian_blur/2/Anthracnose\n",
      "Copied Gaussian Blur severity 2, class Die Back to bancos_mce/blur/gaussian_blur/2/Die Back\n",
      "Copied Gaussian Blur severity 2, class Sooty Mould to bancos_mce/blur/gaussian_blur/2/Sooty Mould\n",
      "Copied Frost severity 5, class Powdery Mildew to bancos_mce/weather/frost/5/Powdery Mildew\n",
      "Copied Frost severity 5, class Cutting Weevil to bancos_mce/weather/frost/5/Cutting Weevil\n",
      "Copied Frost severity 5, class Bacterial Canker to bancos_mce/weather/frost/5/Bacterial Canker\n",
      "Copied Frost severity 5, class Healthy to bancos_mce/weather/frost/5/Healthy\n",
      "Copied Frost severity 5, class Gall Midge to bancos_mce/weather/frost/5/Gall Midge\n",
      "Copied Frost severity 5, class Anthracnose to bancos_mce/weather/frost/5/Anthracnose\n",
      "Copied Frost severity 5, class Die Back to bancos_mce/weather/frost/5/Die Back\n",
      "Copied Frost severity 5, class Sooty Mould to bancos_mce/weather/frost/5/Sooty Mould\n",
      "Copied Gaussian Blur severity 3, class Powdery Mildew to bancos_mce/blur/gaussian_blur/3/Powdery Mildew\n",
      "Copied Gaussian Blur severity 3, class Cutting Weevil to bancos_mce/blur/gaussian_blur/3/Cutting Weevil\n",
      "Copied Gaussian Blur severity 3, class Bacterial Canker to bancos_mce/blur/gaussian_blur/3/Bacterial Canker\n",
      "Copied Gaussian Blur severity 3, class Healthy to bancos_mce/blur/gaussian_blur/3/Healthy\n",
      "Copied Gaussian Blur severity 3, class Gall Midge to bancos_mce/blur/gaussian_blur/3/Gall Midge\n",
      "Copied Gaussian Blur severity 3, class Anthracnose to bancos_mce/blur/gaussian_blur/3/Anthracnose\n",
      "Copied Gaussian Blur severity 3, class Die Back to bancos_mce/blur/gaussian_blur/3/Die Back\n",
      "Copied Gaussian Blur severity 3, class Sooty Mould to bancos_mce/blur/gaussian_blur/3/Sooty Mould\n",
      "Copied Contrast severity 3, class Powdery Mildew to bancos_mce/digital/contrast/3/Powdery Mildew\n",
      "Copied Contrast severity 3, class Cutting Weevil to bancos_mce/digital/contrast/3/Cutting Weevil\n",
      "Copied Contrast severity 3, class Bacterial Canker to bancos_mce/digital/contrast/3/Bacterial Canker\n",
      "Copied Contrast severity 3, class Healthy to bancos_mce/digital/contrast/3/Healthy\n",
      "Copied Contrast severity 3, class Gall Midge to bancos_mce/digital/contrast/3/Gall Midge\n",
      "Copied Contrast severity 3, class Anthracnose to bancos_mce/digital/contrast/3/Anthracnose\n",
      "Copied Contrast severity 3, class Die Back to bancos_mce/digital/contrast/3/Die Back\n",
      "Copied Contrast severity 3, class Sooty Mould to bancos_mce/digital/contrast/3/Sooty Mould\n",
      "Copied Impulse Noise severity 1, class Powdery Mildew to bancos_mce/noise/impulse_noise/1/Powdery Mildew\n",
      "Copied Impulse Noise severity 1, class Cutting Weevil to bancos_mce/noise/impulse_noise/1/Cutting Weevil\n",
      "Copied Impulse Noise severity 1, class Bacterial Canker to bancos_mce/noise/impulse_noise/1/Bacterial Canker\n",
      "Copied Impulse Noise severity 1, class Healthy to bancos_mce/noise/impulse_noise/1/Healthy\n",
      "Copied Impulse Noise severity 1, class Gall Midge to bancos_mce/noise/impulse_noise/1/Gall Midge\n",
      "Copied Impulse Noise severity 1, class Anthracnose to bancos_mce/noise/impulse_noise/1/Anthracnose\n",
      "Copied Impulse Noise severity 1, class Die Back to bancos_mce/noise/impulse_noise/1/Die Back\n",
      "Copied Impulse Noise severity 1, class Sooty Mould to bancos_mce/noise/impulse_noise/1/Sooty Mould\n",
      "Copied Impulse Noise severity 3, class Powdery Mildew to bancos_mce/noise/impulse_noise/3/Powdery Mildew\n",
      "Copied Impulse Noise severity 3, class Cutting Weevil to bancos_mce/noise/impulse_noise/3/Cutting Weevil\n",
      "Copied Impulse Noise severity 3, class Bacterial Canker to bancos_mce/noise/impulse_noise/3/Bacterial Canker\n",
      "Copied Impulse Noise severity 3, class Healthy to bancos_mce/noise/impulse_noise/3/Healthy\n",
      "Copied Impulse Noise severity 3, class Gall Midge to bancos_mce/noise/impulse_noise/3/Gall Midge\n",
      "Copied Impulse Noise severity 3, class Anthracnose to bancos_mce/noise/impulse_noise/3/Anthracnose\n",
      "Copied Impulse Noise severity 3, class Die Back to bancos_mce/noise/impulse_noise/3/Die Back\n",
      "Copied Impulse Noise severity 3, class Sooty Mould to bancos_mce/noise/impulse_noise/3/Sooty Mould\n",
      "Copied Impulse Noise severity 5, class Powdery Mildew to bancos_mce/noise/impulse_noise/5/Powdery Mildew\n",
      "Copied Impulse Noise severity 5, class Cutting Weevil to bancos_mce/noise/impulse_noise/5/Cutting Weevil\n",
      "Copied Impulse Noise severity 5, class Bacterial Canker to bancos_mce/noise/impulse_noise/5/Bacterial Canker\n",
      "Copied Impulse Noise severity 5, class Healthy to bancos_mce/noise/impulse_noise/5/Healthy\n",
      "Copied Impulse Noise severity 5, class Gall Midge to bancos_mce/noise/impulse_noise/5/Gall Midge\n",
      "Copied Impulse Noise severity 5, class Anthracnose to bancos_mce/noise/impulse_noise/5/Anthracnose\n",
      "Copied Impulse Noise severity 5, class Die Back to bancos_mce/noise/impulse_noise/5/Die Back\n",
      "Copied Impulse Noise severity 5, class Sooty Mould to bancos_mce/noise/impulse_noise/5/Sooty Mould\n",
      "Copied Pixelate severity 5, class Powdery Mildew to bancos_mce/digital/pixelate/5/Powdery Mildew\n",
      "Copied Pixelate severity 5, class Cutting Weevil to bancos_mce/digital/pixelate/5/Cutting Weevil\n",
      "Copied Pixelate severity 5, class Bacterial Canker to bancos_mce/digital/pixelate/5/Bacterial Canker\n",
      "Copied Pixelate severity 5, class Healthy to bancos_mce/digital/pixelate/5/Healthy\n",
      "Copied Pixelate severity 5, class Gall Midge to bancos_mce/digital/pixelate/5/Gall Midge\n",
      "Copied Pixelate severity 5, class Anthracnose to bancos_mce/digital/pixelate/5/Anthracnose\n",
      "Copied Pixelate severity 5, class Die Back to bancos_mce/digital/pixelate/5/Die Back\n",
      "Copied Pixelate severity 5, class Sooty Mould to bancos_mce/digital/pixelate/5/Sooty Mould\n",
      "Copied Gaussian Noise severity 5, class Powdery Mildew to bancos_mce/noise/gaussian_noise/5/Powdery Mildew\n",
      "Copied Gaussian Noise severity 5, class Cutting Weevil to bancos_mce/noise/gaussian_noise/5/Cutting Weevil\n",
      "Copied Gaussian Noise severity 5, class Bacterial Canker to bancos_mce/noise/gaussian_noise/5/Bacterial Canker\n",
      "Copied Gaussian Noise severity 5, class Healthy to bancos_mce/noise/gaussian_noise/5/Healthy\n",
      "Copied Gaussian Noise severity 5, class Gall Midge to bancos_mce/noise/gaussian_noise/5/Gall Midge\n",
      "Copied Gaussian Noise severity 5, class Anthracnose to bancos_mce/noise/gaussian_noise/5/Anthracnose\n",
      "Copied Gaussian Noise severity 5, class Die Back to bancos_mce/noise/gaussian_noise/5/Die Back\n",
      "Copied Gaussian Noise severity 5, class Sooty Mould to bancos_mce/noise/gaussian_noise/5/Sooty Mould\n",
      "Copied Snow severity 1, class Powdery Mildew to bancos_mce/weather/snow/1/Powdery Mildew\n",
      "Copied Snow severity 1, class Cutting Weevil to bancos_mce/weather/snow/1/Cutting Weevil\n",
      "Copied Snow severity 1, class Bacterial Canker to bancos_mce/weather/snow/1/Bacterial Canker\n",
      "Copied Snow severity 1, class Healthy to bancos_mce/weather/snow/1/Healthy\n",
      "Copied Snow severity 1, class Gall Midge to bancos_mce/weather/snow/1/Gall Midge\n",
      "Copied Snow severity 1, class Anthracnose to bancos_mce/weather/snow/1/Anthracnose\n",
      "Copied Snow severity 1, class Die Back to bancos_mce/weather/snow/1/Die Back\n",
      "Copied Snow severity 1, class Sooty Mould to bancos_mce/weather/snow/1/Sooty Mould\n",
      "Copied Saturate severity 4, class Powdery Mildew to bancos_mce/digital/saturate/4/Powdery Mildew\n",
      "Copied Saturate severity 4, class Cutting Weevil to bancos_mce/digital/saturate/4/Cutting Weevil\n",
      "Copied Saturate severity 4, class Bacterial Canker to bancos_mce/digital/saturate/4/Bacterial Canker\n",
      "Copied Saturate severity 4, class Healthy to bancos_mce/digital/saturate/4/Healthy\n",
      "Copied Saturate severity 4, class Gall Midge to bancos_mce/digital/saturate/4/Gall Midge\n",
      "Copied Saturate severity 4, class Anthracnose to bancos_mce/digital/saturate/4/Anthracnose\n",
      "Copied Saturate severity 4, class Die Back to bancos_mce/digital/saturate/4/Die Back\n",
      "Copied Saturate severity 4, class Sooty Mould to bancos_mce/digital/saturate/4/Sooty Mould\n",
      "Copied Speckle Noise severity 3, class Powdery Mildew to bancos_mce/noise/speckle_noise/3/Powdery Mildew\n",
      "Copied Speckle Noise severity 3, class Cutting Weevil to bancos_mce/noise/speckle_noise/3/Cutting Weevil\n",
      "Copied Speckle Noise severity 3, class Bacterial Canker to bancos_mce/noise/speckle_noise/3/Bacterial Canker\n",
      "Copied Speckle Noise severity 3, class Healthy to bancos_mce/noise/speckle_noise/3/Healthy\n",
      "Copied Speckle Noise severity 3, class Gall Midge to bancos_mce/noise/speckle_noise/3/Gall Midge\n",
      "Copied Speckle Noise severity 3, class Anthracnose to bancos_mce/noise/speckle_noise/3/Anthracnose\n",
      "Copied Speckle Noise severity 3, class Die Back to bancos_mce/noise/speckle_noise/3/Die Back\n",
      "Copied Speckle Noise severity 3, class Sooty Mould to bancos_mce/noise/speckle_noise/3/Sooty Mould\n",
      "Copied Elastic severity 3, class Powdery Mildew to bancos_mce/digital/elastic_transform/3/Powdery Mildew\n",
      "Copied Elastic severity 3, class Cutting Weevil to bancos_mce/digital/elastic_transform/3/Cutting Weevil\n",
      "Copied Elastic severity 3, class Bacterial Canker to bancos_mce/digital/elastic_transform/3/Bacterial Canker\n",
      "Copied Elastic severity 3, class Healthy to bancos_mce/digital/elastic_transform/3/Healthy\n",
      "Copied Elastic severity 3, class Gall Midge to bancos_mce/digital/elastic_transform/3/Gall Midge\n",
      "Copied Elastic severity 3, class Anthracnose to bancos_mce/digital/elastic_transform/3/Anthracnose\n",
      "Copied Elastic severity 3, class Die Back to bancos_mce/digital/elastic_transform/3/Die Back\n",
      "Copied Elastic severity 3, class Sooty Mould to bancos_mce/digital/elastic_transform/3/Sooty Mould\n",
      "Copied Snow severity 5, class Powdery Mildew to bancos_mce/weather/snow/5/Powdery Mildew\n",
      "Copied Snow severity 5, class Cutting Weevil to bancos_mce/weather/snow/5/Cutting Weevil\n",
      "Copied Snow severity 5, class Bacterial Canker to bancos_mce/weather/snow/5/Bacterial Canker\n",
      "Copied Snow severity 5, class Healthy to bancos_mce/weather/snow/5/Healthy\n",
      "Copied Snow severity 5, class Gall Midge to bancos_mce/weather/snow/5/Gall Midge\n",
      "Copied Snow severity 5, class Anthracnose to bancos_mce/weather/snow/5/Anthracnose\n",
      "Copied Snow severity 5, class Die Back to bancos_mce/weather/snow/5/Die Back\n",
      "Copied Snow severity 5, class Sooty Mould to bancos_mce/weather/snow/5/Sooty Mould\n",
      "Copied Saturate severity 2, class Powdery Mildew to bancos_mce/digital/saturate/2/Powdery Mildew\n",
      "Copied Saturate severity 2, class Cutting Weevil to bancos_mce/digital/saturate/2/Cutting Weevil\n",
      "Copied Saturate severity 2, class Bacterial Canker to bancos_mce/digital/saturate/2/Bacterial Canker\n",
      "Copied Saturate severity 2, class Healthy to bancos_mce/digital/saturate/2/Healthy\n",
      "Copied Saturate severity 2, class Gall Midge to bancos_mce/digital/saturate/2/Gall Midge\n",
      "Copied Saturate severity 2, class Anthracnose to bancos_mce/digital/saturate/2/Anthracnose\n",
      "Copied Saturate severity 2, class Die Back to bancos_mce/digital/saturate/2/Die Back\n",
      "Copied Saturate severity 2, class Sooty Mould to bancos_mce/digital/saturate/2/Sooty Mould\n",
      "Copied Glass Blur severity 1, class Powdery Mildew to bancos_mce/blur/glass_blur/1/Powdery Mildew\n",
      "Copied Glass Blur severity 1, class Cutting Weevil to bancos_mce/blur/glass_blur/1/Cutting Weevil\n",
      "Copied Glass Blur severity 1, class Bacterial Canker to bancos_mce/blur/glass_blur/1/Bacterial Canker\n",
      "Copied Glass Blur severity 1, class Healthy to bancos_mce/blur/glass_blur/1/Healthy\n",
      "Copied Glass Blur severity 1, class Gall Midge to bancos_mce/blur/glass_blur/1/Gall Midge\n",
      "Copied Glass Blur severity 1, class Anthracnose to bancos_mce/blur/glass_blur/1/Anthracnose\n",
      "Copied Glass Blur severity 1, class Die Back to bancos_mce/blur/glass_blur/1/Die Back\n",
      "Copied Glass Blur severity 1, class Sooty Mould to bancos_mce/blur/glass_blur/1/Sooty Mould\n",
      "Copied Glass Blur severity 4, class Powdery Mildew to bancos_mce/blur/glass_blur/4/Powdery Mildew\n",
      "Copied Glass Blur severity 4, class Cutting Weevil to bancos_mce/blur/glass_blur/4/Cutting Weevil\n",
      "Copied Glass Blur severity 4, class Bacterial Canker to bancos_mce/blur/glass_blur/4/Bacterial Canker\n",
      "Copied Glass Blur severity 4, class Healthy to bancos_mce/blur/glass_blur/4/Healthy\n",
      "Copied Glass Blur severity 4, class Gall Midge to bancos_mce/blur/glass_blur/4/Gall Midge\n",
      "Copied Glass Blur severity 4, class Anthracnose to bancos_mce/blur/glass_blur/4/Anthracnose\n",
      "Copied Glass Blur severity 4, class Die Back to bancos_mce/blur/glass_blur/4/Die Back\n",
      "Copied Glass Blur severity 4, class Sooty Mould to bancos_mce/blur/glass_blur/4/Sooty Mould\n",
      "Copied Speckle Noise severity 1, class Powdery Mildew to bancos_mce/noise/speckle_noise/1/Powdery Mildew\n",
      "Copied Speckle Noise severity 1, class Cutting Weevil to bancos_mce/noise/speckle_noise/1/Cutting Weevil\n",
      "Copied Speckle Noise severity 1, class Bacterial Canker to bancos_mce/noise/speckle_noise/1/Bacterial Canker\n",
      "Copied Speckle Noise severity 1, class Healthy to bancos_mce/noise/speckle_noise/1/Healthy\n",
      "Copied Speckle Noise severity 1, class Gall Midge to bancos_mce/noise/speckle_noise/1/Gall Midge\n",
      "Copied Speckle Noise severity 1, class Anthracnose to bancos_mce/noise/speckle_noise/1/Anthracnose\n",
      "Copied Speckle Noise severity 1, class Die Back to bancos_mce/noise/speckle_noise/1/Die Back\n",
      "Copied Speckle Noise severity 1, class Sooty Mould to bancos_mce/noise/speckle_noise/1/Sooty Mould\n",
      "Copied Snow severity 2, class Powdery Mildew to bancos_mce/weather/snow/2/Powdery Mildew\n",
      "Copied Snow severity 2, class Cutting Weevil to bancos_mce/weather/snow/2/Cutting Weevil\n",
      "Copied Snow severity 2, class Bacterial Canker to bancos_mce/weather/snow/2/Bacterial Canker\n",
      "Copied Snow severity 2, class Healthy to bancos_mce/weather/snow/2/Healthy\n",
      "Copied Snow severity 2, class Gall Midge to bancos_mce/weather/snow/2/Gall Midge\n",
      "Copied Snow severity 2, class Anthracnose to bancos_mce/weather/snow/2/Anthracnose\n",
      "Copied Snow severity 2, class Die Back to bancos_mce/weather/snow/2/Die Back\n",
      "Copied Snow severity 2, class Sooty Mould to bancos_mce/weather/snow/2/Sooty Mould\n",
      "Copied JPEG severity 2, class Powdery Mildew to bancos_mce/digital/jpeg_compression/2/Powdery Mildew\n",
      "Copied JPEG severity 2, class Cutting Weevil to bancos_mce/digital/jpeg_compression/2/Cutting Weevil\n",
      "Copied JPEG severity 2, class Bacterial Canker to bancos_mce/digital/jpeg_compression/2/Bacterial Canker\n",
      "Copied JPEG severity 2, class Healthy to bancos_mce/digital/jpeg_compression/2/Healthy\n",
      "Copied JPEG severity 2, class Gall Midge to bancos_mce/digital/jpeg_compression/2/Gall Midge\n",
      "Copied JPEG severity 2, class Anthracnose to bancos_mce/digital/jpeg_compression/2/Anthracnose\n",
      "Copied JPEG severity 2, class Die Back to bancos_mce/digital/jpeg_compression/2/Die Back\n",
      "Copied JPEG severity 2, class Sooty Mould to bancos_mce/digital/jpeg_compression/2/Sooty Mould\n",
      "Copied Gaussian Noise severity 3, class Powdery Mildew to bancos_mce/noise/gaussian_noise/3/Powdery Mildew\n",
      "Copied Gaussian Noise severity 3, class Cutting Weevil to bancos_mce/noise/gaussian_noise/3/Cutting Weevil\n",
      "Copied Gaussian Noise severity 3, class Bacterial Canker to bancos_mce/noise/gaussian_noise/3/Bacterial Canker\n",
      "Copied Gaussian Noise severity 3, class Healthy to bancos_mce/noise/gaussian_noise/3/Healthy\n",
      "Copied Gaussian Noise severity 3, class Gall Midge to bancos_mce/noise/gaussian_noise/3/Gall Midge\n",
      "Copied Gaussian Noise severity 3, class Anthracnose to bancos_mce/noise/gaussian_noise/3/Anthracnose\n",
      "Copied Gaussian Noise severity 3, class Die Back to bancos_mce/noise/gaussian_noise/3/Die Back\n",
      "Copied Gaussian Noise severity 3, class Sooty Mould to bancos_mce/noise/gaussian_noise/3/Sooty Mould\n",
      "Copied Fog severity 2, class Powdery Mildew to bancos_mce/weather/fog/2/Powdery Mildew\n",
      "Copied Fog severity 2, class Cutting Weevil to bancos_mce/weather/fog/2/Cutting Weevil\n",
      "Copied Fog severity 2, class Bacterial Canker to bancos_mce/weather/fog/2/Bacterial Canker\n",
      "Copied Fog severity 2, class Healthy to bancos_mce/weather/fog/2/Healthy\n",
      "Copied Fog severity 2, class Gall Midge to bancos_mce/weather/fog/2/Gall Midge\n",
      "Copied Fog severity 2, class Anthracnose to bancos_mce/weather/fog/2/Anthracnose\n",
      "Copied Fog severity 2, class Die Back to bancos_mce/weather/fog/2/Die Back\n",
      "Copied Fog severity 2, class Sooty Mould to bancos_mce/weather/fog/2/Sooty Mould\n",
      "Copied Saturate severity 3, class Powdery Mildew to bancos_mce/digital/saturate/3/Powdery Mildew\n",
      "Copied Saturate severity 3, class Cutting Weevil to bancos_mce/digital/saturate/3/Cutting Weevil\n",
      "Copied Saturate severity 3, class Bacterial Canker to bancos_mce/digital/saturate/3/Bacterial Canker\n",
      "Copied Saturate severity 3, class Healthy to bancos_mce/digital/saturate/3/Healthy\n",
      "Copied Saturate severity 3, class Gall Midge to bancos_mce/digital/saturate/3/Gall Midge\n",
      "Copied Saturate severity 3, class Anthracnose to bancos_mce/digital/saturate/3/Anthracnose\n",
      "Copied Saturate severity 3, class Die Back to bancos_mce/digital/saturate/3/Die Back\n",
      "Copied Saturate severity 3, class Sooty Mould to bancos_mce/digital/saturate/3/Sooty Mould\n",
      "Copied Snow severity 4, class Powdery Mildew to bancos_mce/weather/snow/4/Powdery Mildew\n",
      "Copied Snow severity 4, class Cutting Weevil to bancos_mce/weather/snow/4/Cutting Weevil\n",
      "Copied Snow severity 4, class Bacterial Canker to bancos_mce/weather/snow/4/Bacterial Canker\n",
      "Copied Snow severity 4, class Healthy to bancos_mce/weather/snow/4/Healthy\n",
      "Copied Snow severity 4, class Gall Midge to bancos_mce/weather/snow/4/Gall Midge\n",
      "Copied Snow severity 4, class Anthracnose to bancos_mce/weather/snow/4/Anthracnose\n",
      "Copied Snow severity 4, class Die Back to bancos_mce/weather/snow/4/Die Back\n",
      "Copied Snow severity 4, class Sooty Mould to bancos_mce/weather/snow/4/Sooty Mould\n",
      "Copied Fog severity 1, class Powdery Mildew to bancos_mce/weather/fog/1/Powdery Mildew\n",
      "Copied Fog severity 1, class Cutting Weevil to bancos_mce/weather/fog/1/Cutting Weevil\n",
      "Copied Fog severity 1, class Bacterial Canker to bancos_mce/weather/fog/1/Bacterial Canker\n",
      "Copied Fog severity 1, class Healthy to bancos_mce/weather/fog/1/Healthy\n",
      "Copied Fog severity 1, class Gall Midge to bancos_mce/weather/fog/1/Gall Midge\n",
      "Copied Fog severity 1, class Anthracnose to bancos_mce/weather/fog/1/Anthracnose\n",
      "Copied Fog severity 1, class Die Back to bancos_mce/weather/fog/1/Die Back\n",
      "Copied Fog severity 1, class Sooty Mould to bancos_mce/weather/fog/1/Sooty Mould\n",
      "Copied Motion Blur severity 1, class Powdery Mildew to bancos_mce/blur/motion_blur/1/Powdery Mildew\n",
      "Copied Motion Blur severity 1, class Cutting Weevil to bancos_mce/blur/motion_blur/1/Cutting Weevil\n",
      "Copied Motion Blur severity 1, class Bacterial Canker to bancos_mce/blur/motion_blur/1/Bacterial Canker\n",
      "Copied Motion Blur severity 1, class Healthy to bancos_mce/blur/motion_blur/1/Healthy\n",
      "Copied Motion Blur severity 1, class Gall Midge to bancos_mce/blur/motion_blur/1/Gall Midge\n",
      "Copied Motion Blur severity 1, class Anthracnose to bancos_mce/blur/motion_blur/1/Anthracnose\n",
      "Copied Motion Blur severity 1, class Die Back to bancos_mce/blur/motion_blur/1/Die Back\n",
      "Copied Motion Blur severity 1, class Sooty Mould to bancos_mce/blur/motion_blur/1/Sooty Mould\n",
      "Copied Pixelate severity 1, class Powdery Mildew to bancos_mce/digital/pixelate/1/Powdery Mildew\n",
      "Copied Pixelate severity 1, class Cutting Weevil to bancos_mce/digital/pixelate/1/Cutting Weevil\n",
      "Copied Pixelate severity 1, class Bacterial Canker to bancos_mce/digital/pixelate/1/Bacterial Canker\n",
      "Copied Pixelate severity 1, class Healthy to bancos_mce/digital/pixelate/1/Healthy\n",
      "Copied Pixelate severity 1, class Gall Midge to bancos_mce/digital/pixelate/1/Gall Midge\n",
      "Copied Pixelate severity 1, class Anthracnose to bancos_mce/digital/pixelate/1/Anthracnose\n",
      "Copied Pixelate severity 1, class Die Back to bancos_mce/digital/pixelate/1/Die Back\n",
      "Copied Pixelate severity 1, class Sooty Mould to bancos_mce/digital/pixelate/1/Sooty Mould\n",
      "Copied Elastic severity 2, class Powdery Mildew to bancos_mce/digital/elastic_transform/2/Powdery Mildew\n",
      "Copied Elastic severity 2, class Cutting Weevil to bancos_mce/digital/elastic_transform/2/Cutting Weevil\n",
      "Copied Elastic severity 2, class Bacterial Canker to bancos_mce/digital/elastic_transform/2/Bacterial Canker\n",
      "Copied Elastic severity 2, class Healthy to bancos_mce/digital/elastic_transform/2/Healthy\n",
      "Copied Elastic severity 2, class Gall Midge to bancos_mce/digital/elastic_transform/2/Gall Midge\n",
      "Copied Elastic severity 2, class Anthracnose to bancos_mce/digital/elastic_transform/2/Anthracnose\n",
      "Copied Elastic severity 2, class Die Back to bancos_mce/digital/elastic_transform/2/Die Back\n",
      "Copied Elastic severity 2, class Sooty Mould to bancos_mce/digital/elastic_transform/2/Sooty Mould\n",
      "Copied Pixelate severity 4, class Powdery Mildew to bancos_mce/digital/pixelate/4/Powdery Mildew\n",
      "Copied Pixelate severity 4, class Cutting Weevil to bancos_mce/digital/pixelate/4/Cutting Weevil\n",
      "Copied Pixelate severity 4, class Bacterial Canker to bancos_mce/digital/pixelate/4/Bacterial Canker\n",
      "Copied Pixelate severity 4, class Healthy to bancos_mce/digital/pixelate/4/Healthy\n",
      "Copied Pixelate severity 4, class Gall Midge to bancos_mce/digital/pixelate/4/Gall Midge\n",
      "Copied Pixelate severity 4, class Anthracnose to bancos_mce/digital/pixelate/4/Anthracnose\n",
      "Copied Pixelate severity 4, class Die Back to bancos_mce/digital/pixelate/4/Die Back\n",
      "Copied Pixelate severity 4, class Sooty Mould to bancos_mce/digital/pixelate/4/Sooty Mould\n",
      "Copied Zoom Blur severity 2, class Powdery Mildew to bancos_mce/blur/zoom_blur/2/Powdery Mildew\n",
      "Copied Zoom Blur severity 2, class Cutting Weevil to bancos_mce/blur/zoom_blur/2/Cutting Weevil\n",
      "Copied Zoom Blur severity 2, class Bacterial Canker to bancos_mce/blur/zoom_blur/2/Bacterial Canker\n",
      "Copied Zoom Blur severity 2, class Healthy to bancos_mce/blur/zoom_blur/2/Healthy\n",
      "Copied Zoom Blur severity 2, class Gall Midge to bancos_mce/blur/zoom_blur/2/Gall Midge\n",
      "Copied Zoom Blur severity 2, class Anthracnose to bancos_mce/blur/zoom_blur/2/Anthracnose\n",
      "Copied Zoom Blur severity 2, class Die Back to bancos_mce/blur/zoom_blur/2/Die Back\n",
      "Copied Zoom Blur severity 2, class Sooty Mould to bancos_mce/blur/zoom_blur/2/Sooty Mould\n",
      "Copied Gaussian Blur severity 1, class Powdery Mildew to bancos_mce/blur/gaussian_blur/1/Powdery Mildew\n",
      "Copied Gaussian Blur severity 1, class Cutting Weevil to bancos_mce/blur/gaussian_blur/1/Cutting Weevil\n",
      "Copied Gaussian Blur severity 1, class Bacterial Canker to bancos_mce/blur/gaussian_blur/1/Bacterial Canker\n",
      "Copied Gaussian Blur severity 1, class Healthy to bancos_mce/blur/gaussian_blur/1/Healthy\n",
      "Copied Gaussian Blur severity 1, class Gall Midge to bancos_mce/blur/gaussian_blur/1/Gall Midge\n",
      "Copied Gaussian Blur severity 1, class Anthracnose to bancos_mce/blur/gaussian_blur/1/Anthracnose\n",
      "Copied Gaussian Blur severity 1, class Die Back to bancos_mce/blur/gaussian_blur/1/Die Back\n",
      "Copied Gaussian Blur severity 1, class Sooty Mould to bancos_mce/blur/gaussian_blur/1/Sooty Mould\n",
      "Copied Pixelate severity 3, class Powdery Mildew to bancos_mce/digital/pixelate/3/Powdery Mildew\n",
      "Copied Pixelate severity 3, class Cutting Weevil to bancos_mce/digital/pixelate/3/Cutting Weevil\n",
      "Copied Pixelate severity 3, class Bacterial Canker to bancos_mce/digital/pixelate/3/Bacterial Canker\n",
      "Copied Pixelate severity 3, class Healthy to bancos_mce/digital/pixelate/3/Healthy\n",
      "Copied Pixelate severity 3, class Gall Midge to bancos_mce/digital/pixelate/3/Gall Midge\n",
      "Copied Pixelate severity 3, class Anthracnose to bancos_mce/digital/pixelate/3/Anthracnose\n",
      "Copied Pixelate severity 3, class Die Back to bancos_mce/digital/pixelate/3/Die Back\n",
      "Copied Pixelate severity 3, class Sooty Mould to bancos_mce/digital/pixelate/3/Sooty Mould\n",
      "Copied Frost severity 2, class Powdery Mildew to bancos_mce/weather/frost/2/Powdery Mildew\n",
      "Copied Frost severity 2, class Cutting Weevil to bancos_mce/weather/frost/2/Cutting Weevil\n",
      "Copied Frost severity 2, class Bacterial Canker to bancos_mce/weather/frost/2/Bacterial Canker\n",
      "Copied Frost severity 2, class Healthy to bancos_mce/weather/frost/2/Healthy\n",
      "Copied Frost severity 2, class Gall Midge to bancos_mce/weather/frost/2/Gall Midge\n",
      "Copied Frost severity 2, class Anthracnose to bancos_mce/weather/frost/2/Anthracnose\n",
      "Copied Frost severity 2, class Die Back to bancos_mce/weather/frost/2/Die Back\n",
      "Copied Frost severity 2, class Sooty Mould to bancos_mce/weather/frost/2/Sooty Mould\n",
      "Copied Zoom Blur severity 5, class Powdery Mildew to bancos_mce/blur/zoom_blur/5/Powdery Mildew\n",
      "Copied Zoom Blur severity 5, class Cutting Weevil to bancos_mce/blur/zoom_blur/5/Cutting Weevil\n",
      "Copied Zoom Blur severity 5, class Bacterial Canker to bancos_mce/blur/zoom_blur/5/Bacterial Canker\n",
      "Copied Zoom Blur severity 5, class Healthy to bancos_mce/blur/zoom_blur/5/Healthy\n",
      "Copied Zoom Blur severity 5, class Gall Midge to bancos_mce/blur/zoom_blur/5/Gall Midge\n",
      "Copied Zoom Blur severity 5, class Anthracnose to bancos_mce/blur/zoom_blur/5/Anthracnose\n",
      "Copied Zoom Blur severity 5, class Die Back to bancos_mce/blur/zoom_blur/5/Die Back\n",
      "Copied Zoom Blur severity 5, class Sooty Mould to bancos_mce/blur/zoom_blur/5/Sooty Mould\n",
      "Copied Brightness severity 5, class Powdery Mildew to bancos_mce/weather/brightness/5/Powdery Mildew\n",
      "Copied Brightness severity 5, class Cutting Weevil to bancos_mce/weather/brightness/5/Cutting Weevil\n",
      "Copied Brightness severity 5, class Bacterial Canker to bancos_mce/weather/brightness/5/Bacterial Canker\n",
      "Copied Brightness severity 5, class Healthy to bancos_mce/weather/brightness/5/Healthy\n",
      "Copied Brightness severity 5, class Gall Midge to bancos_mce/weather/brightness/5/Gall Midge\n",
      "Copied Brightness severity 5, class Anthracnose to bancos_mce/weather/brightness/5/Anthracnose\n",
      "Copied Brightness severity 5, class Die Back to bancos_mce/weather/brightness/5/Die Back\n",
      "Copied Brightness severity 5, class Sooty Mould to bancos_mce/weather/brightness/5/Sooty Mould\n",
      "Copied Shot Noise severity 2, class Powdery Mildew to bancos_mce/noise/shot_noise/2/Powdery Mildew\n",
      "Copied Shot Noise severity 2, class Cutting Weevil to bancos_mce/noise/shot_noise/2/Cutting Weevil\n",
      "Copied Shot Noise severity 2, class Bacterial Canker to bancos_mce/noise/shot_noise/2/Bacterial Canker\n",
      "Copied Shot Noise severity 2, class Healthy to bancos_mce/noise/shot_noise/2/Healthy\n",
      "Copied Shot Noise severity 2, class Gall Midge to bancos_mce/noise/shot_noise/2/Gall Midge\n",
      "Copied Shot Noise severity 2, class Anthracnose to bancos_mce/noise/shot_noise/2/Anthracnose\n",
      "Copied Shot Noise severity 2, class Die Back to bancos_mce/noise/shot_noise/2/Die Back\n",
      "Copied Shot Noise severity 2, class Sooty Mould to bancos_mce/noise/shot_noise/2/Sooty Mould\n",
      "Copied Frost severity 3, class Powdery Mildew to bancos_mce/weather/frost/3/Powdery Mildew\n",
      "Copied Frost severity 3, class Cutting Weevil to bancos_mce/weather/frost/3/Cutting Weevil\n",
      "Copied Frost severity 3, class Bacterial Canker to bancos_mce/weather/frost/3/Bacterial Canker\n",
      "Copied Frost severity 3, class Healthy to bancos_mce/weather/frost/3/Healthy\n",
      "Copied Frost severity 3, class Gall Midge to bancos_mce/weather/frost/3/Gall Midge\n",
      "Copied Frost severity 3, class Anthracnose to bancos_mce/weather/frost/3/Anthracnose\n",
      "Copied Frost severity 3, class Die Back to bancos_mce/weather/frost/3/Die Back\n",
      "Copied Frost severity 3, class Sooty Mould to bancos_mce/weather/frost/3/Sooty Mould\n",
      "Copied Motion Blur severity 2, class Powdery Mildew to bancos_mce/blur/motion_blur/2/Powdery Mildew\n",
      "Copied Motion Blur severity 2, class Cutting Weevil to bancos_mce/blur/motion_blur/2/Cutting Weevil\n",
      "Copied Motion Blur severity 2, class Bacterial Canker to bancos_mce/blur/motion_blur/2/Bacterial Canker\n",
      "Copied Motion Blur severity 2, class Healthy to bancos_mce/blur/motion_blur/2/Healthy\n",
      "Copied Motion Blur severity 2, class Gall Midge to bancos_mce/blur/motion_blur/2/Gall Midge\n",
      "Copied Motion Blur severity 2, class Anthracnose to bancos_mce/blur/motion_blur/2/Anthracnose\n",
      "Copied Motion Blur severity 2, class Die Back to bancos_mce/blur/motion_blur/2/Die Back\n",
      "Copied Motion Blur severity 2, class Sooty Mould to bancos_mce/blur/motion_blur/2/Sooty Mould\n",
      "Copied Saturate severity 5, class Powdery Mildew to bancos_mce/digital/saturate/5/Powdery Mildew\n",
      "Copied Saturate severity 5, class Cutting Weevil to bancos_mce/digital/saturate/5/Cutting Weevil\n",
      "Copied Saturate severity 5, class Bacterial Canker to bancos_mce/digital/saturate/5/Bacterial Canker\n",
      "Copied Saturate severity 5, class Healthy to bancos_mce/digital/saturate/5/Healthy\n",
      "Copied Saturate severity 5, class Gall Midge to bancos_mce/digital/saturate/5/Gall Midge\n",
      "Copied Saturate severity 5, class Anthracnose to bancos_mce/digital/saturate/5/Anthracnose\n",
      "Copied Saturate severity 5, class Die Back to bancos_mce/digital/saturate/5/Die Back\n",
      "Copied Saturate severity 5, class Sooty Mould to bancos_mce/digital/saturate/5/Sooty Mould\n",
      "Copied Motion Blur severity 5, class Powdery Mildew to bancos_mce/blur/motion_blur/5/Powdery Mildew\n",
      "Copied Motion Blur severity 5, class Cutting Weevil to bancos_mce/blur/motion_blur/5/Cutting Weevil\n",
      "Copied Motion Blur severity 5, class Bacterial Canker to bancos_mce/blur/motion_blur/5/Bacterial Canker\n",
      "Copied Motion Blur severity 5, class Healthy to bancos_mce/blur/motion_blur/5/Healthy\n",
      "Copied Motion Blur severity 5, class Gall Midge to bancos_mce/blur/motion_blur/5/Gall Midge\n",
      "Copied Motion Blur severity 5, class Anthracnose to bancos_mce/blur/motion_blur/5/Anthracnose\n",
      "Copied Motion Blur severity 5, class Die Back to bancos_mce/blur/motion_blur/5/Die Back\n",
      "Copied Motion Blur severity 5, class Sooty Mould to bancos_mce/blur/motion_blur/5/Sooty Mould\n",
      "Copied Speckle Noise severity 2, class Powdery Mildew to bancos_mce/noise/speckle_noise/2/Powdery Mildew\n",
      "Copied Speckle Noise severity 2, class Cutting Weevil to bancos_mce/noise/speckle_noise/2/Cutting Weevil\n",
      "Copied Speckle Noise severity 2, class Bacterial Canker to bancos_mce/noise/speckle_noise/2/Bacterial Canker\n",
      "Copied Speckle Noise severity 2, class Healthy to bancos_mce/noise/speckle_noise/2/Healthy\n",
      "Copied Speckle Noise severity 2, class Gall Midge to bancos_mce/noise/speckle_noise/2/Gall Midge\n",
      "Copied Speckle Noise severity 2, class Anthracnose to bancos_mce/noise/speckle_noise/2/Anthracnose\n",
      "Copied Speckle Noise severity 2, class Die Back to bancos_mce/noise/speckle_noise/2/Die Back\n",
      "Copied Speckle Noise severity 2, class Sooty Mould to bancos_mce/noise/speckle_noise/2/Sooty Mould\n",
      "Copied Brightness severity 2, class Powdery Mildew to bancos_mce/weather/brightness/2/Powdery Mildew\n",
      "Copied Brightness severity 2, class Cutting Weevil to bancos_mce/weather/brightness/2/Cutting Weevil\n",
      "Copied Brightness severity 2, class Bacterial Canker to bancos_mce/weather/brightness/2/Bacterial Canker\n",
      "Copied Brightness severity 2, class Healthy to bancos_mce/weather/brightness/2/Healthy\n",
      "Copied Brightness severity 2, class Gall Midge to bancos_mce/weather/brightness/2/Gall Midge\n",
      "Copied Brightness severity 2, class Anthracnose to bancos_mce/weather/brightness/2/Anthracnose\n",
      "Copied Brightness severity 2, class Die Back to bancos_mce/weather/brightness/2/Die Back\n",
      "Copied Brightness severity 2, class Sooty Mould to bancos_mce/weather/brightness/2/Sooty Mould\n",
      "Copied Pixelate severity 2, class Powdery Mildew to bancos_mce/digital/pixelate/2/Powdery Mildew\n",
      "Copied Pixelate severity 2, class Cutting Weevil to bancos_mce/digital/pixelate/2/Cutting Weevil\n",
      "Copied Pixelate severity 2, class Bacterial Canker to bancos_mce/digital/pixelate/2/Bacterial Canker\n",
      "Copied Pixelate severity 2, class Healthy to bancos_mce/digital/pixelate/2/Healthy\n",
      "Copied Pixelate severity 2, class Gall Midge to bancos_mce/digital/pixelate/2/Gall Midge\n",
      "Copied Pixelate severity 2, class Anthracnose to bancos_mce/digital/pixelate/2/Anthracnose\n",
      "Copied Pixelate severity 2, class Die Back to bancos_mce/digital/pixelate/2/Die Back\n",
      "Copied Pixelate severity 2, class Sooty Mould to bancos_mce/digital/pixelate/2/Sooty Mould\n",
      "Copied JPEG severity 5, class Powdery Mildew to bancos_mce/digital/jpeg_compression/5/Powdery Mildew\n",
      "Copied JPEG severity 5, class Cutting Weevil to bancos_mce/digital/jpeg_compression/5/Cutting Weevil\n",
      "Copied JPEG severity 5, class Bacterial Canker to bancos_mce/digital/jpeg_compression/5/Bacterial Canker\n",
      "Copied JPEG severity 5, class Healthy to bancos_mce/digital/jpeg_compression/5/Healthy\n",
      "Copied JPEG severity 5, class Gall Midge to bancos_mce/digital/jpeg_compression/5/Gall Midge\n",
      "Copied JPEG severity 5, class Anthracnose to bancos_mce/digital/jpeg_compression/5/Anthracnose\n",
      "Copied JPEG severity 5, class Die Back to bancos_mce/digital/jpeg_compression/5/Die Back\n",
      "Copied JPEG severity 5, class Sooty Mould to bancos_mce/digital/jpeg_compression/5/Sooty Mould\n",
      "Copied Elastic severity 1, class Powdery Mildew to bancos_mce/digital/elastic_transform/1/Powdery Mildew\n",
      "Copied Elastic severity 1, class Cutting Weevil to bancos_mce/digital/elastic_transform/1/Cutting Weevil\n",
      "Copied Elastic severity 1, class Bacterial Canker to bancos_mce/digital/elastic_transform/1/Bacterial Canker\n",
      "Copied Elastic severity 1, class Healthy to bancos_mce/digital/elastic_transform/1/Healthy\n",
      "Copied Elastic severity 1, class Gall Midge to bancos_mce/digital/elastic_transform/1/Gall Midge\n",
      "Copied Elastic severity 1, class Anthracnose to bancos_mce/digital/elastic_transform/1/Anthracnose\n",
      "Copied Elastic severity 1, class Die Back to bancos_mce/digital/elastic_transform/1/Die Back\n",
      "Copied Elastic severity 1, class Sooty Mould to bancos_mce/digital/elastic_transform/1/Sooty Mould\n",
      "Copied Spatter severity 2, class Powdery Mildew to bancos_mce/weather/spatter/2/Powdery Mildew\n",
      "Copied Spatter severity 2, class Cutting Weevil to bancos_mce/weather/spatter/2/Cutting Weevil\n",
      "Copied Spatter severity 2, class Bacterial Canker to bancos_mce/weather/spatter/2/Bacterial Canker\n",
      "Copied Spatter severity 2, class Healthy to bancos_mce/weather/spatter/2/Healthy\n",
      "Copied Spatter severity 2, class Gall Midge to bancos_mce/weather/spatter/2/Gall Midge\n",
      "Copied Spatter severity 2, class Anthracnose to bancos_mce/weather/spatter/2/Anthracnose\n",
      "Copied Spatter severity 2, class Die Back to bancos_mce/weather/spatter/2/Die Back\n",
      "Copied Spatter severity 2, class Sooty Mould to bancos_mce/weather/spatter/2/Sooty Mould\n",
      "Copied Frost severity 1, class Powdery Mildew to bancos_mce/weather/frost/1/Powdery Mildew\n",
      "Copied Frost severity 1, class Cutting Weevil to bancos_mce/weather/frost/1/Cutting Weevil\n",
      "Copied Frost severity 1, class Bacterial Canker to bancos_mce/weather/frost/1/Bacterial Canker\n",
      "Copied Frost severity 1, class Healthy to bancos_mce/weather/frost/1/Healthy\n",
      "Copied Frost severity 1, class Gall Midge to bancos_mce/weather/frost/1/Gall Midge\n",
      "Copied Frost severity 1, class Anthracnose to bancos_mce/weather/frost/1/Anthracnose\n",
      "Copied Frost severity 1, class Die Back to bancos_mce/weather/frost/1/Die Back\n",
      "Copied Frost severity 1, class Sooty Mould to bancos_mce/weather/frost/1/Sooty Mould\n",
      "Copied Glass Blur severity 3, class Powdery Mildew to bancos_mce/blur/glass_blur/3/Powdery Mildew\n",
      "Copied Glass Blur severity 3, class Cutting Weevil to bancos_mce/blur/glass_blur/3/Cutting Weevil\n",
      "Copied Glass Blur severity 3, class Bacterial Canker to bancos_mce/blur/glass_blur/3/Bacterial Canker\n",
      "Copied Glass Blur severity 3, class Healthy to bancos_mce/blur/glass_blur/3/Healthy\n",
      "Copied Glass Blur severity 3, class Gall Midge to bancos_mce/blur/glass_blur/3/Gall Midge\n",
      "Copied Glass Blur severity 3, class Anthracnose to bancos_mce/blur/glass_blur/3/Anthracnose\n",
      "Copied Glass Blur severity 3, class Die Back to bancos_mce/blur/glass_blur/3/Die Back\n",
      "Copied Glass Blur severity 3, class Sooty Mould to bancos_mce/blur/glass_blur/3/Sooty Mould\n",
      "Copied Glass Blur severity 5, class Powdery Mildew to bancos_mce/blur/glass_blur/5/Powdery Mildew\n",
      "Copied Glass Blur severity 5, class Cutting Weevil to bancos_mce/blur/glass_blur/5/Cutting Weevil\n",
      "Copied Glass Blur severity 5, class Bacterial Canker to bancos_mce/blur/glass_blur/5/Bacterial Canker\n",
      "Copied Glass Blur severity 5, class Healthy to bancos_mce/blur/glass_blur/5/Healthy\n",
      "Copied Glass Blur severity 5, class Gall Midge to bancos_mce/blur/glass_blur/5/Gall Midge\n",
      "Copied Glass Blur severity 5, class Anthracnose to bancos_mce/blur/glass_blur/5/Anthracnose\n",
      "Copied Glass Blur severity 5, class Die Back to bancos_mce/blur/glass_blur/5/Die Back\n",
      "Copied Glass Blur severity 5, class Sooty Mould to bancos_mce/blur/glass_blur/5/Sooty Mould\n",
      "Copied Shot Noise severity 5, class Powdery Mildew to bancos_mce/noise/shot_noise/5/Powdery Mildew\n",
      "Copied Shot Noise severity 5, class Cutting Weevil to bancos_mce/noise/shot_noise/5/Cutting Weevil\n",
      "Copied Shot Noise severity 5, class Bacterial Canker to bancos_mce/noise/shot_noise/5/Bacterial Canker\n",
      "Copied Shot Noise severity 5, class Healthy to bancos_mce/noise/shot_noise/5/Healthy\n",
      "Copied Shot Noise severity 5, class Gall Midge to bancos_mce/noise/shot_noise/5/Gall Midge\n",
      "Copied Shot Noise severity 5, class Anthracnose to bancos_mce/noise/shot_noise/5/Anthracnose\n",
      "Copied Shot Noise severity 5, class Die Back to bancos_mce/noise/shot_noise/5/Die Back\n",
      "Copied Shot Noise severity 5, class Sooty Mould to bancos_mce/noise/shot_noise/5/Sooty Mould\n",
      "Copied Shot Noise severity 3, class Powdery Mildew to bancos_mce/noise/shot_noise/3/Powdery Mildew\n",
      "Copied Shot Noise severity 3, class Cutting Weevil to bancos_mce/noise/shot_noise/3/Cutting Weevil\n",
      "Copied Shot Noise severity 3, class Bacterial Canker to bancos_mce/noise/shot_noise/3/Bacterial Canker\n",
      "Copied Shot Noise severity 3, class Healthy to bancos_mce/noise/shot_noise/3/Healthy\n",
      "Copied Shot Noise severity 3, class Gall Midge to bancos_mce/noise/shot_noise/3/Gall Midge\n",
      "Copied Shot Noise severity 3, class Anthracnose to bancos_mce/noise/shot_noise/3/Anthracnose\n",
      "Copied Shot Noise severity 3, class Die Back to bancos_mce/noise/shot_noise/3/Die Back\n",
      "Copied Shot Noise severity 3, class Sooty Mould to bancos_mce/noise/shot_noise/3/Sooty Mould\n",
      "Copied Gaussian Noise severity 4, class Powdery Mildew to bancos_mce/noise/gaussian_noise/4/Powdery Mildew\n",
      "Copied Gaussian Noise severity 4, class Cutting Weevil to bancos_mce/noise/gaussian_noise/4/Cutting Weevil\n",
      "Copied Gaussian Noise severity 4, class Bacterial Canker to bancos_mce/noise/gaussian_noise/4/Bacterial Canker\n",
      "Copied Gaussian Noise severity 4, class Healthy to bancos_mce/noise/gaussian_noise/4/Healthy\n",
      "Copied Gaussian Noise severity 4, class Gall Midge to bancos_mce/noise/gaussian_noise/4/Gall Midge\n",
      "Copied Gaussian Noise severity 4, class Anthracnose to bancos_mce/noise/gaussian_noise/4/Anthracnose\n",
      "Copied Gaussian Noise severity 4, class Die Back to bancos_mce/noise/gaussian_noise/4/Die Back\n",
      "Copied Gaussian Noise severity 4, class Sooty Mould to bancos_mce/noise/gaussian_noise/4/Sooty Mould\n",
      "Copied JPEG severity 3, class Powdery Mildew to bancos_mce/digital/jpeg_compression/3/Powdery Mildew\n",
      "Copied JPEG severity 3, class Cutting Weevil to bancos_mce/digital/jpeg_compression/3/Cutting Weevil\n",
      "Copied JPEG severity 3, class Bacterial Canker to bancos_mce/digital/jpeg_compression/3/Bacterial Canker\n",
      "Copied JPEG severity 3, class Healthy to bancos_mce/digital/jpeg_compression/3/Healthy\n",
      "Copied JPEG severity 3, class Gall Midge to bancos_mce/digital/jpeg_compression/3/Gall Midge\n",
      "Copied JPEG severity 3, class Anthracnose to bancos_mce/digital/jpeg_compression/3/Anthracnose\n",
      "Copied JPEG severity 3, class Die Back to bancos_mce/digital/jpeg_compression/3/Die Back\n",
      "Copied JPEG severity 3, class Sooty Mould to bancos_mce/digital/jpeg_compression/3/Sooty Mould\n",
      "Copied Spatter severity 4, class Powdery Mildew to bancos_mce/weather/spatter/4/Powdery Mildew\n",
      "Copied Spatter severity 4, class Cutting Weevil to bancos_mce/weather/spatter/4/Cutting Weevil\n",
      "Copied Spatter severity 4, class Bacterial Canker to bancos_mce/weather/spatter/4/Bacterial Canker\n",
      "Copied Spatter severity 4, class Healthy to bancos_mce/weather/spatter/4/Healthy\n",
      "Copied Spatter severity 4, class Gall Midge to bancos_mce/weather/spatter/4/Gall Midge\n",
      "Copied Spatter severity 4, class Anthracnose to bancos_mce/weather/spatter/4/Anthracnose\n",
      "Copied Spatter severity 4, class Die Back to bancos_mce/weather/spatter/4/Die Back\n",
      "Copied Spatter severity 4, class Sooty Mould to bancos_mce/weather/spatter/4/Sooty Mould\n",
      "Copied Contrast severity 5, class Powdery Mildew to bancos_mce/digital/contrast/5/Powdery Mildew\n",
      "Copied Contrast severity 5, class Cutting Weevil to bancos_mce/digital/contrast/5/Cutting Weevil\n",
      "Copied Contrast severity 5, class Bacterial Canker to bancos_mce/digital/contrast/5/Bacterial Canker\n",
      "Copied Contrast severity 5, class Healthy to bancos_mce/digital/contrast/5/Healthy\n",
      "Copied Contrast severity 5, class Gall Midge to bancos_mce/digital/contrast/5/Gall Midge\n",
      "Copied Contrast severity 5, class Anthracnose to bancos_mce/digital/contrast/5/Anthracnose\n",
      "Copied Contrast severity 5, class Die Back to bancos_mce/digital/contrast/5/Die Back\n",
      "Copied Contrast severity 5, class Sooty Mould to bancos_mce/digital/contrast/5/Sooty Mould\n",
      "Copied Spatter severity 5, class Powdery Mildew to bancos_mce/weather/spatter/5/Powdery Mildew\n",
      "Copied Spatter severity 5, class Cutting Weevil to bancos_mce/weather/spatter/5/Cutting Weevil\n",
      "Copied Spatter severity 5, class Bacterial Canker to bancos_mce/weather/spatter/5/Bacterial Canker\n",
      "Copied Spatter severity 5, class Healthy to bancos_mce/weather/spatter/5/Healthy\n",
      "Copied Spatter severity 5, class Gall Midge to bancos_mce/weather/spatter/5/Gall Midge\n",
      "Copied Spatter severity 5, class Anthracnose to bancos_mce/weather/spatter/5/Anthracnose\n",
      "Copied Spatter severity 5, class Die Back to bancos_mce/weather/spatter/5/Die Back\n",
      "Copied Spatter severity 5, class Sooty Mould to bancos_mce/weather/spatter/5/Sooty Mould\n",
      "Copied Defocus Blur severity 4, class Powdery Mildew to bancos_mce/blur/defocus_blur/4/Powdery Mildew\n",
      "Copied Defocus Blur severity 4, class Cutting Weevil to bancos_mce/blur/defocus_blur/4/Cutting Weevil\n",
      "Copied Defocus Blur severity 4, class Bacterial Canker to bancos_mce/blur/defocus_blur/4/Bacterial Canker\n",
      "Copied Defocus Blur severity 4, class Healthy to bancos_mce/blur/defocus_blur/4/Healthy\n",
      "Copied Defocus Blur severity 4, class Gall Midge to bancos_mce/blur/defocus_blur/4/Gall Midge\n",
      "Copied Defocus Blur severity 4, class Anthracnose to bancos_mce/blur/defocus_blur/4/Anthracnose\n",
      "Copied Defocus Blur severity 4, class Die Back to bancos_mce/blur/defocus_blur/4/Die Back\n",
      "Copied Defocus Blur severity 4, class Sooty Mould to bancos_mce/blur/defocus_blur/4/Sooty Mould\n",
      "Copied Shot Noise severity 4, class Powdery Mildew to bancos_mce/noise/shot_noise/4/Powdery Mildew\n",
      "Copied Shot Noise severity 4, class Cutting Weevil to bancos_mce/noise/shot_noise/4/Cutting Weevil\n",
      "Copied Shot Noise severity 4, class Bacterial Canker to bancos_mce/noise/shot_noise/4/Bacterial Canker\n",
      "Copied Shot Noise severity 4, class Healthy to bancos_mce/noise/shot_noise/4/Healthy\n",
      "Copied Shot Noise severity 4, class Gall Midge to bancos_mce/noise/shot_noise/4/Gall Midge\n",
      "Copied Shot Noise severity 4, class Anthracnose to bancos_mce/noise/shot_noise/4/Anthracnose\n",
      "Copied Shot Noise severity 4, class Die Back to bancos_mce/noise/shot_noise/4/Die Back\n",
      "Copied Shot Noise severity 4, class Sooty Mould to bancos_mce/noise/shot_noise/4/Sooty Mould\n",
      "Copied Speckle Noise severity 4, class Powdery Mildew to bancos_mce/noise/speckle_noise/4/Powdery Mildew\n",
      "Copied Speckle Noise severity 4, class Cutting Weevil to bancos_mce/noise/speckle_noise/4/Cutting Weevil\n",
      "Copied Speckle Noise severity 4, class Bacterial Canker to bancos_mce/noise/speckle_noise/4/Bacterial Canker\n",
      "Copied Speckle Noise severity 4, class Healthy to bancos_mce/noise/speckle_noise/4/Healthy\n",
      "Copied Speckle Noise severity 4, class Gall Midge to bancos_mce/noise/speckle_noise/4/Gall Midge\n",
      "Copied Speckle Noise severity 4, class Anthracnose to bancos_mce/noise/speckle_noise/4/Anthracnose\n",
      "Copied Speckle Noise severity 4, class Die Back to bancos_mce/noise/speckle_noise/4/Die Back\n",
      "Copied Speckle Noise severity 4, class Sooty Mould to bancos_mce/noise/speckle_noise/4/Sooty Mould\n",
      "Copied Impulse Noise severity 2, class Powdery Mildew to bancos_mce/noise/impulse_noise/2/Powdery Mildew\n",
      "Copied Impulse Noise severity 2, class Cutting Weevil to bancos_mce/noise/impulse_noise/2/Cutting Weevil\n",
      "Copied Impulse Noise severity 2, class Bacterial Canker to bancos_mce/noise/impulse_noise/2/Bacterial Canker\n",
      "Copied Impulse Noise severity 2, class Healthy to bancos_mce/noise/impulse_noise/2/Healthy\n",
      "Copied Impulse Noise severity 2, class Gall Midge to bancos_mce/noise/impulse_noise/2/Gall Midge\n",
      "Copied Impulse Noise severity 2, class Anthracnose to bancos_mce/noise/impulse_noise/2/Anthracnose\n",
      "Copied Impulse Noise severity 2, class Die Back to bancos_mce/noise/impulse_noise/2/Die Back\n",
      "Copied Impulse Noise severity 2, class Sooty Mould to bancos_mce/noise/impulse_noise/2/Sooty Mould\n",
      "Copied Motion Blur severity 3, class Powdery Mildew to bancos_mce/blur/motion_blur/3/Powdery Mildew\n",
      "Copied Motion Blur severity 3, class Cutting Weevil to bancos_mce/blur/motion_blur/3/Cutting Weevil\n",
      "Copied Motion Blur severity 3, class Bacterial Canker to bancos_mce/blur/motion_blur/3/Bacterial Canker\n",
      "Copied Motion Blur severity 3, class Healthy to bancos_mce/blur/motion_blur/3/Healthy\n",
      "Copied Motion Blur severity 3, class Gall Midge to bancos_mce/blur/motion_blur/3/Gall Midge\n",
      "Copied Motion Blur severity 3, class Anthracnose to bancos_mce/blur/motion_blur/3/Anthracnose\n",
      "Copied Motion Blur severity 3, class Die Back to bancos_mce/blur/motion_blur/3/Die Back\n",
      "Copied Motion Blur severity 3, class Sooty Mould to bancos_mce/blur/motion_blur/3/Sooty Mould\n",
      "Copied Brightness severity 3, class Powdery Mildew to bancos_mce/weather/brightness/3/Powdery Mildew\n",
      "Copied Brightness severity 3, class Cutting Weevil to bancos_mce/weather/brightness/3/Cutting Weevil\n",
      "Copied Brightness severity 3, class Bacterial Canker to bancos_mce/weather/brightness/3/Bacterial Canker\n",
      "Copied Brightness severity 3, class Healthy to bancos_mce/weather/brightness/3/Healthy\n",
      "Copied Brightness severity 3, class Gall Midge to bancos_mce/weather/brightness/3/Gall Midge\n",
      "Copied Brightness severity 3, class Anthracnose to bancos_mce/weather/brightness/3/Anthracnose\n",
      "Copied Brightness severity 3, class Die Back to bancos_mce/weather/brightness/3/Die Back\n",
      "Copied Brightness severity 3, class Sooty Mould to bancos_mce/weather/brightness/3/Sooty Mould\n",
      "Copied Gaussian Blur severity 4, class Powdery Mildew to bancos_mce/blur/gaussian_blur/4/Powdery Mildew\n",
      "Copied Gaussian Blur severity 4, class Cutting Weevil to bancos_mce/blur/gaussian_blur/4/Cutting Weevil\n",
      "Copied Gaussian Blur severity 4, class Bacterial Canker to bancos_mce/blur/gaussian_blur/4/Bacterial Canker\n",
      "Copied Gaussian Blur severity 4, class Healthy to bancos_mce/blur/gaussian_blur/4/Healthy\n",
      "Copied Gaussian Blur severity 4, class Gall Midge to bancos_mce/blur/gaussian_blur/4/Gall Midge\n",
      "Copied Gaussian Blur severity 4, class Anthracnose to bancos_mce/blur/gaussian_blur/4/Anthracnose\n",
      "Copied Gaussian Blur severity 4, class Die Back to bancos_mce/blur/gaussian_blur/4/Die Back\n",
      "Copied Gaussian Blur severity 4, class Sooty Mould to bancos_mce/blur/gaussian_blur/4/Sooty Mould\n",
      "Copied JPEG severity 1, class Powdery Mildew to bancos_mce/digital/jpeg_compression/1/Powdery Mildew\n",
      "Copied JPEG severity 1, class Cutting Weevil to bancos_mce/digital/jpeg_compression/1/Cutting Weevil\n",
      "Copied JPEG severity 1, class Bacterial Canker to bancos_mce/digital/jpeg_compression/1/Bacterial Canker\n",
      "Copied JPEG severity 1, class Healthy to bancos_mce/digital/jpeg_compression/1/Healthy\n",
      "Copied JPEG severity 1, class Gall Midge to bancos_mce/digital/jpeg_compression/1/Gall Midge\n",
      "Copied JPEG severity 1, class Anthracnose to bancos_mce/digital/jpeg_compression/1/Anthracnose\n",
      "Copied JPEG severity 1, class Die Back to bancos_mce/digital/jpeg_compression/1/Die Back\n",
      "Copied JPEG severity 1, class Sooty Mould to bancos_mce/digital/jpeg_compression/1/Sooty Mould\n",
      "Copied Spatter severity 1, class Powdery Mildew to bancos_mce/weather/spatter/1/Powdery Mildew\n",
      "Copied Spatter severity 1, class Cutting Weevil to bancos_mce/weather/spatter/1/Cutting Weevil\n",
      "Copied Spatter severity 1, class Bacterial Canker to bancos_mce/weather/spatter/1/Bacterial Canker\n",
      "Copied Spatter severity 1, class Healthy to bancos_mce/weather/spatter/1/Healthy\n",
      "Copied Spatter severity 1, class Gall Midge to bancos_mce/weather/spatter/1/Gall Midge\n",
      "Copied Spatter severity 1, class Anthracnose to bancos_mce/weather/spatter/1/Anthracnose\n",
      "Copied Spatter severity 1, class Die Back to bancos_mce/weather/spatter/1/Die Back\n",
      "Copied Spatter severity 1, class Sooty Mould to bancos_mce/weather/spatter/1/Sooty Mould\n",
      "Reorganization complete!\n"
     ]
    }
   ],
   "source": [
    "import os\n",
    "import shutil\n",
    "from pathlib import Path\n",
    "\n",
    "# Define corruption mappings according to the provided categories\n",
    "CORRUPTION_TYPES = {\n",
    "    'blur': ['defocus_blur', 'gaussian_blur', 'glass_blur', 'motion_blur', 'zoom_blur'],\n",
    "    'digital': ['contrast', 'elastic_transform', 'jpeg_compression', 'pixelate', 'saturate'],\n",
    "    'noise': ['gaussian_noise', 'impulse_noise', 'shot_noise', 'speckle_noise'],\n",
    "    'weather': ['brightness', 'fog', 'frost', 'snow', 'spatter']\n",
    "}\n",
    "\n",
    "# Create a mapping from original directory names to new structure\n",
    "name_mapping = {\n",
    "    'Defocus Blur': {'category': 'blur', 'specific': 'defocus_blur'},\n",
    "    'Gaussian Blur': {'category': 'blur', 'specific': 'gaussian_blur'},\n",
    "    'Glass Blur': {'category': 'blur', 'specific': 'glass_blur'},\n",
    "    'Motion Blur': {'category': 'blur', 'specific': 'motion_blur'},\n",
    "    'Zoom Blur': {'category': 'blur', 'specific': 'zoom_blur'},\n",
    "    \n",
    "    'Contrast': {'category': 'digital', 'specific': 'contrast'},\n",
    "    'Elastic': {'category': 'digital', 'specific': 'elastic_transform'},\n",
    "    'JPEG': {'category': 'digital', 'specific': 'jpeg_compression'},\n",
    "    'Pixelate': {'category': 'digital', 'specific': 'pixelate'},\n",
    "    'Saturate': {'category': 'digital', 'specific': 'saturate'},\n",
    "    \n",
    "    'Gaussian Noise': {'category': 'noise', 'specific': 'gaussian_noise'},\n",
    "    'Impulse Noise': {'category': 'noise', 'specific': 'impulse_noise'},\n",
    "    'Shot Noise': {'category': 'noise', 'specific': 'shot_noise'},\n",
    "    'Speckle Noise': {'category': 'noise', 'specific': 'speckle_noise'},\n",
    "    \n",
    "    'Brightness': {'category': 'weather', 'specific': 'brightness'},\n",
    "    'Fog': {'category': 'weather', 'specific': 'fog'},\n",
    "    'Frost': {'category': 'weather', 'specific': 'frost'},\n",
    "    'Snow': {'category': 'weather', 'specific': 'snow'},\n",
    "    'Spatter': {'category': 'weather', 'specific': 'spatter'}\n",
    "}\n",
    "\n",
    "# Path to source and destination directories\n",
    "src_base = \"bancos/bancos\"\n",
    "dst_base = \"bancos_mce\"\n",
    "\n",
    "# Create destination base directory if it doesn't exist\n",
    "os.makedirs(dst_base, exist_ok=True)\n",
    "\n",
    "# Process all corruptions and severities\n",
    "for item in os.listdir(src_base):\n",
    "    # Check if this is a corruption_severity directory\n",
    "    if \"_severity_\" in item:\n",
    "        parts = item.split(\"_severity_\")\n",
    "        corruption_type = parts[0]\n",
    "        severity = parts[1]\n",
    "        \n",
    "        # Skip if corruption type not in our mapping\n",
    "        if corruption_type not in name_mapping:\n",
    "            print(f\"Warning: Unknown corruption type '{corruption_type}', skipping\")\n",
    "            continue\n",
    "        \n",
    "        # Get category and specific corruption\n",
    "        category = name_mapping[corruption_type][\"category\"]\n",
    "        specific = name_mapping[corruption_type][\"specific\"]\n",
    "        \n",
    "        # Process all classes\n",
    "        src_corruption_dir = os.path.join(src_base, item)\n",
    "        for class_name in os.listdir(src_corruption_dir):\n",
    "            # Create destination directory\n",
    "            dst_dir = os.path.join(dst_base, category, specific, severity, class_name)\n",
    "            os.makedirs(dst_dir, exist_ok=True)\n",
    "            \n",
    "            # Copy all images\n",
    "            src_class_dir = os.path.join(src_corruption_dir, class_name)\n",
    "            for img in os.listdir(src_class_dir):\n",
    "                if img.lower().endswith(('.jpg', '.jpeg', '.png')):\n",
    "                    src_path = os.path.join(src_class_dir, img)\n",
    "                    dst_path = os.path.join(dst_dir, img)\n",
    "                    shutil.copy2(src_path, dst_path)\n",
    "            \n",
    "            print(f\"Copied {corruption_type} severity {severity}, class {class_name} to {dst_dir}\")\n",
    "\n",
    "print(\"Reorganization complete!\")"
   ]
  },
  {
   "cell_type": "markdown",
   "metadata": {},
   "source": [
    "### Evaluate Corruption Error"
   ]
  },
  {
   "cell_type": "code",
   "execution_count": 17,
   "metadata": {},
   "outputs": [],
   "source": [
    "CORRUPTION_TYPES = {\n",
    "    'blur': ['defocus_blur', 'gaussian_blur', 'glass_blur', 'motion_blur', 'zoom_blur'],\n",
    "    'digital': ['contrast', 'elastic_transform', 'jpeg_compression', 'pixelate', 'saturate'],\n",
    "    'noise': ['gaussian_noise', 'impulse_noise', 'shot_noise', 'speckle_noise'],\n",
    "    'weather': ['brightness', 'fog', 'frost', 'snow', 'spatter']\n",
    "}\n",
    "\n",
    "# BASE_PATH = 'C:/Users/DESKTOP/pesquisaGabriel/estruturaParaMceERelative'\n",
    "BASE_PATH = \"bancos_mce\"\n"
   ]
  },
  {
   "cell_type": "code",
   "execution_count": 18,
   "metadata": {},
   "outputs": [],
   "source": [
    "datagen = tf.keras.preprocessing.image.ImageDataGenerator()"
   ]
  },
  {
   "cell_type": "code",
   "execution_count": 19,
   "metadata": {},
   "outputs": [
    {
     "name": "stdout",
     "output_type": "stream",
     "text": [
      "Found 4000 images belonging to 8 classes.\n"
     ]
    }
   ],
   "source": [
    "blur_generator_one = datagen.flow_from_directory(\n",
    "    f'{BASE_PATH}/blur/{CORRUPTION_TYPES[\"blur\"][0]}/1',\n",
    "    target_size=(224, 224),\n",
    "    batch_size=64,\n",
    "    shuffle=False\n",
    ")"
   ]
  },
  {
   "cell_type": "code",
   "execution_count": 20,
   "metadata": {},
   "outputs": [
    {
     "name": "stderr",
     "output_type": "stream",
     "text": [
      "/home/saulolv/PIBIC/TinyML/.venv/lib/python3.12/site-packages/keras/src/trainers/data_adapters/py_dataset_adapter.py:121: UserWarning: Your `PyDataset` class should call `super().__init__(**kwargs)` in its constructor. `**kwargs` can include `workers`, `use_multiprocessing`, `max_queue_size`. Do not pass these arguments to `fit()`, as they will be ignored.\n",
      "  self._warn_if_super_not_called()\n"
     ]
    },
    {
     "name": "stdout",
     "output_type": "stream",
     "text": [
      "\u001b[1m63/63\u001b[0m \u001b[32m━━━━━━━━━━━━━━━━━━━━\u001b[0m\u001b[37m\u001b[0m \u001b[1m16s\u001b[0m 248ms/step\n"
     ]
    }
   ],
   "source": [
    "preds = model_lcnn.predict(blur_generator_one)"
   ]
  },
  {
   "cell_type": "code",
   "execution_count": 21,
   "metadata": {},
   "outputs": [],
   "source": [
    "predicted_classes = np.argmax(preds, axis=1)"
   ]
  },
  {
   "cell_type": "code",
   "execution_count": 22,
   "metadata": {},
   "outputs": [],
   "source": [
    "accuracy_lcnn = accuracy_score(blur_generator_one.labels, predicted_classes)"
   ]
  },
  {
   "cell_type": "markdown",
   "metadata": {},
   "source": [
    "## Generate Corruption Error for all type of corruptions in LCNN"
   ]
  },
  {
   "cell_type": "code",
   "execution_count": 23,
   "metadata": {},
   "outputs": [],
   "source": [
    "import json\n",
    "\n",
    "def load_json(filename):\n",
    "    with open(filename, 'r') as f:\n",
    "        return json.load(f)\n",
    "\n",
    "def save_json(filename, data):\n",
    "    with open(filename, 'w') as f:\n",
    "        json.dump(data, f, indent=4)"
   ]
  },
  {
   "cell_type": "code",
   "execution_count": 24,
   "metadata": {},
   "outputs": [
    {
     "name": "stdout",
     "output_type": "stream",
     "text": [
      "Found 4000 images belonging to 8 classes.\n"
     ]
    },
    {
     "name": "stderr",
     "output_type": "stream",
     "text": [
      "/home/saulolv/PIBIC/TinyML/.venv/lib/python3.12/site-packages/keras/src/trainers/data_adapters/py_dataset_adapter.py:121: UserWarning: Your `PyDataset` class should call `super().__init__(**kwargs)` in its constructor. `**kwargs` can include `workers`, `use_multiprocessing`, `max_queue_size`. Do not pass these arguments to `fit()`, as they will be ignored.\n",
      "  self._warn_if_super_not_called()\n"
     ]
    },
    {
     "name": "stdout",
     "output_type": "stream",
     "text": [
      "\u001b[1m63/63\u001b[0m \u001b[32m━━━━━━━━━━━━━━━━━━━━\u001b[0m\u001b[37m\u001b[0m \u001b[1m16s\u001b[0m 251ms/step\n",
      "Found 4000 images belonging to 8 classes.\n"
     ]
    },
    {
     "name": "stderr",
     "output_type": "stream",
     "text": [
      "/home/saulolv/PIBIC/TinyML/.venv/lib/python3.12/site-packages/keras/src/trainers/data_adapters/py_dataset_adapter.py:121: UserWarning: Your `PyDataset` class should call `super().__init__(**kwargs)` in its constructor. `**kwargs` can include `workers`, `use_multiprocessing`, `max_queue_size`. Do not pass these arguments to `fit()`, as they will be ignored.\n",
      "  self._warn_if_super_not_called()\n"
     ]
    },
    {
     "name": "stdout",
     "output_type": "stream",
     "text": [
      "\u001b[1m63/63\u001b[0m \u001b[32m━━━━━━━━━━━━━━━━━━━━\u001b[0m\u001b[37m\u001b[0m \u001b[1m16s\u001b[0m 247ms/step\n",
      "Found 4000 images belonging to 8 classes.\n"
     ]
    },
    {
     "name": "stderr",
     "output_type": "stream",
     "text": [
      "/home/saulolv/PIBIC/TinyML/.venv/lib/python3.12/site-packages/keras/src/trainers/data_adapters/py_dataset_adapter.py:121: UserWarning: Your `PyDataset` class should call `super().__init__(**kwargs)` in its constructor. `**kwargs` can include `workers`, `use_multiprocessing`, `max_queue_size`. Do not pass these arguments to `fit()`, as they will be ignored.\n",
      "  self._warn_if_super_not_called()\n"
     ]
    },
    {
     "name": "stdout",
     "output_type": "stream",
     "text": [
      "\u001b[1m63/63\u001b[0m \u001b[32m━━━━━━━━━━━━━━━━━━━━\u001b[0m\u001b[37m\u001b[0m \u001b[1m15s\u001b[0m 243ms/step\n",
      "Found 4000 images belonging to 8 classes.\n"
     ]
    },
    {
     "name": "stderr",
     "output_type": "stream",
     "text": [
      "/home/saulolv/PIBIC/TinyML/.venv/lib/python3.12/site-packages/keras/src/trainers/data_adapters/py_dataset_adapter.py:121: UserWarning: Your `PyDataset` class should call `super().__init__(**kwargs)` in its constructor. `**kwargs` can include `workers`, `use_multiprocessing`, `max_queue_size`. Do not pass these arguments to `fit()`, as they will be ignored.\n",
      "  self._warn_if_super_not_called()\n"
     ]
    },
    {
     "name": "stdout",
     "output_type": "stream",
     "text": [
      "\u001b[1m63/63\u001b[0m \u001b[32m━━━━━━━━━━━━━━━━━━━━\u001b[0m\u001b[37m\u001b[0m \u001b[1m16s\u001b[0m 255ms/step\n",
      "Found 4000 images belonging to 8 classes.\n"
     ]
    },
    {
     "name": "stderr",
     "output_type": "stream",
     "text": [
      "/home/saulolv/PIBIC/TinyML/.venv/lib/python3.12/site-packages/keras/src/trainers/data_adapters/py_dataset_adapter.py:121: UserWarning: Your `PyDataset` class should call `super().__init__(**kwargs)` in its constructor. `**kwargs` can include `workers`, `use_multiprocessing`, `max_queue_size`. Do not pass these arguments to `fit()`, as they will be ignored.\n",
      "  self._warn_if_super_not_called()\n"
     ]
    },
    {
     "name": "stdout",
     "output_type": "stream",
     "text": [
      "\u001b[1m63/63\u001b[0m \u001b[32m━━━━━━━━━━━━━━━━━━━━\u001b[0m\u001b[37m\u001b[0m \u001b[1m17s\u001b[0m 265ms/step\n",
      "Found 4000 images belonging to 8 classes.\n"
     ]
    },
    {
     "name": "stderr",
     "output_type": "stream",
     "text": [
      "/home/saulolv/PIBIC/TinyML/.venv/lib/python3.12/site-packages/keras/src/trainers/data_adapters/py_dataset_adapter.py:121: UserWarning: Your `PyDataset` class should call `super().__init__(**kwargs)` in its constructor. `**kwargs` can include `workers`, `use_multiprocessing`, `max_queue_size`. Do not pass these arguments to `fit()`, as they will be ignored.\n",
      "  self._warn_if_super_not_called()\n"
     ]
    },
    {
     "name": "stdout",
     "output_type": "stream",
     "text": [
      "\u001b[1m63/63\u001b[0m \u001b[32m━━━━━━━━━━━━━━━━━━━━\u001b[0m\u001b[37m\u001b[0m \u001b[1m17s\u001b[0m 273ms/step\n",
      "Found 4000 images belonging to 8 classes.\n"
     ]
    },
    {
     "name": "stderr",
     "output_type": "stream",
     "text": [
      "/home/saulolv/PIBIC/TinyML/.venv/lib/python3.12/site-packages/keras/src/trainers/data_adapters/py_dataset_adapter.py:121: UserWarning: Your `PyDataset` class should call `super().__init__(**kwargs)` in its constructor. `**kwargs` can include `workers`, `use_multiprocessing`, `max_queue_size`. Do not pass these arguments to `fit()`, as they will be ignored.\n",
      "  self._warn_if_super_not_called()\n"
     ]
    },
    {
     "name": "stdout",
     "output_type": "stream",
     "text": [
      "\u001b[1m63/63\u001b[0m \u001b[32m━━━━━━━━━━━━━━━━━━━━\u001b[0m\u001b[37m\u001b[0m \u001b[1m17s\u001b[0m 273ms/step\n",
      "Found 4000 images belonging to 8 classes.\n"
     ]
    },
    {
     "name": "stderr",
     "output_type": "stream",
     "text": [
      "/home/saulolv/PIBIC/TinyML/.venv/lib/python3.12/site-packages/keras/src/trainers/data_adapters/py_dataset_adapter.py:121: UserWarning: Your `PyDataset` class should call `super().__init__(**kwargs)` in its constructor. `**kwargs` can include `workers`, `use_multiprocessing`, `max_queue_size`. Do not pass these arguments to `fit()`, as they will be ignored.\n",
      "  self._warn_if_super_not_called()\n"
     ]
    },
    {
     "name": "stdout",
     "output_type": "stream",
     "text": [
      "\u001b[1m63/63\u001b[0m \u001b[32m━━━━━━━━━━━━━━━━━━━━\u001b[0m\u001b[37m\u001b[0m \u001b[1m18s\u001b[0m 280ms/step\n",
      "Found 4000 images belonging to 8 classes.\n"
     ]
    },
    {
     "name": "stderr",
     "output_type": "stream",
     "text": [
      "/home/saulolv/PIBIC/TinyML/.venv/lib/python3.12/site-packages/keras/src/trainers/data_adapters/py_dataset_adapter.py:121: UserWarning: Your `PyDataset` class should call `super().__init__(**kwargs)` in its constructor. `**kwargs` can include `workers`, `use_multiprocessing`, `max_queue_size`. Do not pass these arguments to `fit()`, as they will be ignored.\n",
      "  self._warn_if_super_not_called()\n"
     ]
    },
    {
     "name": "stdout",
     "output_type": "stream",
     "text": [
      "\u001b[1m63/63\u001b[0m \u001b[32m━━━━━━━━━━━━━━━━━━━━\u001b[0m\u001b[37m\u001b[0m \u001b[1m17s\u001b[0m 272ms/step\n",
      "Found 4000 images belonging to 8 classes.\n"
     ]
    },
    {
     "name": "stderr",
     "output_type": "stream",
     "text": [
      "/home/saulolv/PIBIC/TinyML/.venv/lib/python3.12/site-packages/keras/src/trainers/data_adapters/py_dataset_adapter.py:121: UserWarning: Your `PyDataset` class should call `super().__init__(**kwargs)` in its constructor. `**kwargs` can include `workers`, `use_multiprocessing`, `max_queue_size`. Do not pass these arguments to `fit()`, as they will be ignored.\n",
      "  self._warn_if_super_not_called()\n"
     ]
    },
    {
     "name": "stdout",
     "output_type": "stream",
     "text": [
      "\u001b[1m63/63\u001b[0m \u001b[32m━━━━━━━━━━━━━━━━━━━━\u001b[0m\u001b[37m\u001b[0m \u001b[1m16s\u001b[0m 258ms/step\n",
      "Found 4000 images belonging to 8 classes.\n"
     ]
    },
    {
     "name": "stderr",
     "output_type": "stream",
     "text": [
      "/home/saulolv/PIBIC/TinyML/.venv/lib/python3.12/site-packages/keras/src/trainers/data_adapters/py_dataset_adapter.py:121: UserWarning: Your `PyDataset` class should call `super().__init__(**kwargs)` in its constructor. `**kwargs` can include `workers`, `use_multiprocessing`, `max_queue_size`. Do not pass these arguments to `fit()`, as they will be ignored.\n",
      "  self._warn_if_super_not_called()\n"
     ]
    },
    {
     "name": "stdout",
     "output_type": "stream",
     "text": [
      "\u001b[1m63/63\u001b[0m \u001b[32m━━━━━━━━━━━━━━━━━━━━\u001b[0m\u001b[37m\u001b[0m \u001b[1m17s\u001b[0m 266ms/step\n",
      "Found 4000 images belonging to 8 classes.\n"
     ]
    },
    {
     "name": "stderr",
     "output_type": "stream",
     "text": [
      "/home/saulolv/PIBIC/TinyML/.venv/lib/python3.12/site-packages/keras/src/trainers/data_adapters/py_dataset_adapter.py:121: UserWarning: Your `PyDataset` class should call `super().__init__(**kwargs)` in its constructor. `**kwargs` can include `workers`, `use_multiprocessing`, `max_queue_size`. Do not pass these arguments to `fit()`, as they will be ignored.\n",
      "  self._warn_if_super_not_called()\n"
     ]
    },
    {
     "name": "stdout",
     "output_type": "stream",
     "text": [
      "\u001b[1m63/63\u001b[0m \u001b[32m━━━━━━━━━━━━━━━━━━━━\u001b[0m\u001b[37m\u001b[0m \u001b[1m17s\u001b[0m 260ms/step\n",
      "Found 4000 images belonging to 8 classes.\n"
     ]
    },
    {
     "name": "stderr",
     "output_type": "stream",
     "text": [
      "/home/saulolv/PIBIC/TinyML/.venv/lib/python3.12/site-packages/keras/src/trainers/data_adapters/py_dataset_adapter.py:121: UserWarning: Your `PyDataset` class should call `super().__init__(**kwargs)` in its constructor. `**kwargs` can include `workers`, `use_multiprocessing`, `max_queue_size`. Do not pass these arguments to `fit()`, as they will be ignored.\n",
      "  self._warn_if_super_not_called()\n"
     ]
    },
    {
     "name": "stdout",
     "output_type": "stream",
     "text": [
      "\u001b[1m63/63\u001b[0m \u001b[32m━━━━━━━━━━━━━━━━━━━━\u001b[0m\u001b[37m\u001b[0m \u001b[1m16s\u001b[0m 260ms/step\n",
      "Found 4000 images belonging to 8 classes.\n"
     ]
    },
    {
     "name": "stderr",
     "output_type": "stream",
     "text": [
      "/home/saulolv/PIBIC/TinyML/.venv/lib/python3.12/site-packages/keras/src/trainers/data_adapters/py_dataset_adapter.py:121: UserWarning: Your `PyDataset` class should call `super().__init__(**kwargs)` in its constructor. `**kwargs` can include `workers`, `use_multiprocessing`, `max_queue_size`. Do not pass these arguments to `fit()`, as they will be ignored.\n",
      "  self._warn_if_super_not_called()\n"
     ]
    },
    {
     "name": "stdout",
     "output_type": "stream",
     "text": [
      "\u001b[1m63/63\u001b[0m \u001b[32m━━━━━━━━━━━━━━━━━━━━\u001b[0m\u001b[37m\u001b[0m \u001b[1m17s\u001b[0m 264ms/step\n",
      "Found 4000 images belonging to 8 classes.\n"
     ]
    },
    {
     "name": "stderr",
     "output_type": "stream",
     "text": [
      "/home/saulolv/PIBIC/TinyML/.venv/lib/python3.12/site-packages/keras/src/trainers/data_adapters/py_dataset_adapter.py:121: UserWarning: Your `PyDataset` class should call `super().__init__(**kwargs)` in its constructor. `**kwargs` can include `workers`, `use_multiprocessing`, `max_queue_size`. Do not pass these arguments to `fit()`, as they will be ignored.\n",
      "  self._warn_if_super_not_called()\n"
     ]
    },
    {
     "name": "stdout",
     "output_type": "stream",
     "text": [
      "\u001b[1m63/63\u001b[0m \u001b[32m━━━━━━━━━━━━━━━━━━━━\u001b[0m\u001b[37m\u001b[0m \u001b[1m17s\u001b[0m 260ms/step\n",
      "Found 4000 images belonging to 8 classes.\n"
     ]
    },
    {
     "name": "stderr",
     "output_type": "stream",
     "text": [
      "/home/saulolv/PIBIC/TinyML/.venv/lib/python3.12/site-packages/keras/src/trainers/data_adapters/py_dataset_adapter.py:121: UserWarning: Your `PyDataset` class should call `super().__init__(**kwargs)` in its constructor. `**kwargs` can include `workers`, `use_multiprocessing`, `max_queue_size`. Do not pass these arguments to `fit()`, as they will be ignored.\n",
      "  self._warn_if_super_not_called()\n"
     ]
    },
    {
     "name": "stdout",
     "output_type": "stream",
     "text": [
      "\u001b[1m63/63\u001b[0m \u001b[32m━━━━━━━━━━━━━━━━━━━━\u001b[0m\u001b[37m\u001b[0m \u001b[1m17s\u001b[0m 264ms/step\n",
      "Found 4000 images belonging to 8 classes.\n"
     ]
    },
    {
     "name": "stderr",
     "output_type": "stream",
     "text": [
      "/home/saulolv/PIBIC/TinyML/.venv/lib/python3.12/site-packages/keras/src/trainers/data_adapters/py_dataset_adapter.py:121: UserWarning: Your `PyDataset` class should call `super().__init__(**kwargs)` in its constructor. `**kwargs` can include `workers`, `use_multiprocessing`, `max_queue_size`. Do not pass these arguments to `fit()`, as they will be ignored.\n",
      "  self._warn_if_super_not_called()\n"
     ]
    },
    {
     "name": "stdout",
     "output_type": "stream",
     "text": [
      "\u001b[1m63/63\u001b[0m \u001b[32m━━━━━━━━━━━━━━━━━━━━\u001b[0m\u001b[37m\u001b[0m \u001b[1m16s\u001b[0m 249ms/step\n",
      "Found 4000 images belonging to 8 classes.\n"
     ]
    },
    {
     "name": "stderr",
     "output_type": "stream",
     "text": [
      "/home/saulolv/PIBIC/TinyML/.venv/lib/python3.12/site-packages/keras/src/trainers/data_adapters/py_dataset_adapter.py:121: UserWarning: Your `PyDataset` class should call `super().__init__(**kwargs)` in its constructor. `**kwargs` can include `workers`, `use_multiprocessing`, `max_queue_size`. Do not pass these arguments to `fit()`, as they will be ignored.\n",
      "  self._warn_if_super_not_called()\n"
     ]
    },
    {
     "name": "stdout",
     "output_type": "stream",
     "text": [
      "\u001b[1m63/63\u001b[0m \u001b[32m━━━━━━━━━━━━━━━━━━━━\u001b[0m\u001b[37m\u001b[0m \u001b[1m16s\u001b[0m 254ms/step\n",
      "Found 4000 images belonging to 8 classes.\n"
     ]
    },
    {
     "name": "stderr",
     "output_type": "stream",
     "text": [
      "/home/saulolv/PIBIC/TinyML/.venv/lib/python3.12/site-packages/keras/src/trainers/data_adapters/py_dataset_adapter.py:121: UserWarning: Your `PyDataset` class should call `super().__init__(**kwargs)` in its constructor. `**kwargs` can include `workers`, `use_multiprocessing`, `max_queue_size`. Do not pass these arguments to `fit()`, as they will be ignored.\n",
      "  self._warn_if_super_not_called()\n"
     ]
    },
    {
     "name": "stdout",
     "output_type": "stream",
     "text": [
      "\u001b[1m63/63\u001b[0m \u001b[32m━━━━━━━━━━━━━━━━━━━━\u001b[0m\u001b[37m\u001b[0m \u001b[1m16s\u001b[0m 255ms/step\n",
      "Found 4000 images belonging to 8 classes.\n"
     ]
    },
    {
     "name": "stderr",
     "output_type": "stream",
     "text": [
      "/home/saulolv/PIBIC/TinyML/.venv/lib/python3.12/site-packages/keras/src/trainers/data_adapters/py_dataset_adapter.py:121: UserWarning: Your `PyDataset` class should call `super().__init__(**kwargs)` in its constructor. `**kwargs` can include `workers`, `use_multiprocessing`, `max_queue_size`. Do not pass these arguments to `fit()`, as they will be ignored.\n",
      "  self._warn_if_super_not_called()\n"
     ]
    },
    {
     "name": "stdout",
     "output_type": "stream",
     "text": [
      "\u001b[1m63/63\u001b[0m \u001b[32m━━━━━━━━━━━━━━━━━━━━\u001b[0m\u001b[37m\u001b[0m \u001b[1m17s\u001b[0m 264ms/step\n",
      "Found 4000 images belonging to 8 classes.\n"
     ]
    },
    {
     "name": "stderr",
     "output_type": "stream",
     "text": [
      "/home/saulolv/PIBIC/TinyML/.venv/lib/python3.12/site-packages/keras/src/trainers/data_adapters/py_dataset_adapter.py:121: UserWarning: Your `PyDataset` class should call `super().__init__(**kwargs)` in its constructor. `**kwargs` can include `workers`, `use_multiprocessing`, `max_queue_size`. Do not pass these arguments to `fit()`, as they will be ignored.\n",
      "  self._warn_if_super_not_called()\n"
     ]
    },
    {
     "name": "stdout",
     "output_type": "stream",
     "text": [
      "\u001b[1m63/63\u001b[0m \u001b[32m━━━━━━━━━━━━━━━━━━━━\u001b[0m\u001b[37m\u001b[0m \u001b[1m16s\u001b[0m 253ms/step\n",
      "Found 4000 images belonging to 8 classes.\n"
     ]
    },
    {
     "name": "stderr",
     "output_type": "stream",
     "text": [
      "/home/saulolv/PIBIC/TinyML/.venv/lib/python3.12/site-packages/keras/src/trainers/data_adapters/py_dataset_adapter.py:121: UserWarning: Your `PyDataset` class should call `super().__init__(**kwargs)` in its constructor. `**kwargs` can include `workers`, `use_multiprocessing`, `max_queue_size`. Do not pass these arguments to `fit()`, as they will be ignored.\n",
      "  self._warn_if_super_not_called()\n"
     ]
    },
    {
     "name": "stdout",
     "output_type": "stream",
     "text": [
      "\u001b[1m63/63\u001b[0m \u001b[32m━━━━━━━━━━━━━━━━━━━━\u001b[0m\u001b[37m\u001b[0m \u001b[1m16s\u001b[0m 253ms/step\n",
      "Found 4000 images belonging to 8 classes.\n"
     ]
    },
    {
     "name": "stderr",
     "output_type": "stream",
     "text": [
      "/home/saulolv/PIBIC/TinyML/.venv/lib/python3.12/site-packages/keras/src/trainers/data_adapters/py_dataset_adapter.py:121: UserWarning: Your `PyDataset` class should call `super().__init__(**kwargs)` in its constructor. `**kwargs` can include `workers`, `use_multiprocessing`, `max_queue_size`. Do not pass these arguments to `fit()`, as they will be ignored.\n",
      "  self._warn_if_super_not_called()\n"
     ]
    },
    {
     "name": "stdout",
     "output_type": "stream",
     "text": [
      "\u001b[1m63/63\u001b[0m \u001b[32m━━━━━━━━━━━━━━━━━━━━\u001b[0m\u001b[37m\u001b[0m \u001b[1m17s\u001b[0m 268ms/step\n",
      "Found 4000 images belonging to 8 classes.\n"
     ]
    },
    {
     "name": "stderr",
     "output_type": "stream",
     "text": [
      "/home/saulolv/PIBIC/TinyML/.venv/lib/python3.12/site-packages/keras/src/trainers/data_adapters/py_dataset_adapter.py:121: UserWarning: Your `PyDataset` class should call `super().__init__(**kwargs)` in its constructor. `**kwargs` can include `workers`, `use_multiprocessing`, `max_queue_size`. Do not pass these arguments to `fit()`, as they will be ignored.\n",
      "  self._warn_if_super_not_called()\n"
     ]
    },
    {
     "name": "stdout",
     "output_type": "stream",
     "text": [
      "\u001b[1m63/63\u001b[0m \u001b[32m━━━━━━━━━━━━━━━━━━━━\u001b[0m\u001b[37m\u001b[0m \u001b[1m17s\u001b[0m 264ms/step\n",
      "Found 4000 images belonging to 8 classes.\n"
     ]
    },
    {
     "name": "stderr",
     "output_type": "stream",
     "text": [
      "/home/saulolv/PIBIC/TinyML/.venv/lib/python3.12/site-packages/keras/src/trainers/data_adapters/py_dataset_adapter.py:121: UserWarning: Your `PyDataset` class should call `super().__init__(**kwargs)` in its constructor. `**kwargs` can include `workers`, `use_multiprocessing`, `max_queue_size`. Do not pass these arguments to `fit()`, as they will be ignored.\n",
      "  self._warn_if_super_not_called()\n"
     ]
    },
    {
     "name": "stdout",
     "output_type": "stream",
     "text": [
      "\u001b[1m63/63\u001b[0m \u001b[32m━━━━━━━━━━━━━━━━━━━━\u001b[0m\u001b[37m\u001b[0m \u001b[1m17s\u001b[0m 271ms/step\n",
      "Found 4000 images belonging to 8 classes.\n"
     ]
    },
    {
     "name": "stderr",
     "output_type": "stream",
     "text": [
      "/home/saulolv/PIBIC/TinyML/.venv/lib/python3.12/site-packages/keras/src/trainers/data_adapters/py_dataset_adapter.py:121: UserWarning: Your `PyDataset` class should call `super().__init__(**kwargs)` in its constructor. `**kwargs` can include `workers`, `use_multiprocessing`, `max_queue_size`. Do not pass these arguments to `fit()`, as they will be ignored.\n",
      "  self._warn_if_super_not_called()\n"
     ]
    },
    {
     "name": "stdout",
     "output_type": "stream",
     "text": [
      "\u001b[1m63/63\u001b[0m \u001b[32m━━━━━━━━━━━━━━━━━━━━\u001b[0m\u001b[37m\u001b[0m \u001b[1m17s\u001b[0m 267ms/step\n",
      "Found 4000 images belonging to 8 classes.\n"
     ]
    },
    {
     "name": "stderr",
     "output_type": "stream",
     "text": [
      "/home/saulolv/PIBIC/TinyML/.venv/lib/python3.12/site-packages/keras/src/trainers/data_adapters/py_dataset_adapter.py:121: UserWarning: Your `PyDataset` class should call `super().__init__(**kwargs)` in its constructor. `**kwargs` can include `workers`, `use_multiprocessing`, `max_queue_size`. Do not pass these arguments to `fit()`, as they will be ignored.\n",
      "  self._warn_if_super_not_called()\n"
     ]
    },
    {
     "name": "stdout",
     "output_type": "stream",
     "text": [
      "\u001b[1m63/63\u001b[0m \u001b[32m━━━━━━━━━━━━━━━━━━━━\u001b[0m\u001b[37m\u001b[0m \u001b[1m18s\u001b[0m 280ms/step\n",
      "Found 4000 images belonging to 8 classes.\n"
     ]
    },
    {
     "name": "stderr",
     "output_type": "stream",
     "text": [
      "/home/saulolv/PIBIC/TinyML/.venv/lib/python3.12/site-packages/keras/src/trainers/data_adapters/py_dataset_adapter.py:121: UserWarning: Your `PyDataset` class should call `super().__init__(**kwargs)` in its constructor. `**kwargs` can include `workers`, `use_multiprocessing`, `max_queue_size`. Do not pass these arguments to `fit()`, as they will be ignored.\n",
      "  self._warn_if_super_not_called()\n"
     ]
    },
    {
     "name": "stdout",
     "output_type": "stream",
     "text": [
      "\u001b[1m63/63\u001b[0m \u001b[32m━━━━━━━━━━━━━━━━━━━━\u001b[0m\u001b[37m\u001b[0m \u001b[1m18s\u001b[0m 282ms/step\n",
      "Found 4000 images belonging to 8 classes.\n"
     ]
    },
    {
     "name": "stderr",
     "output_type": "stream",
     "text": [
      "/home/saulolv/PIBIC/TinyML/.venv/lib/python3.12/site-packages/keras/src/trainers/data_adapters/py_dataset_adapter.py:121: UserWarning: Your `PyDataset` class should call `super().__init__(**kwargs)` in its constructor. `**kwargs` can include `workers`, `use_multiprocessing`, `max_queue_size`. Do not pass these arguments to `fit()`, as they will be ignored.\n",
      "  self._warn_if_super_not_called()\n"
     ]
    },
    {
     "name": "stdout",
     "output_type": "stream",
     "text": [
      "\u001b[1m63/63\u001b[0m \u001b[32m━━━━━━━━━━━━━━━━━━━━\u001b[0m\u001b[37m\u001b[0m \u001b[1m17s\u001b[0m 273ms/step\n",
      "Found 4000 images belonging to 8 classes.\n"
     ]
    },
    {
     "name": "stderr",
     "output_type": "stream",
     "text": [
      "/home/saulolv/PIBIC/TinyML/.venv/lib/python3.12/site-packages/keras/src/trainers/data_adapters/py_dataset_adapter.py:121: UserWarning: Your `PyDataset` class should call `super().__init__(**kwargs)` in its constructor. `**kwargs` can include `workers`, `use_multiprocessing`, `max_queue_size`. Do not pass these arguments to `fit()`, as they will be ignored.\n",
      "  self._warn_if_super_not_called()\n"
     ]
    },
    {
     "name": "stdout",
     "output_type": "stream",
     "text": [
      "\u001b[1m63/63\u001b[0m \u001b[32m━━━━━━━━━━━━━━━━━━━━\u001b[0m\u001b[37m\u001b[0m \u001b[1m17s\u001b[0m 266ms/step\n",
      "Found 4000 images belonging to 8 classes.\n"
     ]
    },
    {
     "name": "stderr",
     "output_type": "stream",
     "text": [
      "/home/saulolv/PIBIC/TinyML/.venv/lib/python3.12/site-packages/keras/src/trainers/data_adapters/py_dataset_adapter.py:121: UserWarning: Your `PyDataset` class should call `super().__init__(**kwargs)` in its constructor. `**kwargs` can include `workers`, `use_multiprocessing`, `max_queue_size`. Do not pass these arguments to `fit()`, as they will be ignored.\n",
      "  self._warn_if_super_not_called()\n"
     ]
    },
    {
     "name": "stdout",
     "output_type": "stream",
     "text": [
      "\u001b[1m63/63\u001b[0m \u001b[32m━━━━━━━━━━━━━━━━━━━━\u001b[0m\u001b[37m\u001b[0m \u001b[1m17s\u001b[0m 269ms/step\n",
      "Found 4000 images belonging to 8 classes.\n"
     ]
    },
    {
     "name": "stderr",
     "output_type": "stream",
     "text": [
      "/home/saulolv/PIBIC/TinyML/.venv/lib/python3.12/site-packages/keras/src/trainers/data_adapters/py_dataset_adapter.py:121: UserWarning: Your `PyDataset` class should call `super().__init__(**kwargs)` in its constructor. `**kwargs` can include `workers`, `use_multiprocessing`, `max_queue_size`. Do not pass these arguments to `fit()`, as they will be ignored.\n",
      "  self._warn_if_super_not_called()\n"
     ]
    },
    {
     "name": "stdout",
     "output_type": "stream",
     "text": [
      "\u001b[1m63/63\u001b[0m \u001b[32m━━━━━━━━━━━━━━━━━━━━\u001b[0m\u001b[37m\u001b[0m \u001b[1m17s\u001b[0m 265ms/step\n",
      "Found 4000 images belonging to 8 classes.\n"
     ]
    },
    {
     "name": "stderr",
     "output_type": "stream",
     "text": [
      "/home/saulolv/PIBIC/TinyML/.venv/lib/python3.12/site-packages/keras/src/trainers/data_adapters/py_dataset_adapter.py:121: UserWarning: Your `PyDataset` class should call `super().__init__(**kwargs)` in its constructor. `**kwargs` can include `workers`, `use_multiprocessing`, `max_queue_size`. Do not pass these arguments to `fit()`, as they will be ignored.\n",
      "  self._warn_if_super_not_called()\n"
     ]
    },
    {
     "name": "stdout",
     "output_type": "stream",
     "text": [
      "\u001b[1m63/63\u001b[0m \u001b[32m━━━━━━━━━━━━━━━━━━━━\u001b[0m\u001b[37m\u001b[0m \u001b[1m17s\u001b[0m 271ms/step\n",
      "Found 4000 images belonging to 8 classes.\n"
     ]
    },
    {
     "name": "stderr",
     "output_type": "stream",
     "text": [
      "/home/saulolv/PIBIC/TinyML/.venv/lib/python3.12/site-packages/keras/src/trainers/data_adapters/py_dataset_adapter.py:121: UserWarning: Your `PyDataset` class should call `super().__init__(**kwargs)` in its constructor. `**kwargs` can include `workers`, `use_multiprocessing`, `max_queue_size`. Do not pass these arguments to `fit()`, as they will be ignored.\n",
      "  self._warn_if_super_not_called()\n"
     ]
    },
    {
     "name": "stdout",
     "output_type": "stream",
     "text": [
      "\u001b[1m63/63\u001b[0m \u001b[32m━━━━━━━━━━━━━━━━━━━━\u001b[0m\u001b[37m\u001b[0m \u001b[1m17s\u001b[0m 270ms/step\n",
      "Found 4000 images belonging to 8 classes.\n"
     ]
    },
    {
     "name": "stderr",
     "output_type": "stream",
     "text": [
      "/home/saulolv/PIBIC/TinyML/.venv/lib/python3.12/site-packages/keras/src/trainers/data_adapters/py_dataset_adapter.py:121: UserWarning: Your `PyDataset` class should call `super().__init__(**kwargs)` in its constructor. `**kwargs` can include `workers`, `use_multiprocessing`, `max_queue_size`. Do not pass these arguments to `fit()`, as they will be ignored.\n",
      "  self._warn_if_super_not_called()\n"
     ]
    },
    {
     "name": "stdout",
     "output_type": "stream",
     "text": [
      "\u001b[1m63/63\u001b[0m \u001b[32m━━━━━━━━━━━━━━━━━━━━\u001b[0m\u001b[37m\u001b[0m \u001b[1m17s\u001b[0m 274ms/step\n",
      "Found 4000 images belonging to 8 classes.\n"
     ]
    },
    {
     "name": "stderr",
     "output_type": "stream",
     "text": [
      "/home/saulolv/PIBIC/TinyML/.venv/lib/python3.12/site-packages/keras/src/trainers/data_adapters/py_dataset_adapter.py:121: UserWarning: Your `PyDataset` class should call `super().__init__(**kwargs)` in its constructor. `**kwargs` can include `workers`, `use_multiprocessing`, `max_queue_size`. Do not pass these arguments to `fit()`, as they will be ignored.\n",
      "  self._warn_if_super_not_called()\n"
     ]
    },
    {
     "name": "stdout",
     "output_type": "stream",
     "text": [
      "\u001b[1m63/63\u001b[0m \u001b[32m━━━━━━━━━━━━━━━━━━━━\u001b[0m\u001b[37m\u001b[0m \u001b[1m18s\u001b[0m 276ms/step\n",
      "Found 4000 images belonging to 8 classes.\n"
     ]
    },
    {
     "name": "stderr",
     "output_type": "stream",
     "text": [
      "/home/saulolv/PIBIC/TinyML/.venv/lib/python3.12/site-packages/keras/src/trainers/data_adapters/py_dataset_adapter.py:121: UserWarning: Your `PyDataset` class should call `super().__init__(**kwargs)` in its constructor. `**kwargs` can include `workers`, `use_multiprocessing`, `max_queue_size`. Do not pass these arguments to `fit()`, as they will be ignored.\n",
      "  self._warn_if_super_not_called()\n"
     ]
    },
    {
     "name": "stdout",
     "output_type": "stream",
     "text": [
      "\u001b[1m63/63\u001b[0m \u001b[32m━━━━━━━━━━━━━━━━━━━━\u001b[0m\u001b[37m\u001b[0m \u001b[1m18s\u001b[0m 283ms/step\n",
      "Found 4000 images belonging to 8 classes.\n"
     ]
    },
    {
     "name": "stderr",
     "output_type": "stream",
     "text": [
      "/home/saulolv/PIBIC/TinyML/.venv/lib/python3.12/site-packages/keras/src/trainers/data_adapters/py_dataset_adapter.py:121: UserWarning: Your `PyDataset` class should call `super().__init__(**kwargs)` in its constructor. `**kwargs` can include `workers`, `use_multiprocessing`, `max_queue_size`. Do not pass these arguments to `fit()`, as they will be ignored.\n",
      "  self._warn_if_super_not_called()\n"
     ]
    },
    {
     "name": "stdout",
     "output_type": "stream",
     "text": [
      "\u001b[1m63/63\u001b[0m \u001b[32m━━━━━━━━━━━━━━━━━━━━\u001b[0m\u001b[37m\u001b[0m \u001b[1m17s\u001b[0m 275ms/step\n",
      "Found 4000 images belonging to 8 classes.\n"
     ]
    },
    {
     "name": "stderr",
     "output_type": "stream",
     "text": [
      "/home/saulolv/PIBIC/TinyML/.venv/lib/python3.12/site-packages/keras/src/trainers/data_adapters/py_dataset_adapter.py:121: UserWarning: Your `PyDataset` class should call `super().__init__(**kwargs)` in its constructor. `**kwargs` can include `workers`, `use_multiprocessing`, `max_queue_size`. Do not pass these arguments to `fit()`, as they will be ignored.\n",
      "  self._warn_if_super_not_called()\n"
     ]
    },
    {
     "name": "stdout",
     "output_type": "stream",
     "text": [
      "\u001b[1m63/63\u001b[0m \u001b[32m━━━━━━━━━━━━━━━━━━━━\u001b[0m\u001b[37m\u001b[0m \u001b[1m17s\u001b[0m 275ms/step\n",
      "Found 4000 images belonging to 8 classes.\n"
     ]
    },
    {
     "name": "stderr",
     "output_type": "stream",
     "text": [
      "/home/saulolv/PIBIC/TinyML/.venv/lib/python3.12/site-packages/keras/src/trainers/data_adapters/py_dataset_adapter.py:121: UserWarning: Your `PyDataset` class should call `super().__init__(**kwargs)` in its constructor. `**kwargs` can include `workers`, `use_multiprocessing`, `max_queue_size`. Do not pass these arguments to `fit()`, as they will be ignored.\n",
      "  self._warn_if_super_not_called()\n"
     ]
    },
    {
     "name": "stdout",
     "output_type": "stream",
     "text": [
      "\u001b[1m63/63\u001b[0m \u001b[32m━━━━━━━━━━━━━━━━━━━━\u001b[0m\u001b[37m\u001b[0m \u001b[1m18s\u001b[0m 277ms/step\n",
      "Found 4000 images belonging to 8 classes.\n"
     ]
    },
    {
     "name": "stderr",
     "output_type": "stream",
     "text": [
      "/home/saulolv/PIBIC/TinyML/.venv/lib/python3.12/site-packages/keras/src/trainers/data_adapters/py_dataset_adapter.py:121: UserWarning: Your `PyDataset` class should call `super().__init__(**kwargs)` in its constructor. `**kwargs` can include `workers`, `use_multiprocessing`, `max_queue_size`. Do not pass these arguments to `fit()`, as they will be ignored.\n",
      "  self._warn_if_super_not_called()\n"
     ]
    },
    {
     "name": "stdout",
     "output_type": "stream",
     "text": [
      "\u001b[1m63/63\u001b[0m \u001b[32m━━━━━━━━━━━━━━━━━━━━\u001b[0m\u001b[37m\u001b[0m \u001b[1m18s\u001b[0m 282ms/step\n",
      "Found 4000 images belonging to 8 classes.\n"
     ]
    },
    {
     "name": "stderr",
     "output_type": "stream",
     "text": [
      "/home/saulolv/PIBIC/TinyML/.venv/lib/python3.12/site-packages/keras/src/trainers/data_adapters/py_dataset_adapter.py:121: UserWarning: Your `PyDataset` class should call `super().__init__(**kwargs)` in its constructor. `**kwargs` can include `workers`, `use_multiprocessing`, `max_queue_size`. Do not pass these arguments to `fit()`, as they will be ignored.\n",
      "  self._warn_if_super_not_called()\n"
     ]
    },
    {
     "name": "stdout",
     "output_type": "stream",
     "text": [
      "\u001b[1m63/63\u001b[0m \u001b[32m━━━━━━━━━━━━━━━━━━━━\u001b[0m\u001b[37m\u001b[0m \u001b[1m17s\u001b[0m 275ms/step\n",
      "Found 4000 images belonging to 8 classes.\n"
     ]
    },
    {
     "name": "stderr",
     "output_type": "stream",
     "text": [
      "/home/saulolv/PIBIC/TinyML/.venv/lib/python3.12/site-packages/keras/src/trainers/data_adapters/py_dataset_adapter.py:121: UserWarning: Your `PyDataset` class should call `super().__init__(**kwargs)` in its constructor. `**kwargs` can include `workers`, `use_multiprocessing`, `max_queue_size`. Do not pass these arguments to `fit()`, as they will be ignored.\n",
      "  self._warn_if_super_not_called()\n"
     ]
    },
    {
     "name": "stdout",
     "output_type": "stream",
     "text": [
      "\u001b[1m63/63\u001b[0m \u001b[32m━━━━━━━━━━━━━━━━━━━━\u001b[0m\u001b[37m\u001b[0m \u001b[1m17s\u001b[0m 268ms/step\n",
      "Found 4000 images belonging to 8 classes.\n"
     ]
    },
    {
     "name": "stderr",
     "output_type": "stream",
     "text": [
      "/home/saulolv/PIBIC/TinyML/.venv/lib/python3.12/site-packages/keras/src/trainers/data_adapters/py_dataset_adapter.py:121: UserWarning: Your `PyDataset` class should call `super().__init__(**kwargs)` in its constructor. `**kwargs` can include `workers`, `use_multiprocessing`, `max_queue_size`. Do not pass these arguments to `fit()`, as they will be ignored.\n",
      "  self._warn_if_super_not_called()\n"
     ]
    },
    {
     "name": "stdout",
     "output_type": "stream",
     "text": [
      "\u001b[1m63/63\u001b[0m \u001b[32m━━━━━━━━━━━━━━━━━━━━\u001b[0m\u001b[37m\u001b[0m \u001b[1m18s\u001b[0m 279ms/step\n",
      "Found 4000 images belonging to 8 classes.\n"
     ]
    },
    {
     "name": "stderr",
     "output_type": "stream",
     "text": [
      "/home/saulolv/PIBIC/TinyML/.venv/lib/python3.12/site-packages/keras/src/trainers/data_adapters/py_dataset_adapter.py:121: UserWarning: Your `PyDataset` class should call `super().__init__(**kwargs)` in its constructor. `**kwargs` can include `workers`, `use_multiprocessing`, `max_queue_size`. Do not pass these arguments to `fit()`, as they will be ignored.\n",
      "  self._warn_if_super_not_called()\n"
     ]
    },
    {
     "name": "stdout",
     "output_type": "stream",
     "text": [
      "\u001b[1m63/63\u001b[0m \u001b[32m━━━━━━━━━━━━━━━━━━━━\u001b[0m\u001b[37m\u001b[0m \u001b[1m19s\u001b[0m 296ms/step\n",
      "Found 4000 images belonging to 8 classes.\n"
     ]
    },
    {
     "name": "stderr",
     "output_type": "stream",
     "text": [
      "/home/saulolv/PIBIC/TinyML/.venv/lib/python3.12/site-packages/keras/src/trainers/data_adapters/py_dataset_adapter.py:121: UserWarning: Your `PyDataset` class should call `super().__init__(**kwargs)` in its constructor. `**kwargs` can include `workers`, `use_multiprocessing`, `max_queue_size`. Do not pass these arguments to `fit()`, as they will be ignored.\n",
      "  self._warn_if_super_not_called()\n"
     ]
    },
    {
     "name": "stdout",
     "output_type": "stream",
     "text": [
      "\u001b[1m63/63\u001b[0m \u001b[32m━━━━━━━━━━━━━━━━━━━━\u001b[0m\u001b[37m\u001b[0m \u001b[1m18s\u001b[0m 287ms/step\n",
      "Found 4000 images belonging to 8 classes.\n"
     ]
    },
    {
     "name": "stderr",
     "output_type": "stream",
     "text": [
      "/home/saulolv/PIBIC/TinyML/.venv/lib/python3.12/site-packages/keras/src/trainers/data_adapters/py_dataset_adapter.py:121: UserWarning: Your `PyDataset` class should call `super().__init__(**kwargs)` in its constructor. `**kwargs` can include `workers`, `use_multiprocessing`, `max_queue_size`. Do not pass these arguments to `fit()`, as they will be ignored.\n",
      "  self._warn_if_super_not_called()\n"
     ]
    },
    {
     "name": "stdout",
     "output_type": "stream",
     "text": [
      "\u001b[1m63/63\u001b[0m \u001b[32m━━━━━━━━━━━━━━━━━━━━\u001b[0m\u001b[37m\u001b[0m \u001b[1m18s\u001b[0m 292ms/step\n",
      "Found 4000 images belonging to 8 classes.\n"
     ]
    },
    {
     "name": "stderr",
     "output_type": "stream",
     "text": [
      "/home/saulolv/PIBIC/TinyML/.venv/lib/python3.12/site-packages/keras/src/trainers/data_adapters/py_dataset_adapter.py:121: UserWarning: Your `PyDataset` class should call `super().__init__(**kwargs)` in its constructor. `**kwargs` can include `workers`, `use_multiprocessing`, `max_queue_size`. Do not pass these arguments to `fit()`, as they will be ignored.\n",
      "  self._warn_if_super_not_called()\n"
     ]
    },
    {
     "name": "stdout",
     "output_type": "stream",
     "text": [
      "\u001b[1m63/63\u001b[0m \u001b[32m━━━━━━━━━━━━━━━━━━━━\u001b[0m\u001b[37m\u001b[0m \u001b[1m17s\u001b[0m 274ms/step\n",
      "Found 4000 images belonging to 8 classes.\n"
     ]
    },
    {
     "name": "stderr",
     "output_type": "stream",
     "text": [
      "/home/saulolv/PIBIC/TinyML/.venv/lib/python3.12/site-packages/keras/src/trainers/data_adapters/py_dataset_adapter.py:121: UserWarning: Your `PyDataset` class should call `super().__init__(**kwargs)` in its constructor. `**kwargs` can include `workers`, `use_multiprocessing`, `max_queue_size`. Do not pass these arguments to `fit()`, as they will be ignored.\n",
      "  self._warn_if_super_not_called()\n"
     ]
    },
    {
     "name": "stdout",
     "output_type": "stream",
     "text": [
      "\u001b[1m63/63\u001b[0m \u001b[32m━━━━━━━━━━━━━━━━━━━━\u001b[0m\u001b[37m\u001b[0m \u001b[1m17s\u001b[0m 268ms/step\n",
      "Found 4000 images belonging to 8 classes.\n"
     ]
    },
    {
     "name": "stderr",
     "output_type": "stream",
     "text": [
      "/home/saulolv/PIBIC/TinyML/.venv/lib/python3.12/site-packages/keras/src/trainers/data_adapters/py_dataset_adapter.py:121: UserWarning: Your `PyDataset` class should call `super().__init__(**kwargs)` in its constructor. `**kwargs` can include `workers`, `use_multiprocessing`, `max_queue_size`. Do not pass these arguments to `fit()`, as they will be ignored.\n",
      "  self._warn_if_super_not_called()\n"
     ]
    },
    {
     "name": "stdout",
     "output_type": "stream",
     "text": [
      "\u001b[1m63/63\u001b[0m \u001b[32m━━━━━━━━━━━━━━━━━━━━\u001b[0m\u001b[37m\u001b[0m \u001b[1m17s\u001b[0m 264ms/step\n",
      "Found 4000 images belonging to 8 classes.\n"
     ]
    },
    {
     "name": "stderr",
     "output_type": "stream",
     "text": [
      "/home/saulolv/PIBIC/TinyML/.venv/lib/python3.12/site-packages/keras/src/trainers/data_adapters/py_dataset_adapter.py:121: UserWarning: Your `PyDataset` class should call `super().__init__(**kwargs)` in its constructor. `**kwargs` can include `workers`, `use_multiprocessing`, `max_queue_size`. Do not pass these arguments to `fit()`, as they will be ignored.\n",
      "  self._warn_if_super_not_called()\n"
     ]
    },
    {
     "name": "stdout",
     "output_type": "stream",
     "text": [
      "\u001b[1m63/63\u001b[0m \u001b[32m━━━━━━━━━━━━━━━━━━━━\u001b[0m\u001b[37m\u001b[0m \u001b[1m16s\u001b[0m 257ms/step\n",
      "Found 4000 images belonging to 8 classes.\n"
     ]
    },
    {
     "name": "stderr",
     "output_type": "stream",
     "text": [
      "/home/saulolv/PIBIC/TinyML/.venv/lib/python3.12/site-packages/keras/src/trainers/data_adapters/py_dataset_adapter.py:121: UserWarning: Your `PyDataset` class should call `super().__init__(**kwargs)` in its constructor. `**kwargs` can include `workers`, `use_multiprocessing`, `max_queue_size`. Do not pass these arguments to `fit()`, as they will be ignored.\n",
      "  self._warn_if_super_not_called()\n"
     ]
    },
    {
     "name": "stdout",
     "output_type": "stream",
     "text": [
      "\u001b[1m63/63\u001b[0m \u001b[32m━━━━━━━━━━━━━━━━━━━━\u001b[0m\u001b[37m\u001b[0m \u001b[1m17s\u001b[0m 262ms/step\n",
      "Found 4000 images belonging to 8 classes.\n"
     ]
    },
    {
     "name": "stderr",
     "output_type": "stream",
     "text": [
      "/home/saulolv/PIBIC/TinyML/.venv/lib/python3.12/site-packages/keras/src/trainers/data_adapters/py_dataset_adapter.py:121: UserWarning: Your `PyDataset` class should call `super().__init__(**kwargs)` in its constructor. `**kwargs` can include `workers`, `use_multiprocessing`, `max_queue_size`. Do not pass these arguments to `fit()`, as they will be ignored.\n",
      "  self._warn_if_super_not_called()\n"
     ]
    },
    {
     "name": "stdout",
     "output_type": "stream",
     "text": [
      "\u001b[1m63/63\u001b[0m \u001b[32m━━━━━━━━━━━━━━━━━━━━\u001b[0m\u001b[37m\u001b[0m \u001b[1m16s\u001b[0m 258ms/step\n",
      "Found 4000 images belonging to 8 classes.\n"
     ]
    },
    {
     "name": "stderr",
     "output_type": "stream",
     "text": [
      "/home/saulolv/PIBIC/TinyML/.venv/lib/python3.12/site-packages/keras/src/trainers/data_adapters/py_dataset_adapter.py:121: UserWarning: Your `PyDataset` class should call `super().__init__(**kwargs)` in its constructor. `**kwargs` can include `workers`, `use_multiprocessing`, `max_queue_size`. Do not pass these arguments to `fit()`, as they will be ignored.\n",
      "  self._warn_if_super_not_called()\n"
     ]
    },
    {
     "name": "stdout",
     "output_type": "stream",
     "text": [
      "\u001b[1m63/63\u001b[0m \u001b[32m━━━━━━━━━━━━━━━━━━━━\u001b[0m\u001b[37m\u001b[0m \u001b[1m17s\u001b[0m 267ms/step\n",
      "Found 4000 images belonging to 8 classes.\n"
     ]
    },
    {
     "name": "stderr",
     "output_type": "stream",
     "text": [
      "/home/saulolv/PIBIC/TinyML/.venv/lib/python3.12/site-packages/keras/src/trainers/data_adapters/py_dataset_adapter.py:121: UserWarning: Your `PyDataset` class should call `super().__init__(**kwargs)` in its constructor. `**kwargs` can include `workers`, `use_multiprocessing`, `max_queue_size`. Do not pass these arguments to `fit()`, as they will be ignored.\n",
      "  self._warn_if_super_not_called()\n"
     ]
    },
    {
     "name": "stdout",
     "output_type": "stream",
     "text": [
      "\u001b[1m63/63\u001b[0m \u001b[32m━━━━━━━━━━━━━━━━━━━━\u001b[0m\u001b[37m\u001b[0m \u001b[1m17s\u001b[0m 265ms/step\n",
      "Found 4000 images belonging to 8 classes.\n"
     ]
    },
    {
     "name": "stderr",
     "output_type": "stream",
     "text": [
      "/home/saulolv/PIBIC/TinyML/.venv/lib/python3.12/site-packages/keras/src/trainers/data_adapters/py_dataset_adapter.py:121: UserWarning: Your `PyDataset` class should call `super().__init__(**kwargs)` in its constructor. `**kwargs` can include `workers`, `use_multiprocessing`, `max_queue_size`. Do not pass these arguments to `fit()`, as they will be ignored.\n",
      "  self._warn_if_super_not_called()\n"
     ]
    },
    {
     "name": "stdout",
     "output_type": "stream",
     "text": [
      "\u001b[1m63/63\u001b[0m \u001b[32m━━━━━━━━━━━━━━━━━━━━\u001b[0m\u001b[37m\u001b[0m \u001b[1m17s\u001b[0m 263ms/step\n",
      "Found 4000 images belonging to 8 classes.\n"
     ]
    },
    {
     "name": "stderr",
     "output_type": "stream",
     "text": [
      "/home/saulolv/PIBIC/TinyML/.venv/lib/python3.12/site-packages/keras/src/trainers/data_adapters/py_dataset_adapter.py:121: UserWarning: Your `PyDataset` class should call `super().__init__(**kwargs)` in its constructor. `**kwargs` can include `workers`, `use_multiprocessing`, `max_queue_size`. Do not pass these arguments to `fit()`, as they will be ignored.\n",
      "  self._warn_if_super_not_called()\n"
     ]
    },
    {
     "name": "stdout",
     "output_type": "stream",
     "text": [
      "\u001b[1m63/63\u001b[0m \u001b[32m━━━━━━━━━━━━━━━━━━━━\u001b[0m\u001b[37m\u001b[0m \u001b[1m17s\u001b[0m 269ms/step\n",
      "Found 4000 images belonging to 8 classes.\n"
     ]
    },
    {
     "name": "stderr",
     "output_type": "stream",
     "text": [
      "/home/saulolv/PIBIC/TinyML/.venv/lib/python3.12/site-packages/keras/src/trainers/data_adapters/py_dataset_adapter.py:121: UserWarning: Your `PyDataset` class should call `super().__init__(**kwargs)` in its constructor. `**kwargs` can include `workers`, `use_multiprocessing`, `max_queue_size`. Do not pass these arguments to `fit()`, as they will be ignored.\n",
      "  self._warn_if_super_not_called()\n"
     ]
    },
    {
     "name": "stdout",
     "output_type": "stream",
     "text": [
      "\u001b[1m63/63\u001b[0m \u001b[32m━━━━━━━━━━━━━━━━━━━━\u001b[0m\u001b[37m\u001b[0m \u001b[1m18s\u001b[0m 278ms/step\n",
      "Found 4000 images belonging to 8 classes.\n"
     ]
    },
    {
     "name": "stderr",
     "output_type": "stream",
     "text": [
      "/home/saulolv/PIBIC/TinyML/.venv/lib/python3.12/site-packages/keras/src/trainers/data_adapters/py_dataset_adapter.py:121: UserWarning: Your `PyDataset` class should call `super().__init__(**kwargs)` in its constructor. `**kwargs` can include `workers`, `use_multiprocessing`, `max_queue_size`. Do not pass these arguments to `fit()`, as they will be ignored.\n",
      "  self._warn_if_super_not_called()\n"
     ]
    },
    {
     "name": "stdout",
     "output_type": "stream",
     "text": [
      "\u001b[1m63/63\u001b[0m \u001b[32m━━━━━━━━━━━━━━━━━━━━\u001b[0m\u001b[37m\u001b[0m \u001b[1m17s\u001b[0m 267ms/step\n",
      "Found 4000 images belonging to 8 classes.\n"
     ]
    },
    {
     "name": "stderr",
     "output_type": "stream",
     "text": [
      "/home/saulolv/PIBIC/TinyML/.venv/lib/python3.12/site-packages/keras/src/trainers/data_adapters/py_dataset_adapter.py:121: UserWarning: Your `PyDataset` class should call `super().__init__(**kwargs)` in its constructor. `**kwargs` can include `workers`, `use_multiprocessing`, `max_queue_size`. Do not pass these arguments to `fit()`, as they will be ignored.\n",
      "  self._warn_if_super_not_called()\n"
     ]
    },
    {
     "name": "stdout",
     "output_type": "stream",
     "text": [
      "\u001b[1m63/63\u001b[0m \u001b[32m━━━━━━━━━━━━━━━━━━━━\u001b[0m\u001b[37m\u001b[0m \u001b[1m15s\u001b[0m 243ms/step\n",
      "Found 4000 images belonging to 8 classes.\n"
     ]
    },
    {
     "name": "stderr",
     "output_type": "stream",
     "text": [
      "/home/saulolv/PIBIC/TinyML/.venv/lib/python3.12/site-packages/keras/src/trainers/data_adapters/py_dataset_adapter.py:121: UserWarning: Your `PyDataset` class should call `super().__init__(**kwargs)` in its constructor. `**kwargs` can include `workers`, `use_multiprocessing`, `max_queue_size`. Do not pass these arguments to `fit()`, as they will be ignored.\n",
      "  self._warn_if_super_not_called()\n"
     ]
    },
    {
     "name": "stdout",
     "output_type": "stream",
     "text": [
      "\u001b[1m63/63\u001b[0m \u001b[32m━━━━━━━━━━━━━━━━━━━━\u001b[0m\u001b[37m\u001b[0m \u001b[1m15s\u001b[0m 233ms/step\n",
      "Found 4000 images belonging to 8 classes.\n"
     ]
    },
    {
     "name": "stderr",
     "output_type": "stream",
     "text": [
      "/home/saulolv/PIBIC/TinyML/.venv/lib/python3.12/site-packages/keras/src/trainers/data_adapters/py_dataset_adapter.py:121: UserWarning: Your `PyDataset` class should call `super().__init__(**kwargs)` in its constructor. `**kwargs` can include `workers`, `use_multiprocessing`, `max_queue_size`. Do not pass these arguments to `fit()`, as they will be ignored.\n",
      "  self._warn_if_super_not_called()\n"
     ]
    },
    {
     "name": "stdout",
     "output_type": "stream",
     "text": [
      "\u001b[1m63/63\u001b[0m \u001b[32m━━━━━━━━━━━━━━━━━━━━\u001b[0m\u001b[37m\u001b[0m \u001b[1m15s\u001b[0m 232ms/step\n",
      "Found 4000 images belonging to 8 classes.\n"
     ]
    },
    {
     "name": "stderr",
     "output_type": "stream",
     "text": [
      "/home/saulolv/PIBIC/TinyML/.venv/lib/python3.12/site-packages/keras/src/trainers/data_adapters/py_dataset_adapter.py:121: UserWarning: Your `PyDataset` class should call `super().__init__(**kwargs)` in its constructor. `**kwargs` can include `workers`, `use_multiprocessing`, `max_queue_size`. Do not pass these arguments to `fit()`, as they will be ignored.\n",
      "  self._warn_if_super_not_called()\n"
     ]
    },
    {
     "name": "stdout",
     "output_type": "stream",
     "text": [
      "\u001b[1m63/63\u001b[0m \u001b[32m━━━━━━━━━━━━━━━━━━━━\u001b[0m\u001b[37m\u001b[0m \u001b[1m16s\u001b[0m 252ms/step\n",
      "Found 4000 images belonging to 8 classes.\n"
     ]
    },
    {
     "name": "stderr",
     "output_type": "stream",
     "text": [
      "/home/saulolv/PIBIC/TinyML/.venv/lib/python3.12/site-packages/keras/src/trainers/data_adapters/py_dataset_adapter.py:121: UserWarning: Your `PyDataset` class should call `super().__init__(**kwargs)` in its constructor. `**kwargs` can include `workers`, `use_multiprocessing`, `max_queue_size`. Do not pass these arguments to `fit()`, as they will be ignored.\n",
      "  self._warn_if_super_not_called()\n"
     ]
    },
    {
     "name": "stdout",
     "output_type": "stream",
     "text": [
      "\u001b[1m63/63\u001b[0m \u001b[32m━━━━━━━━━━━━━━━━━━━━\u001b[0m\u001b[37m\u001b[0m \u001b[1m19s\u001b[0m 302ms/step\n",
      "Found 4000 images belonging to 8 classes.\n"
     ]
    },
    {
     "name": "stderr",
     "output_type": "stream",
     "text": [
      "/home/saulolv/PIBIC/TinyML/.venv/lib/python3.12/site-packages/keras/src/trainers/data_adapters/py_dataset_adapter.py:121: UserWarning: Your `PyDataset` class should call `super().__init__(**kwargs)` in its constructor. `**kwargs` can include `workers`, `use_multiprocessing`, `max_queue_size`. Do not pass these arguments to `fit()`, as they will be ignored.\n",
      "  self._warn_if_super_not_called()\n"
     ]
    },
    {
     "name": "stdout",
     "output_type": "stream",
     "text": [
      "\u001b[1m63/63\u001b[0m \u001b[32m━━━━━━━━━━━━━━━━━━━━\u001b[0m\u001b[37m\u001b[0m \u001b[1m17s\u001b[0m 275ms/step\n",
      "Found 4000 images belonging to 8 classes.\n"
     ]
    },
    {
     "name": "stderr",
     "output_type": "stream",
     "text": [
      "/home/saulolv/PIBIC/TinyML/.venv/lib/python3.12/site-packages/keras/src/trainers/data_adapters/py_dataset_adapter.py:121: UserWarning: Your `PyDataset` class should call `super().__init__(**kwargs)` in its constructor. `**kwargs` can include `workers`, `use_multiprocessing`, `max_queue_size`. Do not pass these arguments to `fit()`, as they will be ignored.\n",
      "  self._warn_if_super_not_called()\n"
     ]
    },
    {
     "name": "stdout",
     "output_type": "stream",
     "text": [
      "\u001b[1m63/63\u001b[0m \u001b[32m━━━━━━━━━━━━━━━━━━━━\u001b[0m\u001b[37m\u001b[0m \u001b[1m17s\u001b[0m 264ms/step\n",
      "Found 4000 images belonging to 8 classes.\n"
     ]
    },
    {
     "name": "stderr",
     "output_type": "stream",
     "text": [
      "/home/saulolv/PIBIC/TinyML/.venv/lib/python3.12/site-packages/keras/src/trainers/data_adapters/py_dataset_adapter.py:121: UserWarning: Your `PyDataset` class should call `super().__init__(**kwargs)` in its constructor. `**kwargs` can include `workers`, `use_multiprocessing`, `max_queue_size`. Do not pass these arguments to `fit()`, as they will be ignored.\n",
      "  self._warn_if_super_not_called()\n"
     ]
    },
    {
     "name": "stdout",
     "output_type": "stream",
     "text": [
      "\u001b[1m63/63\u001b[0m \u001b[32m━━━━━━━━━━━━━━━━━━━━\u001b[0m\u001b[37m\u001b[0m \u001b[1m18s\u001b[0m 281ms/step\n",
      "Found 4000 images belonging to 8 classes.\n"
     ]
    },
    {
     "name": "stderr",
     "output_type": "stream",
     "text": [
      "/home/saulolv/PIBIC/TinyML/.venv/lib/python3.12/site-packages/keras/src/trainers/data_adapters/py_dataset_adapter.py:121: UserWarning: Your `PyDataset` class should call `super().__init__(**kwargs)` in its constructor. `**kwargs` can include `workers`, `use_multiprocessing`, `max_queue_size`. Do not pass these arguments to `fit()`, as they will be ignored.\n",
      "  self._warn_if_super_not_called()\n"
     ]
    },
    {
     "name": "stdout",
     "output_type": "stream",
     "text": [
      "\u001b[1m63/63\u001b[0m \u001b[32m━━━━━━━━━━━━━━━━━━━━\u001b[0m\u001b[37m\u001b[0m \u001b[1m17s\u001b[0m 264ms/step\n",
      "Found 4000 images belonging to 8 classes.\n"
     ]
    },
    {
     "name": "stderr",
     "output_type": "stream",
     "text": [
      "/home/saulolv/PIBIC/TinyML/.venv/lib/python3.12/site-packages/keras/src/trainers/data_adapters/py_dataset_adapter.py:121: UserWarning: Your `PyDataset` class should call `super().__init__(**kwargs)` in its constructor. `**kwargs` can include `workers`, `use_multiprocessing`, `max_queue_size`. Do not pass these arguments to `fit()`, as they will be ignored.\n",
      "  self._warn_if_super_not_called()\n"
     ]
    },
    {
     "name": "stdout",
     "output_type": "stream",
     "text": [
      "\u001b[1m63/63\u001b[0m \u001b[32m━━━━━━━━━━━━━━━━━━━━\u001b[0m\u001b[37m\u001b[0m \u001b[1m17s\u001b[0m 271ms/step\n",
      "Found 4000 images belonging to 8 classes.\n"
     ]
    },
    {
     "name": "stderr",
     "output_type": "stream",
     "text": [
      "/home/saulolv/PIBIC/TinyML/.venv/lib/python3.12/site-packages/keras/src/trainers/data_adapters/py_dataset_adapter.py:121: UserWarning: Your `PyDataset` class should call `super().__init__(**kwargs)` in its constructor. `**kwargs` can include `workers`, `use_multiprocessing`, `max_queue_size`. Do not pass these arguments to `fit()`, as they will be ignored.\n",
      "  self._warn_if_super_not_called()\n"
     ]
    },
    {
     "name": "stdout",
     "output_type": "stream",
     "text": [
      "\u001b[1m63/63\u001b[0m \u001b[32m━━━━━━━━━━━━━━━━━━━━\u001b[0m\u001b[37m\u001b[0m \u001b[1m17s\u001b[0m 273ms/step\n",
      "Found 4000 images belonging to 8 classes.\n"
     ]
    },
    {
     "name": "stderr",
     "output_type": "stream",
     "text": [
      "/home/saulolv/PIBIC/TinyML/.venv/lib/python3.12/site-packages/keras/src/trainers/data_adapters/py_dataset_adapter.py:121: UserWarning: Your `PyDataset` class should call `super().__init__(**kwargs)` in its constructor. `**kwargs` can include `workers`, `use_multiprocessing`, `max_queue_size`. Do not pass these arguments to `fit()`, as they will be ignored.\n",
      "  self._warn_if_super_not_called()\n"
     ]
    },
    {
     "name": "stdout",
     "output_type": "stream",
     "text": [
      "\u001b[1m63/63\u001b[0m \u001b[32m━━━━━━━━━━━━━━━━━━━━\u001b[0m\u001b[37m\u001b[0m \u001b[1m17s\u001b[0m 268ms/step\n",
      "Found 4000 images belonging to 8 classes.\n"
     ]
    },
    {
     "name": "stderr",
     "output_type": "stream",
     "text": [
      "/home/saulolv/PIBIC/TinyML/.venv/lib/python3.12/site-packages/keras/src/trainers/data_adapters/py_dataset_adapter.py:121: UserWarning: Your `PyDataset` class should call `super().__init__(**kwargs)` in its constructor. `**kwargs` can include `workers`, `use_multiprocessing`, `max_queue_size`. Do not pass these arguments to `fit()`, as they will be ignored.\n",
      "  self._warn_if_super_not_called()\n"
     ]
    },
    {
     "name": "stdout",
     "output_type": "stream",
     "text": [
      "\u001b[1m63/63\u001b[0m \u001b[32m━━━━━━━━━━━━━━━━━━━━\u001b[0m\u001b[37m\u001b[0m \u001b[1m17s\u001b[0m 265ms/step\n",
      "Found 4000 images belonging to 8 classes.\n"
     ]
    },
    {
     "name": "stderr",
     "output_type": "stream",
     "text": [
      "/home/saulolv/PIBIC/TinyML/.venv/lib/python3.12/site-packages/keras/src/trainers/data_adapters/py_dataset_adapter.py:121: UserWarning: Your `PyDataset` class should call `super().__init__(**kwargs)` in its constructor. `**kwargs` can include `workers`, `use_multiprocessing`, `max_queue_size`. Do not pass these arguments to `fit()`, as they will be ignored.\n",
      "  self._warn_if_super_not_called()\n"
     ]
    },
    {
     "name": "stdout",
     "output_type": "stream",
     "text": [
      "\u001b[1m63/63\u001b[0m \u001b[32m━━━━━━━━━━━━━━━━━━━━\u001b[0m\u001b[37m\u001b[0m \u001b[1m17s\u001b[0m 266ms/step\n",
      "Found 4000 images belonging to 8 classes.\n"
     ]
    },
    {
     "name": "stderr",
     "output_type": "stream",
     "text": [
      "/home/saulolv/PIBIC/TinyML/.venv/lib/python3.12/site-packages/keras/src/trainers/data_adapters/py_dataset_adapter.py:121: UserWarning: Your `PyDataset` class should call `super().__init__(**kwargs)` in its constructor. `**kwargs` can include `workers`, `use_multiprocessing`, `max_queue_size`. Do not pass these arguments to `fit()`, as they will be ignored.\n",
      "  self._warn_if_super_not_called()\n"
     ]
    },
    {
     "name": "stdout",
     "output_type": "stream",
     "text": [
      "\u001b[1m63/63\u001b[0m \u001b[32m━━━━━━━━━━━━━━━━━━━━\u001b[0m\u001b[37m\u001b[0m \u001b[1m16s\u001b[0m 257ms/step\n",
      "Found 4000 images belonging to 8 classes.\n"
     ]
    },
    {
     "name": "stderr",
     "output_type": "stream",
     "text": [
      "/home/saulolv/PIBIC/TinyML/.venv/lib/python3.12/site-packages/keras/src/trainers/data_adapters/py_dataset_adapter.py:121: UserWarning: Your `PyDataset` class should call `super().__init__(**kwargs)` in its constructor. `**kwargs` can include `workers`, `use_multiprocessing`, `max_queue_size`. Do not pass these arguments to `fit()`, as they will be ignored.\n",
      "  self._warn_if_super_not_called()\n"
     ]
    },
    {
     "name": "stdout",
     "output_type": "stream",
     "text": [
      "\u001b[1m63/63\u001b[0m \u001b[32m━━━━━━━━━━━━━━━━━━━━\u001b[0m\u001b[37m\u001b[0m \u001b[1m17s\u001b[0m 262ms/step\n",
      "Found 4000 images belonging to 8 classes.\n"
     ]
    },
    {
     "name": "stderr",
     "output_type": "stream",
     "text": [
      "/home/saulolv/PIBIC/TinyML/.venv/lib/python3.12/site-packages/keras/src/trainers/data_adapters/py_dataset_adapter.py:121: UserWarning: Your `PyDataset` class should call `super().__init__(**kwargs)` in its constructor. `**kwargs` can include `workers`, `use_multiprocessing`, `max_queue_size`. Do not pass these arguments to `fit()`, as they will be ignored.\n",
      "  self._warn_if_super_not_called()\n"
     ]
    },
    {
     "name": "stdout",
     "output_type": "stream",
     "text": [
      "\u001b[1m63/63\u001b[0m \u001b[32m━━━━━━━━━━━━━━━━━━━━\u001b[0m\u001b[37m\u001b[0m \u001b[1m16s\u001b[0m 258ms/step\n",
      "Found 4000 images belonging to 8 classes.\n"
     ]
    },
    {
     "name": "stderr",
     "output_type": "stream",
     "text": [
      "/home/saulolv/PIBIC/TinyML/.venv/lib/python3.12/site-packages/keras/src/trainers/data_adapters/py_dataset_adapter.py:121: UserWarning: Your `PyDataset` class should call `super().__init__(**kwargs)` in its constructor. `**kwargs` can include `workers`, `use_multiprocessing`, `max_queue_size`. Do not pass these arguments to `fit()`, as they will be ignored.\n",
      "  self._warn_if_super_not_called()\n"
     ]
    },
    {
     "name": "stdout",
     "output_type": "stream",
     "text": [
      "\u001b[1m63/63\u001b[0m \u001b[32m━━━━━━━━━━━━━━━━━━━━\u001b[0m\u001b[37m\u001b[0m \u001b[1m16s\u001b[0m 250ms/step\n",
      "Found 4000 images belonging to 8 classes.\n"
     ]
    },
    {
     "name": "stderr",
     "output_type": "stream",
     "text": [
      "/home/saulolv/PIBIC/TinyML/.venv/lib/python3.12/site-packages/keras/src/trainers/data_adapters/py_dataset_adapter.py:121: UserWarning: Your `PyDataset` class should call `super().__init__(**kwargs)` in its constructor. `**kwargs` can include `workers`, `use_multiprocessing`, `max_queue_size`. Do not pass these arguments to `fit()`, as they will be ignored.\n",
      "  self._warn_if_super_not_called()\n"
     ]
    },
    {
     "name": "stdout",
     "output_type": "stream",
     "text": [
      "\u001b[1m63/63\u001b[0m \u001b[32m━━━━━━━━━━━━━━━━━━━━\u001b[0m\u001b[37m\u001b[0m \u001b[1m16s\u001b[0m 247ms/step\n",
      "Found 4000 images belonging to 8 classes.\n"
     ]
    },
    {
     "name": "stderr",
     "output_type": "stream",
     "text": [
      "/home/saulolv/PIBIC/TinyML/.venv/lib/python3.12/site-packages/keras/src/trainers/data_adapters/py_dataset_adapter.py:121: UserWarning: Your `PyDataset` class should call `super().__init__(**kwargs)` in its constructor. `**kwargs` can include `workers`, `use_multiprocessing`, `max_queue_size`. Do not pass these arguments to `fit()`, as they will be ignored.\n",
      "  self._warn_if_super_not_called()\n"
     ]
    },
    {
     "name": "stdout",
     "output_type": "stream",
     "text": [
      "\u001b[1m63/63\u001b[0m \u001b[32m━━━━━━━━━━━━━━━━━━━━\u001b[0m\u001b[37m\u001b[0m \u001b[1m16s\u001b[0m 252ms/step\n",
      "Found 4000 images belonging to 8 classes.\n"
     ]
    },
    {
     "name": "stderr",
     "output_type": "stream",
     "text": [
      "/home/saulolv/PIBIC/TinyML/.venv/lib/python3.12/site-packages/keras/src/trainers/data_adapters/py_dataset_adapter.py:121: UserWarning: Your `PyDataset` class should call `super().__init__(**kwargs)` in its constructor. `**kwargs` can include `workers`, `use_multiprocessing`, `max_queue_size`. Do not pass these arguments to `fit()`, as they will be ignored.\n",
      "  self._warn_if_super_not_called()\n"
     ]
    },
    {
     "name": "stdout",
     "output_type": "stream",
     "text": [
      "\u001b[1m63/63\u001b[0m \u001b[32m━━━━━━━━━━━━━━━━━━━━\u001b[0m\u001b[37m\u001b[0m \u001b[1m16s\u001b[0m 252ms/step\n",
      "Found 4000 images belonging to 8 classes.\n"
     ]
    },
    {
     "name": "stderr",
     "output_type": "stream",
     "text": [
      "/home/saulolv/PIBIC/TinyML/.venv/lib/python3.12/site-packages/keras/src/trainers/data_adapters/py_dataset_adapter.py:121: UserWarning: Your `PyDataset` class should call `super().__init__(**kwargs)` in its constructor. `**kwargs` can include `workers`, `use_multiprocessing`, `max_queue_size`. Do not pass these arguments to `fit()`, as they will be ignored.\n",
      "  self._warn_if_super_not_called()\n"
     ]
    },
    {
     "name": "stdout",
     "output_type": "stream",
     "text": [
      "\u001b[1m63/63\u001b[0m \u001b[32m━━━━━━━━━━━━━━━━━━━━\u001b[0m\u001b[37m\u001b[0m \u001b[1m16s\u001b[0m 249ms/step\n",
      "Found 4000 images belonging to 8 classes.\n"
     ]
    },
    {
     "name": "stderr",
     "output_type": "stream",
     "text": [
      "/home/saulolv/PIBIC/TinyML/.venv/lib/python3.12/site-packages/keras/src/trainers/data_adapters/py_dataset_adapter.py:121: UserWarning: Your `PyDataset` class should call `super().__init__(**kwargs)` in its constructor. `**kwargs` can include `workers`, `use_multiprocessing`, `max_queue_size`. Do not pass these arguments to `fit()`, as they will be ignored.\n",
      "  self._warn_if_super_not_called()\n"
     ]
    },
    {
     "name": "stdout",
     "output_type": "stream",
     "text": [
      "\u001b[1m63/63\u001b[0m \u001b[32m━━━━━━━━━━━━━━━━━━━━\u001b[0m\u001b[37m\u001b[0m \u001b[1m16s\u001b[0m 253ms/step\n",
      "Found 4000 images belonging to 8 classes.\n"
     ]
    },
    {
     "name": "stderr",
     "output_type": "stream",
     "text": [
      "/home/saulolv/PIBIC/TinyML/.venv/lib/python3.12/site-packages/keras/src/trainers/data_adapters/py_dataset_adapter.py:121: UserWarning: Your `PyDataset` class should call `super().__init__(**kwargs)` in its constructor. `**kwargs` can include `workers`, `use_multiprocessing`, `max_queue_size`. Do not pass these arguments to `fit()`, as they will be ignored.\n",
      "  self._warn_if_super_not_called()\n"
     ]
    },
    {
     "name": "stdout",
     "output_type": "stream",
     "text": [
      "\u001b[1m63/63\u001b[0m \u001b[32m━━━━━━━━━━━━━━━━━━━━\u001b[0m\u001b[37m\u001b[0m \u001b[1m16s\u001b[0m 253ms/step\n",
      "Found 4000 images belonging to 8 classes.\n"
     ]
    },
    {
     "name": "stderr",
     "output_type": "stream",
     "text": [
      "/home/saulolv/PIBIC/TinyML/.venv/lib/python3.12/site-packages/keras/src/trainers/data_adapters/py_dataset_adapter.py:121: UserWarning: Your `PyDataset` class should call `super().__init__(**kwargs)` in its constructor. `**kwargs` can include `workers`, `use_multiprocessing`, `max_queue_size`. Do not pass these arguments to `fit()`, as they will be ignored.\n",
      "  self._warn_if_super_not_called()\n"
     ]
    },
    {
     "name": "stdout",
     "output_type": "stream",
     "text": [
      "\u001b[1m63/63\u001b[0m \u001b[32m━━━━━━━━━━━━━━━━━━━━\u001b[0m\u001b[37m\u001b[0m \u001b[1m16s\u001b[0m 249ms/step\n",
      "Found 4000 images belonging to 8 classes.\n"
     ]
    },
    {
     "name": "stderr",
     "output_type": "stream",
     "text": [
      "/home/saulolv/PIBIC/TinyML/.venv/lib/python3.12/site-packages/keras/src/trainers/data_adapters/py_dataset_adapter.py:121: UserWarning: Your `PyDataset` class should call `super().__init__(**kwargs)` in its constructor. `**kwargs` can include `workers`, `use_multiprocessing`, `max_queue_size`. Do not pass these arguments to `fit()`, as they will be ignored.\n",
      "  self._warn_if_super_not_called()\n"
     ]
    },
    {
     "name": "stdout",
     "output_type": "stream",
     "text": [
      "\u001b[1m63/63\u001b[0m \u001b[32m━━━━━━━━━━━━━━━━━━━━\u001b[0m\u001b[37m\u001b[0m \u001b[1m16s\u001b[0m 248ms/step\n",
      "Found 4000 images belonging to 8 classes.\n"
     ]
    },
    {
     "name": "stderr",
     "output_type": "stream",
     "text": [
      "/home/saulolv/PIBIC/TinyML/.venv/lib/python3.12/site-packages/keras/src/trainers/data_adapters/py_dataset_adapter.py:121: UserWarning: Your `PyDataset` class should call `super().__init__(**kwargs)` in its constructor. `**kwargs` can include `workers`, `use_multiprocessing`, `max_queue_size`. Do not pass these arguments to `fit()`, as they will be ignored.\n",
      "  self._warn_if_super_not_called()\n"
     ]
    },
    {
     "name": "stdout",
     "output_type": "stream",
     "text": [
      "\u001b[1m63/63\u001b[0m \u001b[32m━━━━━━━━━━━━━━━━━━━━\u001b[0m\u001b[37m\u001b[0m \u001b[1m16s\u001b[0m 247ms/step\n",
      "Found 4000 images belonging to 8 classes.\n"
     ]
    },
    {
     "name": "stderr",
     "output_type": "stream",
     "text": [
      "/home/saulolv/PIBIC/TinyML/.venv/lib/python3.12/site-packages/keras/src/trainers/data_adapters/py_dataset_adapter.py:121: UserWarning: Your `PyDataset` class should call `super().__init__(**kwargs)` in its constructor. `**kwargs` can include `workers`, `use_multiprocessing`, `max_queue_size`. Do not pass these arguments to `fit()`, as they will be ignored.\n",
      "  self._warn_if_super_not_called()\n"
     ]
    },
    {
     "name": "stdout",
     "output_type": "stream",
     "text": [
      "\u001b[1m63/63\u001b[0m \u001b[32m━━━━━━━━━━━━━━━━━━━━\u001b[0m\u001b[37m\u001b[0m \u001b[1m16s\u001b[0m 248ms/step\n",
      "Found 4000 images belonging to 8 classes.\n"
     ]
    },
    {
     "name": "stderr",
     "output_type": "stream",
     "text": [
      "/home/saulolv/PIBIC/TinyML/.venv/lib/python3.12/site-packages/keras/src/trainers/data_adapters/py_dataset_adapter.py:121: UserWarning: Your `PyDataset` class should call `super().__init__(**kwargs)` in its constructor. `**kwargs` can include `workers`, `use_multiprocessing`, `max_queue_size`. Do not pass these arguments to `fit()`, as they will be ignored.\n",
      "  self._warn_if_super_not_called()\n"
     ]
    },
    {
     "name": "stdout",
     "output_type": "stream",
     "text": [
      "\u001b[1m63/63\u001b[0m \u001b[32m━━━━━━━━━━━━━━━━━━━━\u001b[0m\u001b[37m\u001b[0m \u001b[1m15s\u001b[0m 244ms/step\n",
      "Found 4000 images belonging to 8 classes.\n"
     ]
    },
    {
     "name": "stderr",
     "output_type": "stream",
     "text": [
      "/home/saulolv/PIBIC/TinyML/.venv/lib/python3.12/site-packages/keras/src/trainers/data_adapters/py_dataset_adapter.py:121: UserWarning: Your `PyDataset` class should call `super().__init__(**kwargs)` in its constructor. `**kwargs` can include `workers`, `use_multiprocessing`, `max_queue_size`. Do not pass these arguments to `fit()`, as they will be ignored.\n",
      "  self._warn_if_super_not_called()\n"
     ]
    },
    {
     "name": "stdout",
     "output_type": "stream",
     "text": [
      "\u001b[1m63/63\u001b[0m \u001b[32m━━━━━━━━━━━━━━━━━━━━\u001b[0m\u001b[37m\u001b[0m \u001b[1m18s\u001b[0m 285ms/step\n",
      "Found 4000 images belonging to 8 classes.\n"
     ]
    },
    {
     "name": "stderr",
     "output_type": "stream",
     "text": [
      "/home/saulolv/PIBIC/TinyML/.venv/lib/python3.12/site-packages/keras/src/trainers/data_adapters/py_dataset_adapter.py:121: UserWarning: Your `PyDataset` class should call `super().__init__(**kwargs)` in its constructor. `**kwargs` can include `workers`, `use_multiprocessing`, `max_queue_size`. Do not pass these arguments to `fit()`, as they will be ignored.\n",
      "  self._warn_if_super_not_called()\n"
     ]
    },
    {
     "name": "stdout",
     "output_type": "stream",
     "text": [
      "\u001b[1m63/63\u001b[0m \u001b[32m━━━━━━━━━━━━━━━━━━━━\u001b[0m\u001b[37m\u001b[0m \u001b[1m19s\u001b[0m 293ms/step\n",
      "Found 4000 images belonging to 8 classes.\n"
     ]
    },
    {
     "name": "stderr",
     "output_type": "stream",
     "text": [
      "/home/saulolv/PIBIC/TinyML/.venv/lib/python3.12/site-packages/keras/src/trainers/data_adapters/py_dataset_adapter.py:121: UserWarning: Your `PyDataset` class should call `super().__init__(**kwargs)` in its constructor. `**kwargs` can include `workers`, `use_multiprocessing`, `max_queue_size`. Do not pass these arguments to `fit()`, as they will be ignored.\n",
      "  self._warn_if_super_not_called()\n"
     ]
    },
    {
     "name": "stdout",
     "output_type": "stream",
     "text": [
      "\u001b[1m63/63\u001b[0m \u001b[32m━━━━━━━━━━━━━━━━━━━━\u001b[0m\u001b[37m\u001b[0m \u001b[1m19s\u001b[0m 293ms/step\n",
      "Found 4000 images belonging to 8 classes.\n"
     ]
    },
    {
     "name": "stderr",
     "output_type": "stream",
     "text": [
      "/home/saulolv/PIBIC/TinyML/.venv/lib/python3.12/site-packages/keras/src/trainers/data_adapters/py_dataset_adapter.py:121: UserWarning: Your `PyDataset` class should call `super().__init__(**kwargs)` in its constructor. `**kwargs` can include `workers`, `use_multiprocessing`, `max_queue_size`. Do not pass these arguments to `fit()`, as they will be ignored.\n",
      "  self._warn_if_super_not_called()\n"
     ]
    },
    {
     "name": "stdout",
     "output_type": "stream",
     "text": [
      "\u001b[1m63/63\u001b[0m \u001b[32m━━━━━━━━━━━━━━━━━━━━\u001b[0m\u001b[37m\u001b[0m \u001b[1m19s\u001b[0m 298ms/step\n",
      "Found 4000 images belonging to 8 classes.\n"
     ]
    },
    {
     "name": "stderr",
     "output_type": "stream",
     "text": [
      "/home/saulolv/PIBIC/TinyML/.venv/lib/python3.12/site-packages/keras/src/trainers/data_adapters/py_dataset_adapter.py:121: UserWarning: Your `PyDataset` class should call `super().__init__(**kwargs)` in its constructor. `**kwargs` can include `workers`, `use_multiprocessing`, `max_queue_size`. Do not pass these arguments to `fit()`, as they will be ignored.\n",
      "  self._warn_if_super_not_called()\n"
     ]
    },
    {
     "name": "stdout",
     "output_type": "stream",
     "text": [
      "\u001b[1m63/63\u001b[0m \u001b[32m━━━━━━━━━━━━━━━━━━━━\u001b[0m\u001b[37m\u001b[0m \u001b[1m19s\u001b[0m 292ms/step\n",
      "Found 4000 images belonging to 8 classes.\n"
     ]
    },
    {
     "name": "stderr",
     "output_type": "stream",
     "text": [
      "/home/saulolv/PIBIC/TinyML/.venv/lib/python3.12/site-packages/keras/src/trainers/data_adapters/py_dataset_adapter.py:121: UserWarning: Your `PyDataset` class should call `super().__init__(**kwargs)` in its constructor. `**kwargs` can include `workers`, `use_multiprocessing`, `max_queue_size`. Do not pass these arguments to `fit()`, as they will be ignored.\n",
      "  self._warn_if_super_not_called()\n"
     ]
    },
    {
     "name": "stdout",
     "output_type": "stream",
     "text": [
      "\u001b[1m63/63\u001b[0m \u001b[32m━━━━━━━━━━━━━━━━━━━━\u001b[0m\u001b[37m\u001b[0m \u001b[1m18s\u001b[0m 278ms/step\n",
      "Found 4000 images belonging to 8 classes.\n"
     ]
    },
    {
     "name": "stderr",
     "output_type": "stream",
     "text": [
      "/home/saulolv/PIBIC/TinyML/.venv/lib/python3.12/site-packages/keras/src/trainers/data_adapters/py_dataset_adapter.py:121: UserWarning: Your `PyDataset` class should call `super().__init__(**kwargs)` in its constructor. `**kwargs` can include `workers`, `use_multiprocessing`, `max_queue_size`. Do not pass these arguments to `fit()`, as they will be ignored.\n",
      "  self._warn_if_super_not_called()\n"
     ]
    },
    {
     "name": "stdout",
     "output_type": "stream",
     "text": [
      "\u001b[1m63/63\u001b[0m \u001b[32m━━━━━━━━━━━━━━━━━━━━\u001b[0m\u001b[37m\u001b[0m \u001b[1m17s\u001b[0m 276ms/step\n"
     ]
    }
   ],
   "source": [
    "result = {\n",
    "    'blur': {},\n",
    "    'digital': {},\n",
    "    'noise': {},\n",
    "    'weather': {}\n",
    "}\n",
    "for subject in CORRUPTION_TYPES.keys():\n",
    "    for corruption_type in range(len(CORRUPTION_TYPES[subject])):\n",
    "        for severity in range(1, 6):\n",
    "            corruption_name = CORRUPTION_TYPES[subject][corruption_type]\n",
    "\n",
    "            generator = datagen.flow_from_directory(\n",
    "                f'{BASE_PATH}/{subject}/{corruption_name}/{severity}',\n",
    "                target_size=(224, 224),\n",
    "                batch_size=64,\n",
    "                shuffle=False\n",
    "            )\n",
    "\n",
    "            preds = model_lcnn.predict(generator)\n",
    "            predicted_classes = np.argmax(preds, axis=1)\n",
    "\n",
    "            accuracy = accuracy_score(generator.labels, predicted_classes)\n",
    "\n",
    "            if corruption_name not in result[subject]:\n",
    "                result[subject][corruption_name] = {}\n",
    "\n",
    "            result[subject][corruption_name][severity] = 1 - accuracy\n",
    "\n",
    "            save_json('results/mce/corruption_lcnn_error.json', result)\n"
   ]
  },
  {
   "cell_type": "markdown",
   "metadata": {},
   "source": [
    "## MobileNetV3"
   ]
  },
  {
   "cell_type": "code",
   "execution_count": 25,
   "metadata": {},
   "outputs": [],
   "source": [
    "model_mobilenetv3 = keras.models.load_model(\"models/mobilenetv3_model.keras\")\n"
   ]
  },
  {
   "cell_type": "code",
   "execution_count": 26,
   "metadata": {},
   "outputs": [
    {
     "data": {
      "text/html": [
       "<pre style=\"white-space:pre;overflow-x:auto;line-height:normal;font-family:Menlo,'DejaVu Sans Mono',consolas,'Courier New',monospace\"><span style=\"font-weight: bold\">Model: \"functional_1\"</span>\n",
       "</pre>\n"
      ],
      "text/plain": [
       "\u001b[1mModel: \"functional_1\"\u001b[0m\n"
      ]
     },
     "metadata": {},
     "output_type": "display_data"
    },
    {
     "data": {
      "text/html": [
       "<pre style=\"white-space:pre;overflow-x:auto;line-height:normal;font-family:Menlo,'DejaVu Sans Mono',consolas,'Courier New',monospace\">┏━━━━━━━━━━━━━━━━━━━━━━━━━━━━━━━━━┳━━━━━━━━━━━━━━━━━━━━━━━━┳━━━━━━━━━━━━━━━┓\n",
       "┃<span style=\"font-weight: bold\"> Layer (type)                    </span>┃<span style=\"font-weight: bold\"> Output Shape           </span>┃<span style=\"font-weight: bold\">       Param # </span>┃\n",
       "┡━━━━━━━━━━━━━━━━━━━━━━━━━━━━━━━━━╇━━━━━━━━━━━━━━━━━━━━━━━━╇━━━━━━━━━━━━━━━┩\n",
       "│ input_layer_8 (<span style=\"color: #0087ff; text-decoration-color: #0087ff\">InputLayer</span>)      │ (<span style=\"color: #00d7ff; text-decoration-color: #00d7ff\">None</span>, <span style=\"color: #00af00; text-decoration-color: #00af00\">224</span>, <span style=\"color: #00af00; text-decoration-color: #00af00\">224</span>, <span style=\"color: #00af00; text-decoration-color: #00af00\">3</span>)    │             <span style=\"color: #00af00; text-decoration-color: #00af00\">0</span> │\n",
       "├─────────────────────────────────┼────────────────────────┼───────────────┤\n",
       "│ MobileNetV3Small (<span style=\"color: #0087ff; text-decoration-color: #0087ff\">Functional</span>)   │ (<span style=\"color: #00d7ff; text-decoration-color: #00d7ff\">None</span>, <span style=\"color: #00af00; text-decoration-color: #00af00\">7</span>, <span style=\"color: #00af00; text-decoration-color: #00af00\">7</span>, <span style=\"color: #00af00; text-decoration-color: #00af00\">576</span>)      │       <span style=\"color: #00af00; text-decoration-color: #00af00\">939,120</span> │\n",
       "├─────────────────────────────────┼────────────────────────┼───────────────┤\n",
       "│ global_average_pooling2d_6      │ (<span style=\"color: #00d7ff; text-decoration-color: #00d7ff\">None</span>, <span style=\"color: #00af00; text-decoration-color: #00af00\">576</span>)            │             <span style=\"color: #00af00; text-decoration-color: #00af00\">0</span> │\n",
       "│ (<span style=\"color: #0087ff; text-decoration-color: #0087ff\">GlobalAveragePooling2D</span>)        │                        │               │\n",
       "├─────────────────────────────────┼────────────────────────┼───────────────┤\n",
       "│ dropout_4 (<span style=\"color: #0087ff; text-decoration-color: #0087ff\">Dropout</span>)             │ (<span style=\"color: #00d7ff; text-decoration-color: #00d7ff\">None</span>, <span style=\"color: #00af00; text-decoration-color: #00af00\">576</span>)            │             <span style=\"color: #00af00; text-decoration-color: #00af00\">0</span> │\n",
       "├─────────────────────────────────┼────────────────────────┼───────────────┤\n",
       "│ dense_1 (<span style=\"color: #0087ff; text-decoration-color: #0087ff\">Dense</span>)                 │ (<span style=\"color: #00d7ff; text-decoration-color: #00d7ff\">None</span>, <span style=\"color: #00af00; text-decoration-color: #00af00\">8</span>)              │         <span style=\"color: #00af00; text-decoration-color: #00af00\">4,616</span> │\n",
       "└─────────────────────────────────┴────────────────────────┴───────────────┘\n",
       "</pre>\n"
      ],
      "text/plain": [
       "┏━━━━━━━━━━━━━━━━━━━━━━━━━━━━━━━━━┳━━━━━━━━━━━━━━━━━━━━━━━━┳━━━━━━━━━━━━━━━┓\n",
       "┃\u001b[1m \u001b[0m\u001b[1mLayer (type)                   \u001b[0m\u001b[1m \u001b[0m┃\u001b[1m \u001b[0m\u001b[1mOutput Shape          \u001b[0m\u001b[1m \u001b[0m┃\u001b[1m \u001b[0m\u001b[1m      Param #\u001b[0m\u001b[1m \u001b[0m┃\n",
       "┡━━━━━━━━━━━━━━━━━━━━━━━━━━━━━━━━━╇━━━━━━━━━━━━━━━━━━━━━━━━╇━━━━━━━━━━━━━━━┩\n",
       "│ input_layer_8 (\u001b[38;5;33mInputLayer\u001b[0m)      │ (\u001b[38;5;45mNone\u001b[0m, \u001b[38;5;34m224\u001b[0m, \u001b[38;5;34m224\u001b[0m, \u001b[38;5;34m3\u001b[0m)    │             \u001b[38;5;34m0\u001b[0m │\n",
       "├─────────────────────────────────┼────────────────────────┼───────────────┤\n",
       "│ MobileNetV3Small (\u001b[38;5;33mFunctional\u001b[0m)   │ (\u001b[38;5;45mNone\u001b[0m, \u001b[38;5;34m7\u001b[0m, \u001b[38;5;34m7\u001b[0m, \u001b[38;5;34m576\u001b[0m)      │       \u001b[38;5;34m939,120\u001b[0m │\n",
       "├─────────────────────────────────┼────────────────────────┼───────────────┤\n",
       "│ global_average_pooling2d_6      │ (\u001b[38;5;45mNone\u001b[0m, \u001b[38;5;34m576\u001b[0m)            │             \u001b[38;5;34m0\u001b[0m │\n",
       "│ (\u001b[38;5;33mGlobalAveragePooling2D\u001b[0m)        │                        │               │\n",
       "├─────────────────────────────────┼────────────────────────┼───────────────┤\n",
       "│ dropout_4 (\u001b[38;5;33mDropout\u001b[0m)             │ (\u001b[38;5;45mNone\u001b[0m, \u001b[38;5;34m576\u001b[0m)            │             \u001b[38;5;34m0\u001b[0m │\n",
       "├─────────────────────────────────┼────────────────────────┼───────────────┤\n",
       "│ dense_1 (\u001b[38;5;33mDense\u001b[0m)                 │ (\u001b[38;5;45mNone\u001b[0m, \u001b[38;5;34m8\u001b[0m)              │         \u001b[38;5;34m4,616\u001b[0m │\n",
       "└─────────────────────────────────┴────────────────────────┴───────────────┘\n"
      ]
     },
     "metadata": {},
     "output_type": "display_data"
    },
    {
     "data": {
      "text/html": [
       "<pre style=\"white-space:pre;overflow-x:auto;line-height:normal;font-family:Menlo,'DejaVu Sans Mono',consolas,'Courier New',monospace\"><span style=\"font-weight: bold\"> Total params: </span><span style=\"color: #00af00; text-decoration-color: #00af00\">952,970</span> (3.64 MB)\n",
       "</pre>\n"
      ],
      "text/plain": [
       "\u001b[1m Total params: \u001b[0m\u001b[38;5;34m952,970\u001b[0m (3.64 MB)\n"
      ]
     },
     "metadata": {},
     "output_type": "display_data"
    },
    {
     "data": {
      "text/html": [
       "<pre style=\"white-space:pre;overflow-x:auto;line-height:normal;font-family:Menlo,'DejaVu Sans Mono',consolas,'Courier New',monospace\"><span style=\"font-weight: bold\"> Trainable params: </span><span style=\"color: #00af00; text-decoration-color: #00af00\">4,616</span> (18.03 KB)\n",
       "</pre>\n"
      ],
      "text/plain": [
       "\u001b[1m Trainable params: \u001b[0m\u001b[38;5;34m4,616\u001b[0m (18.03 KB)\n"
      ]
     },
     "metadata": {},
     "output_type": "display_data"
    },
    {
     "data": {
      "text/html": [
       "<pre style=\"white-space:pre;overflow-x:auto;line-height:normal;font-family:Menlo,'DejaVu Sans Mono',consolas,'Courier New',monospace\"><span style=\"font-weight: bold\"> Non-trainable params: </span><span style=\"color: #00af00; text-decoration-color: #00af00\">939,120</span> (3.58 MB)\n",
       "</pre>\n"
      ],
      "text/plain": [
       "\u001b[1m Non-trainable params: \u001b[0m\u001b[38;5;34m939,120\u001b[0m (3.58 MB)\n"
      ]
     },
     "metadata": {},
     "output_type": "display_data"
    },
    {
     "data": {
      "text/html": [
       "<pre style=\"white-space:pre;overflow-x:auto;line-height:normal;font-family:Menlo,'DejaVu Sans Mono',consolas,'Courier New',monospace\"><span style=\"font-weight: bold\"> Optimizer params: </span><span style=\"color: #00af00; text-decoration-color: #00af00\">9,234</span> (36.07 KB)\n",
       "</pre>\n"
      ],
      "text/plain": [
       "\u001b[1m Optimizer params: \u001b[0m\u001b[38;5;34m9,234\u001b[0m (36.07 KB)\n"
      ]
     },
     "metadata": {},
     "output_type": "display_data"
    }
   ],
   "source": [
    "model_mobilenetv3.summary()\n"
   ]
  },
  {
   "cell_type": "code",
   "execution_count": 27,
   "metadata": {},
   "outputs": [],
   "source": [
    "datagen_mobilenetv3 = tf.keras.preprocessing.image.ImageDataGenerator()"
   ]
  },
  {
   "cell_type": "code",
   "execution_count": 28,
   "metadata": {},
   "outputs": [
    {
     "name": "stdout",
     "output_type": "stream",
     "text": [
      "Found 4000 images belonging to 8 classes.\n"
     ]
    },
    {
     "name": "stderr",
     "output_type": "stream",
     "text": [
      "/home/saulolv/PIBIC/TinyML/.venv/lib/python3.12/site-packages/keras/src/trainers/data_adapters/py_dataset_adapter.py:121: UserWarning: Your `PyDataset` class should call `super().__init__(**kwargs)` in its constructor. `**kwargs` can include `workers`, `use_multiprocessing`, `max_queue_size`. Do not pass these arguments to `fit()`, as they will be ignored.\n",
      "  self._warn_if_super_not_called()\n"
     ]
    },
    {
     "name": "stdout",
     "output_type": "stream",
     "text": [
      "\u001b[1m32/32\u001b[0m \u001b[32m━━━━━━━━━━━━━━━━━━━━\u001b[0m\u001b[37m\u001b[0m \u001b[1m23s\u001b[0m 683ms/step\n"
     ]
    }
   ],
   "source": [
    "CLEAN_VALIDATION_DATASET_PATH = \"MangoLeaf\"\n",
    "clean_validation_dataset_generator_mobilenetv3 = datagen_mobilenetv3.flow_from_directory(\n",
    "    CLEAN_VALIDATION_DATASET_PATH,\n",
    "    target_size=(224, 224),\n",
    "    batch_size=128,\n",
    "    shuffle=False\n",
    ")\n",
    "preds = model_mobilenetv3.predict(clean_validation_dataset_generator_mobilenetv3)\n",
    "predicted_classes = np.argmax(preds, axis=1)\n",
    "\n",
    "accuracy_mobilenetv3 = accuracy_score(clean_validation_dataset_generator_mobilenetv3.labels, predicted_classes)\n",
    "\n"
   ]
  },
  {
   "cell_type": "code",
   "execution_count": 29,
   "metadata": {},
   "outputs": [
    {
     "data": {
      "text/plain": [
       "0.39775"
      ]
     },
     "execution_count": 29,
     "metadata": {},
     "output_type": "execute_result"
    }
   ],
   "source": [
    "accuracy"
   ]
  },
  {
   "cell_type": "code",
   "execution_count": 30,
   "metadata": {},
   "outputs": [],
   "source": [
    "datagen = tf.keras.preprocessing.image.ImageDataGenerator()"
   ]
  },
  {
   "cell_type": "code",
   "execution_count": 31,
   "metadata": {},
   "outputs": [
    {
     "name": "stdout",
     "output_type": "stream",
     "text": [
      "Found 4000 images belonging to 8 classes.\n"
     ]
    },
    {
     "name": "stderr",
     "output_type": "stream",
     "text": [
      "/home/saulolv/PIBIC/TinyML/.venv/lib/python3.12/site-packages/keras/src/trainers/data_adapters/py_dataset_adapter.py:121: UserWarning: Your `PyDataset` class should call `super().__init__(**kwargs)` in its constructor. `**kwargs` can include `workers`, `use_multiprocessing`, `max_queue_size`. Do not pass these arguments to `fit()`, as they will be ignored.\n",
      "  self._warn_if_super_not_called()\n"
     ]
    },
    {
     "name": "stdout",
     "output_type": "stream",
     "text": [
      "\u001b[1m63/63\u001b[0m \u001b[32m━━━━━━━━━━━━━━━━━━━━\u001b[0m\u001b[37m\u001b[0m \u001b[1m21s\u001b[0m 332ms/step\n",
      "Found 4000 images belonging to 8 classes.\n"
     ]
    },
    {
     "name": "stderr",
     "output_type": "stream",
     "text": [
      "/home/saulolv/PIBIC/TinyML/.venv/lib/python3.12/site-packages/keras/src/trainers/data_adapters/py_dataset_adapter.py:121: UserWarning: Your `PyDataset` class should call `super().__init__(**kwargs)` in its constructor. `**kwargs` can include `workers`, `use_multiprocessing`, `max_queue_size`. Do not pass these arguments to `fit()`, as they will be ignored.\n",
      "  self._warn_if_super_not_called()\n"
     ]
    },
    {
     "name": "stdout",
     "output_type": "stream",
     "text": [
      "\u001b[1m63/63\u001b[0m \u001b[32m━━━━━━━━━━━━━━━━━━━━\u001b[0m\u001b[37m\u001b[0m \u001b[1m18s\u001b[0m 292ms/step\n",
      "Found 4000 images belonging to 8 classes.\n"
     ]
    },
    {
     "name": "stderr",
     "output_type": "stream",
     "text": [
      "/home/saulolv/PIBIC/TinyML/.venv/lib/python3.12/site-packages/keras/src/trainers/data_adapters/py_dataset_adapter.py:121: UserWarning: Your `PyDataset` class should call `super().__init__(**kwargs)` in its constructor. `**kwargs` can include `workers`, `use_multiprocessing`, `max_queue_size`. Do not pass these arguments to `fit()`, as they will be ignored.\n",
      "  self._warn_if_super_not_called()\n"
     ]
    },
    {
     "name": "stdout",
     "output_type": "stream",
     "text": [
      "\u001b[1m63/63\u001b[0m \u001b[32m━━━━━━━━━━━━━━━━━━━━\u001b[0m\u001b[37m\u001b[0m \u001b[1m21s\u001b[0m 330ms/step\n",
      "Found 4000 images belonging to 8 classes.\n"
     ]
    },
    {
     "name": "stderr",
     "output_type": "stream",
     "text": [
      "/home/saulolv/PIBIC/TinyML/.venv/lib/python3.12/site-packages/keras/src/trainers/data_adapters/py_dataset_adapter.py:121: UserWarning: Your `PyDataset` class should call `super().__init__(**kwargs)` in its constructor. `**kwargs` can include `workers`, `use_multiprocessing`, `max_queue_size`. Do not pass these arguments to `fit()`, as they will be ignored.\n",
      "  self._warn_if_super_not_called()\n"
     ]
    },
    {
     "name": "stdout",
     "output_type": "stream",
     "text": [
      "\u001b[1m63/63\u001b[0m \u001b[32m━━━━━━━━━━━━━━━━━━━━\u001b[0m\u001b[37m\u001b[0m \u001b[1m18s\u001b[0m 280ms/step\n",
      "Found 4000 images belonging to 8 classes.\n"
     ]
    },
    {
     "name": "stderr",
     "output_type": "stream",
     "text": [
      "/home/saulolv/PIBIC/TinyML/.venv/lib/python3.12/site-packages/keras/src/trainers/data_adapters/py_dataset_adapter.py:121: UserWarning: Your `PyDataset` class should call `super().__init__(**kwargs)` in its constructor. `**kwargs` can include `workers`, `use_multiprocessing`, `max_queue_size`. Do not pass these arguments to `fit()`, as they will be ignored.\n",
      "  self._warn_if_super_not_called()\n"
     ]
    },
    {
     "name": "stdout",
     "output_type": "stream",
     "text": [
      "\u001b[1m63/63\u001b[0m \u001b[32m━━━━━━━━━━━━━━━━━━━━\u001b[0m\u001b[37m\u001b[0m \u001b[1m19s\u001b[0m 294ms/step\n",
      "Found 4000 images belonging to 8 classes.\n"
     ]
    },
    {
     "name": "stderr",
     "output_type": "stream",
     "text": [
      "/home/saulolv/PIBIC/TinyML/.venv/lib/python3.12/site-packages/keras/src/trainers/data_adapters/py_dataset_adapter.py:121: UserWarning: Your `PyDataset` class should call `super().__init__(**kwargs)` in its constructor. `**kwargs` can include `workers`, `use_multiprocessing`, `max_queue_size`. Do not pass these arguments to `fit()`, as they will be ignored.\n",
      "  self._warn_if_super_not_called()\n"
     ]
    },
    {
     "name": "stdout",
     "output_type": "stream",
     "text": [
      "\u001b[1m63/63\u001b[0m \u001b[32m━━━━━━━━━━━━━━━━━━━━\u001b[0m\u001b[37m\u001b[0m \u001b[1m20s\u001b[0m 313ms/step\n",
      "Found 4000 images belonging to 8 classes.\n"
     ]
    },
    {
     "name": "stderr",
     "output_type": "stream",
     "text": [
      "/home/saulolv/PIBIC/TinyML/.venv/lib/python3.12/site-packages/keras/src/trainers/data_adapters/py_dataset_adapter.py:121: UserWarning: Your `PyDataset` class should call `super().__init__(**kwargs)` in its constructor. `**kwargs` can include `workers`, `use_multiprocessing`, `max_queue_size`. Do not pass these arguments to `fit()`, as they will be ignored.\n",
      "  self._warn_if_super_not_called()\n"
     ]
    },
    {
     "name": "stdout",
     "output_type": "stream",
     "text": [
      "\u001b[1m63/63\u001b[0m \u001b[32m━━━━━━━━━━━━━━━━━━━━\u001b[0m\u001b[37m\u001b[0m \u001b[1m21s\u001b[0m 326ms/step\n",
      "Found 4000 images belonging to 8 classes.\n"
     ]
    },
    {
     "name": "stderr",
     "output_type": "stream",
     "text": [
      "/home/saulolv/PIBIC/TinyML/.venv/lib/python3.12/site-packages/keras/src/trainers/data_adapters/py_dataset_adapter.py:121: UserWarning: Your `PyDataset` class should call `super().__init__(**kwargs)` in its constructor. `**kwargs` can include `workers`, `use_multiprocessing`, `max_queue_size`. Do not pass these arguments to `fit()`, as they will be ignored.\n",
      "  self._warn_if_super_not_called()\n"
     ]
    },
    {
     "name": "stdout",
     "output_type": "stream",
     "text": [
      "\u001b[1m63/63\u001b[0m \u001b[32m━━━━━━━━━━━━━━━━━━━━\u001b[0m\u001b[37m\u001b[0m \u001b[1m22s\u001b[0m 344ms/step\n",
      "Found 4000 images belonging to 8 classes.\n"
     ]
    },
    {
     "name": "stderr",
     "output_type": "stream",
     "text": [
      "/home/saulolv/PIBIC/TinyML/.venv/lib/python3.12/site-packages/keras/src/trainers/data_adapters/py_dataset_adapter.py:121: UserWarning: Your `PyDataset` class should call `super().__init__(**kwargs)` in its constructor. `**kwargs` can include `workers`, `use_multiprocessing`, `max_queue_size`. Do not pass these arguments to `fit()`, as they will be ignored.\n",
      "  self._warn_if_super_not_called()\n"
     ]
    },
    {
     "name": "stdout",
     "output_type": "stream",
     "text": [
      "\u001b[1m63/63\u001b[0m \u001b[32m━━━━━━━━━━━━━━━━━━━━\u001b[0m\u001b[37m\u001b[0m \u001b[1m20s\u001b[0m 322ms/step\n",
      "Found 4000 images belonging to 8 classes.\n"
     ]
    },
    {
     "name": "stderr",
     "output_type": "stream",
     "text": [
      "/home/saulolv/PIBIC/TinyML/.venv/lib/python3.12/site-packages/keras/src/trainers/data_adapters/py_dataset_adapter.py:121: UserWarning: Your `PyDataset` class should call `super().__init__(**kwargs)` in its constructor. `**kwargs` can include `workers`, `use_multiprocessing`, `max_queue_size`. Do not pass these arguments to `fit()`, as they will be ignored.\n",
      "  self._warn_if_super_not_called()\n"
     ]
    },
    {
     "name": "stdout",
     "output_type": "stream",
     "text": [
      "\u001b[1m63/63\u001b[0m \u001b[32m━━━━━━━━━━━━━━━━━━━━\u001b[0m\u001b[37m\u001b[0m \u001b[1m17s\u001b[0m 267ms/step\n",
      "Found 4000 images belonging to 8 classes.\n"
     ]
    },
    {
     "name": "stderr",
     "output_type": "stream",
     "text": [
      "/home/saulolv/PIBIC/TinyML/.venv/lib/python3.12/site-packages/keras/src/trainers/data_adapters/py_dataset_adapter.py:121: UserWarning: Your `PyDataset` class should call `super().__init__(**kwargs)` in its constructor. `**kwargs` can include `workers`, `use_multiprocessing`, `max_queue_size`. Do not pass these arguments to `fit()`, as they will be ignored.\n",
      "  self._warn_if_super_not_called()\n"
     ]
    },
    {
     "name": "stdout",
     "output_type": "stream",
     "text": [
      "\u001b[1m63/63\u001b[0m \u001b[32m━━━━━━━━━━━━━━━━━━━━\u001b[0m\u001b[37m\u001b[0m \u001b[1m17s\u001b[0m 276ms/step\n",
      "Found 4000 images belonging to 8 classes.\n"
     ]
    },
    {
     "name": "stderr",
     "output_type": "stream",
     "text": [
      "/home/saulolv/PIBIC/TinyML/.venv/lib/python3.12/site-packages/keras/src/trainers/data_adapters/py_dataset_adapter.py:121: UserWarning: Your `PyDataset` class should call `super().__init__(**kwargs)` in its constructor. `**kwargs` can include `workers`, `use_multiprocessing`, `max_queue_size`. Do not pass these arguments to `fit()`, as they will be ignored.\n",
      "  self._warn_if_super_not_called()\n"
     ]
    },
    {
     "name": "stdout",
     "output_type": "stream",
     "text": [
      "\u001b[1m63/63\u001b[0m \u001b[32m━━━━━━━━━━━━━━━━━━━━\u001b[0m\u001b[37m\u001b[0m \u001b[1m18s\u001b[0m 281ms/step\n",
      "Found 4000 images belonging to 8 classes.\n"
     ]
    },
    {
     "name": "stderr",
     "output_type": "stream",
     "text": [
      "/home/saulolv/PIBIC/TinyML/.venv/lib/python3.12/site-packages/keras/src/trainers/data_adapters/py_dataset_adapter.py:121: UserWarning: Your `PyDataset` class should call `super().__init__(**kwargs)` in its constructor. `**kwargs` can include `workers`, `use_multiprocessing`, `max_queue_size`. Do not pass these arguments to `fit()`, as they will be ignored.\n",
      "  self._warn_if_super_not_called()\n"
     ]
    },
    {
     "name": "stdout",
     "output_type": "stream",
     "text": [
      "\u001b[1m63/63\u001b[0m \u001b[32m━━━━━━━━━━━━━━━━━━━━\u001b[0m\u001b[37m\u001b[0m \u001b[1m19s\u001b[0m 306ms/step\n",
      "Found 4000 images belonging to 8 classes.\n"
     ]
    },
    {
     "name": "stderr",
     "output_type": "stream",
     "text": [
      "/home/saulolv/PIBIC/TinyML/.venv/lib/python3.12/site-packages/keras/src/trainers/data_adapters/py_dataset_adapter.py:121: UserWarning: Your `PyDataset` class should call `super().__init__(**kwargs)` in its constructor. `**kwargs` can include `workers`, `use_multiprocessing`, `max_queue_size`. Do not pass these arguments to `fit()`, as they will be ignored.\n",
      "  self._warn_if_super_not_called()\n"
     ]
    },
    {
     "name": "stdout",
     "output_type": "stream",
     "text": [
      "\u001b[1m63/63\u001b[0m \u001b[32m━━━━━━━━━━━━━━━━━━━━\u001b[0m\u001b[37m\u001b[0m \u001b[1m19s\u001b[0m 303ms/step\n",
      "Found 4000 images belonging to 8 classes.\n"
     ]
    },
    {
     "name": "stderr",
     "output_type": "stream",
     "text": [
      "/home/saulolv/PIBIC/TinyML/.venv/lib/python3.12/site-packages/keras/src/trainers/data_adapters/py_dataset_adapter.py:121: UserWarning: Your `PyDataset` class should call `super().__init__(**kwargs)` in its constructor. `**kwargs` can include `workers`, `use_multiprocessing`, `max_queue_size`. Do not pass these arguments to `fit()`, as they will be ignored.\n",
      "  self._warn_if_super_not_called()\n"
     ]
    },
    {
     "name": "stdout",
     "output_type": "stream",
     "text": [
      "\u001b[1m63/63\u001b[0m \u001b[32m━━━━━━━━━━━━━━━━━━━━\u001b[0m\u001b[37m\u001b[0m \u001b[1m22s\u001b[0m 353ms/step\n",
      "Found 4000 images belonging to 8 classes.\n"
     ]
    },
    {
     "name": "stderr",
     "output_type": "stream",
     "text": [
      "/home/saulolv/PIBIC/TinyML/.venv/lib/python3.12/site-packages/keras/src/trainers/data_adapters/py_dataset_adapter.py:121: UserWarning: Your `PyDataset` class should call `super().__init__(**kwargs)` in its constructor. `**kwargs` can include `workers`, `use_multiprocessing`, `max_queue_size`. Do not pass these arguments to `fit()`, as they will be ignored.\n",
      "  self._warn_if_super_not_called()\n"
     ]
    },
    {
     "name": "stdout",
     "output_type": "stream",
     "text": [
      "\u001b[1m63/63\u001b[0m \u001b[32m━━━━━━━━━━━━━━━━━━━━\u001b[0m\u001b[37m\u001b[0m \u001b[1m19s\u001b[0m 307ms/step\n",
      "Found 4000 images belonging to 8 classes.\n"
     ]
    },
    {
     "name": "stderr",
     "output_type": "stream",
     "text": [
      "/home/saulolv/PIBIC/TinyML/.venv/lib/python3.12/site-packages/keras/src/trainers/data_adapters/py_dataset_adapter.py:121: UserWarning: Your `PyDataset` class should call `super().__init__(**kwargs)` in its constructor. `**kwargs` can include `workers`, `use_multiprocessing`, `max_queue_size`. Do not pass these arguments to `fit()`, as they will be ignored.\n",
      "  self._warn_if_super_not_called()\n"
     ]
    },
    {
     "name": "stdout",
     "output_type": "stream",
     "text": [
      "\u001b[1m63/63\u001b[0m \u001b[32m━━━━━━━━━━━━━━━━━━━━\u001b[0m\u001b[37m\u001b[0m \u001b[1m19s\u001b[0m 297ms/step\n",
      "Found 4000 images belonging to 8 classes.\n"
     ]
    },
    {
     "name": "stderr",
     "output_type": "stream",
     "text": [
      "/home/saulolv/PIBIC/TinyML/.venv/lib/python3.12/site-packages/keras/src/trainers/data_adapters/py_dataset_adapter.py:121: UserWarning: Your `PyDataset` class should call `super().__init__(**kwargs)` in its constructor. `**kwargs` can include `workers`, `use_multiprocessing`, `max_queue_size`. Do not pass these arguments to `fit()`, as they will be ignored.\n",
      "  self._warn_if_super_not_called()\n"
     ]
    },
    {
     "name": "stdout",
     "output_type": "stream",
     "text": [
      "\u001b[1m63/63\u001b[0m \u001b[32m━━━━━━━━━━━━━━━━━━━━\u001b[0m\u001b[37m\u001b[0m \u001b[1m18s\u001b[0m 288ms/step\n",
      "Found 4000 images belonging to 8 classes.\n"
     ]
    },
    {
     "name": "stderr",
     "output_type": "stream",
     "text": [
      "/home/saulolv/PIBIC/TinyML/.venv/lib/python3.12/site-packages/keras/src/trainers/data_adapters/py_dataset_adapter.py:121: UserWarning: Your `PyDataset` class should call `super().__init__(**kwargs)` in its constructor. `**kwargs` can include `workers`, `use_multiprocessing`, `max_queue_size`. Do not pass these arguments to `fit()`, as they will be ignored.\n",
      "  self._warn_if_super_not_called()\n"
     ]
    },
    {
     "name": "stdout",
     "output_type": "stream",
     "text": [
      "\u001b[1m63/63\u001b[0m \u001b[32m━━━━━━━━━━━━━━━━━━━━\u001b[0m\u001b[37m\u001b[0m \u001b[1m16s\u001b[0m 258ms/step\n",
      "Found 4000 images belonging to 8 classes.\n"
     ]
    },
    {
     "name": "stderr",
     "output_type": "stream",
     "text": [
      "/home/saulolv/PIBIC/TinyML/.venv/lib/python3.12/site-packages/keras/src/trainers/data_adapters/py_dataset_adapter.py:121: UserWarning: Your `PyDataset` class should call `super().__init__(**kwargs)` in its constructor. `**kwargs` can include `workers`, `use_multiprocessing`, `max_queue_size`. Do not pass these arguments to `fit()`, as they will be ignored.\n",
      "  self._warn_if_super_not_called()\n"
     ]
    },
    {
     "name": "stdout",
     "output_type": "stream",
     "text": [
      "\u001b[1m63/63\u001b[0m \u001b[32m━━━━━━━━━━━━━━━━━━━━\u001b[0m\u001b[37m\u001b[0m \u001b[1m17s\u001b[0m 260ms/step\n",
      "Found 4000 images belonging to 8 classes.\n"
     ]
    },
    {
     "name": "stderr",
     "output_type": "stream",
     "text": [
      "/home/saulolv/PIBIC/TinyML/.venv/lib/python3.12/site-packages/keras/src/trainers/data_adapters/py_dataset_adapter.py:121: UserWarning: Your `PyDataset` class should call `super().__init__(**kwargs)` in its constructor. `**kwargs` can include `workers`, `use_multiprocessing`, `max_queue_size`. Do not pass these arguments to `fit()`, as they will be ignored.\n",
      "  self._warn_if_super_not_called()\n"
     ]
    },
    {
     "name": "stdout",
     "output_type": "stream",
     "text": [
      "\u001b[1m63/63\u001b[0m \u001b[32m━━━━━━━━━━━━━━━━━━━━\u001b[0m\u001b[37m\u001b[0m \u001b[1m17s\u001b[0m 272ms/step\n",
      "Found 4000 images belonging to 8 classes.\n"
     ]
    },
    {
     "name": "stderr",
     "output_type": "stream",
     "text": [
      "/home/saulolv/PIBIC/TinyML/.venv/lib/python3.12/site-packages/keras/src/trainers/data_adapters/py_dataset_adapter.py:121: UserWarning: Your `PyDataset` class should call `super().__init__(**kwargs)` in its constructor. `**kwargs` can include `workers`, `use_multiprocessing`, `max_queue_size`. Do not pass these arguments to `fit()`, as they will be ignored.\n",
      "  self._warn_if_super_not_called()\n"
     ]
    },
    {
     "name": "stdout",
     "output_type": "stream",
     "text": [
      "\u001b[1m63/63\u001b[0m \u001b[32m━━━━━━━━━━━━━━━━━━━━\u001b[0m\u001b[37m\u001b[0m \u001b[1m22s\u001b[0m 345ms/step\n",
      "Found 4000 images belonging to 8 classes.\n"
     ]
    },
    {
     "name": "stderr",
     "output_type": "stream",
     "text": [
      "/home/saulolv/PIBIC/TinyML/.venv/lib/python3.12/site-packages/keras/src/trainers/data_adapters/py_dataset_adapter.py:121: UserWarning: Your `PyDataset` class should call `super().__init__(**kwargs)` in its constructor. `**kwargs` can include `workers`, `use_multiprocessing`, `max_queue_size`. Do not pass these arguments to `fit()`, as they will be ignored.\n",
      "  self._warn_if_super_not_called()\n"
     ]
    },
    {
     "name": "stdout",
     "output_type": "stream",
     "text": [
      "\u001b[1m63/63\u001b[0m \u001b[32m━━━━━━━━━━━━━━━━━━━━\u001b[0m\u001b[37m\u001b[0m \u001b[1m22s\u001b[0m 347ms/step\n",
      "Found 4000 images belonging to 8 classes.\n"
     ]
    },
    {
     "name": "stderr",
     "output_type": "stream",
     "text": [
      "/home/saulolv/PIBIC/TinyML/.venv/lib/python3.12/site-packages/keras/src/trainers/data_adapters/py_dataset_adapter.py:121: UserWarning: Your `PyDataset` class should call `super().__init__(**kwargs)` in its constructor. `**kwargs` can include `workers`, `use_multiprocessing`, `max_queue_size`. Do not pass these arguments to `fit()`, as they will be ignored.\n",
      "  self._warn_if_super_not_called()\n"
     ]
    },
    {
     "name": "stdout",
     "output_type": "stream",
     "text": [
      "\u001b[1m63/63\u001b[0m \u001b[32m━━━━━━━━━━━━━━━━━━━━\u001b[0m\u001b[37m\u001b[0m \u001b[1m18s\u001b[0m 286ms/step\n",
      "Found 4000 images belonging to 8 classes.\n"
     ]
    },
    {
     "name": "stderr",
     "output_type": "stream",
     "text": [
      "/home/saulolv/PIBIC/TinyML/.venv/lib/python3.12/site-packages/keras/src/trainers/data_adapters/py_dataset_adapter.py:121: UserWarning: Your `PyDataset` class should call `super().__init__(**kwargs)` in its constructor. `**kwargs` can include `workers`, `use_multiprocessing`, `max_queue_size`. Do not pass these arguments to `fit()`, as they will be ignored.\n",
      "  self._warn_if_super_not_called()\n"
     ]
    },
    {
     "name": "stdout",
     "output_type": "stream",
     "text": [
      "\u001b[1m63/63\u001b[0m \u001b[32m━━━━━━━━━━━━━━━━━━━━\u001b[0m\u001b[37m\u001b[0m \u001b[1m17s\u001b[0m 262ms/step\n",
      "Found 4000 images belonging to 8 classes.\n"
     ]
    },
    {
     "name": "stderr",
     "output_type": "stream",
     "text": [
      "/home/saulolv/PIBIC/TinyML/.venv/lib/python3.12/site-packages/keras/src/trainers/data_adapters/py_dataset_adapter.py:121: UserWarning: Your `PyDataset` class should call `super().__init__(**kwargs)` in its constructor. `**kwargs` can include `workers`, `use_multiprocessing`, `max_queue_size`. Do not pass these arguments to `fit()`, as they will be ignored.\n",
      "  self._warn_if_super_not_called()\n"
     ]
    },
    {
     "name": "stdout",
     "output_type": "stream",
     "text": [
      "\u001b[1m63/63\u001b[0m \u001b[32m━━━━━━━━━━━━━━━━━━━━\u001b[0m\u001b[37m\u001b[0m \u001b[1m18s\u001b[0m 291ms/step\n",
      "Found 4000 images belonging to 8 classes.\n"
     ]
    },
    {
     "name": "stderr",
     "output_type": "stream",
     "text": [
      "/home/saulolv/PIBIC/TinyML/.venv/lib/python3.12/site-packages/keras/src/trainers/data_adapters/py_dataset_adapter.py:121: UserWarning: Your `PyDataset` class should call `super().__init__(**kwargs)` in its constructor. `**kwargs` can include `workers`, `use_multiprocessing`, `max_queue_size`. Do not pass these arguments to `fit()`, as they will be ignored.\n",
      "  self._warn_if_super_not_called()\n"
     ]
    },
    {
     "name": "stdout",
     "output_type": "stream",
     "text": [
      "\u001b[1m63/63\u001b[0m \u001b[32m━━━━━━━━━━━━━━━━━━━━\u001b[0m\u001b[37m\u001b[0m \u001b[1m20s\u001b[0m 313ms/step\n",
      "Found 4000 images belonging to 8 classes.\n"
     ]
    },
    {
     "name": "stderr",
     "output_type": "stream",
     "text": [
      "/home/saulolv/PIBIC/TinyML/.venv/lib/python3.12/site-packages/keras/src/trainers/data_adapters/py_dataset_adapter.py:121: UserWarning: Your `PyDataset` class should call `super().__init__(**kwargs)` in its constructor. `**kwargs` can include `workers`, `use_multiprocessing`, `max_queue_size`. Do not pass these arguments to `fit()`, as they will be ignored.\n",
      "  self._warn_if_super_not_called()\n"
     ]
    },
    {
     "name": "stdout",
     "output_type": "stream",
     "text": [
      "\u001b[1m63/63\u001b[0m \u001b[32m━━━━━━━━━━━━━━━━━━━━\u001b[0m\u001b[37m\u001b[0m \u001b[1m21s\u001b[0m 323ms/step\n",
      "Found 4000 images belonging to 8 classes.\n"
     ]
    },
    {
     "name": "stderr",
     "output_type": "stream",
     "text": [
      "/home/saulolv/PIBIC/TinyML/.venv/lib/python3.12/site-packages/keras/src/trainers/data_adapters/py_dataset_adapter.py:121: UserWarning: Your `PyDataset` class should call `super().__init__(**kwargs)` in its constructor. `**kwargs` can include `workers`, `use_multiprocessing`, `max_queue_size`. Do not pass these arguments to `fit()`, as they will be ignored.\n",
      "  self._warn_if_super_not_called()\n"
     ]
    },
    {
     "name": "stdout",
     "output_type": "stream",
     "text": [
      "\u001b[1m63/63\u001b[0m \u001b[32m━━━━━━━━━━━━━━━━━━━━\u001b[0m\u001b[37m\u001b[0m \u001b[1m21s\u001b[0m 340ms/step\n",
      "Found 4000 images belonging to 8 classes.\n"
     ]
    },
    {
     "name": "stderr",
     "output_type": "stream",
     "text": [
      "/home/saulolv/PIBIC/TinyML/.venv/lib/python3.12/site-packages/keras/src/trainers/data_adapters/py_dataset_adapter.py:121: UserWarning: Your `PyDataset` class should call `super().__init__(**kwargs)` in its constructor. `**kwargs` can include `workers`, `use_multiprocessing`, `max_queue_size`. Do not pass these arguments to `fit()`, as they will be ignored.\n",
      "  self._warn_if_super_not_called()\n"
     ]
    },
    {
     "name": "stdout",
     "output_type": "stream",
     "text": [
      "\u001b[1m63/63\u001b[0m \u001b[32m━━━━━━━━━━━━━━━━━━━━\u001b[0m\u001b[37m\u001b[0m \u001b[1m19s\u001b[0m 295ms/step\n",
      "Found 4000 images belonging to 8 classes.\n"
     ]
    },
    {
     "name": "stderr",
     "output_type": "stream",
     "text": [
      "/home/saulolv/PIBIC/TinyML/.venv/lib/python3.12/site-packages/keras/src/trainers/data_adapters/py_dataset_adapter.py:121: UserWarning: Your `PyDataset` class should call `super().__init__(**kwargs)` in its constructor. `**kwargs` can include `workers`, `use_multiprocessing`, `max_queue_size`. Do not pass these arguments to `fit()`, as they will be ignored.\n",
      "  self._warn_if_super_not_called()\n"
     ]
    },
    {
     "name": "stdout",
     "output_type": "stream",
     "text": [
      "\u001b[1m63/63\u001b[0m \u001b[32m━━━━━━━━━━━━━━━━━━━━\u001b[0m\u001b[37m\u001b[0m \u001b[1m18s\u001b[0m 285ms/step\n",
      "Found 4000 images belonging to 8 classes.\n"
     ]
    },
    {
     "name": "stderr",
     "output_type": "stream",
     "text": [
      "/home/saulolv/PIBIC/TinyML/.venv/lib/python3.12/site-packages/keras/src/trainers/data_adapters/py_dataset_adapter.py:121: UserWarning: Your `PyDataset` class should call `super().__init__(**kwargs)` in its constructor. `**kwargs` can include `workers`, `use_multiprocessing`, `max_queue_size`. Do not pass these arguments to `fit()`, as they will be ignored.\n",
      "  self._warn_if_super_not_called()\n"
     ]
    },
    {
     "name": "stdout",
     "output_type": "stream",
     "text": [
      "\u001b[1m63/63\u001b[0m \u001b[32m━━━━━━━━━━━━━━━━━━━━\u001b[0m\u001b[37m\u001b[0m \u001b[1m19s\u001b[0m 293ms/step\n",
      "Found 4000 images belonging to 8 classes.\n"
     ]
    },
    {
     "name": "stderr",
     "output_type": "stream",
     "text": [
      "/home/saulolv/PIBIC/TinyML/.venv/lib/python3.12/site-packages/keras/src/trainers/data_adapters/py_dataset_adapter.py:121: UserWarning: Your `PyDataset` class should call `super().__init__(**kwargs)` in its constructor. `**kwargs` can include `workers`, `use_multiprocessing`, `max_queue_size`. Do not pass these arguments to `fit()`, as they will be ignored.\n",
      "  self._warn_if_super_not_called()\n"
     ]
    },
    {
     "name": "stdout",
     "output_type": "stream",
     "text": [
      "\u001b[1m63/63\u001b[0m \u001b[32m━━━━━━━━━━━━━━━━━━━━\u001b[0m\u001b[37m\u001b[0m \u001b[1m18s\u001b[0m 287ms/step\n",
      "Found 4000 images belonging to 8 classes.\n"
     ]
    },
    {
     "name": "stderr",
     "output_type": "stream",
     "text": [
      "/home/saulolv/PIBIC/TinyML/.venv/lib/python3.12/site-packages/keras/src/trainers/data_adapters/py_dataset_adapter.py:121: UserWarning: Your `PyDataset` class should call `super().__init__(**kwargs)` in its constructor. `**kwargs` can include `workers`, `use_multiprocessing`, `max_queue_size`. Do not pass these arguments to `fit()`, as they will be ignored.\n",
      "  self._warn_if_super_not_called()\n"
     ]
    },
    {
     "name": "stdout",
     "output_type": "stream",
     "text": [
      "\u001b[1m63/63\u001b[0m \u001b[32m━━━━━━━━━━━━━━━━━━━━\u001b[0m\u001b[37m\u001b[0m \u001b[1m18s\u001b[0m 288ms/step\n",
      "Found 4000 images belonging to 8 classes.\n"
     ]
    },
    {
     "name": "stderr",
     "output_type": "stream",
     "text": [
      "/home/saulolv/PIBIC/TinyML/.venv/lib/python3.12/site-packages/keras/src/trainers/data_adapters/py_dataset_adapter.py:121: UserWarning: Your `PyDataset` class should call `super().__init__(**kwargs)` in its constructor. `**kwargs` can include `workers`, `use_multiprocessing`, `max_queue_size`. Do not pass these arguments to `fit()`, as they will be ignored.\n",
      "  self._warn_if_super_not_called()\n"
     ]
    },
    {
     "name": "stdout",
     "output_type": "stream",
     "text": [
      "\u001b[1m63/63\u001b[0m \u001b[32m━━━━━━━━━━━━━━━━━━━━\u001b[0m\u001b[37m\u001b[0m \u001b[1m16s\u001b[0m 255ms/step\n",
      "Found 4000 images belonging to 8 classes.\n"
     ]
    },
    {
     "name": "stderr",
     "output_type": "stream",
     "text": [
      "/home/saulolv/PIBIC/TinyML/.venv/lib/python3.12/site-packages/keras/src/trainers/data_adapters/py_dataset_adapter.py:121: UserWarning: Your `PyDataset` class should call `super().__init__(**kwargs)` in its constructor. `**kwargs` can include `workers`, `use_multiprocessing`, `max_queue_size`. Do not pass these arguments to `fit()`, as they will be ignored.\n",
      "  self._warn_if_super_not_called()\n"
     ]
    },
    {
     "name": "stdout",
     "output_type": "stream",
     "text": [
      "\u001b[1m63/63\u001b[0m \u001b[32m━━━━━━━━━━━━━━━━━━━━\u001b[0m\u001b[37m\u001b[0m \u001b[1m16s\u001b[0m 261ms/step\n",
      "Found 4000 images belonging to 8 classes.\n"
     ]
    },
    {
     "name": "stderr",
     "output_type": "stream",
     "text": [
      "/home/saulolv/PIBIC/TinyML/.venv/lib/python3.12/site-packages/keras/src/trainers/data_adapters/py_dataset_adapter.py:121: UserWarning: Your `PyDataset` class should call `super().__init__(**kwargs)` in its constructor. `**kwargs` can include `workers`, `use_multiprocessing`, `max_queue_size`. Do not pass these arguments to `fit()`, as they will be ignored.\n",
      "  self._warn_if_super_not_called()\n"
     ]
    },
    {
     "name": "stdout",
     "output_type": "stream",
     "text": [
      "\u001b[1m63/63\u001b[0m \u001b[32m━━━━━━━━━━━━━━━━━━━━\u001b[0m\u001b[37m\u001b[0m \u001b[1m17s\u001b[0m 264ms/step\n",
      "Found 4000 images belonging to 8 classes.\n"
     ]
    },
    {
     "name": "stderr",
     "output_type": "stream",
     "text": [
      "/home/saulolv/PIBIC/TinyML/.venv/lib/python3.12/site-packages/keras/src/trainers/data_adapters/py_dataset_adapter.py:121: UserWarning: Your `PyDataset` class should call `super().__init__(**kwargs)` in its constructor. `**kwargs` can include `workers`, `use_multiprocessing`, `max_queue_size`. Do not pass these arguments to `fit()`, as they will be ignored.\n",
      "  self._warn_if_super_not_called()\n"
     ]
    },
    {
     "name": "stdout",
     "output_type": "stream",
     "text": [
      "\u001b[1m63/63\u001b[0m \u001b[32m━━━━━━━━━━━━━━━━━━━━\u001b[0m\u001b[37m\u001b[0m \u001b[1m16s\u001b[0m 260ms/step\n",
      "Found 4000 images belonging to 8 classes.\n"
     ]
    },
    {
     "name": "stderr",
     "output_type": "stream",
     "text": [
      "/home/saulolv/PIBIC/TinyML/.venv/lib/python3.12/site-packages/keras/src/trainers/data_adapters/py_dataset_adapter.py:121: UserWarning: Your `PyDataset` class should call `super().__init__(**kwargs)` in its constructor. `**kwargs` can include `workers`, `use_multiprocessing`, `max_queue_size`. Do not pass these arguments to `fit()`, as they will be ignored.\n",
      "  self._warn_if_super_not_called()\n"
     ]
    },
    {
     "name": "stdout",
     "output_type": "stream",
     "text": [
      "\u001b[1m63/63\u001b[0m \u001b[32m━━━━━━━━━━━━━━━━━━━━\u001b[0m\u001b[37m\u001b[0m \u001b[1m16s\u001b[0m 253ms/step\n",
      "Found 4000 images belonging to 8 classes.\n"
     ]
    },
    {
     "name": "stderr",
     "output_type": "stream",
     "text": [
      "/home/saulolv/PIBIC/TinyML/.venv/lib/python3.12/site-packages/keras/src/trainers/data_adapters/py_dataset_adapter.py:121: UserWarning: Your `PyDataset` class should call `super().__init__(**kwargs)` in its constructor. `**kwargs` can include `workers`, `use_multiprocessing`, `max_queue_size`. Do not pass these arguments to `fit()`, as they will be ignored.\n",
      "  self._warn_if_super_not_called()\n"
     ]
    },
    {
     "name": "stdout",
     "output_type": "stream",
     "text": [
      "\u001b[1m63/63\u001b[0m \u001b[32m━━━━━━━━━━━━━━━━━━━━\u001b[0m\u001b[37m\u001b[0m \u001b[1m16s\u001b[0m 253ms/step\n",
      "Found 4000 images belonging to 8 classes.\n"
     ]
    },
    {
     "name": "stderr",
     "output_type": "stream",
     "text": [
      "/home/saulolv/PIBIC/TinyML/.venv/lib/python3.12/site-packages/keras/src/trainers/data_adapters/py_dataset_adapter.py:121: UserWarning: Your `PyDataset` class should call `super().__init__(**kwargs)` in its constructor. `**kwargs` can include `workers`, `use_multiprocessing`, `max_queue_size`. Do not pass these arguments to `fit()`, as they will be ignored.\n",
      "  self._warn_if_super_not_called()\n"
     ]
    },
    {
     "name": "stdout",
     "output_type": "stream",
     "text": [
      "\u001b[1m63/63\u001b[0m \u001b[32m━━━━━━━━━━━━━━━━━━━━\u001b[0m\u001b[37m\u001b[0m \u001b[1m16s\u001b[0m 259ms/step\n",
      "Found 4000 images belonging to 8 classes.\n"
     ]
    },
    {
     "name": "stderr",
     "output_type": "stream",
     "text": [
      "/home/saulolv/PIBIC/TinyML/.venv/lib/python3.12/site-packages/keras/src/trainers/data_adapters/py_dataset_adapter.py:121: UserWarning: Your `PyDataset` class should call `super().__init__(**kwargs)` in its constructor. `**kwargs` can include `workers`, `use_multiprocessing`, `max_queue_size`. Do not pass these arguments to `fit()`, as they will be ignored.\n",
      "  self._warn_if_super_not_called()\n"
     ]
    },
    {
     "name": "stdout",
     "output_type": "stream",
     "text": [
      "\u001b[1m63/63\u001b[0m \u001b[32m━━━━━━━━━━━━━━━━━━━━\u001b[0m\u001b[37m\u001b[0m \u001b[1m17s\u001b[0m 265ms/step\n",
      "Found 4000 images belonging to 8 classes.\n"
     ]
    },
    {
     "name": "stderr",
     "output_type": "stream",
     "text": [
      "/home/saulolv/PIBIC/TinyML/.venv/lib/python3.12/site-packages/keras/src/trainers/data_adapters/py_dataset_adapter.py:121: UserWarning: Your `PyDataset` class should call `super().__init__(**kwargs)` in its constructor. `**kwargs` can include `workers`, `use_multiprocessing`, `max_queue_size`. Do not pass these arguments to `fit()`, as they will be ignored.\n",
      "  self._warn_if_super_not_called()\n"
     ]
    },
    {
     "name": "stdout",
     "output_type": "stream",
     "text": [
      "\u001b[1m63/63\u001b[0m \u001b[32m━━━━━━━━━━━━━━━━━━━━\u001b[0m\u001b[37m\u001b[0m \u001b[1m17s\u001b[0m 263ms/step\n",
      "Found 4000 images belonging to 8 classes.\n"
     ]
    },
    {
     "name": "stderr",
     "output_type": "stream",
     "text": [
      "/home/saulolv/PIBIC/TinyML/.venv/lib/python3.12/site-packages/keras/src/trainers/data_adapters/py_dataset_adapter.py:121: UserWarning: Your `PyDataset` class should call `super().__init__(**kwargs)` in its constructor. `**kwargs` can include `workers`, `use_multiprocessing`, `max_queue_size`. Do not pass these arguments to `fit()`, as they will be ignored.\n",
      "  self._warn_if_super_not_called()\n"
     ]
    },
    {
     "name": "stdout",
     "output_type": "stream",
     "text": [
      "\u001b[1m63/63\u001b[0m \u001b[32m━━━━━━━━━━━━━━━━━━━━\u001b[0m\u001b[37m\u001b[0m \u001b[1m16s\u001b[0m 254ms/step\n",
      "Found 4000 images belonging to 8 classes.\n"
     ]
    },
    {
     "name": "stderr",
     "output_type": "stream",
     "text": [
      "/home/saulolv/PIBIC/TinyML/.venv/lib/python3.12/site-packages/keras/src/trainers/data_adapters/py_dataset_adapter.py:121: UserWarning: Your `PyDataset` class should call `super().__init__(**kwargs)` in its constructor. `**kwargs` can include `workers`, `use_multiprocessing`, `max_queue_size`. Do not pass these arguments to `fit()`, as they will be ignored.\n",
      "  self._warn_if_super_not_called()\n"
     ]
    },
    {
     "name": "stdout",
     "output_type": "stream",
     "text": [
      "\u001b[1m63/63\u001b[0m \u001b[32m━━━━━━━━━━━━━━━━━━━━\u001b[0m\u001b[37m\u001b[0m \u001b[1m16s\u001b[0m 253ms/step\n",
      "Found 4000 images belonging to 8 classes.\n"
     ]
    },
    {
     "name": "stderr",
     "output_type": "stream",
     "text": [
      "/home/saulolv/PIBIC/TinyML/.venv/lib/python3.12/site-packages/keras/src/trainers/data_adapters/py_dataset_adapter.py:121: UserWarning: Your `PyDataset` class should call `super().__init__(**kwargs)` in its constructor. `**kwargs` can include `workers`, `use_multiprocessing`, `max_queue_size`. Do not pass these arguments to `fit()`, as they will be ignored.\n",
      "  self._warn_if_super_not_called()\n"
     ]
    },
    {
     "name": "stdout",
     "output_type": "stream",
     "text": [
      "\u001b[1m63/63\u001b[0m \u001b[32m━━━━━━━━━━━━━━━━━━━━\u001b[0m\u001b[37m\u001b[0m \u001b[1m16s\u001b[0m 252ms/step\n",
      "Found 4000 images belonging to 8 classes.\n"
     ]
    },
    {
     "name": "stderr",
     "output_type": "stream",
     "text": [
      "/home/saulolv/PIBIC/TinyML/.venv/lib/python3.12/site-packages/keras/src/trainers/data_adapters/py_dataset_adapter.py:121: UserWarning: Your `PyDataset` class should call `super().__init__(**kwargs)` in its constructor. `**kwargs` can include `workers`, `use_multiprocessing`, `max_queue_size`. Do not pass these arguments to `fit()`, as they will be ignored.\n",
      "  self._warn_if_super_not_called()\n"
     ]
    },
    {
     "name": "stdout",
     "output_type": "stream",
     "text": [
      "\u001b[1m63/63\u001b[0m \u001b[32m━━━━━━━━━━━━━━━━━━━━\u001b[0m\u001b[37m\u001b[0m \u001b[1m16s\u001b[0m 252ms/step\n",
      "Found 4000 images belonging to 8 classes.\n"
     ]
    },
    {
     "name": "stderr",
     "output_type": "stream",
     "text": [
      "/home/saulolv/PIBIC/TinyML/.venv/lib/python3.12/site-packages/keras/src/trainers/data_adapters/py_dataset_adapter.py:121: UserWarning: Your `PyDataset` class should call `super().__init__(**kwargs)` in its constructor. `**kwargs` can include `workers`, `use_multiprocessing`, `max_queue_size`. Do not pass these arguments to `fit()`, as they will be ignored.\n",
      "  self._warn_if_super_not_called()\n"
     ]
    },
    {
     "name": "stdout",
     "output_type": "stream",
     "text": [
      "\u001b[1m63/63\u001b[0m \u001b[32m━━━━━━━━━━━━━━━━━━━━\u001b[0m\u001b[37m\u001b[0m \u001b[1m16s\u001b[0m 253ms/step\n",
      "Found 4000 images belonging to 8 classes.\n"
     ]
    },
    {
     "name": "stderr",
     "output_type": "stream",
     "text": [
      "/home/saulolv/PIBIC/TinyML/.venv/lib/python3.12/site-packages/keras/src/trainers/data_adapters/py_dataset_adapter.py:121: UserWarning: Your `PyDataset` class should call `super().__init__(**kwargs)` in its constructor. `**kwargs` can include `workers`, `use_multiprocessing`, `max_queue_size`. Do not pass these arguments to `fit()`, as they will be ignored.\n",
      "  self._warn_if_super_not_called()\n"
     ]
    },
    {
     "name": "stdout",
     "output_type": "stream",
     "text": [
      "\u001b[1m63/63\u001b[0m \u001b[32m━━━━━━━━━━━━━━━━━━━━\u001b[0m\u001b[37m\u001b[0m \u001b[1m18s\u001b[0m 279ms/step\n",
      "Found 4000 images belonging to 8 classes.\n"
     ]
    },
    {
     "name": "stderr",
     "output_type": "stream",
     "text": [
      "/home/saulolv/PIBIC/TinyML/.venv/lib/python3.12/site-packages/keras/src/trainers/data_adapters/py_dataset_adapter.py:121: UserWarning: Your `PyDataset` class should call `super().__init__(**kwargs)` in its constructor. `**kwargs` can include `workers`, `use_multiprocessing`, `max_queue_size`. Do not pass these arguments to `fit()`, as they will be ignored.\n",
      "  self._warn_if_super_not_called()\n"
     ]
    },
    {
     "name": "stdout",
     "output_type": "stream",
     "text": [
      "\u001b[1m63/63\u001b[0m \u001b[32m━━━━━━━━━━━━━━━━━━━━\u001b[0m\u001b[37m\u001b[0m \u001b[1m18s\u001b[0m 285ms/step\n",
      "Found 4000 images belonging to 8 classes.\n"
     ]
    },
    {
     "name": "stderr",
     "output_type": "stream",
     "text": [
      "/home/saulolv/PIBIC/TinyML/.venv/lib/python3.12/site-packages/keras/src/trainers/data_adapters/py_dataset_adapter.py:121: UserWarning: Your `PyDataset` class should call `super().__init__(**kwargs)` in its constructor. `**kwargs` can include `workers`, `use_multiprocessing`, `max_queue_size`. Do not pass these arguments to `fit()`, as they will be ignored.\n",
      "  self._warn_if_super_not_called()\n"
     ]
    },
    {
     "name": "stdout",
     "output_type": "stream",
     "text": [
      "\u001b[1m63/63\u001b[0m \u001b[32m━━━━━━━━━━━━━━━━━━━━\u001b[0m\u001b[37m\u001b[0m \u001b[1m17s\u001b[0m 272ms/step\n",
      "Found 4000 images belonging to 8 classes.\n"
     ]
    },
    {
     "name": "stderr",
     "output_type": "stream",
     "text": [
      "/home/saulolv/PIBIC/TinyML/.venv/lib/python3.12/site-packages/keras/src/trainers/data_adapters/py_dataset_adapter.py:121: UserWarning: Your `PyDataset` class should call `super().__init__(**kwargs)` in its constructor. `**kwargs` can include `workers`, `use_multiprocessing`, `max_queue_size`. Do not pass these arguments to `fit()`, as they will be ignored.\n",
      "  self._warn_if_super_not_called()\n"
     ]
    },
    {
     "name": "stdout",
     "output_type": "stream",
     "text": [
      "\u001b[1m63/63\u001b[0m \u001b[32m━━━━━━━━━━━━━━━━━━━━\u001b[0m\u001b[37m\u001b[0m \u001b[1m17s\u001b[0m 269ms/step\n",
      "Found 4000 images belonging to 8 classes.\n"
     ]
    },
    {
     "name": "stderr",
     "output_type": "stream",
     "text": [
      "/home/saulolv/PIBIC/TinyML/.venv/lib/python3.12/site-packages/keras/src/trainers/data_adapters/py_dataset_adapter.py:121: UserWarning: Your `PyDataset` class should call `super().__init__(**kwargs)` in its constructor. `**kwargs` can include `workers`, `use_multiprocessing`, `max_queue_size`. Do not pass these arguments to `fit()`, as they will be ignored.\n",
      "  self._warn_if_super_not_called()\n"
     ]
    },
    {
     "name": "stdout",
     "output_type": "stream",
     "text": [
      "\u001b[1m63/63\u001b[0m \u001b[32m━━━━━━━━━━━━━━━━━━━━\u001b[0m\u001b[37m\u001b[0m \u001b[1m17s\u001b[0m 270ms/step\n",
      "Found 4000 images belonging to 8 classes.\n"
     ]
    },
    {
     "name": "stderr",
     "output_type": "stream",
     "text": [
      "/home/saulolv/PIBIC/TinyML/.venv/lib/python3.12/site-packages/keras/src/trainers/data_adapters/py_dataset_adapter.py:121: UserWarning: Your `PyDataset` class should call `super().__init__(**kwargs)` in its constructor. `**kwargs` can include `workers`, `use_multiprocessing`, `max_queue_size`. Do not pass these arguments to `fit()`, as they will be ignored.\n",
      "  self._warn_if_super_not_called()\n"
     ]
    },
    {
     "name": "stdout",
     "output_type": "stream",
     "text": [
      "\u001b[1m63/63\u001b[0m \u001b[32m━━━━━━━━━━━━━━━━━━━━\u001b[0m\u001b[37m\u001b[0m \u001b[1m17s\u001b[0m 273ms/step\n",
      "Found 4000 images belonging to 8 classes.\n"
     ]
    },
    {
     "name": "stderr",
     "output_type": "stream",
     "text": [
      "/home/saulolv/PIBIC/TinyML/.venv/lib/python3.12/site-packages/keras/src/trainers/data_adapters/py_dataset_adapter.py:121: UserWarning: Your `PyDataset` class should call `super().__init__(**kwargs)` in its constructor. `**kwargs` can include `workers`, `use_multiprocessing`, `max_queue_size`. Do not pass these arguments to `fit()`, as they will be ignored.\n",
      "  self._warn_if_super_not_called()\n"
     ]
    },
    {
     "name": "stdout",
     "output_type": "stream",
     "text": [
      "\u001b[1m63/63\u001b[0m \u001b[32m━━━━━━━━━━━━━━━━━━━━\u001b[0m\u001b[37m\u001b[0m \u001b[1m16s\u001b[0m 258ms/step\n",
      "Found 4000 images belonging to 8 classes.\n"
     ]
    },
    {
     "name": "stderr",
     "output_type": "stream",
     "text": [
      "/home/saulolv/PIBIC/TinyML/.venv/lib/python3.12/site-packages/keras/src/trainers/data_adapters/py_dataset_adapter.py:121: UserWarning: Your `PyDataset` class should call `super().__init__(**kwargs)` in its constructor. `**kwargs` can include `workers`, `use_multiprocessing`, `max_queue_size`. Do not pass these arguments to `fit()`, as they will be ignored.\n",
      "  self._warn_if_super_not_called()\n"
     ]
    },
    {
     "name": "stdout",
     "output_type": "stream",
     "text": [
      "\u001b[1m63/63\u001b[0m \u001b[32m━━━━━━━━━━━━━━━━━━━━\u001b[0m\u001b[37m\u001b[0m \u001b[1m16s\u001b[0m 256ms/step\n",
      "Found 4000 images belonging to 8 classes.\n"
     ]
    },
    {
     "name": "stderr",
     "output_type": "stream",
     "text": [
      "/home/saulolv/PIBIC/TinyML/.venv/lib/python3.12/site-packages/keras/src/trainers/data_adapters/py_dataset_adapter.py:121: UserWarning: Your `PyDataset` class should call `super().__init__(**kwargs)` in its constructor. `**kwargs` can include `workers`, `use_multiprocessing`, `max_queue_size`. Do not pass these arguments to `fit()`, as they will be ignored.\n",
      "  self._warn_if_super_not_called()\n"
     ]
    },
    {
     "name": "stdout",
     "output_type": "stream",
     "text": [
      "\u001b[1m63/63\u001b[0m \u001b[32m━━━━━━━━━━━━━━━━━━━━\u001b[0m\u001b[37m\u001b[0m \u001b[1m17s\u001b[0m 270ms/step\n",
      "Found 4000 images belonging to 8 classes.\n"
     ]
    },
    {
     "name": "stderr",
     "output_type": "stream",
     "text": [
      "/home/saulolv/PIBIC/TinyML/.venv/lib/python3.12/site-packages/keras/src/trainers/data_adapters/py_dataset_adapter.py:121: UserWarning: Your `PyDataset` class should call `super().__init__(**kwargs)` in its constructor. `**kwargs` can include `workers`, `use_multiprocessing`, `max_queue_size`. Do not pass these arguments to `fit()`, as they will be ignored.\n",
      "  self._warn_if_super_not_called()\n"
     ]
    },
    {
     "name": "stdout",
     "output_type": "stream",
     "text": [
      "\u001b[1m63/63\u001b[0m \u001b[32m━━━━━━━━━━━━━━━━━━━━\u001b[0m\u001b[37m\u001b[0m \u001b[1m17s\u001b[0m 266ms/step\n",
      "Found 4000 images belonging to 8 classes.\n"
     ]
    },
    {
     "name": "stderr",
     "output_type": "stream",
     "text": [
      "/home/saulolv/PIBIC/TinyML/.venv/lib/python3.12/site-packages/keras/src/trainers/data_adapters/py_dataset_adapter.py:121: UserWarning: Your `PyDataset` class should call `super().__init__(**kwargs)` in its constructor. `**kwargs` can include `workers`, `use_multiprocessing`, `max_queue_size`. Do not pass these arguments to `fit()`, as they will be ignored.\n",
      "  self._warn_if_super_not_called()\n"
     ]
    },
    {
     "name": "stdout",
     "output_type": "stream",
     "text": [
      "\u001b[1m63/63\u001b[0m \u001b[32m━━━━━━━━━━━━━━━━━━━━\u001b[0m\u001b[37m\u001b[0m \u001b[1m18s\u001b[0m 289ms/step\n",
      "Found 4000 images belonging to 8 classes.\n"
     ]
    },
    {
     "name": "stderr",
     "output_type": "stream",
     "text": [
      "/home/saulolv/PIBIC/TinyML/.venv/lib/python3.12/site-packages/keras/src/trainers/data_adapters/py_dataset_adapter.py:121: UserWarning: Your `PyDataset` class should call `super().__init__(**kwargs)` in its constructor. `**kwargs` can include `workers`, `use_multiprocessing`, `max_queue_size`. Do not pass these arguments to `fit()`, as they will be ignored.\n",
      "  self._warn_if_super_not_called()\n"
     ]
    },
    {
     "name": "stdout",
     "output_type": "stream",
     "text": [
      "\u001b[1m63/63\u001b[0m \u001b[32m━━━━━━━━━━━━━━━━━━━━\u001b[0m\u001b[37m\u001b[0m \u001b[1m17s\u001b[0m 263ms/step\n",
      "Found 4000 images belonging to 8 classes.\n"
     ]
    },
    {
     "name": "stderr",
     "output_type": "stream",
     "text": [
      "/home/saulolv/PIBIC/TinyML/.venv/lib/python3.12/site-packages/keras/src/trainers/data_adapters/py_dataset_adapter.py:121: UserWarning: Your `PyDataset` class should call `super().__init__(**kwargs)` in its constructor. `**kwargs` can include `workers`, `use_multiprocessing`, `max_queue_size`. Do not pass these arguments to `fit()`, as they will be ignored.\n",
      "  self._warn_if_super_not_called()\n"
     ]
    },
    {
     "name": "stdout",
     "output_type": "stream",
     "text": [
      "\u001b[1m63/63\u001b[0m \u001b[32m━━━━━━━━━━━━━━━━━━━━\u001b[0m\u001b[37m\u001b[0m \u001b[1m15s\u001b[0m 244ms/step\n",
      "Found 4000 images belonging to 8 classes.\n"
     ]
    },
    {
     "name": "stderr",
     "output_type": "stream",
     "text": [
      "/home/saulolv/PIBIC/TinyML/.venv/lib/python3.12/site-packages/keras/src/trainers/data_adapters/py_dataset_adapter.py:121: UserWarning: Your `PyDataset` class should call `super().__init__(**kwargs)` in its constructor. `**kwargs` can include `workers`, `use_multiprocessing`, `max_queue_size`. Do not pass these arguments to `fit()`, as they will be ignored.\n",
      "  self._warn_if_super_not_called()\n"
     ]
    },
    {
     "name": "stdout",
     "output_type": "stream",
     "text": [
      "\u001b[1m63/63\u001b[0m \u001b[32m━━━━━━━━━━━━━━━━━━━━\u001b[0m\u001b[37m\u001b[0m \u001b[1m17s\u001b[0m 261ms/step\n",
      "Found 4000 images belonging to 8 classes.\n"
     ]
    },
    {
     "name": "stderr",
     "output_type": "stream",
     "text": [
      "/home/saulolv/PIBIC/TinyML/.venv/lib/python3.12/site-packages/keras/src/trainers/data_adapters/py_dataset_adapter.py:121: UserWarning: Your `PyDataset` class should call `super().__init__(**kwargs)` in its constructor. `**kwargs` can include `workers`, `use_multiprocessing`, `max_queue_size`. Do not pass these arguments to `fit()`, as they will be ignored.\n",
      "  self._warn_if_super_not_called()\n"
     ]
    },
    {
     "name": "stdout",
     "output_type": "stream",
     "text": [
      "\u001b[1m63/63\u001b[0m \u001b[32m━━━━━━━━━━━━━━━━━━━━\u001b[0m\u001b[37m\u001b[0m \u001b[1m15s\u001b[0m 233ms/step\n",
      "Found 4000 images belonging to 8 classes.\n"
     ]
    },
    {
     "name": "stderr",
     "output_type": "stream",
     "text": [
      "/home/saulolv/PIBIC/TinyML/.venv/lib/python3.12/site-packages/keras/src/trainers/data_adapters/py_dataset_adapter.py:121: UserWarning: Your `PyDataset` class should call `super().__init__(**kwargs)` in its constructor. `**kwargs` can include `workers`, `use_multiprocessing`, `max_queue_size`. Do not pass these arguments to `fit()`, as they will be ignored.\n",
      "  self._warn_if_super_not_called()\n"
     ]
    },
    {
     "name": "stdout",
     "output_type": "stream",
     "text": [
      "\u001b[1m63/63\u001b[0m \u001b[32m━━━━━━━━━━━━━━━━━━━━\u001b[0m\u001b[37m\u001b[0m \u001b[1m15s\u001b[0m 244ms/step\n",
      "Found 4000 images belonging to 8 classes.\n"
     ]
    },
    {
     "name": "stderr",
     "output_type": "stream",
     "text": [
      "/home/saulolv/PIBIC/TinyML/.venv/lib/python3.12/site-packages/keras/src/trainers/data_adapters/py_dataset_adapter.py:121: UserWarning: Your `PyDataset` class should call `super().__init__(**kwargs)` in its constructor. `**kwargs` can include `workers`, `use_multiprocessing`, `max_queue_size`. Do not pass these arguments to `fit()`, as they will be ignored.\n",
      "  self._warn_if_super_not_called()\n"
     ]
    },
    {
     "name": "stdout",
     "output_type": "stream",
     "text": [
      "\u001b[1m63/63\u001b[0m \u001b[32m━━━━━━━━━━━━━━━━━━━━\u001b[0m\u001b[37m\u001b[0m \u001b[1m16s\u001b[0m 248ms/step\n",
      "Found 4000 images belonging to 8 classes.\n"
     ]
    },
    {
     "name": "stderr",
     "output_type": "stream",
     "text": [
      "/home/saulolv/PIBIC/TinyML/.venv/lib/python3.12/site-packages/keras/src/trainers/data_adapters/py_dataset_adapter.py:121: UserWarning: Your `PyDataset` class should call `super().__init__(**kwargs)` in its constructor. `**kwargs` can include `workers`, `use_multiprocessing`, `max_queue_size`. Do not pass these arguments to `fit()`, as they will be ignored.\n",
      "  self._warn_if_super_not_called()\n"
     ]
    },
    {
     "name": "stdout",
     "output_type": "stream",
     "text": [
      "\u001b[1m63/63\u001b[0m \u001b[32m━━━━━━━━━━━━━━━━━━━━\u001b[0m\u001b[37m\u001b[0m \u001b[1m14s\u001b[0m 226ms/step\n",
      "Found 4000 images belonging to 8 classes.\n"
     ]
    },
    {
     "name": "stderr",
     "output_type": "stream",
     "text": [
      "/home/saulolv/PIBIC/TinyML/.venv/lib/python3.12/site-packages/keras/src/trainers/data_adapters/py_dataset_adapter.py:121: UserWarning: Your `PyDataset` class should call `super().__init__(**kwargs)` in its constructor. `**kwargs` can include `workers`, `use_multiprocessing`, `max_queue_size`. Do not pass these arguments to `fit()`, as they will be ignored.\n",
      "  self._warn_if_super_not_called()\n"
     ]
    },
    {
     "name": "stdout",
     "output_type": "stream",
     "text": [
      "\u001b[1m63/63\u001b[0m \u001b[32m━━━━━━━━━━━━━━━━━━━━\u001b[0m\u001b[37m\u001b[0m \u001b[1m14s\u001b[0m 223ms/step\n",
      "Found 4000 images belonging to 8 classes.\n"
     ]
    },
    {
     "name": "stderr",
     "output_type": "stream",
     "text": [
      "/home/saulolv/PIBIC/TinyML/.venv/lib/python3.12/site-packages/keras/src/trainers/data_adapters/py_dataset_adapter.py:121: UserWarning: Your `PyDataset` class should call `super().__init__(**kwargs)` in its constructor. `**kwargs` can include `workers`, `use_multiprocessing`, `max_queue_size`. Do not pass these arguments to `fit()`, as they will be ignored.\n",
      "  self._warn_if_super_not_called()\n"
     ]
    },
    {
     "name": "stdout",
     "output_type": "stream",
     "text": [
      "\u001b[1m63/63\u001b[0m \u001b[32m━━━━━━━━━━━━━━━━━━━━\u001b[0m\u001b[37m\u001b[0m \u001b[1m14s\u001b[0m 225ms/step\n",
      "Found 4000 images belonging to 8 classes.\n"
     ]
    },
    {
     "name": "stderr",
     "output_type": "stream",
     "text": [
      "/home/saulolv/PIBIC/TinyML/.venv/lib/python3.12/site-packages/keras/src/trainers/data_adapters/py_dataset_adapter.py:121: UserWarning: Your `PyDataset` class should call `super().__init__(**kwargs)` in its constructor. `**kwargs` can include `workers`, `use_multiprocessing`, `max_queue_size`. Do not pass these arguments to `fit()`, as they will be ignored.\n",
      "  self._warn_if_super_not_called()\n"
     ]
    },
    {
     "name": "stdout",
     "output_type": "stream",
     "text": [
      "\u001b[1m63/63\u001b[0m \u001b[32m━━━━━━━━━━━━━━━━━━━━\u001b[0m\u001b[37m\u001b[0m \u001b[1m15s\u001b[0m 238ms/step\n",
      "Found 4000 images belonging to 8 classes.\n"
     ]
    },
    {
     "name": "stderr",
     "output_type": "stream",
     "text": [
      "/home/saulolv/PIBIC/TinyML/.venv/lib/python3.12/site-packages/keras/src/trainers/data_adapters/py_dataset_adapter.py:121: UserWarning: Your `PyDataset` class should call `super().__init__(**kwargs)` in its constructor. `**kwargs` can include `workers`, `use_multiprocessing`, `max_queue_size`. Do not pass these arguments to `fit()`, as they will be ignored.\n",
      "  self._warn_if_super_not_called()\n"
     ]
    },
    {
     "name": "stdout",
     "output_type": "stream",
     "text": [
      "\u001b[1m63/63\u001b[0m \u001b[32m━━━━━━━━━━━━━━━━━━━━\u001b[0m\u001b[37m\u001b[0m \u001b[1m16s\u001b[0m 251ms/step\n",
      "Found 4000 images belonging to 8 classes.\n"
     ]
    },
    {
     "name": "stderr",
     "output_type": "stream",
     "text": [
      "/home/saulolv/PIBIC/TinyML/.venv/lib/python3.12/site-packages/keras/src/trainers/data_adapters/py_dataset_adapter.py:121: UserWarning: Your `PyDataset` class should call `super().__init__(**kwargs)` in its constructor. `**kwargs` can include `workers`, `use_multiprocessing`, `max_queue_size`. Do not pass these arguments to `fit()`, as they will be ignored.\n",
      "  self._warn_if_super_not_called()\n"
     ]
    },
    {
     "name": "stdout",
     "output_type": "stream",
     "text": [
      "\u001b[1m63/63\u001b[0m \u001b[32m━━━━━━━━━━━━━━━━━━━━\u001b[0m\u001b[37m\u001b[0m \u001b[1m15s\u001b[0m 235ms/step\n",
      "Found 4000 images belonging to 8 classes.\n"
     ]
    },
    {
     "name": "stderr",
     "output_type": "stream",
     "text": [
      "/home/saulolv/PIBIC/TinyML/.venv/lib/python3.12/site-packages/keras/src/trainers/data_adapters/py_dataset_adapter.py:121: UserWarning: Your `PyDataset` class should call `super().__init__(**kwargs)` in its constructor. `**kwargs` can include `workers`, `use_multiprocessing`, `max_queue_size`. Do not pass these arguments to `fit()`, as they will be ignored.\n",
      "  self._warn_if_super_not_called()\n"
     ]
    },
    {
     "name": "stdout",
     "output_type": "stream",
     "text": [
      "\u001b[1m63/63\u001b[0m \u001b[32m━━━━━━━━━━━━━━━━━━━━\u001b[0m\u001b[37m\u001b[0m \u001b[1m15s\u001b[0m 237ms/step\n",
      "Found 4000 images belonging to 8 classes.\n"
     ]
    },
    {
     "name": "stderr",
     "output_type": "stream",
     "text": [
      "/home/saulolv/PIBIC/TinyML/.venv/lib/python3.12/site-packages/keras/src/trainers/data_adapters/py_dataset_adapter.py:121: UserWarning: Your `PyDataset` class should call `super().__init__(**kwargs)` in its constructor. `**kwargs` can include `workers`, `use_multiprocessing`, `max_queue_size`. Do not pass these arguments to `fit()`, as they will be ignored.\n",
      "  self._warn_if_super_not_called()\n"
     ]
    },
    {
     "name": "stdout",
     "output_type": "stream",
     "text": [
      "\u001b[1m63/63\u001b[0m \u001b[32m━━━━━━━━━━━━━━━━━━━━\u001b[0m\u001b[37m\u001b[0m \u001b[1m16s\u001b[0m 249ms/step\n",
      "Found 4000 images belonging to 8 classes.\n"
     ]
    },
    {
     "name": "stderr",
     "output_type": "stream",
     "text": [
      "/home/saulolv/PIBIC/TinyML/.venv/lib/python3.12/site-packages/keras/src/trainers/data_adapters/py_dataset_adapter.py:121: UserWarning: Your `PyDataset` class should call `super().__init__(**kwargs)` in its constructor. `**kwargs` can include `workers`, `use_multiprocessing`, `max_queue_size`. Do not pass these arguments to `fit()`, as they will be ignored.\n",
      "  self._warn_if_super_not_called()\n"
     ]
    },
    {
     "name": "stdout",
     "output_type": "stream",
     "text": [
      "\u001b[1m63/63\u001b[0m \u001b[32m━━━━━━━━━━━━━━━━━━━━\u001b[0m\u001b[37m\u001b[0m \u001b[1m18s\u001b[0m 279ms/step\n",
      "Found 4000 images belonging to 8 classes.\n"
     ]
    },
    {
     "name": "stderr",
     "output_type": "stream",
     "text": [
      "/home/saulolv/PIBIC/TinyML/.venv/lib/python3.12/site-packages/keras/src/trainers/data_adapters/py_dataset_adapter.py:121: UserWarning: Your `PyDataset` class should call `super().__init__(**kwargs)` in its constructor. `**kwargs` can include `workers`, `use_multiprocessing`, `max_queue_size`. Do not pass these arguments to `fit()`, as they will be ignored.\n",
      "  self._warn_if_super_not_called()\n"
     ]
    },
    {
     "name": "stdout",
     "output_type": "stream",
     "text": [
      "\u001b[1m63/63\u001b[0m \u001b[32m━━━━━━━━━━━━━━━━━━━━\u001b[0m\u001b[37m\u001b[0m \u001b[1m18s\u001b[0m 288ms/step\n",
      "Found 4000 images belonging to 8 classes.\n"
     ]
    },
    {
     "name": "stderr",
     "output_type": "stream",
     "text": [
      "/home/saulolv/PIBIC/TinyML/.venv/lib/python3.12/site-packages/keras/src/trainers/data_adapters/py_dataset_adapter.py:121: UserWarning: Your `PyDataset` class should call `super().__init__(**kwargs)` in its constructor. `**kwargs` can include `workers`, `use_multiprocessing`, `max_queue_size`. Do not pass these arguments to `fit()`, as they will be ignored.\n",
      "  self._warn_if_super_not_called()\n"
     ]
    },
    {
     "name": "stdout",
     "output_type": "stream",
     "text": [
      "\u001b[1m63/63\u001b[0m \u001b[32m━━━━━━━━━━━━━━━━━━━━\u001b[0m\u001b[37m\u001b[0m \u001b[1m18s\u001b[0m 280ms/step\n",
      "Found 4000 images belonging to 8 classes.\n"
     ]
    },
    {
     "name": "stderr",
     "output_type": "stream",
     "text": [
      "/home/saulolv/PIBIC/TinyML/.venv/lib/python3.12/site-packages/keras/src/trainers/data_adapters/py_dataset_adapter.py:121: UserWarning: Your `PyDataset` class should call `super().__init__(**kwargs)` in its constructor. `**kwargs` can include `workers`, `use_multiprocessing`, `max_queue_size`. Do not pass these arguments to `fit()`, as they will be ignored.\n",
      "  self._warn_if_super_not_called()\n"
     ]
    },
    {
     "name": "stdout",
     "output_type": "stream",
     "text": [
      "\u001b[1m63/63\u001b[0m \u001b[32m━━━━━━━━━━━━━━━━━━━━\u001b[0m\u001b[37m\u001b[0m \u001b[1m16s\u001b[0m 250ms/step\n",
      "Found 4000 images belonging to 8 classes.\n"
     ]
    },
    {
     "name": "stderr",
     "output_type": "stream",
     "text": [
      "/home/saulolv/PIBIC/TinyML/.venv/lib/python3.12/site-packages/keras/src/trainers/data_adapters/py_dataset_adapter.py:121: UserWarning: Your `PyDataset` class should call `super().__init__(**kwargs)` in its constructor. `**kwargs` can include `workers`, `use_multiprocessing`, `max_queue_size`. Do not pass these arguments to `fit()`, as they will be ignored.\n",
      "  self._warn_if_super_not_called()\n"
     ]
    },
    {
     "name": "stdout",
     "output_type": "stream",
     "text": [
      "\u001b[1m63/63\u001b[0m \u001b[32m━━━━━━━━━━━━━━━━━━━━\u001b[0m\u001b[37m\u001b[0m \u001b[1m14s\u001b[0m 214ms/step\n",
      "Found 4000 images belonging to 8 classes.\n"
     ]
    },
    {
     "name": "stderr",
     "output_type": "stream",
     "text": [
      "/home/saulolv/PIBIC/TinyML/.venv/lib/python3.12/site-packages/keras/src/trainers/data_adapters/py_dataset_adapter.py:121: UserWarning: Your `PyDataset` class should call `super().__init__(**kwargs)` in its constructor. `**kwargs` can include `workers`, `use_multiprocessing`, `max_queue_size`. Do not pass these arguments to `fit()`, as they will be ignored.\n",
      "  self._warn_if_super_not_called()\n"
     ]
    },
    {
     "name": "stdout",
     "output_type": "stream",
     "text": [
      "\u001b[1m63/63\u001b[0m \u001b[32m━━━━━━━━━━━━━━━━━━━━\u001b[0m\u001b[37m\u001b[0m \u001b[1m14s\u001b[0m 217ms/step\n",
      "Found 4000 images belonging to 8 classes.\n"
     ]
    },
    {
     "name": "stderr",
     "output_type": "stream",
     "text": [
      "/home/saulolv/PIBIC/TinyML/.venv/lib/python3.12/site-packages/keras/src/trainers/data_adapters/py_dataset_adapter.py:121: UserWarning: Your `PyDataset` class should call `super().__init__(**kwargs)` in its constructor. `**kwargs` can include `workers`, `use_multiprocessing`, `max_queue_size`. Do not pass these arguments to `fit()`, as they will be ignored.\n",
      "  self._warn_if_super_not_called()\n"
     ]
    },
    {
     "name": "stdout",
     "output_type": "stream",
     "text": [
      "\u001b[1m63/63\u001b[0m \u001b[32m━━━━━━━━━━━━━━━━━━━━\u001b[0m\u001b[37m\u001b[0m \u001b[1m14s\u001b[0m 216ms/step\n",
      "Found 4000 images belonging to 8 classes.\n"
     ]
    },
    {
     "name": "stderr",
     "output_type": "stream",
     "text": [
      "/home/saulolv/PIBIC/TinyML/.venv/lib/python3.12/site-packages/keras/src/trainers/data_adapters/py_dataset_adapter.py:121: UserWarning: Your `PyDataset` class should call `super().__init__(**kwargs)` in its constructor. `**kwargs` can include `workers`, `use_multiprocessing`, `max_queue_size`. Do not pass these arguments to `fit()`, as they will be ignored.\n",
      "  self._warn_if_super_not_called()\n"
     ]
    },
    {
     "name": "stdout",
     "output_type": "stream",
     "text": [
      "\u001b[1m63/63\u001b[0m \u001b[32m━━━━━━━━━━━━━━━━━━━━\u001b[0m\u001b[37m\u001b[0m \u001b[1m15s\u001b[0m 242ms/step\n",
      "Found 4000 images belonging to 8 classes.\n"
     ]
    },
    {
     "name": "stderr",
     "output_type": "stream",
     "text": [
      "/home/saulolv/PIBIC/TinyML/.venv/lib/python3.12/site-packages/keras/src/trainers/data_adapters/py_dataset_adapter.py:121: UserWarning: Your `PyDataset` class should call `super().__init__(**kwargs)` in its constructor. `**kwargs` can include `workers`, `use_multiprocessing`, `max_queue_size`. Do not pass these arguments to `fit()`, as they will be ignored.\n",
      "  self._warn_if_super_not_called()\n"
     ]
    },
    {
     "name": "stdout",
     "output_type": "stream",
     "text": [
      "\u001b[1m63/63\u001b[0m \u001b[32m━━━━━━━━━━━━━━━━━━━━\u001b[0m\u001b[37m\u001b[0m \u001b[1m17s\u001b[0m 274ms/step\n",
      "Found 4000 images belonging to 8 classes.\n"
     ]
    },
    {
     "name": "stderr",
     "output_type": "stream",
     "text": [
      "/home/saulolv/PIBIC/TinyML/.venv/lib/python3.12/site-packages/keras/src/trainers/data_adapters/py_dataset_adapter.py:121: UserWarning: Your `PyDataset` class should call `super().__init__(**kwargs)` in its constructor. `**kwargs` can include `workers`, `use_multiprocessing`, `max_queue_size`. Do not pass these arguments to `fit()`, as they will be ignored.\n",
      "  self._warn_if_super_not_called()\n"
     ]
    },
    {
     "name": "stdout",
     "output_type": "stream",
     "text": [
      "\u001b[1m63/63\u001b[0m \u001b[32m━━━━━━━━━━━━━━━━━━━━\u001b[0m\u001b[37m\u001b[0m \u001b[1m29s\u001b[0m 458ms/step\n",
      "Found 4000 images belonging to 8 classes.\n"
     ]
    },
    {
     "name": "stderr",
     "output_type": "stream",
     "text": [
      "/home/saulolv/PIBIC/TinyML/.venv/lib/python3.12/site-packages/keras/src/trainers/data_adapters/py_dataset_adapter.py:121: UserWarning: Your `PyDataset` class should call `super().__init__(**kwargs)` in its constructor. `**kwargs` can include `workers`, `use_multiprocessing`, `max_queue_size`. Do not pass these arguments to `fit()`, as they will be ignored.\n",
      "  self._warn_if_super_not_called()\n"
     ]
    },
    {
     "name": "stdout",
     "output_type": "stream",
     "text": [
      "\u001b[1m63/63\u001b[0m \u001b[32m━━━━━━━━━━━━━━━━━━━━\u001b[0m\u001b[37m\u001b[0m \u001b[1m32s\u001b[0m 494ms/step\n",
      "Found 4000 images belonging to 8 classes.\n"
     ]
    },
    {
     "name": "stderr",
     "output_type": "stream",
     "text": [
      "/home/saulolv/PIBIC/TinyML/.venv/lib/python3.12/site-packages/keras/src/trainers/data_adapters/py_dataset_adapter.py:121: UserWarning: Your `PyDataset` class should call `super().__init__(**kwargs)` in its constructor. `**kwargs` can include `workers`, `use_multiprocessing`, `max_queue_size`. Do not pass these arguments to `fit()`, as they will be ignored.\n",
      "  self._warn_if_super_not_called()\n"
     ]
    },
    {
     "name": "stdout",
     "output_type": "stream",
     "text": [
      "\u001b[1m63/63\u001b[0m \u001b[32m━━━━━━━━━━━━━━━━━━━━\u001b[0m\u001b[37m\u001b[0m \u001b[1m23s\u001b[0m 360ms/step\n",
      "Found 4000 images belonging to 8 classes.\n"
     ]
    },
    {
     "name": "stderr",
     "output_type": "stream",
     "text": [
      "/home/saulolv/PIBIC/TinyML/.venv/lib/python3.12/site-packages/keras/src/trainers/data_adapters/py_dataset_adapter.py:121: UserWarning: Your `PyDataset` class should call `super().__init__(**kwargs)` in its constructor. `**kwargs` can include `workers`, `use_multiprocessing`, `max_queue_size`. Do not pass these arguments to `fit()`, as they will be ignored.\n",
      "  self._warn_if_super_not_called()\n"
     ]
    },
    {
     "name": "stdout",
     "output_type": "stream",
     "text": [
      "\u001b[1m63/63\u001b[0m \u001b[32m━━━━━━━━━━━━━━━━━━━━\u001b[0m\u001b[37m\u001b[0m \u001b[1m18s\u001b[0m 284ms/step\n",
      "Found 4000 images belonging to 8 classes.\n"
     ]
    },
    {
     "name": "stderr",
     "output_type": "stream",
     "text": [
      "/home/saulolv/PIBIC/TinyML/.venv/lib/python3.12/site-packages/keras/src/trainers/data_adapters/py_dataset_adapter.py:121: UserWarning: Your `PyDataset` class should call `super().__init__(**kwargs)` in its constructor. `**kwargs` can include `workers`, `use_multiprocessing`, `max_queue_size`. Do not pass these arguments to `fit()`, as they will be ignored.\n",
      "  self._warn_if_super_not_called()\n"
     ]
    },
    {
     "name": "stdout",
     "output_type": "stream",
     "text": [
      "\u001b[1m63/63\u001b[0m \u001b[32m━━━━━━━━━━━━━━━━━━━━\u001b[0m\u001b[37m\u001b[0m \u001b[1m16s\u001b[0m 255ms/step\n",
      "Found 4000 images belonging to 8 classes.\n"
     ]
    },
    {
     "name": "stderr",
     "output_type": "stream",
     "text": [
      "/home/saulolv/PIBIC/TinyML/.venv/lib/python3.12/site-packages/keras/src/trainers/data_adapters/py_dataset_adapter.py:121: UserWarning: Your `PyDataset` class should call `super().__init__(**kwargs)` in its constructor. `**kwargs` can include `workers`, `use_multiprocessing`, `max_queue_size`. Do not pass these arguments to `fit()`, as they will be ignored.\n",
      "  self._warn_if_super_not_called()\n"
     ]
    },
    {
     "name": "stdout",
     "output_type": "stream",
     "text": [
      "\u001b[1m63/63\u001b[0m \u001b[32m━━━━━━━━━━━━━━━━━━━━\u001b[0m\u001b[37m\u001b[0m \u001b[1m17s\u001b[0m 265ms/step\n",
      "Found 4000 images belonging to 8 classes.\n"
     ]
    },
    {
     "name": "stderr",
     "output_type": "stream",
     "text": [
      "/home/saulolv/PIBIC/TinyML/.venv/lib/python3.12/site-packages/keras/src/trainers/data_adapters/py_dataset_adapter.py:121: UserWarning: Your `PyDataset` class should call `super().__init__(**kwargs)` in its constructor. `**kwargs` can include `workers`, `use_multiprocessing`, `max_queue_size`. Do not pass these arguments to `fit()`, as they will be ignored.\n",
      "  self._warn_if_super_not_called()\n"
     ]
    },
    {
     "name": "stdout",
     "output_type": "stream",
     "text": [
      "\u001b[1m63/63\u001b[0m \u001b[32m━━━━━━━━━━━━━━━━━━━━\u001b[0m\u001b[37m\u001b[0m \u001b[1m18s\u001b[0m 275ms/step\n",
      "Found 4000 images belonging to 8 classes.\n"
     ]
    },
    {
     "name": "stderr",
     "output_type": "stream",
     "text": [
      "/home/saulolv/PIBIC/TinyML/.venv/lib/python3.12/site-packages/keras/src/trainers/data_adapters/py_dataset_adapter.py:121: UserWarning: Your `PyDataset` class should call `super().__init__(**kwargs)` in its constructor. `**kwargs` can include `workers`, `use_multiprocessing`, `max_queue_size`. Do not pass these arguments to `fit()`, as they will be ignored.\n",
      "  self._warn_if_super_not_called()\n"
     ]
    },
    {
     "name": "stdout",
     "output_type": "stream",
     "text": [
      "\u001b[1m63/63\u001b[0m \u001b[32m━━━━━━━━━━━━━━━━━━━━\u001b[0m\u001b[37m\u001b[0m \u001b[1m17s\u001b[0m 271ms/step\n",
      "Found 4000 images belonging to 8 classes.\n"
     ]
    },
    {
     "name": "stderr",
     "output_type": "stream",
     "text": [
      "/home/saulolv/PIBIC/TinyML/.venv/lib/python3.12/site-packages/keras/src/trainers/data_adapters/py_dataset_adapter.py:121: UserWarning: Your `PyDataset` class should call `super().__init__(**kwargs)` in its constructor. `**kwargs` can include `workers`, `use_multiprocessing`, `max_queue_size`. Do not pass these arguments to `fit()`, as they will be ignored.\n",
      "  self._warn_if_super_not_called()\n"
     ]
    },
    {
     "name": "stdout",
     "output_type": "stream",
     "text": [
      "\u001b[1m63/63\u001b[0m \u001b[32m━━━━━━━━━━━━━━━━━━━━\u001b[0m\u001b[37m\u001b[0m \u001b[1m17s\u001b[0m 273ms/step\n",
      "Found 4000 images belonging to 8 classes.\n"
     ]
    },
    {
     "name": "stderr",
     "output_type": "stream",
     "text": [
      "/home/saulolv/PIBIC/TinyML/.venv/lib/python3.12/site-packages/keras/src/trainers/data_adapters/py_dataset_adapter.py:121: UserWarning: Your `PyDataset` class should call `super().__init__(**kwargs)` in its constructor. `**kwargs` can include `workers`, `use_multiprocessing`, `max_queue_size`. Do not pass these arguments to `fit()`, as they will be ignored.\n",
      "  self._warn_if_super_not_called()\n"
     ]
    },
    {
     "name": "stdout",
     "output_type": "stream",
     "text": [
      "\u001b[1m63/63\u001b[0m \u001b[32m━━━━━━━━━━━━━━━━━━━━\u001b[0m\u001b[37m\u001b[0m \u001b[1m16s\u001b[0m 248ms/step\n",
      "Found 4000 images belonging to 8 classes.\n"
     ]
    },
    {
     "name": "stderr",
     "output_type": "stream",
     "text": [
      "/home/saulolv/PIBIC/TinyML/.venv/lib/python3.12/site-packages/keras/src/trainers/data_adapters/py_dataset_adapter.py:121: UserWarning: Your `PyDataset` class should call `super().__init__(**kwargs)` in its constructor. `**kwargs` can include `workers`, `use_multiprocessing`, `max_queue_size`. Do not pass these arguments to `fit()`, as they will be ignored.\n",
      "  self._warn_if_super_not_called()\n"
     ]
    },
    {
     "name": "stdout",
     "output_type": "stream",
     "text": [
      "\u001b[1m63/63\u001b[0m \u001b[32m━━━━━━━━━━━━━━━━━━━━\u001b[0m\u001b[37m\u001b[0m \u001b[1m17s\u001b[0m 263ms/step\n",
      "Found 4000 images belonging to 8 classes.\n"
     ]
    },
    {
     "name": "stderr",
     "output_type": "stream",
     "text": [
      "/home/saulolv/PIBIC/TinyML/.venv/lib/python3.12/site-packages/keras/src/trainers/data_adapters/py_dataset_adapter.py:121: UserWarning: Your `PyDataset` class should call `super().__init__(**kwargs)` in its constructor. `**kwargs` can include `workers`, `use_multiprocessing`, `max_queue_size`. Do not pass these arguments to `fit()`, as they will be ignored.\n",
      "  self._warn_if_super_not_called()\n"
     ]
    },
    {
     "name": "stdout",
     "output_type": "stream",
     "text": [
      "\u001b[1m63/63\u001b[0m \u001b[32m━━━━━━━━━━━━━━━━━━━━\u001b[0m\u001b[37m\u001b[0m \u001b[1m23s\u001b[0m 372ms/step\n",
      "Found 4000 images belonging to 8 classes.\n"
     ]
    },
    {
     "name": "stderr",
     "output_type": "stream",
     "text": [
      "/home/saulolv/PIBIC/TinyML/.venv/lib/python3.12/site-packages/keras/src/trainers/data_adapters/py_dataset_adapter.py:121: UserWarning: Your `PyDataset` class should call `super().__init__(**kwargs)` in its constructor. `**kwargs` can include `workers`, `use_multiprocessing`, `max_queue_size`. Do not pass these arguments to `fit()`, as they will be ignored.\n",
      "  self._warn_if_super_not_called()\n"
     ]
    },
    {
     "name": "stdout",
     "output_type": "stream",
     "text": [
      "\u001b[1m63/63\u001b[0m \u001b[32m━━━━━━━━━━━━━━━━━━━━\u001b[0m\u001b[37m\u001b[0m \u001b[1m23s\u001b[0m 359ms/step\n"
     ]
    }
   ],
   "source": [
    "result = {\n",
    "    'blur': {},\n",
    "    'digital': {},\n",
    "    'noise': {},\n",
    "    'weather': {}\n",
    "}\n",
    "for subject in CORRUPTION_TYPES.keys():\n",
    "    for corruption_type in range(len(CORRUPTION_TYPES[subject])):\n",
    "        for severity in range(1, 6):\n",
    "            corruption_name = CORRUPTION_TYPES[subject][corruption_type]\n",
    "\n",
    "            generator = datagen.flow_from_directory(\n",
    "                f'{BASE_PATH}/{subject}/{corruption_name}/{severity}',\n",
    "                target_size=(224, 224),\n",
    "                batch_size=64,\n",
    "                shuffle=False\n",
    "            )\n",
    "\n",
    "            preds = model_mobilenetv3.predict(generator)\n",
    "            predicted_classes = np.argmax(preds, axis=1)\n",
    "\n",
    "            accuracy = accuracy_score(generator.labels, predicted_classes)\n",
    "\n",
    "            if corruption_name not in result[subject]:\n",
    "                result[subject][corruption_name] = {}\n",
    "\n",
    "            result[subject][corruption_name][severity] = 1 - accuracy\n",
    "\n",
    "            save_json('results/mce/corruption_mobilenetv3_error.json', result)\n"
   ]
  },
  {
   "cell_type": "markdown",
   "metadata": {},
   "source": [
    "## EfficientNet\n"
   ]
  },
  {
   "cell_type": "code",
   "execution_count": 32,
   "metadata": {},
   "outputs": [
    {
     "data": {
      "text/html": [
       "<pre style=\"white-space:pre;overflow-x:auto;line-height:normal;font-family:Menlo,'DejaVu Sans Mono',consolas,'Courier New',monospace\"><span style=\"font-weight: bold\">Model: \"functional\"</span>\n",
       "</pre>\n"
      ],
      "text/plain": [
       "\u001b[1mModel: \"functional\"\u001b[0m\n"
      ]
     },
     "metadata": {},
     "output_type": "display_data"
    },
    {
     "data": {
      "text/html": [
       "<pre style=\"white-space:pre;overflow-x:auto;line-height:normal;font-family:Menlo,'DejaVu Sans Mono',consolas,'Courier New',monospace\">┏━━━━━━━━━━━━━━━━━━━━━━━━━━━━━━━━━┳━━━━━━━━━━━━━━━━━━━━━━━━┳━━━━━━━━━━━━━━━┓\n",
       "┃<span style=\"font-weight: bold\"> Layer (type)                    </span>┃<span style=\"font-weight: bold\"> Output Shape           </span>┃<span style=\"font-weight: bold\">       Param # </span>┃\n",
       "┡━━━━━━━━━━━━━━━━━━━━━━━━━━━━━━━━━╇━━━━━━━━━━━━━━━━━━━━━━━━╇━━━━━━━━━━━━━━━┩\n",
       "│ input_layer_4 (<span style=\"color: #0087ff; text-decoration-color: #0087ff\">InputLayer</span>)      │ (<span style=\"color: #00d7ff; text-decoration-color: #00d7ff\">None</span>, <span style=\"color: #00af00; text-decoration-color: #00af00\">224</span>, <span style=\"color: #00af00; text-decoration-color: #00af00\">224</span>, <span style=\"color: #00af00; text-decoration-color: #00af00\">3</span>)    │             <span style=\"color: #00af00; text-decoration-color: #00af00\">0</span> │\n",
       "├─────────────────────────────────┼────────────────────────┼───────────────┤\n",
       "│ efficientnetb0 (<span style=\"color: #0087ff; text-decoration-color: #0087ff\">Functional</span>)     │ (<span style=\"color: #00d7ff; text-decoration-color: #00d7ff\">None</span>, <span style=\"color: #00af00; text-decoration-color: #00af00\">7</span>, <span style=\"color: #00af00; text-decoration-color: #00af00\">7</span>, <span style=\"color: #00af00; text-decoration-color: #00af00\">1280</span>)     │     <span style=\"color: #00af00; text-decoration-color: #00af00\">4,049,571</span> │\n",
       "├─────────────────────────────────┼────────────────────────┼───────────────┤\n",
       "│ global_average_pooling2d_1      │ (<span style=\"color: #00d7ff; text-decoration-color: #00d7ff\">None</span>, <span style=\"color: #00af00; text-decoration-color: #00af00\">1280</span>)           │             <span style=\"color: #00af00; text-decoration-color: #00af00\">0</span> │\n",
       "│ (<span style=\"color: #0087ff; text-decoration-color: #0087ff\">GlobalAveragePooling2D</span>)        │                        │               │\n",
       "├─────────────────────────────────┼────────────────────────┼───────────────┤\n",
       "│ dropout (<span style=\"color: #0087ff; text-decoration-color: #0087ff\">Dropout</span>)               │ (<span style=\"color: #00d7ff; text-decoration-color: #00d7ff\">None</span>, <span style=\"color: #00af00; text-decoration-color: #00af00\">1280</span>)           │             <span style=\"color: #00af00; text-decoration-color: #00af00\">0</span> │\n",
       "├─────────────────────────────────┼────────────────────────┼───────────────┤\n",
       "│ dense (<span style=\"color: #0087ff; text-decoration-color: #0087ff\">Dense</span>)                   │ (<span style=\"color: #00d7ff; text-decoration-color: #00d7ff\">None</span>, <span style=\"color: #00af00; text-decoration-color: #00af00\">8</span>)              │        <span style=\"color: #00af00; text-decoration-color: #00af00\">10,248</span> │\n",
       "└─────────────────────────────────┴────────────────────────┴───────────────┘\n",
       "</pre>\n"
      ],
      "text/plain": [
       "┏━━━━━━━━━━━━━━━━━━━━━━━━━━━━━━━━━┳━━━━━━━━━━━━━━━━━━━━━━━━┳━━━━━━━━━━━━━━━┓\n",
       "┃\u001b[1m \u001b[0m\u001b[1mLayer (type)                   \u001b[0m\u001b[1m \u001b[0m┃\u001b[1m \u001b[0m\u001b[1mOutput Shape          \u001b[0m\u001b[1m \u001b[0m┃\u001b[1m \u001b[0m\u001b[1m      Param #\u001b[0m\u001b[1m \u001b[0m┃\n",
       "┡━━━━━━━━━━━━━━━━━━━━━━━━━━━━━━━━━╇━━━━━━━━━━━━━━━━━━━━━━━━╇━━━━━━━━━━━━━━━┩\n",
       "│ input_layer_4 (\u001b[38;5;33mInputLayer\u001b[0m)      │ (\u001b[38;5;45mNone\u001b[0m, \u001b[38;5;34m224\u001b[0m, \u001b[38;5;34m224\u001b[0m, \u001b[38;5;34m3\u001b[0m)    │             \u001b[38;5;34m0\u001b[0m │\n",
       "├─────────────────────────────────┼────────────────────────┼───────────────┤\n",
       "│ efficientnetb0 (\u001b[38;5;33mFunctional\u001b[0m)     │ (\u001b[38;5;45mNone\u001b[0m, \u001b[38;5;34m7\u001b[0m, \u001b[38;5;34m7\u001b[0m, \u001b[38;5;34m1280\u001b[0m)     │     \u001b[38;5;34m4,049,571\u001b[0m │\n",
       "├─────────────────────────────────┼────────────────────────┼───────────────┤\n",
       "│ global_average_pooling2d_1      │ (\u001b[38;5;45mNone\u001b[0m, \u001b[38;5;34m1280\u001b[0m)           │             \u001b[38;5;34m0\u001b[0m │\n",
       "│ (\u001b[38;5;33mGlobalAveragePooling2D\u001b[0m)        │                        │               │\n",
       "├─────────────────────────────────┼────────────────────────┼───────────────┤\n",
       "│ dropout (\u001b[38;5;33mDropout\u001b[0m)               │ (\u001b[38;5;45mNone\u001b[0m, \u001b[38;5;34m1280\u001b[0m)           │             \u001b[38;5;34m0\u001b[0m │\n",
       "├─────────────────────────────────┼────────────────────────┼───────────────┤\n",
       "│ dense (\u001b[38;5;33mDense\u001b[0m)                   │ (\u001b[38;5;45mNone\u001b[0m, \u001b[38;5;34m8\u001b[0m)              │        \u001b[38;5;34m10,248\u001b[0m │\n",
       "└─────────────────────────────────┴────────────────────────┴───────────────┘\n"
      ]
     },
     "metadata": {},
     "output_type": "display_data"
    },
    {
     "data": {
      "text/html": [
       "<pre style=\"white-space:pre;overflow-x:auto;line-height:normal;font-family:Menlo,'DejaVu Sans Mono',consolas,'Courier New',monospace\"><span style=\"font-weight: bold\"> Total params: </span><span style=\"color: #00af00; text-decoration-color: #00af00\">4,080,317</span> (15.57 MB)\n",
       "</pre>\n"
      ],
      "text/plain": [
       "\u001b[1m Total params: \u001b[0m\u001b[38;5;34m4,080,317\u001b[0m (15.57 MB)\n"
      ]
     },
     "metadata": {},
     "output_type": "display_data"
    },
    {
     "data": {
      "text/html": [
       "<pre style=\"white-space:pre;overflow-x:auto;line-height:normal;font-family:Menlo,'DejaVu Sans Mono',consolas,'Courier New',monospace\"><span style=\"font-weight: bold\"> Trainable params: </span><span style=\"color: #00af00; text-decoration-color: #00af00\">10,248</span> (40.03 KB)\n",
       "</pre>\n"
      ],
      "text/plain": [
       "\u001b[1m Trainable params: \u001b[0m\u001b[38;5;34m10,248\u001b[0m (40.03 KB)\n"
      ]
     },
     "metadata": {},
     "output_type": "display_data"
    },
    {
     "data": {
      "text/html": [
       "<pre style=\"white-space:pre;overflow-x:auto;line-height:normal;font-family:Menlo,'DejaVu Sans Mono',consolas,'Courier New',monospace\"><span style=\"font-weight: bold\"> Non-trainable params: </span><span style=\"color: #00af00; text-decoration-color: #00af00\">4,049,571</span> (15.45 MB)\n",
       "</pre>\n"
      ],
      "text/plain": [
       "\u001b[1m Non-trainable params: \u001b[0m\u001b[38;5;34m4,049,571\u001b[0m (15.45 MB)\n"
      ]
     },
     "metadata": {},
     "output_type": "display_data"
    },
    {
     "data": {
      "text/html": [
       "<pre style=\"white-space:pre;overflow-x:auto;line-height:normal;font-family:Menlo,'DejaVu Sans Mono',consolas,'Courier New',monospace\"><span style=\"font-weight: bold\"> Optimizer params: </span><span style=\"color: #00af00; text-decoration-color: #00af00\">20,498</span> (80.07 KB)\n",
       "</pre>\n"
      ],
      "text/plain": [
       "\u001b[1m Optimizer params: \u001b[0m\u001b[38;5;34m20,498\u001b[0m (80.07 KB)\n"
      ]
     },
     "metadata": {},
     "output_type": "display_data"
    }
   ],
   "source": [
    "model_efficientnet = keras.models.load_model(\"models/efficientNetB0.keras\")\n",
    "\n",
    "model_efficientnet.summary()\n",
    "\n",
    "datagen_efficientnet = tf.keras.preprocessing.image.ImageDataGenerator()\n",
    "\n",
    "\n"
   ]
  },
  {
   "cell_type": "code",
   "execution_count": 33,
   "metadata": {},
   "outputs": [
    {
     "name": "stdout",
     "output_type": "stream",
     "text": [
      "Found 4000 images belonging to 8 classes.\n"
     ]
    }
   ],
   "source": [
    "CLEAN_VALIDATION_DATASET_PATH = \"MangoLeaf\"\n",
    "clean_validation_dataset_generator_efficientNet = datagen_efficientnet.flow_from_directory(\n",
    "    CLEAN_VALIDATION_DATASET_PATH,\n",
    "    target_size=(224, 224),\n",
    "    batch_size=128,\n",
    "    shuffle=False\n",
    ")"
   ]
  },
  {
   "cell_type": "code",
   "execution_count": 34,
   "metadata": {},
   "outputs": [
    {
     "name": "stderr",
     "output_type": "stream",
     "text": [
      "/home/saulolv/PIBIC/TinyML/.venv/lib/python3.12/site-packages/keras/src/trainers/data_adapters/py_dataset_adapter.py:121: UserWarning: Your `PyDataset` class should call `super().__init__(**kwargs)` in its constructor. `**kwargs` can include `workers`, `use_multiprocessing`, `max_queue_size`. Do not pass these arguments to `fit()`, as they will be ignored.\n",
      "  self._warn_if_super_not_called()\n"
     ]
    },
    {
     "name": "stdout",
     "output_type": "stream",
     "text": [
      "\u001b[1m32/32\u001b[0m \u001b[32m━━━━━━━━━━━━━━━━━━━━\u001b[0m\u001b[37m\u001b[0m \u001b[1m80s\u001b[0m 2s/step\n"
     ]
    },
    {
     "data": {
      "text/plain": [
       "0.99975"
      ]
     },
     "execution_count": 34,
     "metadata": {},
     "output_type": "execute_result"
    }
   ],
   "source": [
    "preds = model_efficientnet.predict(clean_validation_dataset_generator_efficientNet)\n",
    "predicted_classes = np.argmax(preds, axis=1)\n",
    "\n",
    "accuracy_efficientnet = accuracy_score(clean_validation_dataset_generator_efficientNet.labels, predicted_classes)\n",
    "accuracy_efficientnet\n"
   ]
  },
  {
   "cell_type": "markdown",
   "metadata": {},
   "source": [
    "### Generate Corruption Error for all type of corruptions in EfficientNet"
   ]
  },
  {
   "cell_type": "code",
   "execution_count": 35,
   "metadata": {},
   "outputs": [],
   "source": [
    "datagen = tf.keras.preprocessing.image.ImageDataGenerator()"
   ]
  },
  {
   "cell_type": "code",
   "execution_count": 36,
   "metadata": {},
   "outputs": [
    {
     "name": "stdout",
     "output_type": "stream",
     "text": [
      "Found 4000 images belonging to 8 classes.\n"
     ]
    },
    {
     "name": "stderr",
     "output_type": "stream",
     "text": [
      "/home/saulolv/PIBIC/TinyML/.venv/lib/python3.12/site-packages/keras/src/trainers/data_adapters/py_dataset_adapter.py:121: UserWarning: Your `PyDataset` class should call `super().__init__(**kwargs)` in its constructor. `**kwargs` can include `workers`, `use_multiprocessing`, `max_queue_size`. Do not pass these arguments to `fit()`, as they will be ignored.\n",
      "  self._warn_if_super_not_called()\n"
     ]
    },
    {
     "name": "stdout",
     "output_type": "stream",
     "text": [
      "\u001b[1m63/63\u001b[0m \u001b[32m━━━━━━━━━━━━━━━━━━━━\u001b[0m\u001b[37m\u001b[0m \u001b[1m72s\u001b[0m 1s/step\n",
      "Found 4000 images belonging to 8 classes.\n"
     ]
    },
    {
     "name": "stderr",
     "output_type": "stream",
     "text": [
      "/home/saulolv/PIBIC/TinyML/.venv/lib/python3.12/site-packages/keras/src/trainers/data_adapters/py_dataset_adapter.py:121: UserWarning: Your `PyDataset` class should call `super().__init__(**kwargs)` in its constructor. `**kwargs` can include `workers`, `use_multiprocessing`, `max_queue_size`. Do not pass these arguments to `fit()`, as they will be ignored.\n",
      "  self._warn_if_super_not_called()\n"
     ]
    },
    {
     "name": "stdout",
     "output_type": "stream",
     "text": [
      "\u001b[1m63/63\u001b[0m \u001b[32m━━━━━━━━━━━━━━━━━━━━\u001b[0m\u001b[37m\u001b[0m \u001b[1m75s\u001b[0m 1s/step\n",
      "Found 4000 images belonging to 8 classes.\n"
     ]
    },
    {
     "name": "stderr",
     "output_type": "stream",
     "text": [
      "/home/saulolv/PIBIC/TinyML/.venv/lib/python3.12/site-packages/keras/src/trainers/data_adapters/py_dataset_adapter.py:121: UserWarning: Your `PyDataset` class should call `super().__init__(**kwargs)` in its constructor. `**kwargs` can include `workers`, `use_multiprocessing`, `max_queue_size`. Do not pass these arguments to `fit()`, as they will be ignored.\n",
      "  self._warn_if_super_not_called()\n"
     ]
    },
    {
     "name": "stdout",
     "output_type": "stream",
     "text": [
      "\u001b[1m63/63\u001b[0m \u001b[32m━━━━━━━━━━━━━━━━━━━━\u001b[0m\u001b[37m\u001b[0m \u001b[1m68s\u001b[0m 1s/step\n",
      "Found 4000 images belonging to 8 classes.\n"
     ]
    },
    {
     "name": "stderr",
     "output_type": "stream",
     "text": [
      "/home/saulolv/PIBIC/TinyML/.venv/lib/python3.12/site-packages/keras/src/trainers/data_adapters/py_dataset_adapter.py:121: UserWarning: Your `PyDataset` class should call `super().__init__(**kwargs)` in its constructor. `**kwargs` can include `workers`, `use_multiprocessing`, `max_queue_size`. Do not pass these arguments to `fit()`, as they will be ignored.\n",
      "  self._warn_if_super_not_called()\n"
     ]
    },
    {
     "name": "stdout",
     "output_type": "stream",
     "text": [
      "\u001b[1m63/63\u001b[0m \u001b[32m━━━━━━━━━━━━━━━━━━━━\u001b[0m\u001b[37m\u001b[0m \u001b[1m66s\u001b[0m 1s/step\n",
      "Found 4000 images belonging to 8 classes.\n"
     ]
    },
    {
     "name": "stderr",
     "output_type": "stream",
     "text": [
      "/home/saulolv/PIBIC/TinyML/.venv/lib/python3.12/site-packages/keras/src/trainers/data_adapters/py_dataset_adapter.py:121: UserWarning: Your `PyDataset` class should call `super().__init__(**kwargs)` in its constructor. `**kwargs` can include `workers`, `use_multiprocessing`, `max_queue_size`. Do not pass these arguments to `fit()`, as they will be ignored.\n",
      "  self._warn_if_super_not_called()\n"
     ]
    },
    {
     "name": "stdout",
     "output_type": "stream",
     "text": [
      "\u001b[1m63/63\u001b[0m \u001b[32m━━━━━━━━━━━━━━━━━━━━\u001b[0m\u001b[37m\u001b[0m \u001b[1m73s\u001b[0m 1s/step\n",
      "Found 4000 images belonging to 8 classes.\n"
     ]
    },
    {
     "name": "stderr",
     "output_type": "stream",
     "text": [
      "/home/saulolv/PIBIC/TinyML/.venv/lib/python3.12/site-packages/keras/src/trainers/data_adapters/py_dataset_adapter.py:121: UserWarning: Your `PyDataset` class should call `super().__init__(**kwargs)` in its constructor. `**kwargs` can include `workers`, `use_multiprocessing`, `max_queue_size`. Do not pass these arguments to `fit()`, as they will be ignored.\n",
      "  self._warn_if_super_not_called()\n"
     ]
    },
    {
     "name": "stdout",
     "output_type": "stream",
     "text": [
      "\u001b[1m63/63\u001b[0m \u001b[32m━━━━━━━━━━━━━━━━━━━━\u001b[0m\u001b[37m\u001b[0m \u001b[1m73s\u001b[0m 1s/step\n",
      "Found 4000 images belonging to 8 classes.\n"
     ]
    },
    {
     "name": "stderr",
     "output_type": "stream",
     "text": [
      "/home/saulolv/PIBIC/TinyML/.venv/lib/python3.12/site-packages/keras/src/trainers/data_adapters/py_dataset_adapter.py:121: UserWarning: Your `PyDataset` class should call `super().__init__(**kwargs)` in its constructor. `**kwargs` can include `workers`, `use_multiprocessing`, `max_queue_size`. Do not pass these arguments to `fit()`, as they will be ignored.\n",
      "  self._warn_if_super_not_called()\n"
     ]
    },
    {
     "name": "stdout",
     "output_type": "stream",
     "text": [
      "\u001b[1m63/63\u001b[0m \u001b[32m━━━━━━━━━━━━━━━━━━━━\u001b[0m\u001b[37m\u001b[0m \u001b[1m77s\u001b[0m 1s/step\n",
      "Found 4000 images belonging to 8 classes.\n"
     ]
    },
    {
     "name": "stderr",
     "output_type": "stream",
     "text": [
      "/home/saulolv/PIBIC/TinyML/.venv/lib/python3.12/site-packages/keras/src/trainers/data_adapters/py_dataset_adapter.py:121: UserWarning: Your `PyDataset` class should call `super().__init__(**kwargs)` in its constructor. `**kwargs` can include `workers`, `use_multiprocessing`, `max_queue_size`. Do not pass these arguments to `fit()`, as they will be ignored.\n",
      "  self._warn_if_super_not_called()\n"
     ]
    },
    {
     "name": "stdout",
     "output_type": "stream",
     "text": [
      "\u001b[1m63/63\u001b[0m \u001b[32m━━━━━━━━━━━━━━━━━━━━\u001b[0m\u001b[37m\u001b[0m \u001b[1m74s\u001b[0m 1s/step\n",
      "Found 4000 images belonging to 8 classes.\n"
     ]
    },
    {
     "name": "stderr",
     "output_type": "stream",
     "text": [
      "/home/saulolv/PIBIC/TinyML/.venv/lib/python3.12/site-packages/keras/src/trainers/data_adapters/py_dataset_adapter.py:121: UserWarning: Your `PyDataset` class should call `super().__init__(**kwargs)` in its constructor. `**kwargs` can include `workers`, `use_multiprocessing`, `max_queue_size`. Do not pass these arguments to `fit()`, as they will be ignored.\n",
      "  self._warn_if_super_not_called()\n"
     ]
    },
    {
     "name": "stdout",
     "output_type": "stream",
     "text": [
      "\u001b[1m63/63\u001b[0m \u001b[32m━━━━━━━━━━━━━━━━━━━━\u001b[0m\u001b[37m\u001b[0m \u001b[1m67s\u001b[0m 1s/step\n",
      "Found 4000 images belonging to 8 classes.\n"
     ]
    },
    {
     "name": "stderr",
     "output_type": "stream",
     "text": [
      "/home/saulolv/PIBIC/TinyML/.venv/lib/python3.12/site-packages/keras/src/trainers/data_adapters/py_dataset_adapter.py:121: UserWarning: Your `PyDataset` class should call `super().__init__(**kwargs)` in its constructor. `**kwargs` can include `workers`, `use_multiprocessing`, `max_queue_size`. Do not pass these arguments to `fit()`, as they will be ignored.\n",
      "  self._warn_if_super_not_called()\n"
     ]
    },
    {
     "name": "stdout",
     "output_type": "stream",
     "text": [
      "\u001b[1m63/63\u001b[0m \u001b[32m━━━━━━━━━━━━━━━━━━━━\u001b[0m\u001b[37m\u001b[0m \u001b[1m73s\u001b[0m 1s/step\n",
      "Found 4000 images belonging to 8 classes.\n"
     ]
    },
    {
     "name": "stderr",
     "output_type": "stream",
     "text": [
      "/home/saulolv/PIBIC/TinyML/.venv/lib/python3.12/site-packages/keras/src/trainers/data_adapters/py_dataset_adapter.py:121: UserWarning: Your `PyDataset` class should call `super().__init__(**kwargs)` in its constructor. `**kwargs` can include `workers`, `use_multiprocessing`, `max_queue_size`. Do not pass these arguments to `fit()`, as they will be ignored.\n",
      "  self._warn_if_super_not_called()\n"
     ]
    },
    {
     "name": "stdout",
     "output_type": "stream",
     "text": [
      "\u001b[1m63/63\u001b[0m \u001b[32m━━━━━━━━━━━━━━━━━━━━\u001b[0m\u001b[37m\u001b[0m \u001b[1m80s\u001b[0m 1s/step\n",
      "Found 4000 images belonging to 8 classes.\n"
     ]
    },
    {
     "name": "stderr",
     "output_type": "stream",
     "text": [
      "/home/saulolv/PIBIC/TinyML/.venv/lib/python3.12/site-packages/keras/src/trainers/data_adapters/py_dataset_adapter.py:121: UserWarning: Your `PyDataset` class should call `super().__init__(**kwargs)` in its constructor. `**kwargs` can include `workers`, `use_multiprocessing`, `max_queue_size`. Do not pass these arguments to `fit()`, as they will be ignored.\n",
      "  self._warn_if_super_not_called()\n"
     ]
    },
    {
     "name": "stdout",
     "output_type": "stream",
     "text": [
      "\u001b[1m63/63\u001b[0m \u001b[32m━━━━━━━━━━━━━━━━━━━━\u001b[0m\u001b[37m\u001b[0m \u001b[1m73s\u001b[0m 1s/step\n",
      "Found 4000 images belonging to 8 classes.\n"
     ]
    },
    {
     "name": "stderr",
     "output_type": "stream",
     "text": [
      "/home/saulolv/PIBIC/TinyML/.venv/lib/python3.12/site-packages/keras/src/trainers/data_adapters/py_dataset_adapter.py:121: UserWarning: Your `PyDataset` class should call `super().__init__(**kwargs)` in its constructor. `**kwargs` can include `workers`, `use_multiprocessing`, `max_queue_size`. Do not pass these arguments to `fit()`, as they will be ignored.\n",
      "  self._warn_if_super_not_called()\n"
     ]
    },
    {
     "name": "stdout",
     "output_type": "stream",
     "text": [
      "\u001b[1m63/63\u001b[0m \u001b[32m━━━━━━━━━━━━━━━━━━━━\u001b[0m\u001b[37m\u001b[0m \u001b[1m73s\u001b[0m 1s/step\n",
      "Found 4000 images belonging to 8 classes.\n"
     ]
    },
    {
     "name": "stderr",
     "output_type": "stream",
     "text": [
      "/home/saulolv/PIBIC/TinyML/.venv/lib/python3.12/site-packages/keras/src/trainers/data_adapters/py_dataset_adapter.py:121: UserWarning: Your `PyDataset` class should call `super().__init__(**kwargs)` in its constructor. `**kwargs` can include `workers`, `use_multiprocessing`, `max_queue_size`. Do not pass these arguments to `fit()`, as they will be ignored.\n",
      "  self._warn_if_super_not_called()\n"
     ]
    },
    {
     "name": "stdout",
     "output_type": "stream",
     "text": [
      "\u001b[1m63/63\u001b[0m \u001b[32m━━━━━━━━━━━━━━━━━━━━\u001b[0m\u001b[37m\u001b[0m \u001b[1m73s\u001b[0m 1s/step\n",
      "Found 4000 images belonging to 8 classes.\n"
     ]
    },
    {
     "name": "stderr",
     "output_type": "stream",
     "text": [
      "/home/saulolv/PIBIC/TinyML/.venv/lib/python3.12/site-packages/keras/src/trainers/data_adapters/py_dataset_adapter.py:121: UserWarning: Your `PyDataset` class should call `super().__init__(**kwargs)` in its constructor. `**kwargs` can include `workers`, `use_multiprocessing`, `max_queue_size`. Do not pass these arguments to `fit()`, as they will be ignored.\n",
      "  self._warn_if_super_not_called()\n"
     ]
    },
    {
     "name": "stdout",
     "output_type": "stream",
     "text": [
      "\u001b[1m63/63\u001b[0m \u001b[32m━━━━━━━━━━━━━━━━━━━━\u001b[0m\u001b[37m\u001b[0m \u001b[1m86s\u001b[0m 1s/step\n",
      "Found 4000 images belonging to 8 classes.\n"
     ]
    },
    {
     "name": "stderr",
     "output_type": "stream",
     "text": [
      "/home/saulolv/PIBIC/TinyML/.venv/lib/python3.12/site-packages/keras/src/trainers/data_adapters/py_dataset_adapter.py:121: UserWarning: Your `PyDataset` class should call `super().__init__(**kwargs)` in its constructor. `**kwargs` can include `workers`, `use_multiprocessing`, `max_queue_size`. Do not pass these arguments to `fit()`, as they will be ignored.\n",
      "  self._warn_if_super_not_called()\n"
     ]
    },
    {
     "name": "stdout",
     "output_type": "stream",
     "text": [
      "\u001b[1m63/63\u001b[0m \u001b[32m━━━━━━━━━━━━━━━━━━━━\u001b[0m\u001b[37m\u001b[0m \u001b[1m73s\u001b[0m 1s/step\n",
      "Found 4000 images belonging to 8 classes.\n"
     ]
    },
    {
     "name": "stderr",
     "output_type": "stream",
     "text": [
      "/home/saulolv/PIBIC/TinyML/.venv/lib/python3.12/site-packages/keras/src/trainers/data_adapters/py_dataset_adapter.py:121: UserWarning: Your `PyDataset` class should call `super().__init__(**kwargs)` in its constructor. `**kwargs` can include `workers`, `use_multiprocessing`, `max_queue_size`. Do not pass these arguments to `fit()`, as they will be ignored.\n",
      "  self._warn_if_super_not_called()\n"
     ]
    },
    {
     "name": "stdout",
     "output_type": "stream",
     "text": [
      "\u001b[1m63/63\u001b[0m \u001b[32m━━━━━━━━━━━━━━━━━━━━\u001b[0m\u001b[37m\u001b[0m \u001b[1m82s\u001b[0m 1s/step\n",
      "Found 4000 images belonging to 8 classes.\n"
     ]
    },
    {
     "name": "stderr",
     "output_type": "stream",
     "text": [
      "/home/saulolv/PIBIC/TinyML/.venv/lib/python3.12/site-packages/keras/src/trainers/data_adapters/py_dataset_adapter.py:121: UserWarning: Your `PyDataset` class should call `super().__init__(**kwargs)` in its constructor. `**kwargs` can include `workers`, `use_multiprocessing`, `max_queue_size`. Do not pass these arguments to `fit()`, as they will be ignored.\n",
      "  self._warn_if_super_not_called()\n"
     ]
    },
    {
     "name": "stdout",
     "output_type": "stream",
     "text": [
      "\u001b[1m63/63\u001b[0m \u001b[32m━━━━━━━━━━━━━━━━━━━━\u001b[0m\u001b[37m\u001b[0m \u001b[1m99s\u001b[0m 2s/step\n",
      "Found 4000 images belonging to 8 classes.\n"
     ]
    },
    {
     "name": "stderr",
     "output_type": "stream",
     "text": [
      "/home/saulolv/PIBIC/TinyML/.venv/lib/python3.12/site-packages/keras/src/trainers/data_adapters/py_dataset_adapter.py:121: UserWarning: Your `PyDataset` class should call `super().__init__(**kwargs)` in its constructor. `**kwargs` can include `workers`, `use_multiprocessing`, `max_queue_size`. Do not pass these arguments to `fit()`, as they will be ignored.\n",
      "  self._warn_if_super_not_called()\n"
     ]
    },
    {
     "name": "stdout",
     "output_type": "stream",
     "text": [
      "\u001b[1m63/63\u001b[0m \u001b[32m━━━━━━━━━━━━━━━━━━━━\u001b[0m\u001b[37m\u001b[0m \u001b[1m78s\u001b[0m 1s/step\n",
      "Found 4000 images belonging to 8 classes.\n"
     ]
    },
    {
     "name": "stderr",
     "output_type": "stream",
     "text": [
      "/home/saulolv/PIBIC/TinyML/.venv/lib/python3.12/site-packages/keras/src/trainers/data_adapters/py_dataset_adapter.py:121: UserWarning: Your `PyDataset` class should call `super().__init__(**kwargs)` in its constructor. `**kwargs` can include `workers`, `use_multiprocessing`, `max_queue_size`. Do not pass these arguments to `fit()`, as they will be ignored.\n",
      "  self._warn_if_super_not_called()\n"
     ]
    },
    {
     "name": "stdout",
     "output_type": "stream",
     "text": [
      "\u001b[1m63/63\u001b[0m \u001b[32m━━━━━━━━━━━━━━━━━━━━\u001b[0m\u001b[37m\u001b[0m \u001b[1m76s\u001b[0m 1s/step\n",
      "Found 4000 images belonging to 8 classes.\n"
     ]
    },
    {
     "name": "stderr",
     "output_type": "stream",
     "text": [
      "/home/saulolv/PIBIC/TinyML/.venv/lib/python3.12/site-packages/keras/src/trainers/data_adapters/py_dataset_adapter.py:121: UserWarning: Your `PyDataset` class should call `super().__init__(**kwargs)` in its constructor. `**kwargs` can include `workers`, `use_multiprocessing`, `max_queue_size`. Do not pass these arguments to `fit()`, as they will be ignored.\n",
      "  self._warn_if_super_not_called()\n"
     ]
    },
    {
     "name": "stdout",
     "output_type": "stream",
     "text": [
      "\u001b[1m63/63\u001b[0m \u001b[32m━━━━━━━━━━━━━━━━━━━━\u001b[0m\u001b[37m\u001b[0m \u001b[1m90s\u001b[0m 1s/step\n",
      "Found 4000 images belonging to 8 classes.\n"
     ]
    },
    {
     "name": "stderr",
     "output_type": "stream",
     "text": [
      "/home/saulolv/PIBIC/TinyML/.venv/lib/python3.12/site-packages/keras/src/trainers/data_adapters/py_dataset_adapter.py:121: UserWarning: Your `PyDataset` class should call `super().__init__(**kwargs)` in its constructor. `**kwargs` can include `workers`, `use_multiprocessing`, `max_queue_size`. Do not pass these arguments to `fit()`, as they will be ignored.\n",
      "  self._warn_if_super_not_called()\n"
     ]
    },
    {
     "name": "stdout",
     "output_type": "stream",
     "text": [
      "\u001b[1m63/63\u001b[0m \u001b[32m━━━━━━━━━━━━━━━━━━━━\u001b[0m\u001b[37m\u001b[0m \u001b[1m81s\u001b[0m 1s/step\n",
      "Found 4000 images belonging to 8 classes.\n"
     ]
    },
    {
     "name": "stderr",
     "output_type": "stream",
     "text": [
      "/home/saulolv/PIBIC/TinyML/.venv/lib/python3.12/site-packages/keras/src/trainers/data_adapters/py_dataset_adapter.py:121: UserWarning: Your `PyDataset` class should call `super().__init__(**kwargs)` in its constructor. `**kwargs` can include `workers`, `use_multiprocessing`, `max_queue_size`. Do not pass these arguments to `fit()`, as they will be ignored.\n",
      "  self._warn_if_super_not_called()\n"
     ]
    },
    {
     "name": "stdout",
     "output_type": "stream",
     "text": [
      "\u001b[1m63/63\u001b[0m \u001b[32m━━━━━━━━━━━━━━━━━━━━\u001b[0m\u001b[37m\u001b[0m \u001b[1m84s\u001b[0m 1s/step\n",
      "Found 4000 images belonging to 8 classes.\n"
     ]
    },
    {
     "name": "stderr",
     "output_type": "stream",
     "text": [
      "/home/saulolv/PIBIC/TinyML/.venv/lib/python3.12/site-packages/keras/src/trainers/data_adapters/py_dataset_adapter.py:121: UserWarning: Your `PyDataset` class should call `super().__init__(**kwargs)` in its constructor. `**kwargs` can include `workers`, `use_multiprocessing`, `max_queue_size`. Do not pass these arguments to `fit()`, as they will be ignored.\n",
      "  self._warn_if_super_not_called()\n"
     ]
    },
    {
     "name": "stdout",
     "output_type": "stream",
     "text": [
      "\u001b[1m63/63\u001b[0m \u001b[32m━━━━━━━━━━━━━━━━━━━━\u001b[0m\u001b[37m\u001b[0m \u001b[1m121s\u001b[0m 2s/step\n",
      "Found 4000 images belonging to 8 classes.\n"
     ]
    },
    {
     "name": "stderr",
     "output_type": "stream",
     "text": [
      "/home/saulolv/PIBIC/TinyML/.venv/lib/python3.12/site-packages/keras/src/trainers/data_adapters/py_dataset_adapter.py:121: UserWarning: Your `PyDataset` class should call `super().__init__(**kwargs)` in its constructor. `**kwargs` can include `workers`, `use_multiprocessing`, `max_queue_size`. Do not pass these arguments to `fit()`, as they will be ignored.\n",
      "  self._warn_if_super_not_called()\n"
     ]
    },
    {
     "name": "stdout",
     "output_type": "stream",
     "text": [
      "\u001b[1m63/63\u001b[0m \u001b[32m━━━━━━━━━━━━━━━━━━━━\u001b[0m\u001b[37m\u001b[0m \u001b[1m116s\u001b[0m 2s/step\n",
      "Found 4000 images belonging to 8 classes.\n"
     ]
    },
    {
     "name": "stderr",
     "output_type": "stream",
     "text": [
      "/home/saulolv/PIBIC/TinyML/.venv/lib/python3.12/site-packages/keras/src/trainers/data_adapters/py_dataset_adapter.py:121: UserWarning: Your `PyDataset` class should call `super().__init__(**kwargs)` in its constructor. `**kwargs` can include `workers`, `use_multiprocessing`, `max_queue_size`. Do not pass these arguments to `fit()`, as they will be ignored.\n",
      "  self._warn_if_super_not_called()\n"
     ]
    },
    {
     "name": "stdout",
     "output_type": "stream",
     "text": [
      "\u001b[1m63/63\u001b[0m \u001b[32m━━━━━━━━━━━━━━━━━━━━\u001b[0m\u001b[37m\u001b[0m \u001b[1m106s\u001b[0m 2s/step\n",
      "Found 4000 images belonging to 8 classes.\n"
     ]
    },
    {
     "name": "stderr",
     "output_type": "stream",
     "text": [
      "/home/saulolv/PIBIC/TinyML/.venv/lib/python3.12/site-packages/keras/src/trainers/data_adapters/py_dataset_adapter.py:121: UserWarning: Your `PyDataset` class should call `super().__init__(**kwargs)` in its constructor. `**kwargs` can include `workers`, `use_multiprocessing`, `max_queue_size`. Do not pass these arguments to `fit()`, as they will be ignored.\n",
      "  self._warn_if_super_not_called()\n"
     ]
    },
    {
     "name": "stdout",
     "output_type": "stream",
     "text": [
      "\u001b[1m63/63\u001b[0m \u001b[32m━━━━━━━━━━━━━━━━━━━━\u001b[0m\u001b[37m\u001b[0m \u001b[1m101s\u001b[0m 2s/step\n",
      "Found 4000 images belonging to 8 classes.\n"
     ]
    },
    {
     "name": "stderr",
     "output_type": "stream",
     "text": [
      "/home/saulolv/PIBIC/TinyML/.venv/lib/python3.12/site-packages/keras/src/trainers/data_adapters/py_dataset_adapter.py:121: UserWarning: Your `PyDataset` class should call `super().__init__(**kwargs)` in its constructor. `**kwargs` can include `workers`, `use_multiprocessing`, `max_queue_size`. Do not pass these arguments to `fit()`, as they will be ignored.\n",
      "  self._warn_if_super_not_called()\n"
     ]
    },
    {
     "name": "stdout",
     "output_type": "stream",
     "text": [
      "\u001b[1m63/63\u001b[0m \u001b[32m━━━━━━━━━━━━━━━━━━━━\u001b[0m\u001b[37m\u001b[0m \u001b[1m118s\u001b[0m 2s/step\n",
      "Found 4000 images belonging to 8 classes.\n"
     ]
    },
    {
     "name": "stderr",
     "output_type": "stream",
     "text": [
      "/home/saulolv/PIBIC/TinyML/.venv/lib/python3.12/site-packages/keras/src/trainers/data_adapters/py_dataset_adapter.py:121: UserWarning: Your `PyDataset` class should call `super().__init__(**kwargs)` in its constructor. `**kwargs` can include `workers`, `use_multiprocessing`, `max_queue_size`. Do not pass these arguments to `fit()`, as they will be ignored.\n",
      "  self._warn_if_super_not_called()\n"
     ]
    },
    {
     "name": "stdout",
     "output_type": "stream",
     "text": [
      "\u001b[1m63/63\u001b[0m \u001b[32m━━━━━━━━━━━━━━━━━━━━\u001b[0m\u001b[37m\u001b[0m \u001b[1m124s\u001b[0m 2s/step\n",
      "Found 4000 images belonging to 8 classes.\n"
     ]
    },
    {
     "name": "stderr",
     "output_type": "stream",
     "text": [
      "/home/saulolv/PIBIC/TinyML/.venv/lib/python3.12/site-packages/keras/src/trainers/data_adapters/py_dataset_adapter.py:121: UserWarning: Your `PyDataset` class should call `super().__init__(**kwargs)` in its constructor. `**kwargs` can include `workers`, `use_multiprocessing`, `max_queue_size`. Do not pass these arguments to `fit()`, as they will be ignored.\n",
      "  self._warn_if_super_not_called()\n"
     ]
    },
    {
     "name": "stdout",
     "output_type": "stream",
     "text": [
      "\u001b[1m63/63\u001b[0m \u001b[32m━━━━━━━━━━━━━━━━━━━━\u001b[0m\u001b[37m\u001b[0m \u001b[1m130s\u001b[0m 2s/step\n",
      "Found 4000 images belonging to 8 classes.\n"
     ]
    },
    {
     "name": "stderr",
     "output_type": "stream",
     "text": [
      "/home/saulolv/PIBIC/TinyML/.venv/lib/python3.12/site-packages/keras/src/trainers/data_adapters/py_dataset_adapter.py:121: UserWarning: Your `PyDataset` class should call `super().__init__(**kwargs)` in its constructor. `**kwargs` can include `workers`, `use_multiprocessing`, `max_queue_size`. Do not pass these arguments to `fit()`, as they will be ignored.\n",
      "  self._warn_if_super_not_called()\n"
     ]
    },
    {
     "name": "stdout",
     "output_type": "stream",
     "text": [
      "\u001b[1m63/63\u001b[0m \u001b[32m━━━━━━━━━━━━━━━━━━━━\u001b[0m\u001b[37m\u001b[0m \u001b[1m120s\u001b[0m 2s/step\n",
      "Found 4000 images belonging to 8 classes.\n"
     ]
    },
    {
     "name": "stderr",
     "output_type": "stream",
     "text": [
      "/home/saulolv/PIBIC/TinyML/.venv/lib/python3.12/site-packages/keras/src/trainers/data_adapters/py_dataset_adapter.py:121: UserWarning: Your `PyDataset` class should call `super().__init__(**kwargs)` in its constructor. `**kwargs` can include `workers`, `use_multiprocessing`, `max_queue_size`. Do not pass these arguments to `fit()`, as they will be ignored.\n",
      "  self._warn_if_super_not_called()\n"
     ]
    },
    {
     "name": "stdout",
     "output_type": "stream",
     "text": [
      "\u001b[1m63/63\u001b[0m \u001b[32m━━━━━━━━━━━━━━━━━━━━\u001b[0m\u001b[37m\u001b[0m \u001b[1m125s\u001b[0m 2s/step\n",
      "Found 4000 images belonging to 8 classes.\n"
     ]
    },
    {
     "name": "stderr",
     "output_type": "stream",
     "text": [
      "/home/saulolv/PIBIC/TinyML/.venv/lib/python3.12/site-packages/keras/src/trainers/data_adapters/py_dataset_adapter.py:121: UserWarning: Your `PyDataset` class should call `super().__init__(**kwargs)` in its constructor. `**kwargs` can include `workers`, `use_multiprocessing`, `max_queue_size`. Do not pass these arguments to `fit()`, as they will be ignored.\n",
      "  self._warn_if_super_not_called()\n"
     ]
    },
    {
     "name": "stdout",
     "output_type": "stream",
     "text": [
      "\u001b[1m63/63\u001b[0m \u001b[32m━━━━━━━━━━━━━━━━━━━━\u001b[0m\u001b[37m\u001b[0m \u001b[1m123s\u001b[0m 2s/step\n",
      "Found 4000 images belonging to 8 classes.\n"
     ]
    },
    {
     "name": "stderr",
     "output_type": "stream",
     "text": [
      "/home/saulolv/PIBIC/TinyML/.venv/lib/python3.12/site-packages/keras/src/trainers/data_adapters/py_dataset_adapter.py:121: UserWarning: Your `PyDataset` class should call `super().__init__(**kwargs)` in its constructor. `**kwargs` can include `workers`, `use_multiprocessing`, `max_queue_size`. Do not pass these arguments to `fit()`, as they will be ignored.\n",
      "  self._warn_if_super_not_called()\n"
     ]
    },
    {
     "name": "stdout",
     "output_type": "stream",
     "text": [
      "\u001b[1m63/63\u001b[0m \u001b[32m━━━━━━━━━━━━━━━━━━━━\u001b[0m\u001b[37m\u001b[0m \u001b[1m108s\u001b[0m 2s/step\n",
      "Found 4000 images belonging to 8 classes.\n"
     ]
    },
    {
     "name": "stderr",
     "output_type": "stream",
     "text": [
      "/home/saulolv/PIBIC/TinyML/.venv/lib/python3.12/site-packages/keras/src/trainers/data_adapters/py_dataset_adapter.py:121: UserWarning: Your `PyDataset` class should call `super().__init__(**kwargs)` in its constructor. `**kwargs` can include `workers`, `use_multiprocessing`, `max_queue_size`. Do not pass these arguments to `fit()`, as they will be ignored.\n",
      "  self._warn_if_super_not_called()\n"
     ]
    },
    {
     "name": "stdout",
     "output_type": "stream",
     "text": [
      "\u001b[1m63/63\u001b[0m \u001b[32m━━━━━━━━━━━━━━━━━━━━\u001b[0m\u001b[37m\u001b[0m \u001b[1m100s\u001b[0m 2s/step\n",
      "Found 4000 images belonging to 8 classes.\n"
     ]
    },
    {
     "name": "stderr",
     "output_type": "stream",
     "text": [
      "/home/saulolv/PIBIC/TinyML/.venv/lib/python3.12/site-packages/keras/src/trainers/data_adapters/py_dataset_adapter.py:121: UserWarning: Your `PyDataset` class should call `super().__init__(**kwargs)` in its constructor. `**kwargs` can include `workers`, `use_multiprocessing`, `max_queue_size`. Do not pass these arguments to `fit()`, as they will be ignored.\n",
      "  self._warn_if_super_not_called()\n"
     ]
    },
    {
     "name": "stdout",
     "output_type": "stream",
     "text": [
      "\u001b[1m63/63\u001b[0m \u001b[32m━━━━━━━━━━━━━━━━━━━━\u001b[0m\u001b[37m\u001b[0m \u001b[1m72s\u001b[0m 1s/step\n",
      "Found 4000 images belonging to 8 classes.\n"
     ]
    },
    {
     "name": "stderr",
     "output_type": "stream",
     "text": [
      "/home/saulolv/PIBIC/TinyML/.venv/lib/python3.12/site-packages/keras/src/trainers/data_adapters/py_dataset_adapter.py:121: UserWarning: Your `PyDataset` class should call `super().__init__(**kwargs)` in its constructor. `**kwargs` can include `workers`, `use_multiprocessing`, `max_queue_size`. Do not pass these arguments to `fit()`, as they will be ignored.\n",
      "  self._warn_if_super_not_called()\n"
     ]
    },
    {
     "name": "stdout",
     "output_type": "stream",
     "text": [
      "\u001b[1m63/63\u001b[0m \u001b[32m━━━━━━━━━━━━━━━━━━━━\u001b[0m\u001b[37m\u001b[0m \u001b[1m82s\u001b[0m 1s/step\n",
      "Found 4000 images belonging to 8 classes.\n"
     ]
    },
    {
     "name": "stderr",
     "output_type": "stream",
     "text": [
      "/home/saulolv/PIBIC/TinyML/.venv/lib/python3.12/site-packages/keras/src/trainers/data_adapters/py_dataset_adapter.py:121: UserWarning: Your `PyDataset` class should call `super().__init__(**kwargs)` in its constructor. `**kwargs` can include `workers`, `use_multiprocessing`, `max_queue_size`. Do not pass these arguments to `fit()`, as they will be ignored.\n",
      "  self._warn_if_super_not_called()\n"
     ]
    },
    {
     "name": "stdout",
     "output_type": "stream",
     "text": [
      "\u001b[1m63/63\u001b[0m \u001b[32m━━━━━━━━━━━━━━━━━━━━\u001b[0m\u001b[37m\u001b[0m \u001b[1m93s\u001b[0m 1s/step\n",
      "Found 4000 images belonging to 8 classes.\n"
     ]
    },
    {
     "name": "stderr",
     "output_type": "stream",
     "text": [
      "/home/saulolv/PIBIC/TinyML/.venv/lib/python3.12/site-packages/keras/src/trainers/data_adapters/py_dataset_adapter.py:121: UserWarning: Your `PyDataset` class should call `super().__init__(**kwargs)` in its constructor. `**kwargs` can include `workers`, `use_multiprocessing`, `max_queue_size`. Do not pass these arguments to `fit()`, as they will be ignored.\n",
      "  self._warn_if_super_not_called()\n"
     ]
    },
    {
     "name": "stdout",
     "output_type": "stream",
     "text": [
      "\u001b[1m63/63\u001b[0m \u001b[32m━━━━━━━━━━━━━━━━━━━━\u001b[0m\u001b[37m\u001b[0m \u001b[1m92s\u001b[0m 1s/step\n",
      "Found 4000 images belonging to 8 classes.\n"
     ]
    },
    {
     "name": "stderr",
     "output_type": "stream",
     "text": [
      "/home/saulolv/PIBIC/TinyML/.venv/lib/python3.12/site-packages/keras/src/trainers/data_adapters/py_dataset_adapter.py:121: UserWarning: Your `PyDataset` class should call `super().__init__(**kwargs)` in its constructor. `**kwargs` can include `workers`, `use_multiprocessing`, `max_queue_size`. Do not pass these arguments to `fit()`, as they will be ignored.\n",
      "  self._warn_if_super_not_called()\n"
     ]
    },
    {
     "name": "stdout",
     "output_type": "stream",
     "text": [
      "\u001b[1m63/63\u001b[0m \u001b[32m━━━━━━━━━━━━━━━━━━━━\u001b[0m\u001b[37m\u001b[0m \u001b[1m106s\u001b[0m 2s/step\n",
      "Found 4000 images belonging to 8 classes.\n"
     ]
    },
    {
     "name": "stderr",
     "output_type": "stream",
     "text": [
      "/home/saulolv/PIBIC/TinyML/.venv/lib/python3.12/site-packages/keras/src/trainers/data_adapters/py_dataset_adapter.py:121: UserWarning: Your `PyDataset` class should call `super().__init__(**kwargs)` in its constructor. `**kwargs` can include `workers`, `use_multiprocessing`, `max_queue_size`. Do not pass these arguments to `fit()`, as they will be ignored.\n",
      "  self._warn_if_super_not_called()\n"
     ]
    },
    {
     "name": "stdout",
     "output_type": "stream",
     "text": [
      "\u001b[1m63/63\u001b[0m \u001b[32m━━━━━━━━━━━━━━━━━━━━\u001b[0m\u001b[37m\u001b[0m \u001b[1m134s\u001b[0m 2s/step\n",
      "Found 4000 images belonging to 8 classes.\n"
     ]
    },
    {
     "name": "stderr",
     "output_type": "stream",
     "text": [
      "/home/saulolv/PIBIC/TinyML/.venv/lib/python3.12/site-packages/keras/src/trainers/data_adapters/py_dataset_adapter.py:121: UserWarning: Your `PyDataset` class should call `super().__init__(**kwargs)` in its constructor. `**kwargs` can include `workers`, `use_multiprocessing`, `max_queue_size`. Do not pass these arguments to `fit()`, as they will be ignored.\n",
      "  self._warn_if_super_not_called()\n"
     ]
    },
    {
     "name": "stdout",
     "output_type": "stream",
     "text": [
      "\u001b[1m63/63\u001b[0m \u001b[32m━━━━━━━━━━━━━━━━━━━━\u001b[0m\u001b[37m\u001b[0m \u001b[1m106s\u001b[0m 2s/step\n",
      "Found 4000 images belonging to 8 classes.\n"
     ]
    },
    {
     "name": "stderr",
     "output_type": "stream",
     "text": [
      "/home/saulolv/PIBIC/TinyML/.venv/lib/python3.12/site-packages/keras/src/trainers/data_adapters/py_dataset_adapter.py:121: UserWarning: Your `PyDataset` class should call `super().__init__(**kwargs)` in its constructor. `**kwargs` can include `workers`, `use_multiprocessing`, `max_queue_size`. Do not pass these arguments to `fit()`, as they will be ignored.\n",
      "  self._warn_if_super_not_called()\n"
     ]
    },
    {
     "name": "stdout",
     "output_type": "stream",
     "text": [
      "\u001b[1m63/63\u001b[0m \u001b[32m━━━━━━━━━━━━━━━━━━━━\u001b[0m\u001b[37m\u001b[0m \u001b[1m90s\u001b[0m 1s/step\n",
      "Found 4000 images belonging to 8 classes.\n"
     ]
    },
    {
     "name": "stderr",
     "output_type": "stream",
     "text": [
      "/home/saulolv/PIBIC/TinyML/.venv/lib/python3.12/site-packages/keras/src/trainers/data_adapters/py_dataset_adapter.py:121: UserWarning: Your `PyDataset` class should call `super().__init__(**kwargs)` in its constructor. `**kwargs` can include `workers`, `use_multiprocessing`, `max_queue_size`. Do not pass these arguments to `fit()`, as they will be ignored.\n",
      "  self._warn_if_super_not_called()\n"
     ]
    },
    {
     "name": "stdout",
     "output_type": "stream",
     "text": [
      "\u001b[1m63/63\u001b[0m \u001b[32m━━━━━━━━━━━━━━━━━━━━\u001b[0m\u001b[37m\u001b[0m \u001b[1m100s\u001b[0m 2s/step\n",
      "Found 4000 images belonging to 8 classes.\n"
     ]
    },
    {
     "name": "stderr",
     "output_type": "stream",
     "text": [
      "/home/saulolv/PIBIC/TinyML/.venv/lib/python3.12/site-packages/keras/src/trainers/data_adapters/py_dataset_adapter.py:121: UserWarning: Your `PyDataset` class should call `super().__init__(**kwargs)` in its constructor. `**kwargs` can include `workers`, `use_multiprocessing`, `max_queue_size`. Do not pass these arguments to `fit()`, as they will be ignored.\n",
      "  self._warn_if_super_not_called()\n"
     ]
    },
    {
     "name": "stdout",
     "output_type": "stream",
     "text": [
      "\u001b[1m63/63\u001b[0m \u001b[32m━━━━━━━━━━━━━━━━━━━━\u001b[0m\u001b[37m\u001b[0m \u001b[1m101s\u001b[0m 2s/step\n",
      "Found 4000 images belonging to 8 classes.\n"
     ]
    },
    {
     "name": "stderr",
     "output_type": "stream",
     "text": [
      "/home/saulolv/PIBIC/TinyML/.venv/lib/python3.12/site-packages/keras/src/trainers/data_adapters/py_dataset_adapter.py:121: UserWarning: Your `PyDataset` class should call `super().__init__(**kwargs)` in its constructor. `**kwargs` can include `workers`, `use_multiprocessing`, `max_queue_size`. Do not pass these arguments to `fit()`, as they will be ignored.\n",
      "  self._warn_if_super_not_called()\n"
     ]
    },
    {
     "name": "stdout",
     "output_type": "stream",
     "text": [
      "\u001b[1m63/63\u001b[0m \u001b[32m━━━━━━━━━━━━━━━━━━━━\u001b[0m\u001b[37m\u001b[0m \u001b[1m97s\u001b[0m 2s/step\n",
      "Found 4000 images belonging to 8 classes.\n"
     ]
    },
    {
     "name": "stderr",
     "output_type": "stream",
     "text": [
      "/home/saulolv/PIBIC/TinyML/.venv/lib/python3.12/site-packages/keras/src/trainers/data_adapters/py_dataset_adapter.py:121: UserWarning: Your `PyDataset` class should call `super().__init__(**kwargs)` in its constructor. `**kwargs` can include `workers`, `use_multiprocessing`, `max_queue_size`. Do not pass these arguments to `fit()`, as they will be ignored.\n",
      "  self._warn_if_super_not_called()\n"
     ]
    },
    {
     "name": "stdout",
     "output_type": "stream",
     "text": [
      "\u001b[1m63/63\u001b[0m \u001b[32m━━━━━━━━━━━━━━━━━━━━\u001b[0m\u001b[37m\u001b[0m \u001b[1m106s\u001b[0m 2s/step\n",
      "Found 4000 images belonging to 8 classes.\n"
     ]
    },
    {
     "name": "stderr",
     "output_type": "stream",
     "text": [
      "/home/saulolv/PIBIC/TinyML/.venv/lib/python3.12/site-packages/keras/src/trainers/data_adapters/py_dataset_adapter.py:121: UserWarning: Your `PyDataset` class should call `super().__init__(**kwargs)` in its constructor. `**kwargs` can include `workers`, `use_multiprocessing`, `max_queue_size`. Do not pass these arguments to `fit()`, as they will be ignored.\n",
      "  self._warn_if_super_not_called()\n"
     ]
    },
    {
     "name": "stdout",
     "output_type": "stream",
     "text": [
      "\u001b[1m63/63\u001b[0m \u001b[32m━━━━━━━━━━━━━━━━━━━━\u001b[0m\u001b[37m\u001b[0m \u001b[1m74s\u001b[0m 1s/step\n",
      "Found 4000 images belonging to 8 classes.\n"
     ]
    },
    {
     "name": "stderr",
     "output_type": "stream",
     "text": [
      "/home/saulolv/PIBIC/TinyML/.venv/lib/python3.12/site-packages/keras/src/trainers/data_adapters/py_dataset_adapter.py:121: UserWarning: Your `PyDataset` class should call `super().__init__(**kwargs)` in its constructor. `**kwargs` can include `workers`, `use_multiprocessing`, `max_queue_size`. Do not pass these arguments to `fit()`, as they will be ignored.\n",
      "  self._warn_if_super_not_called()\n"
     ]
    },
    {
     "name": "stdout",
     "output_type": "stream",
     "text": [
      "\u001b[1m63/63\u001b[0m \u001b[32m━━━━━━━━━━━━━━━━━━━━\u001b[0m\u001b[37m\u001b[0m \u001b[1m86s\u001b[0m 1s/step\n",
      "Found 4000 images belonging to 8 classes.\n"
     ]
    },
    {
     "name": "stderr",
     "output_type": "stream",
     "text": [
      "/home/saulolv/PIBIC/TinyML/.venv/lib/python3.12/site-packages/keras/src/trainers/data_adapters/py_dataset_adapter.py:121: UserWarning: Your `PyDataset` class should call `super().__init__(**kwargs)` in its constructor. `**kwargs` can include `workers`, `use_multiprocessing`, `max_queue_size`. Do not pass these arguments to `fit()`, as they will be ignored.\n",
      "  self._warn_if_super_not_called()\n"
     ]
    },
    {
     "name": "stdout",
     "output_type": "stream",
     "text": [
      "\u001b[1m63/63\u001b[0m \u001b[32m━━━━━━━━━━━━━━━━━━━━\u001b[0m\u001b[37m\u001b[0m \u001b[1m74s\u001b[0m 1s/step\n",
      "Found 4000 images belonging to 8 classes.\n"
     ]
    },
    {
     "name": "stderr",
     "output_type": "stream",
     "text": [
      "/home/saulolv/PIBIC/TinyML/.venv/lib/python3.12/site-packages/keras/src/trainers/data_adapters/py_dataset_adapter.py:121: UserWarning: Your `PyDataset` class should call `super().__init__(**kwargs)` in its constructor. `**kwargs` can include `workers`, `use_multiprocessing`, `max_queue_size`. Do not pass these arguments to `fit()`, as they will be ignored.\n",
      "  self._warn_if_super_not_called()\n"
     ]
    },
    {
     "name": "stdout",
     "output_type": "stream",
     "text": [
      "\u001b[1m63/63\u001b[0m \u001b[32m━━━━━━━━━━━━━━━━━━━━\u001b[0m\u001b[37m\u001b[0m \u001b[1m79s\u001b[0m 1s/step\n",
      "Found 4000 images belonging to 8 classes.\n"
     ]
    },
    {
     "name": "stderr",
     "output_type": "stream",
     "text": [
      "/home/saulolv/PIBIC/TinyML/.venv/lib/python3.12/site-packages/keras/src/trainers/data_adapters/py_dataset_adapter.py:121: UserWarning: Your `PyDataset` class should call `super().__init__(**kwargs)` in its constructor. `**kwargs` can include `workers`, `use_multiprocessing`, `max_queue_size`. Do not pass these arguments to `fit()`, as they will be ignored.\n",
      "  self._warn_if_super_not_called()\n"
     ]
    },
    {
     "name": "stdout",
     "output_type": "stream",
     "text": [
      "\u001b[1m63/63\u001b[0m \u001b[32m━━━━━━━━━━━━━━━━━━━━\u001b[0m\u001b[37m\u001b[0m \u001b[1m76s\u001b[0m 1s/step\n",
      "Found 4000 images belonging to 8 classes.\n"
     ]
    },
    {
     "name": "stderr",
     "output_type": "stream",
     "text": [
      "/home/saulolv/PIBIC/TinyML/.venv/lib/python3.12/site-packages/keras/src/trainers/data_adapters/py_dataset_adapter.py:121: UserWarning: Your `PyDataset` class should call `super().__init__(**kwargs)` in its constructor. `**kwargs` can include `workers`, `use_multiprocessing`, `max_queue_size`. Do not pass these arguments to `fit()`, as they will be ignored.\n",
      "  self._warn_if_super_not_called()\n"
     ]
    },
    {
     "name": "stdout",
     "output_type": "stream",
     "text": [
      "\u001b[1m63/63\u001b[0m \u001b[32m━━━━━━━━━━━━━━━━━━━━\u001b[0m\u001b[37m\u001b[0m \u001b[1m77s\u001b[0m 1s/step\n",
      "Found 4000 images belonging to 8 classes.\n"
     ]
    },
    {
     "name": "stderr",
     "output_type": "stream",
     "text": [
      "/home/saulolv/PIBIC/TinyML/.venv/lib/python3.12/site-packages/keras/src/trainers/data_adapters/py_dataset_adapter.py:121: UserWarning: Your `PyDataset` class should call `super().__init__(**kwargs)` in its constructor. `**kwargs` can include `workers`, `use_multiprocessing`, `max_queue_size`. Do not pass these arguments to `fit()`, as they will be ignored.\n",
      "  self._warn_if_super_not_called()\n"
     ]
    },
    {
     "name": "stdout",
     "output_type": "stream",
     "text": [
      "\u001b[1m63/63\u001b[0m \u001b[32m━━━━━━━━━━━━━━━━━━━━\u001b[0m\u001b[37m\u001b[0m \u001b[1m75s\u001b[0m 1s/step\n",
      "Found 4000 images belonging to 8 classes.\n"
     ]
    },
    {
     "name": "stderr",
     "output_type": "stream",
     "text": [
      "/home/saulolv/PIBIC/TinyML/.venv/lib/python3.12/site-packages/keras/src/trainers/data_adapters/py_dataset_adapter.py:121: UserWarning: Your `PyDataset` class should call `super().__init__(**kwargs)` in its constructor. `**kwargs` can include `workers`, `use_multiprocessing`, `max_queue_size`. Do not pass these arguments to `fit()`, as they will be ignored.\n",
      "  self._warn_if_super_not_called()\n"
     ]
    },
    {
     "name": "stdout",
     "output_type": "stream",
     "text": [
      "\u001b[1m63/63\u001b[0m \u001b[32m━━━━━━━━━━━━━━━━━━━━\u001b[0m\u001b[37m\u001b[0m \u001b[1m70s\u001b[0m 1s/step\n",
      "Found 4000 images belonging to 8 classes.\n"
     ]
    },
    {
     "name": "stderr",
     "output_type": "stream",
     "text": [
      "/home/saulolv/PIBIC/TinyML/.venv/lib/python3.12/site-packages/keras/src/trainers/data_adapters/py_dataset_adapter.py:121: UserWarning: Your `PyDataset` class should call `super().__init__(**kwargs)` in its constructor. `**kwargs` can include `workers`, `use_multiprocessing`, `max_queue_size`. Do not pass these arguments to `fit()`, as they will be ignored.\n",
      "  self._warn_if_super_not_called()\n"
     ]
    },
    {
     "name": "stdout",
     "output_type": "stream",
     "text": [
      "\u001b[1m63/63\u001b[0m \u001b[32m━━━━━━━━━━━━━━━━━━━━\u001b[0m\u001b[37m\u001b[0m \u001b[1m69s\u001b[0m 1s/step\n",
      "Found 4000 images belonging to 8 classes.\n"
     ]
    },
    {
     "name": "stderr",
     "output_type": "stream",
     "text": [
      "/home/saulolv/PIBIC/TinyML/.venv/lib/python3.12/site-packages/keras/src/trainers/data_adapters/py_dataset_adapter.py:121: UserWarning: Your `PyDataset` class should call `super().__init__(**kwargs)` in its constructor. `**kwargs` can include `workers`, `use_multiprocessing`, `max_queue_size`. Do not pass these arguments to `fit()`, as they will be ignored.\n",
      "  self._warn_if_super_not_called()\n"
     ]
    },
    {
     "name": "stdout",
     "output_type": "stream",
     "text": [
      "\u001b[1m63/63\u001b[0m \u001b[32m━━━━━━━━━━━━━━━━━━━━\u001b[0m\u001b[37m\u001b[0m \u001b[1m73s\u001b[0m 1s/step\n",
      "Found 4000 images belonging to 8 classes.\n"
     ]
    },
    {
     "name": "stderr",
     "output_type": "stream",
     "text": [
      "/home/saulolv/PIBIC/TinyML/.venv/lib/python3.12/site-packages/keras/src/trainers/data_adapters/py_dataset_adapter.py:121: UserWarning: Your `PyDataset` class should call `super().__init__(**kwargs)` in its constructor. `**kwargs` can include `workers`, `use_multiprocessing`, `max_queue_size`. Do not pass these arguments to `fit()`, as they will be ignored.\n",
      "  self._warn_if_super_not_called()\n"
     ]
    },
    {
     "name": "stdout",
     "output_type": "stream",
     "text": [
      "\u001b[1m63/63\u001b[0m \u001b[32m━━━━━━━━━━━━━━━━━━━━\u001b[0m\u001b[37m\u001b[0m \u001b[1m72s\u001b[0m 1s/step\n",
      "Found 4000 images belonging to 8 classes.\n"
     ]
    },
    {
     "name": "stderr",
     "output_type": "stream",
     "text": [
      "/home/saulolv/PIBIC/TinyML/.venv/lib/python3.12/site-packages/keras/src/trainers/data_adapters/py_dataset_adapter.py:121: UserWarning: Your `PyDataset` class should call `super().__init__(**kwargs)` in its constructor. `**kwargs` can include `workers`, `use_multiprocessing`, `max_queue_size`. Do not pass these arguments to `fit()`, as they will be ignored.\n",
      "  self._warn_if_super_not_called()\n"
     ]
    },
    {
     "name": "stdout",
     "output_type": "stream",
     "text": [
      "\u001b[1m63/63\u001b[0m \u001b[32m━━━━━━━━━━━━━━━━━━━━\u001b[0m\u001b[37m\u001b[0m \u001b[1m56s\u001b[0m 888ms/step\n",
      "Found 4000 images belonging to 8 classes.\n"
     ]
    },
    {
     "name": "stderr",
     "output_type": "stream",
     "text": [
      "/home/saulolv/PIBIC/TinyML/.venv/lib/python3.12/site-packages/keras/src/trainers/data_adapters/py_dataset_adapter.py:121: UserWarning: Your `PyDataset` class should call `super().__init__(**kwargs)` in its constructor. `**kwargs` can include `workers`, `use_multiprocessing`, `max_queue_size`. Do not pass these arguments to `fit()`, as they will be ignored.\n",
      "  self._warn_if_super_not_called()\n"
     ]
    },
    {
     "name": "stdout",
     "output_type": "stream",
     "text": [
      "\u001b[1m63/63\u001b[0m \u001b[32m━━━━━━━━━━━━━━━━━━━━\u001b[0m\u001b[37m\u001b[0m \u001b[1m67s\u001b[0m 1s/step\n",
      "Found 4000 images belonging to 8 classes.\n"
     ]
    },
    {
     "name": "stderr",
     "output_type": "stream",
     "text": [
      "/home/saulolv/PIBIC/TinyML/.venv/lib/python3.12/site-packages/keras/src/trainers/data_adapters/py_dataset_adapter.py:121: UserWarning: Your `PyDataset` class should call `super().__init__(**kwargs)` in its constructor. `**kwargs` can include `workers`, `use_multiprocessing`, `max_queue_size`. Do not pass these arguments to `fit()`, as they will be ignored.\n",
      "  self._warn_if_super_not_called()\n"
     ]
    },
    {
     "name": "stdout",
     "output_type": "stream",
     "text": [
      "\u001b[1m63/63\u001b[0m \u001b[32m━━━━━━━━━━━━━━━━━━━━\u001b[0m\u001b[37m\u001b[0m \u001b[1m75s\u001b[0m 1s/step\n",
      "Found 4000 images belonging to 8 classes.\n"
     ]
    },
    {
     "name": "stderr",
     "output_type": "stream",
     "text": [
      "/home/saulolv/PIBIC/TinyML/.venv/lib/python3.12/site-packages/keras/src/trainers/data_adapters/py_dataset_adapter.py:121: UserWarning: Your `PyDataset` class should call `super().__init__(**kwargs)` in its constructor. `**kwargs` can include `workers`, `use_multiprocessing`, `max_queue_size`. Do not pass these arguments to `fit()`, as they will be ignored.\n",
      "  self._warn_if_super_not_called()\n"
     ]
    },
    {
     "name": "stdout",
     "output_type": "stream",
     "text": [
      "\u001b[1m63/63\u001b[0m \u001b[32m━━━━━━━━━━━━━━━━━━━━\u001b[0m\u001b[37m\u001b[0m \u001b[1m75s\u001b[0m 1s/step\n",
      "Found 4000 images belonging to 8 classes.\n"
     ]
    },
    {
     "name": "stderr",
     "output_type": "stream",
     "text": [
      "/home/saulolv/PIBIC/TinyML/.venv/lib/python3.12/site-packages/keras/src/trainers/data_adapters/py_dataset_adapter.py:121: UserWarning: Your `PyDataset` class should call `super().__init__(**kwargs)` in its constructor. `**kwargs` can include `workers`, `use_multiprocessing`, `max_queue_size`. Do not pass these arguments to `fit()`, as they will be ignored.\n",
      "  self._warn_if_super_not_called()\n"
     ]
    },
    {
     "name": "stdout",
     "output_type": "stream",
     "text": [
      "\u001b[1m63/63\u001b[0m \u001b[32m━━━━━━━━━━━━━━━━━━━━\u001b[0m\u001b[37m\u001b[0m \u001b[1m77s\u001b[0m 1s/step\n",
      "Found 4000 images belonging to 8 classes.\n"
     ]
    },
    {
     "name": "stderr",
     "output_type": "stream",
     "text": [
      "/home/saulolv/PIBIC/TinyML/.venv/lib/python3.12/site-packages/keras/src/trainers/data_adapters/py_dataset_adapter.py:121: UserWarning: Your `PyDataset` class should call `super().__init__(**kwargs)` in its constructor. `**kwargs` can include `workers`, `use_multiprocessing`, `max_queue_size`. Do not pass these arguments to `fit()`, as they will be ignored.\n",
      "  self._warn_if_super_not_called()\n"
     ]
    },
    {
     "name": "stdout",
     "output_type": "stream",
     "text": [
      "\u001b[1m63/63\u001b[0m \u001b[32m━━━━━━━━━━━━━━━━━━━━\u001b[0m\u001b[37m\u001b[0m \u001b[1m86s\u001b[0m 1s/step\n",
      "Found 4000 images belonging to 8 classes.\n"
     ]
    },
    {
     "name": "stderr",
     "output_type": "stream",
     "text": [
      "/home/saulolv/PIBIC/TinyML/.venv/lib/python3.12/site-packages/keras/src/trainers/data_adapters/py_dataset_adapter.py:121: UserWarning: Your `PyDataset` class should call `super().__init__(**kwargs)` in its constructor. `**kwargs` can include `workers`, `use_multiprocessing`, `max_queue_size`. Do not pass these arguments to `fit()`, as they will be ignored.\n",
      "  self._warn_if_super_not_called()\n"
     ]
    },
    {
     "name": "stdout",
     "output_type": "stream",
     "text": [
      "\u001b[1m63/63\u001b[0m \u001b[32m━━━━━━━━━━━━━━━━━━━━\u001b[0m\u001b[37m\u001b[0m \u001b[1m93s\u001b[0m 1s/step\n",
      "Found 4000 images belonging to 8 classes.\n"
     ]
    },
    {
     "name": "stderr",
     "output_type": "stream",
     "text": [
      "/home/saulolv/PIBIC/TinyML/.venv/lib/python3.12/site-packages/keras/src/trainers/data_adapters/py_dataset_adapter.py:121: UserWarning: Your `PyDataset` class should call `super().__init__(**kwargs)` in its constructor. `**kwargs` can include `workers`, `use_multiprocessing`, `max_queue_size`. Do not pass these arguments to `fit()`, as they will be ignored.\n",
      "  self._warn_if_super_not_called()\n"
     ]
    },
    {
     "name": "stdout",
     "output_type": "stream",
     "text": [
      "\u001b[1m63/63\u001b[0m \u001b[32m━━━━━━━━━━━━━━━━━━━━\u001b[0m\u001b[37m\u001b[0m \u001b[1m89s\u001b[0m 1s/step\n",
      "Found 4000 images belonging to 8 classes.\n"
     ]
    },
    {
     "name": "stderr",
     "output_type": "stream",
     "text": [
      "/home/saulolv/PIBIC/TinyML/.venv/lib/python3.12/site-packages/keras/src/trainers/data_adapters/py_dataset_adapter.py:121: UserWarning: Your `PyDataset` class should call `super().__init__(**kwargs)` in its constructor. `**kwargs` can include `workers`, `use_multiprocessing`, `max_queue_size`. Do not pass these arguments to `fit()`, as they will be ignored.\n",
      "  self._warn_if_super_not_called()\n"
     ]
    },
    {
     "name": "stdout",
     "output_type": "stream",
     "text": [
      "\u001b[1m63/63\u001b[0m \u001b[32m━━━━━━━━━━━━━━━━━━━━\u001b[0m\u001b[37m\u001b[0m \u001b[1m91s\u001b[0m 1s/step\n",
      "Found 4000 images belonging to 8 classes.\n"
     ]
    },
    {
     "name": "stderr",
     "output_type": "stream",
     "text": [
      "/home/saulolv/PIBIC/TinyML/.venv/lib/python3.12/site-packages/keras/src/trainers/data_adapters/py_dataset_adapter.py:121: UserWarning: Your `PyDataset` class should call `super().__init__(**kwargs)` in its constructor. `**kwargs` can include `workers`, `use_multiprocessing`, `max_queue_size`. Do not pass these arguments to `fit()`, as they will be ignored.\n",
      "  self._warn_if_super_not_called()\n"
     ]
    },
    {
     "name": "stdout",
     "output_type": "stream",
     "text": [
      "\u001b[1m63/63\u001b[0m \u001b[32m━━━━━━━━━━━━━━━━━━━━\u001b[0m\u001b[37m\u001b[0m \u001b[1m91s\u001b[0m 1s/step\n",
      "Found 4000 images belonging to 8 classes.\n"
     ]
    },
    {
     "name": "stderr",
     "output_type": "stream",
     "text": [
      "/home/saulolv/PIBIC/TinyML/.venv/lib/python3.12/site-packages/keras/src/trainers/data_adapters/py_dataset_adapter.py:121: UserWarning: Your `PyDataset` class should call `super().__init__(**kwargs)` in its constructor. `**kwargs` can include `workers`, `use_multiprocessing`, `max_queue_size`. Do not pass these arguments to `fit()`, as they will be ignored.\n",
      "  self._warn_if_super_not_called()\n"
     ]
    },
    {
     "name": "stdout",
     "output_type": "stream",
     "text": [
      "\u001b[1m63/63\u001b[0m \u001b[32m━━━━━━━━━━━━━━━━━━━━\u001b[0m\u001b[37m\u001b[0m \u001b[1m94s\u001b[0m 1s/step\n",
      "Found 4000 images belonging to 8 classes.\n"
     ]
    },
    {
     "name": "stderr",
     "output_type": "stream",
     "text": [
      "/home/saulolv/PIBIC/TinyML/.venv/lib/python3.12/site-packages/keras/src/trainers/data_adapters/py_dataset_adapter.py:121: UserWarning: Your `PyDataset` class should call `super().__init__(**kwargs)` in its constructor. `**kwargs` can include `workers`, `use_multiprocessing`, `max_queue_size`. Do not pass these arguments to `fit()`, as they will be ignored.\n",
      "  self._warn_if_super_not_called()\n"
     ]
    },
    {
     "name": "stdout",
     "output_type": "stream",
     "text": [
      "\u001b[1m63/63\u001b[0m \u001b[32m━━━━━━━━━━━━━━━━━━━━\u001b[0m\u001b[37m\u001b[0m \u001b[1m94s\u001b[0m 1s/step\n",
      "Found 4000 images belonging to 8 classes.\n"
     ]
    },
    {
     "name": "stderr",
     "output_type": "stream",
     "text": [
      "/home/saulolv/PIBIC/TinyML/.venv/lib/python3.12/site-packages/keras/src/trainers/data_adapters/py_dataset_adapter.py:121: UserWarning: Your `PyDataset` class should call `super().__init__(**kwargs)` in its constructor. `**kwargs` can include `workers`, `use_multiprocessing`, `max_queue_size`. Do not pass these arguments to `fit()`, as they will be ignored.\n",
      "  self._warn_if_super_not_called()\n"
     ]
    },
    {
     "name": "stdout",
     "output_type": "stream",
     "text": [
      "\u001b[1m63/63\u001b[0m \u001b[32m━━━━━━━━━━━━━━━━━━━━\u001b[0m\u001b[37m\u001b[0m \u001b[1m92s\u001b[0m 1s/step\n",
      "Found 4000 images belonging to 8 classes.\n"
     ]
    },
    {
     "name": "stderr",
     "output_type": "stream",
     "text": [
      "/home/saulolv/PIBIC/TinyML/.venv/lib/python3.12/site-packages/keras/src/trainers/data_adapters/py_dataset_adapter.py:121: UserWarning: Your `PyDataset` class should call `super().__init__(**kwargs)` in its constructor. `**kwargs` can include `workers`, `use_multiprocessing`, `max_queue_size`. Do not pass these arguments to `fit()`, as they will be ignored.\n",
      "  self._warn_if_super_not_called()\n"
     ]
    },
    {
     "name": "stdout",
     "output_type": "stream",
     "text": [
      "\u001b[1m63/63\u001b[0m \u001b[32m━━━━━━━━━━━━━━━━━━━━\u001b[0m\u001b[37m\u001b[0m \u001b[1m70s\u001b[0m 1s/step\n",
      "Found 4000 images belonging to 8 classes.\n"
     ]
    },
    {
     "name": "stderr",
     "output_type": "stream",
     "text": [
      "/home/saulolv/PIBIC/TinyML/.venv/lib/python3.12/site-packages/keras/src/trainers/data_adapters/py_dataset_adapter.py:121: UserWarning: Your `PyDataset` class should call `super().__init__(**kwargs)` in its constructor. `**kwargs` can include `workers`, `use_multiprocessing`, `max_queue_size`. Do not pass these arguments to `fit()`, as they will be ignored.\n",
      "  self._warn_if_super_not_called()\n"
     ]
    },
    {
     "name": "stdout",
     "output_type": "stream",
     "text": [
      "\u001b[1m63/63\u001b[0m \u001b[32m━━━━━━━━━━━━━━━━━━━━\u001b[0m\u001b[37m\u001b[0m \u001b[1m67s\u001b[0m 1s/step\n",
      "Found 4000 images belonging to 8 classes.\n"
     ]
    },
    {
     "name": "stderr",
     "output_type": "stream",
     "text": [
      "/home/saulolv/PIBIC/TinyML/.venv/lib/python3.12/site-packages/keras/src/trainers/data_adapters/py_dataset_adapter.py:121: UserWarning: Your `PyDataset` class should call `super().__init__(**kwargs)` in its constructor. `**kwargs` can include `workers`, `use_multiprocessing`, `max_queue_size`. Do not pass these arguments to `fit()`, as they will be ignored.\n",
      "  self._warn_if_super_not_called()\n"
     ]
    },
    {
     "name": "stdout",
     "output_type": "stream",
     "text": [
      "\u001b[1m63/63\u001b[0m \u001b[32m━━━━━━━━━━━━━━━━━━━━\u001b[0m\u001b[37m\u001b[0m \u001b[1m69s\u001b[0m 1s/step\n",
      "Found 4000 images belonging to 8 classes.\n"
     ]
    },
    {
     "name": "stderr",
     "output_type": "stream",
     "text": [
      "/home/saulolv/PIBIC/TinyML/.venv/lib/python3.12/site-packages/keras/src/trainers/data_adapters/py_dataset_adapter.py:121: UserWarning: Your `PyDataset` class should call `super().__init__(**kwargs)` in its constructor. `**kwargs` can include `workers`, `use_multiprocessing`, `max_queue_size`. Do not pass these arguments to `fit()`, as they will be ignored.\n",
      "  self._warn_if_super_not_called()\n"
     ]
    },
    {
     "name": "stdout",
     "output_type": "stream",
     "text": [
      "\u001b[1m63/63\u001b[0m \u001b[32m━━━━━━━━━━━━━━━━━━━━\u001b[0m\u001b[37m\u001b[0m \u001b[1m66s\u001b[0m 1s/step\n",
      "Found 4000 images belonging to 8 classes.\n"
     ]
    },
    {
     "name": "stderr",
     "output_type": "stream",
     "text": [
      "/home/saulolv/PIBIC/TinyML/.venv/lib/python3.12/site-packages/keras/src/trainers/data_adapters/py_dataset_adapter.py:121: UserWarning: Your `PyDataset` class should call `super().__init__(**kwargs)` in its constructor. `**kwargs` can include `workers`, `use_multiprocessing`, `max_queue_size`. Do not pass these arguments to `fit()`, as they will be ignored.\n",
      "  self._warn_if_super_not_called()\n"
     ]
    },
    {
     "name": "stdout",
     "output_type": "stream",
     "text": [
      "\u001b[1m63/63\u001b[0m \u001b[32m━━━━━━━━━━━━━━━━━━━━\u001b[0m\u001b[37m\u001b[0m \u001b[1m67s\u001b[0m 1s/step\n",
      "Found 4000 images belonging to 8 classes.\n"
     ]
    },
    {
     "name": "stderr",
     "output_type": "stream",
     "text": [
      "/home/saulolv/PIBIC/TinyML/.venv/lib/python3.12/site-packages/keras/src/trainers/data_adapters/py_dataset_adapter.py:121: UserWarning: Your `PyDataset` class should call `super().__init__(**kwargs)` in its constructor. `**kwargs` can include `workers`, `use_multiprocessing`, `max_queue_size`. Do not pass these arguments to `fit()`, as they will be ignored.\n",
      "  self._warn_if_super_not_called()\n"
     ]
    },
    {
     "name": "stdout",
     "output_type": "stream",
     "text": [
      "\u001b[1m63/63\u001b[0m \u001b[32m━━━━━━━━━━━━━━━━━━━━\u001b[0m\u001b[37m\u001b[0m \u001b[1m66s\u001b[0m 1s/step\n",
      "Found 4000 images belonging to 8 classes.\n"
     ]
    },
    {
     "name": "stderr",
     "output_type": "stream",
     "text": [
      "/home/saulolv/PIBIC/TinyML/.venv/lib/python3.12/site-packages/keras/src/trainers/data_adapters/py_dataset_adapter.py:121: UserWarning: Your `PyDataset` class should call `super().__init__(**kwargs)` in its constructor. `**kwargs` can include `workers`, `use_multiprocessing`, `max_queue_size`. Do not pass these arguments to `fit()`, as they will be ignored.\n",
      "  self._warn_if_super_not_called()\n"
     ]
    },
    {
     "name": "stdout",
     "output_type": "stream",
     "text": [
      "\u001b[1m63/63\u001b[0m \u001b[32m━━━━━━━━━━━━━━━━━━━━\u001b[0m\u001b[37m\u001b[0m \u001b[1m69s\u001b[0m 1s/step\n",
      "Found 4000 images belonging to 8 classes.\n"
     ]
    },
    {
     "name": "stderr",
     "output_type": "stream",
     "text": [
      "/home/saulolv/PIBIC/TinyML/.venv/lib/python3.12/site-packages/keras/src/trainers/data_adapters/py_dataset_adapter.py:121: UserWarning: Your `PyDataset` class should call `super().__init__(**kwargs)` in its constructor. `**kwargs` can include `workers`, `use_multiprocessing`, `max_queue_size`. Do not pass these arguments to `fit()`, as they will be ignored.\n",
      "  self._warn_if_super_not_called()\n"
     ]
    },
    {
     "name": "stdout",
     "output_type": "stream",
     "text": [
      "\u001b[1m63/63\u001b[0m \u001b[32m━━━━━━━━━━━━━━━━━━━━\u001b[0m\u001b[37m\u001b[0m \u001b[1m69s\u001b[0m 1s/step\n",
      "Found 4000 images belonging to 8 classes.\n"
     ]
    },
    {
     "name": "stderr",
     "output_type": "stream",
     "text": [
      "/home/saulolv/PIBIC/TinyML/.venv/lib/python3.12/site-packages/keras/src/trainers/data_adapters/py_dataset_adapter.py:121: UserWarning: Your `PyDataset` class should call `super().__init__(**kwargs)` in its constructor. `**kwargs` can include `workers`, `use_multiprocessing`, `max_queue_size`. Do not pass these arguments to `fit()`, as they will be ignored.\n",
      "  self._warn_if_super_not_called()\n"
     ]
    },
    {
     "name": "stdout",
     "output_type": "stream",
     "text": [
      "\u001b[1m63/63\u001b[0m \u001b[32m━━━━━━━━━━━━━━━━━━━━\u001b[0m\u001b[37m\u001b[0m \u001b[1m67s\u001b[0m 1s/step\n",
      "Found 4000 images belonging to 8 classes.\n"
     ]
    },
    {
     "name": "stderr",
     "output_type": "stream",
     "text": [
      "/home/saulolv/PIBIC/TinyML/.venv/lib/python3.12/site-packages/keras/src/trainers/data_adapters/py_dataset_adapter.py:121: UserWarning: Your `PyDataset` class should call `super().__init__(**kwargs)` in its constructor. `**kwargs` can include `workers`, `use_multiprocessing`, `max_queue_size`. Do not pass these arguments to `fit()`, as they will be ignored.\n",
      "  self._warn_if_super_not_called()\n"
     ]
    },
    {
     "name": "stdout",
     "output_type": "stream",
     "text": [
      "\u001b[1m63/63\u001b[0m \u001b[32m━━━━━━━━━━━━━━━━━━━━\u001b[0m\u001b[37m\u001b[0m \u001b[1m66s\u001b[0m 1s/step\n",
      "Found 4000 images belonging to 8 classes.\n"
     ]
    },
    {
     "name": "stderr",
     "output_type": "stream",
     "text": [
      "/home/saulolv/PIBIC/TinyML/.venv/lib/python3.12/site-packages/keras/src/trainers/data_adapters/py_dataset_adapter.py:121: UserWarning: Your `PyDataset` class should call `super().__init__(**kwargs)` in its constructor. `**kwargs` can include `workers`, `use_multiprocessing`, `max_queue_size`. Do not pass these arguments to `fit()`, as they will be ignored.\n",
      "  self._warn_if_super_not_called()\n"
     ]
    },
    {
     "name": "stdout",
     "output_type": "stream",
     "text": [
      "\u001b[1m63/63\u001b[0m \u001b[32m━━━━━━━━━━━━━━━━━━━━\u001b[0m\u001b[37m\u001b[0m \u001b[1m65s\u001b[0m 1s/step\n",
      "Found 4000 images belonging to 8 classes.\n"
     ]
    },
    {
     "name": "stderr",
     "output_type": "stream",
     "text": [
      "/home/saulolv/PIBIC/TinyML/.venv/lib/python3.12/site-packages/keras/src/trainers/data_adapters/py_dataset_adapter.py:121: UserWarning: Your `PyDataset` class should call `super().__init__(**kwargs)` in its constructor. `**kwargs` can include `workers`, `use_multiprocessing`, `max_queue_size`. Do not pass these arguments to `fit()`, as they will be ignored.\n",
      "  self._warn_if_super_not_called()\n"
     ]
    },
    {
     "name": "stdout",
     "output_type": "stream",
     "text": [
      "\u001b[1m63/63\u001b[0m \u001b[32m━━━━━━━━━━━━━━━━━━━━\u001b[0m\u001b[37m\u001b[0m \u001b[1m68s\u001b[0m 1s/step\n",
      "Found 4000 images belonging to 8 classes.\n"
     ]
    },
    {
     "name": "stderr",
     "output_type": "stream",
     "text": [
      "/home/saulolv/PIBIC/TinyML/.venv/lib/python3.12/site-packages/keras/src/trainers/data_adapters/py_dataset_adapter.py:121: UserWarning: Your `PyDataset` class should call `super().__init__(**kwargs)` in its constructor. `**kwargs` can include `workers`, `use_multiprocessing`, `max_queue_size`. Do not pass these arguments to `fit()`, as they will be ignored.\n",
      "  self._warn_if_super_not_called()\n"
     ]
    },
    {
     "name": "stdout",
     "output_type": "stream",
     "text": [
      "\u001b[1m63/63\u001b[0m \u001b[32m━━━━━━━━━━━━━━━━━━━━\u001b[0m\u001b[37m\u001b[0m \u001b[1m69s\u001b[0m 1s/step\n",
      "Found 4000 images belonging to 8 classes.\n"
     ]
    },
    {
     "name": "stderr",
     "output_type": "stream",
     "text": [
      "/home/saulolv/PIBIC/TinyML/.venv/lib/python3.12/site-packages/keras/src/trainers/data_adapters/py_dataset_adapter.py:121: UserWarning: Your `PyDataset` class should call `super().__init__(**kwargs)` in its constructor. `**kwargs` can include `workers`, `use_multiprocessing`, `max_queue_size`. Do not pass these arguments to `fit()`, as they will be ignored.\n",
      "  self._warn_if_super_not_called()\n"
     ]
    },
    {
     "name": "stdout",
     "output_type": "stream",
     "text": [
      "\u001b[1m63/63\u001b[0m \u001b[32m━━━━━━━━━━━━━━━━━━━━\u001b[0m\u001b[37m\u001b[0m \u001b[1m69s\u001b[0m 1s/step\n",
      "Found 4000 images belonging to 8 classes.\n"
     ]
    },
    {
     "name": "stderr",
     "output_type": "stream",
     "text": [
      "/home/saulolv/PIBIC/TinyML/.venv/lib/python3.12/site-packages/keras/src/trainers/data_adapters/py_dataset_adapter.py:121: UserWarning: Your `PyDataset` class should call `super().__init__(**kwargs)` in its constructor. `**kwargs` can include `workers`, `use_multiprocessing`, `max_queue_size`. Do not pass these arguments to `fit()`, as they will be ignored.\n",
      "  self._warn_if_super_not_called()\n"
     ]
    },
    {
     "name": "stdout",
     "output_type": "stream",
     "text": [
      "\u001b[1m63/63\u001b[0m \u001b[32m━━━━━━━━━━━━━━━━━━━━\u001b[0m\u001b[37m\u001b[0m \u001b[1m69s\u001b[0m 1s/step\n",
      "Found 4000 images belonging to 8 classes.\n"
     ]
    },
    {
     "name": "stderr",
     "output_type": "stream",
     "text": [
      "/home/saulolv/PIBIC/TinyML/.venv/lib/python3.12/site-packages/keras/src/trainers/data_adapters/py_dataset_adapter.py:121: UserWarning: Your `PyDataset` class should call `super().__init__(**kwargs)` in its constructor. `**kwargs` can include `workers`, `use_multiprocessing`, `max_queue_size`. Do not pass these arguments to `fit()`, as they will be ignored.\n",
      "  self._warn_if_super_not_called()\n"
     ]
    },
    {
     "name": "stdout",
     "output_type": "stream",
     "text": [
      "\u001b[1m63/63\u001b[0m \u001b[32m━━━━━━━━━━━━━━━━━━━━\u001b[0m\u001b[37m\u001b[0m \u001b[1m69s\u001b[0m 1s/step\n",
      "Found 4000 images belonging to 8 classes.\n"
     ]
    },
    {
     "name": "stderr",
     "output_type": "stream",
     "text": [
      "/home/saulolv/PIBIC/TinyML/.venv/lib/python3.12/site-packages/keras/src/trainers/data_adapters/py_dataset_adapter.py:121: UserWarning: Your `PyDataset` class should call `super().__init__(**kwargs)` in its constructor. `**kwargs` can include `workers`, `use_multiprocessing`, `max_queue_size`. Do not pass these arguments to `fit()`, as they will be ignored.\n",
      "  self._warn_if_super_not_called()\n"
     ]
    },
    {
     "name": "stdout",
     "output_type": "stream",
     "text": [
      "\u001b[1m63/63\u001b[0m \u001b[32m━━━━━━━━━━━━━━━━━━━━\u001b[0m\u001b[37m\u001b[0m \u001b[1m68s\u001b[0m 1s/step\n",
      "Found 4000 images belonging to 8 classes.\n"
     ]
    },
    {
     "name": "stderr",
     "output_type": "stream",
     "text": [
      "/home/saulolv/PIBIC/TinyML/.venv/lib/python3.12/site-packages/keras/src/trainers/data_adapters/py_dataset_adapter.py:121: UserWarning: Your `PyDataset` class should call `super().__init__(**kwargs)` in its constructor. `**kwargs` can include `workers`, `use_multiprocessing`, `max_queue_size`. Do not pass these arguments to `fit()`, as they will be ignored.\n",
      "  self._warn_if_super_not_called()\n"
     ]
    },
    {
     "name": "stdout",
     "output_type": "stream",
     "text": [
      "\u001b[1m63/63\u001b[0m \u001b[32m━━━━━━━━━━━━━━━━━━━━\u001b[0m\u001b[37m\u001b[0m \u001b[1m173s\u001b[0m 3s/step\n",
      "Found 4000 images belonging to 8 classes.\n"
     ]
    },
    {
     "name": "stderr",
     "output_type": "stream",
     "text": [
      "/home/saulolv/PIBIC/TinyML/.venv/lib/python3.12/site-packages/keras/src/trainers/data_adapters/py_dataset_adapter.py:121: UserWarning: Your `PyDataset` class should call `super().__init__(**kwargs)` in its constructor. `**kwargs` can include `workers`, `use_multiprocessing`, `max_queue_size`. Do not pass these arguments to `fit()`, as they will be ignored.\n",
      "  self._warn_if_super_not_called()\n"
     ]
    },
    {
     "name": "stdout",
     "output_type": "stream",
     "text": [
      "\u001b[1m63/63\u001b[0m \u001b[32m━━━━━━━━━━━━━━━━━━━━\u001b[0m\u001b[37m\u001b[0m \u001b[1m68s\u001b[0m 1s/step\n",
      "Found 4000 images belonging to 8 classes.\n"
     ]
    },
    {
     "name": "stderr",
     "output_type": "stream",
     "text": [
      "/home/saulolv/PIBIC/TinyML/.venv/lib/python3.12/site-packages/keras/src/trainers/data_adapters/py_dataset_adapter.py:121: UserWarning: Your `PyDataset` class should call `super().__init__(**kwargs)` in its constructor. `**kwargs` can include `workers`, `use_multiprocessing`, `max_queue_size`. Do not pass these arguments to `fit()`, as they will be ignored.\n",
      "  self._warn_if_super_not_called()\n"
     ]
    },
    {
     "name": "stdout",
     "output_type": "stream",
     "text": [
      "\u001b[1m63/63\u001b[0m \u001b[32m━━━━━━━━━━━━━━━━━━━━\u001b[0m\u001b[37m\u001b[0m \u001b[1m69s\u001b[0m 1s/step\n",
      "Found 4000 images belonging to 8 classes.\n"
     ]
    },
    {
     "name": "stderr",
     "output_type": "stream",
     "text": [
      "/home/saulolv/PIBIC/TinyML/.venv/lib/python3.12/site-packages/keras/src/trainers/data_adapters/py_dataset_adapter.py:121: UserWarning: Your `PyDataset` class should call `super().__init__(**kwargs)` in its constructor. `**kwargs` can include `workers`, `use_multiprocessing`, `max_queue_size`. Do not pass these arguments to `fit()`, as they will be ignored.\n",
      "  self._warn_if_super_not_called()\n"
     ]
    },
    {
     "name": "stdout",
     "output_type": "stream",
     "text": [
      "\u001b[1m63/63\u001b[0m \u001b[32m━━━━━━━━━━━━━━━━━━━━\u001b[0m\u001b[37m\u001b[0m \u001b[1m66s\u001b[0m 1s/step\n",
      "Found 4000 images belonging to 8 classes.\n"
     ]
    },
    {
     "name": "stderr",
     "output_type": "stream",
     "text": [
      "/home/saulolv/PIBIC/TinyML/.venv/lib/python3.12/site-packages/keras/src/trainers/data_adapters/py_dataset_adapter.py:121: UserWarning: Your `PyDataset` class should call `super().__init__(**kwargs)` in its constructor. `**kwargs` can include `workers`, `use_multiprocessing`, `max_queue_size`. Do not pass these arguments to `fit()`, as they will be ignored.\n",
      "  self._warn_if_super_not_called()\n"
     ]
    },
    {
     "name": "stdout",
     "output_type": "stream",
     "text": [
      "\u001b[1m63/63\u001b[0m \u001b[32m━━━━━━━━━━━━━━━━━━━━\u001b[0m\u001b[37m\u001b[0m \u001b[1m66s\u001b[0m 1s/step\n",
      "Found 4000 images belonging to 8 classes.\n"
     ]
    },
    {
     "name": "stderr",
     "output_type": "stream",
     "text": [
      "/home/saulolv/PIBIC/TinyML/.venv/lib/python3.12/site-packages/keras/src/trainers/data_adapters/py_dataset_adapter.py:121: UserWarning: Your `PyDataset` class should call `super().__init__(**kwargs)` in its constructor. `**kwargs` can include `workers`, `use_multiprocessing`, `max_queue_size`. Do not pass these arguments to `fit()`, as they will be ignored.\n",
      "  self._warn_if_super_not_called()\n"
     ]
    },
    {
     "name": "stdout",
     "output_type": "stream",
     "text": [
      "\u001b[1m63/63\u001b[0m \u001b[32m━━━━━━━━━━━━━━━━━━━━\u001b[0m\u001b[37m\u001b[0m \u001b[1m66s\u001b[0m 1s/step\n",
      "Found 4000 images belonging to 8 classes.\n"
     ]
    },
    {
     "name": "stderr",
     "output_type": "stream",
     "text": [
      "/home/saulolv/PIBIC/TinyML/.venv/lib/python3.12/site-packages/keras/src/trainers/data_adapters/py_dataset_adapter.py:121: UserWarning: Your `PyDataset` class should call `super().__init__(**kwargs)` in its constructor. `**kwargs` can include `workers`, `use_multiprocessing`, `max_queue_size`. Do not pass these arguments to `fit()`, as they will be ignored.\n",
      "  self._warn_if_super_not_called()\n"
     ]
    },
    {
     "name": "stdout",
     "output_type": "stream",
     "text": [
      "\u001b[1m63/63\u001b[0m \u001b[32m━━━━━━━━━━━━━━━━━━━━\u001b[0m\u001b[37m\u001b[0m \u001b[1m67s\u001b[0m 1s/step\n"
     ]
    }
   ],
   "source": [
    "result = {\n",
    "    'blur': {},\n",
    "    'digital': {},\n",
    "    'noise': {},\n",
    "    'weather': {}\n",
    "}\n",
    "for subject in CORRUPTION_TYPES.keys():\n",
    "    for corruption_type in range(len(CORRUPTION_TYPES[subject])):\n",
    "        for severity in range(1, 6):\n",
    "            corruption_name = CORRUPTION_TYPES[subject][corruption_type]\n",
    "\n",
    "            generator = datagen.flow_from_directory(\n",
    "                f'{BASE_PATH}/{subject}/{corruption_name}/{severity}',\n",
    "                target_size=(224, 224),\n",
    "                batch_size=64,\n",
    "                shuffle=False\n",
    "            )\n",
    "\n",
    "            preds = model_efficientnet.predict(generator)\n",
    "            predicted_classes = np.argmax(preds, axis=1)\n",
    "\n",
    "            accuracy = accuracy_score(generator.labels, predicted_classes)\n",
    "\n",
    "            if corruption_name not in result[subject]:\n",
    "                result[subject][corruption_name] = {}\n",
    "\n",
    "            result[subject][corruption_name][severity] = 1 - accuracy\n",
    "\n",
    "            save_json('results/mce/corruption_efficientNet_error.json', result)"
   ]
  },
  {
   "cell_type": "code",
   "execution_count": 39,
   "metadata": {},
   "outputs": [],
   "source": [
    "# Save ACCURACY RESULTS in JSON format\n",
    "accuracy_results = {\n",
    "    \"lcnn_accuracy\": accuracy,\n",
    "    \"mobilenetv3_accuracy\": accuracy_mobilenetv3,\n",
    "    \"efficientnet_accuracy\": accuracy_efficientnet\n",
    "}\n",
    "save_json('results/mce/accuracy_results.json', accuracy_results)"
   ]
  },
  {
   "cell_type": "markdown",
   "metadata": {},
   "source": [
    "# Evaluate Corruption Error"
   ]
  },
  {
   "cell_type": "code",
   "execution_count": 40,
   "metadata": {},
   "outputs": [],
   "source": [
    "# Evaluate Corruption Error\n",
    "\n",
    "corruption_error_lcnn = load_json('results/mce/corruption_lcnn_error.json')\n",
    "corruption_error_mobilenetv3 = load_json('results/mce/corruption_mobilenetv3_error.json')\n",
    "corruption_error_efficientnet = load_json('results/mce/corruption_efficientNet_error.json')"
   ]
  },
  {
   "cell_type": "code",
   "execution_count": 41,
   "metadata": {},
   "outputs": [],
   "source": [
    "def sum_levels(category_data):\n",
    "    return {key: sum(levels.values()) for key, levels in category_data.items()}\n",
    "\n",
    "def sum_corruption_error_by_corruption(corruption_error_data):\n",
    "    return {category: sum_levels(corruption_error_data[category]) for category in corruption_error_data}"
   ]
  },
  {
   "cell_type": "code",
   "execution_count": 42,
   "metadata": {},
   "outputs": [],
   "source": [
    "sum_corruption_error_lcnn = sum_corruption_error_by_corruption(corruption_error_lcnn)\n",
    "sum_corruption_error_mobilenetv3 = sum_corruption_error_by_corruption(corruption_error_mobilenetv3)\n",
    "sum_corruption_error_efficientnet = sum_corruption_error_by_corruption(corruption_error_efficientnet)"
   ]
  },
  {
   "cell_type": "code",
   "execution_count": 43,
   "metadata": {},
   "outputs": [
    {
     "data": {
      "text/plain": [
       "{'blur': {'defocus_blur': 0.15125,\n",
       "  'gaussian_blur': 0.16975000000000007,\n",
       "  'glass_blur': 0.1352500000000001,\n",
       "  'motion_blur': 0.22925000000000006,\n",
       "  'zoom_blur': 0.9082500000000001},\n",
       " 'digital': {'contrast': 3.113,\n",
       "  'elastic_transform': 0.15500000000000003,\n",
       "  'jpeg_compression': 0.16125,\n",
       "  'pixelate': 0.9195000000000001,\n",
       "  'saturate': 1.95825},\n",
       " 'noise': {'gaussian_noise': 1.508,\n",
       "  'impulse_noise': 2.21725,\n",
       "  'shot_noise': 0.8945000000000001,\n",
       "  'speckle_noise': 0.74925},\n",
       " 'weather': {'brightness': 0.49050000000000005,\n",
       "  'fog': 1.77125,\n",
       "  'frost': 1.5162499999999999,\n",
       "  'snow': 1.70925,\n",
       "  'spatter': 1.58625}}"
      ]
     },
     "execution_count": 43,
     "metadata": {},
     "output_type": "execute_result"
    }
   ],
   "source": [
    "sum_corruption_error_lcnn"
   ]
  },
  {
   "cell_type": "code",
   "execution_count": 44,
   "metadata": {},
   "outputs": [],
   "source": [
    "def sum_levels_relative(category_data, baseline_clean_error):\n",
    "    result = {}\n",
    "    for key, levels in category_data.items():\n",
    "        total_sum = 0.\n",
    "        for corruption_value in levels.values():\n",
    "            total_sum += corruption_value - baseline_clean_error\n",
    "        result[key] = total_sum\n",
    "    return result\n",
    "def sum_relative_corruption_error(corruption_error_data, baseline_clean_error):\n",
    "    return {category: sum_levels_relative(corruption_error_data[category], baseline_clean_error) for category in corruption_error_data}"
   ]
  },
  {
   "cell_type": "code",
   "execution_count": 45,
   "metadata": {},
   "outputs": [],
   "source": [
    "CLEAN_ERROR_LCNN = 1 - accuracy_lcnn\n",
    "CLEAN_ERROR_MOBILENETV3 = 1 - accuracy_mobilenetv3\n",
    "CLEAN_ERROR_EFFICIENTNET = 1 - accuracy_efficientnet\n",
    "\n",
    "sum_relative_corruption_error_lcnn = sum_relative_corruption_error(corruption_error_lcnn, CLEAN_ERROR_LCNN)\n",
    "sum_relative_corruption_error_mobilenetv3 = sum_relative_corruption_error(corruption_error_mobilenetv3, CLEAN_ERROR_MOBILENETV3)\n",
    "sum_relative_corruption_error_efficientnet = sum_relative_corruption_error(corruption_error_efficientnet, CLEAN_ERROR_EFFICIENTNET)\n"
   ]
  },
  {
   "cell_type": "code",
   "execution_count": 46,
   "metadata": {},
   "outputs": [],
   "source": [
    "def generate_relative_and_corruption_error(sum_ce_model, sum_rel_ce_model, sum_ce_baseline, sum_rel_ce_baseline, nameNet, CLEAN_ERROR):\n",
    "\n",
    "    CORRUPTION_TYPES = {\n",
    "        'blur': ['defocus_blur', 'gaussian_blur', 'glass_blur', 'motion_blur', 'zoom_blur'],\n",
    "        'digital': ['contrast', 'elastic_transform', 'jpeg_compression', 'pixelate', 'saturate'],\n",
    "        'noise': ['gaussian_noise', 'impulse_noise', 'shot_noise', 'speckle_noise'],\n",
    "        'weather': ['brightness', 'fog', 'frost', 'snow', 'spatter']\n",
    "    }\n",
    "    \n",
    "    ce_result = {}\n",
    "    relative_ce_result = {}\n",
    "    for key, corruptions in CORRUPTION_TYPES.items():\n",
    "        for corruption in corruptions:\n",
    "            corruption_error = sum_ce_model[key][corruption] / sum_ce_baseline[key][corruption]\n",
    "            relative_corruption_error = sum_rel_ce_model[key][corruption] /  sum_rel_ce_baseline[key][corruption]\n",
    "            ce_result[corruption] = round(corruption_error * 100)\n",
    "            relative_ce_result[corruption] = round(relative_corruption_error * 100)\n",
    "\n",
    "    ce_result['mCE'] = round(sum(ce_result.values()) / 19, 1)\n",
    "    ce_result['Network'] = nameNet\n",
    "    ce_result['Error'] = CLEAN_ERROR\n",
    "    relative_ce_result['Rel. mCE'] = round(sum(relative_ce_result.values()) / 19, 1)\n",
    "    relative_ce_result['Network'] = nameNet\n",
    "    relative_ce_result['Error'] = CLEAN_ERROR\n",
    "    return ce_result, relative_ce_result"
   ]
  },
  {
   "cell_type": "code",
   "execution_count": 47,
   "metadata": {},
   "outputs": [],
   "source": [
    "ce_result_lcnn, relative_ce_result_lcnn = generate_relative_and_corruption_error(\n",
    "    sum_corruption_error_lcnn,\n",
    "    sum_relative_corruption_error_lcnn,\n",
    "    sum_corruption_error_lcnn,\n",
    "    sum_relative_corruption_error_lcnn,\n",
    "    \"LCNN\",\n",
    "    CLEAN_ERROR_LCNN\n",
    ")\n",
    "\n",
    "ce_result_mobilenetv3, relative_ce_result_mobilenetv3 = generate_relative_and_corruption_error(\n",
    "    sum_corruption_error_mobilenetv3,\n",
    "    sum_relative_corruption_error_mobilenetv3,\n",
    "    sum_corruption_error_lcnn,\n",
    "    sum_relative_corruption_error_lcnn,\n",
    "    \"MobileNetV3\",\n",
    "    CLEAN_ERROR_MOBILENETV3\n",
    ")\n",
    "\n",
    "ce_result_efficientnet, relative_ce_result_efficientnet = generate_relative_and_corruption_error(\n",
    "    sum_corruption_error_efficientnet,\n",
    "    sum_relative_corruption_error_efficientnet,\n",
    "    sum_corruption_error_lcnn,\n",
    "    sum_relative_corruption_error_lcnn,\n",
    "    \"EfficientNet\",\n",
    "    CLEAN_ERROR_EFFICIENTNET\n",
    ")"
   ]
  },
  {
   "cell_type": "code",
   "execution_count": 48,
   "metadata": {},
   "outputs": [
    {
     "data": {
      "text/plain": [
       "{'defocus_blur': 6,\n",
       " 'gaussian_blur': 6,\n",
       " 'glass_blur': 5,\n",
       " 'motion_blur': 7,\n",
       " 'zoom_blur': 35,\n",
       " 'contrast': 15,\n",
       " 'elastic_transform': 13,\n",
       " 'jpeg_compression': 8,\n",
       " 'pixelate': 369,\n",
       " 'saturate': 3,\n",
       " 'gaussian_noise': 33,\n",
       " 'impulse_noise': 40,\n",
       " 'shot_noise': 40,\n",
       " 'speckle_noise': 46,\n",
       " 'brightness': 8,\n",
       " 'fog': 14,\n",
       " 'frost': 25,\n",
       " 'snow': 52,\n",
       " 'spatter': 41,\n",
       " 'mCE': 40.3,\n",
       " 'Network': 'EfficientNet',\n",
       " 'Error': 0.00024999999999997247}"
      ]
     },
     "execution_count": 48,
     "metadata": {},
     "output_type": "execute_result"
    }
   ],
   "source": [
    "ce_result_lcnn\n",
    "\n",
    "ce_result_mobilenetv3\n",
    "\n",
    "ce_result_efficientnet\n"
   ]
  },
  {
   "cell_type": "markdown",
   "metadata": {},
   "source": [
    "# mCE"
   ]
  },
  {
   "cell_type": "code",
   "execution_count": 58,
   "metadata": {},
   "outputs": [],
   "source": [
    "import pandas as pd\n",
    "\n",
    "# Criando o DataFrame inicial\n",
    "df_mce = pd.DataFrame([ce_result_lcnn])\n",
    "df_mce = pd.concat([df_mce, pd.DataFrame([ce_result_mobilenetv3, ce_result_efficientnet])], ignore_index=True)\n",
    "\n",
    "# Melhorando a visualização do DataFrame\n",
    "pd.set_option('display.max_columns', None)  # Exibe todas as colunas\n",
    "pd.set_option('display.width', 1000)       # Ajusta a largura da exibição\n",
    "pd.set_option('display.precision', 2)      # Define a precisão decimal"
   ]
  },
  {
   "cell_type": "code",
   "execution_count": 59,
   "metadata": {},
   "outputs": [],
   "source": [
    "# Definindo a nova ordem das colunas\n",
    "nova_ordem_colunas = [\n",
    "    'Network', 'Error', 'mCE', 'gaussian_noise', 'shot_noise', 'impulse_noise', 'speckle_noise', 'defocus_blur', 'glass_blur', 'motion_blur',\n",
    "    'zoom_blur','gaussian_blur', 'snow', 'frost', 'fog', 'brightness', 'spatter', 'contrast', 'elastic_transform', 'jpeg_compression','pixelate', \n",
    "    'saturate']\n",
    "\n",
    "# Reordenando as colunas\n",
    "df_mce = df_mce[nova_ordem_colunas]"
   ]
  },
  {
   "cell_type": "code",
   "execution_count": 60,
   "metadata": {},
   "outputs": [
    {
     "data": {
      "text/html": [
       "<div>\n",
       "<style scoped>\n",
       "    .dataframe tbody tr th:only-of-type {\n",
       "        vertical-align: middle;\n",
       "    }\n",
       "\n",
       "    .dataframe tbody tr th {\n",
       "        vertical-align: top;\n",
       "    }\n",
       "\n",
       "    .dataframe thead th {\n",
       "        text-align: right;\n",
       "    }\n",
       "</style>\n",
       "<table border=\"1\" class=\"dataframe\">\n",
       "  <thead>\n",
       "    <tr style=\"text-align: right;\">\n",
       "      <th></th>\n",
       "      <th>Network</th>\n",
       "      <th>Error</th>\n",
       "      <th>mCE</th>\n",
       "      <th>gaussian_noise</th>\n",
       "      <th>shot_noise</th>\n",
       "      <th>impulse_noise</th>\n",
       "      <th>speckle_noise</th>\n",
       "      <th>defocus_blur</th>\n",
       "      <th>glass_blur</th>\n",
       "      <th>motion_blur</th>\n",
       "      <th>zoom_blur</th>\n",
       "      <th>gaussian_blur</th>\n",
       "      <th>snow</th>\n",
       "      <th>frost</th>\n",
       "      <th>fog</th>\n",
       "      <th>brightness</th>\n",
       "      <th>spatter</th>\n",
       "      <th>contrast</th>\n",
       "      <th>elastic_transform</th>\n",
       "      <th>jpeg_compression</th>\n",
       "      <th>pixelate</th>\n",
       "      <th>saturate</th>\n",
       "    </tr>\n",
       "  </thead>\n",
       "  <tbody>\n",
       "    <tr>\n",
       "      <th>0</th>\n",
       "      <td>LCNN</td>\n",
       "      <td>2.70e-02</td>\n",
       "      <td>100.0</td>\n",
       "      <td>100</td>\n",
       "      <td>100</td>\n",
       "      <td>100</td>\n",
       "      <td>100</td>\n",
       "      <td>100</td>\n",
       "      <td>100</td>\n",
       "      <td>100</td>\n",
       "      <td>100</td>\n",
       "      <td>100</td>\n",
       "      <td>100</td>\n",
       "      <td>100</td>\n",
       "      <td>100</td>\n",
       "      <td>100</td>\n",
       "      <td>100</td>\n",
       "      <td>100</td>\n",
       "      <td>100</td>\n",
       "      <td>100</td>\n",
       "      <td>100</td>\n",
       "      <td>100</td>\n",
       "    </tr>\n",
       "    <tr>\n",
       "      <th>1</th>\n",
       "      <td>MobileNetV3</td>\n",
       "      <td>2.25e-03</td>\n",
       "      <td>49.6</td>\n",
       "      <td>34</td>\n",
       "      <td>44</td>\n",
       "      <td>56</td>\n",
       "      <td>57</td>\n",
       "      <td>14</td>\n",
       "      <td>9</td>\n",
       "      <td>10</td>\n",
       "      <td>45</td>\n",
       "      <td>14</td>\n",
       "      <td>103</td>\n",
       "      <td>25</td>\n",
       "      <td>22</td>\n",
       "      <td>16</td>\n",
       "      <td>83</td>\n",
       "      <td>21</td>\n",
       "      <td>53</td>\n",
       "      <td>18</td>\n",
       "      <td>287</td>\n",
       "      <td>32</td>\n",
       "    </tr>\n",
       "    <tr>\n",
       "      <th>2</th>\n",
       "      <td>EfficientNet</td>\n",
       "      <td>2.50e-04</td>\n",
       "      <td>40.3</td>\n",
       "      <td>33</td>\n",
       "      <td>40</td>\n",
       "      <td>40</td>\n",
       "      <td>46</td>\n",
       "      <td>6</td>\n",
       "      <td>5</td>\n",
       "      <td>7</td>\n",
       "      <td>35</td>\n",
       "      <td>6</td>\n",
       "      <td>52</td>\n",
       "      <td>25</td>\n",
       "      <td>14</td>\n",
       "      <td>8</td>\n",
       "      <td>41</td>\n",
       "      <td>15</td>\n",
       "      <td>13</td>\n",
       "      <td>8</td>\n",
       "      <td>369</td>\n",
       "      <td>3</td>\n",
       "    </tr>\n",
       "  </tbody>\n",
       "</table>\n",
       "</div>"
      ],
      "text/plain": [
       "        Network     Error    mCE  gaussian_noise  shot_noise  impulse_noise  speckle_noise  defocus_blur  glass_blur  motion_blur  zoom_blur  gaussian_blur  snow  frost  fog  brightness  spatter  contrast  elastic_transform  jpeg_compression  pixelate  saturate\n",
       "0          LCNN  2.70e-02  100.0             100         100            100            100           100         100          100        100            100   100    100  100         100      100       100                100               100       100       100\n",
       "1   MobileNetV3  2.25e-03   49.6              34          44             56             57            14           9           10         45             14   103     25   22          16       83        21                 53                18       287        32\n",
       "2  EfficientNet  2.50e-04   40.3              33          40             40             46             6           5            7         35              6    52     25   14           8       41        15                 13                 8       369         3"
      ]
     },
     "execution_count": 60,
     "metadata": {},
     "output_type": "execute_result"
    }
   ],
   "source": [
    "df_mce\n"
   ]
  },
  {
   "cell_type": "code",
   "execution_count": 61,
   "metadata": {},
   "outputs": [],
   "source": [
    "# Renomeando colunas específicas\n",
    "df_mce = df_mce.rename(columns={'gaussian_noise': 'Gaussian Noise', 'shot_noise': 'Shot Noise', 'impulse_noise': 'Impulse Noise', \n",
    "                        'speckle_noise' : 'Speckle Noise', 'defocus_blur': 'Defocus Blur', 'glass_blur': 'Glass Blur',\n",
    "                       'motion_blur': 'Motion Blur', 'zoom_blur': 'Zoom Blur', 'gaussian_blur': 'Gaussian Blur', 'snow': 'Snow',\n",
    "                       'frost': 'Frost', 'fog': 'Fog', 'brightness': 'Brightness', 'spatter': 'Spatter', 'contrast': 'Contrast', \n",
    "                       'elastic_transform': 'Elastic', 'jpeg_compression': 'JPEG', 'pixelate': 'Pixelate', 'saturate': 'Saturate'})"
   ]
  },
  {
   "cell_type": "code",
   "execution_count": 62,
   "metadata": {},
   "outputs": [],
   "source": [
    "# Multiplicando a coluna 'Pontuação' por 100\n",
    "df_mce['Error'] = df_mce['Error'] * 100\n",
    "df_mce = df_mce.rename(columns={'Error': 'Clean Error (%)'})\n"
   ]
  },
  {
   "cell_type": "code",
   "execution_count": 63,
   "metadata": {},
   "outputs": [],
   "source": [
    "df_mce['Clean Error (%)'] = df_mce['Clean Error (%)'].round(2)\n"
   ]
  },
  {
   "cell_type": "code",
   "execution_count": 64,
   "metadata": {},
   "outputs": [],
   "source": [
    "# Ordenando de forma decrescente pela coluna 'Error'\n",
    "df_mce = df_mce.sort_values(by='Clean Error (%)', ascending=False)"
   ]
  },
  {
   "cell_type": "code",
   "execution_count": 66,
   "metadata": {},
   "outputs": [
    {
     "data": {
      "text/html": [
       "<div>\n",
       "<style scoped>\n",
       "    .dataframe tbody tr th:only-of-type {\n",
       "        vertical-align: middle;\n",
       "    }\n",
       "\n",
       "    .dataframe tbody tr th {\n",
       "        vertical-align: top;\n",
       "    }\n",
       "\n",
       "    .dataframe thead th {\n",
       "        text-align: right;\n",
       "    }\n",
       "</style>\n",
       "<table border=\"1\" class=\"dataframe\">\n",
       "  <thead>\n",
       "    <tr style=\"text-align: right;\">\n",
       "      <th></th>\n",
       "      <th>Network</th>\n",
       "      <th>Clean Error (%)</th>\n",
       "      <th>mCE</th>\n",
       "      <th>Gaussian Noise</th>\n",
       "      <th>Shot Noise</th>\n",
       "      <th>Impulse Noise</th>\n",
       "      <th>Speckle Noise</th>\n",
       "      <th>Defocus Blur</th>\n",
       "      <th>Glass Blur</th>\n",
       "      <th>Motion Blur</th>\n",
       "      <th>Zoom Blur</th>\n",
       "      <th>Gaussian Blur</th>\n",
       "      <th>Snow</th>\n",
       "      <th>Frost</th>\n",
       "      <th>Fog</th>\n",
       "      <th>Brightness</th>\n",
       "      <th>Spatter</th>\n",
       "      <th>Contrast</th>\n",
       "      <th>Elastic</th>\n",
       "      <th>JPEG</th>\n",
       "      <th>Pixelate</th>\n",
       "      <th>Saturate</th>\n",
       "    </tr>\n",
       "  </thead>\n",
       "  <tbody>\n",
       "    <tr>\n",
       "      <th>0</th>\n",
       "      <td>LCNN</td>\n",
       "      <td>2.70</td>\n",
       "      <td>100.0</td>\n",
       "      <td>100</td>\n",
       "      <td>100</td>\n",
       "      <td>100</td>\n",
       "      <td>100</td>\n",
       "      <td>100</td>\n",
       "      <td>100</td>\n",
       "      <td>100</td>\n",
       "      <td>100</td>\n",
       "      <td>100</td>\n",
       "      <td>100</td>\n",
       "      <td>100</td>\n",
       "      <td>100</td>\n",
       "      <td>100</td>\n",
       "      <td>100</td>\n",
       "      <td>100</td>\n",
       "      <td>100</td>\n",
       "      <td>100</td>\n",
       "      <td>100</td>\n",
       "      <td>100</td>\n",
       "    </tr>\n",
       "    <tr>\n",
       "      <th>1</th>\n",
       "      <td>MobileNetV3</td>\n",
       "      <td>0.22</td>\n",
       "      <td>49.6</td>\n",
       "      <td>34</td>\n",
       "      <td>44</td>\n",
       "      <td>56</td>\n",
       "      <td>57</td>\n",
       "      <td>14</td>\n",
       "      <td>9</td>\n",
       "      <td>10</td>\n",
       "      <td>45</td>\n",
       "      <td>14</td>\n",
       "      <td>103</td>\n",
       "      <td>25</td>\n",
       "      <td>22</td>\n",
       "      <td>16</td>\n",
       "      <td>83</td>\n",
       "      <td>21</td>\n",
       "      <td>53</td>\n",
       "      <td>18</td>\n",
       "      <td>287</td>\n",
       "      <td>32</td>\n",
       "    </tr>\n",
       "    <tr>\n",
       "      <th>2</th>\n",
       "      <td>EfficientNet</td>\n",
       "      <td>0.02</td>\n",
       "      <td>40.3</td>\n",
       "      <td>33</td>\n",
       "      <td>40</td>\n",
       "      <td>40</td>\n",
       "      <td>46</td>\n",
       "      <td>6</td>\n",
       "      <td>5</td>\n",
       "      <td>7</td>\n",
       "      <td>35</td>\n",
       "      <td>6</td>\n",
       "      <td>52</td>\n",
       "      <td>25</td>\n",
       "      <td>14</td>\n",
       "      <td>8</td>\n",
       "      <td>41</td>\n",
       "      <td>15</td>\n",
       "      <td>13</td>\n",
       "      <td>8</td>\n",
       "      <td>369</td>\n",
       "      <td>3</td>\n",
       "    </tr>\n",
       "  </tbody>\n",
       "</table>\n",
       "</div>"
      ],
      "text/plain": [
       "        Network  Clean Error (%)    mCE  Gaussian Noise  Shot Noise  Impulse Noise  Speckle Noise  Defocus Blur  Glass Blur  Motion Blur  Zoom Blur  Gaussian Blur  Snow  Frost  Fog  Brightness  Spatter  Contrast  Elastic  JPEG  Pixelate  Saturate\n",
       "0          LCNN             2.70  100.0             100         100            100            100           100         100          100        100            100   100    100  100         100      100       100      100   100       100       100\n",
       "1   MobileNetV3             0.22   49.6              34          44             56             57            14           9           10         45             14   103     25   22          16       83        21       53    18       287        32\n",
       "2  EfficientNet             0.02   40.3              33          40             40             46             6           5            7         35              6    52     25   14           8       41        15       13     8       369         3"
      ]
     },
     "execution_count": 66,
     "metadata": {},
     "output_type": "execute_result"
    }
   ],
   "source": [
    "df_mce\n"
   ]
  },
  {
   "cell_type": "code",
   "execution_count": 67,
   "metadata": {},
   "outputs": [
    {
     "data": {
      "image/png": "[encoded data removed]",
      "text/plain": [
       "<Figure size 800x20 with 1 Axes>"
      ]
     },
     "metadata": {},
     "output_type": "display_data"
    }
   ],
   "source": [
    "import matplotlib.pyplot as plt\n",
    "import pandas as pd\n",
    "\n",
    "# Criar uma figura e um eixo\n",
    "fig, ax = plt.subplots(figsize=(8, 0.2))  # Ajuste o tamanho conforme necessário\n",
    "\n",
    "# Remover os eixos\n",
    "ax.axis('off')\n",
    "\n",
    "# Criar a tabela\n",
    "table = ax.table(cellText=df_mce.values, colLabels=df_mce.columns, loc='center')\n",
    "\n",
    "# Ajustar o layout\n",
    "table.auto_set_font_size(False)\n",
    "table.set_fontsize(5)\n",
    "table.scale(2.1, 1.2)  # Ajuste a escala conforme necessário\n",
    "\n",
    "# Salvar a imagem\n",
    "plt.savefig('results/mce/tabela_mce.png', bbox_inches='tight', dpi=300)\n",
    "\n",
    "# Mostrar a imagem (opcional)\n",
    "plt.show()"
   ]
  },
  {
   "cell_type": "code",
   "execution_count": 68,
   "metadata": {},
   "outputs": [],
   "source": [
    "# Salva para xlsx\n",
    "df_mce.to_excel('results/mce/tabela_mce.xlsx', index=False)\n"
   ]
  },
  {
   "cell_type": "code",
   "execution_count": 69,
   "metadata": {},
   "outputs": [
    {
     "name": "stdout",
     "output_type": "stream",
     "text": [
      "Transposed table saved to results/mce/tabela_mce_transposed.xlsx\n"
     ]
    }
   ],
   "source": [
    "# Make a copy to avoid modifying the original DataFrame used elsewhere\n",
    "df_transpoed_mce = df_mce.copy()\n",
    "\n",
    "# Set 'Network' as the index\n",
    "df_transposed_for_excel = df_transpoed_mce.set_index('Network')\n",
    "\n",
    "# Transpose the DataFrame\n",
    "df_transposed_for_excel = df_transposed_for_excel.T\n",
    "\n",
    "# --- Save to Excel ---\n",
    "excel_filename = 'results/mce/tabela_mce_transposed.xlsx'\n",
    "# Save with the index (corruption names/metrics) as the first column\n",
    "df_transposed_for_excel.to_excel(excel_filename, index=True)\n",
    "\n",
    "print(f\"Transposed table saved to {excel_filename}\")"
   ]
  },
  {
   "cell_type": "markdown",
   "metadata": {},
   "source": [
    "# Relative mCE"
   ]
  },
  {
   "cell_type": "code",
   "execution_count": 70,
   "metadata": {},
   "outputs": [],
   "source": [
    "# Criando o DataFrame inicial\n",
    "df_relative_mce = pd.DataFrame([relative_ce_result_lcnn])\n",
    "df_relative_mce = pd.concat([df_relative_mce, pd.DataFrame([relative_ce_result_mobilenetv3, relative_ce_result_efficientnet])], ignore_index=True)\n"
   ]
  },
  {
   "cell_type": "code",
   "execution_count": 71,
   "metadata": {},
   "outputs": [],
   "source": [
    "# Definindo a nova ordem das colunas\n",
    "nova_ordem_colunas = [\n",
    "    'Network', 'Error', 'Rel. mCE', 'gaussian_noise', 'shot_noise', 'impulse_noise', 'speckle_noise', 'defocus_blur', 'glass_blur', 'motion_blur',\n",
    "    'zoom_blur','gaussian_blur', 'snow', 'frost', 'fog', 'brightness', 'spatter', 'contrast', 'elastic_transform', 'jpeg_compression','pixelate', \n",
    "    'saturate']\n",
    "\n",
    "# Reordenando as colunas\n",
    "df_relative_mce = df_relative_mce[nova_ordem_colunas]"
   ]
  },
  {
   "cell_type": "code",
   "execution_count": 72,
   "metadata": {},
   "outputs": [
    {
     "data": {
      "text/html": [
       "<div>\n",
       "<style scoped>\n",
       "    .dataframe tbody tr th:only-of-type {\n",
       "        vertical-align: middle;\n",
       "    }\n",
       "\n",
       "    .dataframe tbody tr th {\n",
       "        vertical-align: top;\n",
       "    }\n",
       "\n",
       "    .dataframe thead th {\n",
       "        text-align: right;\n",
       "    }\n",
       "</style>\n",
       "<table border=\"1\" class=\"dataframe\">\n",
       "  <thead>\n",
       "    <tr style=\"text-align: right;\">\n",
       "      <th></th>\n",
       "      <th>Network</th>\n",
       "      <th>Error</th>\n",
       "      <th>Rel. mCE</th>\n",
       "      <th>gaussian_noise</th>\n",
       "      <th>shot_noise</th>\n",
       "      <th>impulse_noise</th>\n",
       "      <th>speckle_noise</th>\n",
       "      <th>defocus_blur</th>\n",
       "      <th>glass_blur</th>\n",
       "      <th>motion_blur</th>\n",
       "      <th>zoom_blur</th>\n",
       "      <th>gaussian_blur</th>\n",
       "      <th>snow</th>\n",
       "      <th>frost</th>\n",
       "      <th>fog</th>\n",
       "      <th>brightness</th>\n",
       "      <th>spatter</th>\n",
       "      <th>contrast</th>\n",
       "      <th>elastic_transform</th>\n",
       "      <th>jpeg_compression</th>\n",
       "      <th>pixelate</th>\n",
       "      <th>saturate</th>\n",
       "    </tr>\n",
       "  </thead>\n",
       "  <tbody>\n",
       "    <tr>\n",
       "      <th>0</th>\n",
       "      <td>LCNN</td>\n",
       "      <td>2.70e-02</td>\n",
       "      <td>100.0</td>\n",
       "      <td>100</td>\n",
       "      <td>100</td>\n",
       "      <td>100</td>\n",
       "      <td>100</td>\n",
       "      <td>100</td>\n",
       "      <td>100</td>\n",
       "      <td>100</td>\n",
       "      <td>100</td>\n",
       "      <td>100</td>\n",
       "      <td>100</td>\n",
       "      <td>100</td>\n",
       "      <td>100</td>\n",
       "      <td>100</td>\n",
       "      <td>100</td>\n",
       "      <td>100</td>\n",
       "      <td>100</td>\n",
       "      <td>100</td>\n",
       "      <td>100</td>\n",
       "      <td>100</td>\n",
       "    </tr>\n",
       "    <tr>\n",
       "      <th>1</th>\n",
       "      <td>MobileNetV3</td>\n",
       "      <td>2.25e-03</td>\n",
       "      <td>102.9</td>\n",
       "      <td>37</td>\n",
       "      <td>50</td>\n",
       "      <td>59</td>\n",
       "      <td>68</td>\n",
       "      <td>58</td>\n",
       "      <td>500</td>\n",
       "      <td>13</td>\n",
       "      <td>52</td>\n",
       "      <td>35</td>\n",
       "      <td>111</td>\n",
       "      <td>27</td>\n",
       "      <td>23</td>\n",
       "      <td>19</td>\n",
       "      <td>90</td>\n",
       "      <td>22</td>\n",
       "      <td>358</td>\n",
       "      <td>65</td>\n",
       "      <td>335</td>\n",
       "      <td>34</td>\n",
       "    </tr>\n",
       "    <tr>\n",
       "      <th>2</th>\n",
       "      <td>EfficientNet</td>\n",
       "      <td>2.50e-04</td>\n",
       "      <td>166.1</td>\n",
       "      <td>36</td>\n",
       "      <td>47</td>\n",
       "      <td>43</td>\n",
       "      <td>56</td>\n",
       "      <td>49</td>\n",
       "      <td>2100</td>\n",
       "      <td>16</td>\n",
       "      <td>41</td>\n",
       "      <td>26</td>\n",
       "      <td>56</td>\n",
       "      <td>27</td>\n",
       "      <td>15</td>\n",
       "      <td>10</td>\n",
       "      <td>45</td>\n",
       "      <td>16</td>\n",
       "      <td>95</td>\n",
       "      <td>42</td>\n",
       "      <td>433</td>\n",
       "      <td>3</td>\n",
       "    </tr>\n",
       "  </tbody>\n",
       "</table>\n",
       "</div>"
      ],
      "text/plain": [
       "        Network     Error  Rel. mCE  gaussian_noise  shot_noise  impulse_noise  speckle_noise  defocus_blur  glass_blur  motion_blur  zoom_blur  gaussian_blur  snow  frost  fog  brightness  spatter  contrast  elastic_transform  jpeg_compression  pixelate  saturate\n",
       "0          LCNN  2.70e-02     100.0             100         100            100            100           100         100          100        100            100   100    100  100         100      100       100                100               100       100       100\n",
       "1   MobileNetV3  2.25e-03     102.9              37          50             59             68            58         500           13         52             35   111     27   23          19       90        22                358                65       335        34\n",
       "2  EfficientNet  2.50e-04     166.1              36          47             43             56            49        2100           16         41             26    56     27   15          10       45        16                 95                42       433         3"
      ]
     },
     "execution_count": 72,
     "metadata": {},
     "output_type": "execute_result"
    }
   ],
   "source": [
    "df_relative_mce"
   ]
  },
  {
   "cell_type": "code",
   "execution_count": 73,
   "metadata": {},
   "outputs": [],
   "source": [
    "# Renomeando colunas específicas\n",
    "df_relative_mce = df_relative_mce.rename(columns={'gaussian_noise': 'Gaussian Noise', 'shot_noise': 'Shot Noise', 'impulse_noise': 'Impulse Noise', \n",
    "                        'speckle_noise' : 'Speckle Noise', 'defocus_blur': 'Defocus Blur', 'glass_blur': 'Glass Blur',\n",
    "                       'motion_blur': 'Motion Blur', 'zoom_blur': 'Zoom Blur', 'gaussian_blur': 'Gaussian Blur', 'snow': 'Snow',\n",
    "                       'frost': 'Frost', 'fog': 'Fog', 'brightness': 'Brightness', 'spatter': 'Spatter', 'contrast': 'Contrast', \n",
    "                       'elastic_transform': 'Elastic', 'jpeg_compression': 'JPEG', 'pixelate': 'Pixelate', 'saturate': 'Saturate'})"
   ]
  },
  {
   "cell_type": "code",
   "execution_count": 74,
   "metadata": {},
   "outputs": [],
   "source": [
    "# Multiplicando a coluna 'Pontuação' por 100\n",
    "df_relative_mce['Error'] = df_relative_mce['Error'] * 100\n",
    "df_relative_mce = df_relative_mce.rename(columns={'Error': 'Clean Error (%)'})"
   ]
  },
  {
   "cell_type": "code",
   "execution_count": 76,
   "metadata": {},
   "outputs": [],
   "source": [
    "df_relative_mce['Clean Error (%)'] = df_relative_mce['Clean Error (%)'].round(2)"
   ]
  },
  {
   "cell_type": "code",
   "execution_count": 77,
   "metadata": {},
   "outputs": [],
   "source": [
    "# Ordenando de forma decrescente pela coluna 'Error'\n",
    "df_relative_mce = df_relative_mce.sort_values(by='Clean Error (%)', ascending=False)"
   ]
  },
  {
   "cell_type": "code",
   "execution_count": 78,
   "metadata": {},
   "outputs": [
    {
     "data": {
      "text/html": [
       "<div>\n",
       "<style scoped>\n",
       "    .dataframe tbody tr th:only-of-type {\n",
       "        vertical-align: middle;\n",
       "    }\n",
       "\n",
       "    .dataframe tbody tr th {\n",
       "        vertical-align: top;\n",
       "    }\n",
       "\n",
       "    .dataframe thead th {\n",
       "        text-align: right;\n",
       "    }\n",
       "</style>\n",
       "<table border=\"1\" class=\"dataframe\">\n",
       "  <thead>\n",
       "    <tr style=\"text-align: right;\">\n",
       "      <th></th>\n",
       "      <th>Network</th>\n",
       "      <th>Clean Error (%)</th>\n",
       "      <th>Rel. mCE</th>\n",
       "      <th>Gaussian Noise</th>\n",
       "      <th>Shot Noise</th>\n",
       "      <th>Impulse Noise</th>\n",
       "      <th>Speckle Noise</th>\n",
       "      <th>Defocus Blur</th>\n",
       "      <th>Glass Blur</th>\n",
       "      <th>Motion Blur</th>\n",
       "      <th>Zoom Blur</th>\n",
       "      <th>Gaussian Blur</th>\n",
       "      <th>Snow</th>\n",
       "      <th>Frost</th>\n",
       "      <th>Fog</th>\n",
       "      <th>Brightness</th>\n",
       "      <th>Spatter</th>\n",
       "      <th>Contrast</th>\n",
       "      <th>Elastic</th>\n",
       "      <th>JPEG</th>\n",
       "      <th>Pixelate</th>\n",
       "      <th>Saturate</th>\n",
       "    </tr>\n",
       "  </thead>\n",
       "  <tbody>\n",
       "    <tr>\n",
       "      <th>0</th>\n",
       "      <td>LCNN</td>\n",
       "      <td>2.70</td>\n",
       "      <td>100.0</td>\n",
       "      <td>100</td>\n",
       "      <td>100</td>\n",
       "      <td>100</td>\n",
       "      <td>100</td>\n",
       "      <td>100</td>\n",
       "      <td>100</td>\n",
       "      <td>100</td>\n",
       "      <td>100</td>\n",
       "      <td>100</td>\n",
       "      <td>100</td>\n",
       "      <td>100</td>\n",
       "      <td>100</td>\n",
       "      <td>100</td>\n",
       "      <td>100</td>\n",
       "      <td>100</td>\n",
       "      <td>100</td>\n",
       "      <td>100</td>\n",
       "      <td>100</td>\n",
       "      <td>100</td>\n",
       "    </tr>\n",
       "    <tr>\n",
       "      <th>1</th>\n",
       "      <td>MobileNetV3</td>\n",
       "      <td>0.22</td>\n",
       "      <td>102.9</td>\n",
       "      <td>37</td>\n",
       "      <td>50</td>\n",
       "      <td>59</td>\n",
       "      <td>68</td>\n",
       "      <td>58</td>\n",
       "      <td>500</td>\n",
       "      <td>13</td>\n",
       "      <td>52</td>\n",
       "      <td>35</td>\n",
       "      <td>111</td>\n",
       "      <td>27</td>\n",
       "      <td>23</td>\n",
       "      <td>19</td>\n",
       "      <td>90</td>\n",
       "      <td>22</td>\n",
       "      <td>358</td>\n",
       "      <td>65</td>\n",
       "      <td>335</td>\n",
       "      <td>34</td>\n",
       "    </tr>\n",
       "    <tr>\n",
       "      <th>2</th>\n",
       "      <td>EfficientNet</td>\n",
       "      <td>0.02</td>\n",
       "      <td>166.1</td>\n",
       "      <td>36</td>\n",
       "      <td>47</td>\n",
       "      <td>43</td>\n",
       "      <td>56</td>\n",
       "      <td>49</td>\n",
       "      <td>2100</td>\n",
       "      <td>16</td>\n",
       "      <td>41</td>\n",
       "      <td>26</td>\n",
       "      <td>56</td>\n",
       "      <td>27</td>\n",
       "      <td>15</td>\n",
       "      <td>10</td>\n",
       "      <td>45</td>\n",
       "      <td>16</td>\n",
       "      <td>95</td>\n",
       "      <td>42</td>\n",
       "      <td>433</td>\n",
       "      <td>3</td>\n",
       "    </tr>\n",
       "  </tbody>\n",
       "</table>\n",
       "</div>"
      ],
      "text/plain": [
       "        Network  Clean Error (%)  Rel. mCE  Gaussian Noise  Shot Noise  Impulse Noise  Speckle Noise  Defocus Blur  Glass Blur  Motion Blur  Zoom Blur  Gaussian Blur  Snow  Frost  Fog  Brightness  Spatter  Contrast  Elastic  JPEG  Pixelate  Saturate\n",
       "0          LCNN             2.70     100.0             100         100            100            100           100         100          100        100            100   100    100  100         100      100       100      100   100       100       100\n",
       "1   MobileNetV3             0.22     102.9              37          50             59             68            58         500           13         52             35   111     27   23          19       90        22      358    65       335        34\n",
       "2  EfficientNet             0.02     166.1              36          47             43             56            49        2100           16         41             26    56     27   15          10       45        16       95    42       433         3"
      ]
     },
     "execution_count": 78,
     "metadata": {},
     "output_type": "execute_result"
    }
   ],
   "source": [
    "df_relative_mce"
   ]
  },
  {
   "cell_type": "code",
   "execution_count": 79,
   "metadata": {},
   "outputs": [
    {
     "data": {
      "image/png": "[encoded data removed]",
      "text/plain": [
       "<Figure size 800x20 with 1 Axes>"
      ]
     },
     "metadata": {},
     "output_type": "display_data"
    }
   ],
   "source": [
    "import matplotlib.pyplot as plt\n",
    "import pandas as pd\n",
    "\n",
    "# Criar uma figura e um eixo\n",
    "fig, ax = plt.subplots(figsize=(8, 0.2))  # Ajuste o tamanho conforme necessário\n",
    "\n",
    "# Remover os eixos\n",
    "ax.axis('off')\n",
    "\n",
    "# Criar a tabela\n",
    "table = ax.table(cellText=df_relative_mce.values, colLabels=df_relative_mce.columns, loc='center')\n",
    "\n",
    "# Ajustar o layout\n",
    "table.auto_set_font_size(False)\n",
    "table.set_fontsize(5)\n",
    "table.scale(2.1, 1.2)  # Ajuste a escala conforme necessário\n",
    "\n",
    "# Salvar a imagem\n",
    "plt.savefig('results/mce/tabela_relative_mce.png', bbox_inches='tight', dpi=300)\n",
    "\n",
    "# Mostrar a imagem (opcional)\n",
    "plt.show()"
   ]
  },
  {
   "cell_type": "code",
   "execution_count": 80,
   "metadata": {},
   "outputs": [
    {
     "name": "stdout",
     "output_type": "stream",
     "text": [
      "Transposed table saved to results/mce/tabela_relative_mce_transposed.xlsx\n"
     ]
    }
   ],
   "source": [
    "# ...existing code...\n",
    "\n",
    "# NEW CELL START\n",
    "import pandas as pd\n",
    "\n",
    "# --- Prepare Data for Transposed Excel Table ---\n",
    "\n",
    "# Make a copy to avoid modifying the original DataFrame used elsewhere\n",
    "df_relative_mce_copy = df_relative_mce.copy()\n",
    "\n",
    "# Set 'Network' as the index\n",
    "df_transposed_for_excel = df_relative_mce_copy.set_index('Network')\n",
    "\n",
    "# Transpose the DataFrame\n",
    "df_transposed_for_excel = df_transposed_for_excel.T\n",
    "\n",
    "# --- Save to Excel ---\n",
    "excel_filename = 'results/mce/tabela_relative_mce_transposed.xlsx'\n",
    "# Save with the index (corruption names/metrics) as the first column\n",
    "df_transposed_for_excel.to_excel(excel_filename, index=True)\n",
    "\n",
    "print(f\"Transposed table saved to {excel_filename}\")\n",
    "\n",
    "# NEW CELL END\n",
    "\n",
    "# ... rest of the notebook ..."
   ]
  },
  {
   "cell_type": "code",
   "execution_count": 82,
   "metadata": {},
   "outputs": [],
   "source": [
    "import matplotlib.pyplot as plt\n",
    "\n",
    "# Dados de exemplo (substitua pelos seus)\n",
    "accuracy = df_mce['Clean Error (%)'].to_numpy()\n",
    "accuracy = 100 - accuracy\n",
    "mce = df_mce['mCE'].to_numpy()\n",
    "relative_mce = df_relative_mce['Rel. mCE'].to_numpy()\n",
    "labels = df_mce['Network'].to_numpy()"
   ]
  },
  {
   "cell_type": "code",
   "execution_count": 84,
   "metadata": {},
   "outputs": [
    {
     "name": "stderr",
     "output_type": "stream",
     "text": [
      "/tmp/ipykernel_4480/1005053535.py:46: UserWarning: linestyle is redundantly defined by the 'linestyle' keyword argument and the fmt string \"o-\" (-> linestyle='-'). The keyword argument will take precedence.\n",
      "  ax.plot(accuracy_percent, relative_mce_values, 'o-', color='#ff7f0e', linestyle='dashed', label='Relative mCE')\n",
      "/tmp/ipykernel_4480/1005053535.py:47: UserWarning: linestyle is redundantly defined by the 'linestyle' keyword argument and the fmt string \"o-\" (-> linestyle='-'). The keyword argument will take precedence.\n",
      "  ax.plot(accuracy_percent, mce_values, 'o-', color='#1f77b4', linestyle='dashed', label='mCE')\n"
     ]
    },
    {
     "name": "stdout",
     "output_type": "stream",
     "text": [
      "Graph saved as results/mce/architecture_corruption_robustness_styled.png\n"
     ]
    },
    {
     "data": {
      "image/png": "[encoded data removed]",
      "text/plain": [
       "<Figure size 600x400 with 1 Axes>"
      ]
     },
     "metadata": {},
     "output_type": "display_data"
    }
   ],
   "source": [
    "import matplotlib.pyplot as plt\n",
    "import numpy as np\n",
    "from scipy import stats\n",
    "import pandas as pd # Make sure pandas is imported if df_mce, df_relative_mce are DataFrames\n",
    "\n",
    "# Ensure df_mce and df_relative_mce are loaded before this script.\n",
    "# For example:\n",
    "# df_mce = pd.read_json('results/mce/corruption_efficientNet_error.json') # Or however you load it\n",
    "# df_relative_mce = pd.read_json(...) # Load your relative mCE data\n",
    "# And ensure they are structured correctly:\n",
    "# df_mce should have columns like 'Network', 'Error', 'mCE'\n",
    "# df_relative_mce should have 'Network', 'Rel. mCE'\n",
    "\n",
    "# Extract data (assuming df_mce and df_relative_mce are pandas DataFrames)\n",
    "# If they are not, ensure 'accuracy', 'mce', 'relative_mce', 'labels' are numpy arrays as in your script\n",
    "if isinstance(df_mce, pd.DataFrame) and isinstance(df_relative_mce, pd.DataFrame):\n",
    "    # Filter for the models you want to plot if necessary, or ensure df_mce contains only them\n",
    "    # For this example, we assume df_mce and df_relative_mce are already prepared for the target models\n",
    "    \n",
    "    # Sort by accuracy or a consistent order if needed for clearer plotting / annotation\n",
    "    # df_mce = df_mce.sort_values(by='Error') # Example: Sort by error ascending (accuracy descending)\n",
    "    # df_relative_mce = df_relative_mce.set_index('Network').reindex(df_mce['Network']).reset_index()\n",
    "\n",
    "    accuracy_percent = 100 - df_mce['Clean Error (%)'].to_numpy() # Error is likely a percentage, so accuracy is 100 - Error\n",
    "    mce_values = df_mce['mCE'].to_numpy()\n",
    "    # Align relative_mce data with mce data by Network name\n",
    "    # Create a mapping from Network to Rel. mCE for easier lookup\n",
    "    rel_mce_map = df_relative_mce.set_index('Network')['Rel. mCE'].to_dict()\n",
    "    relative_mce_values = np.array([rel_mce_map.get(net, np.nan) for net in df_mce['Network']])\n",
    "    model_labels = df_mce['Network'].to_numpy()\n",
    "else:\n",
    "    # Fallback to assuming these are already numpy arrays as in your original script\n",
    "    # This part is directly from your script\n",
    "    accuracy_percent = df_mce['Clean Error (%)'].to_numpy() # Original was just 'Error'\n",
    "    accuracy_percent = 100 - accuracy_percent      # Then 100 - error\n",
    "    mce_values = df_mce['mCE'].to_numpy()\n",
    "    relative_mce_values = df_relative_mce['Rel. mCE'].to_numpy()\n",
    "    model_labels = df_mce['Network'].to_numpy()\n",
    "\n",
    "\n",
    "# Creating the graph\n",
    "fig, ax = plt.subplots(figsize=(6, 4)) # Original figsize\n",
    "\n",
    "# Plotting the data\n",
    "# Using colors and styles from your script, which match the example's theme\n",
    "ax.plot(accuracy_percent, relative_mce_values, 'o-', color='#ff7f0e', linestyle='dashed', label='Relative mCE')\n",
    "ax.plot(accuracy_percent, mce_values, 'o-', color='#1f77b4', linestyle='dashed', label='mCE')\n",
    "\n",
    "# Add linear regression for mCE (blue points)\n",
    "# Filter out NaNs for robust linear regression\n",
    "valid_mce_indices = ~np.isnan(accuracy_percent) & ~np.isnan(mce_values)\n",
    "if np.sum(valid_mce_indices) >= 2: # Need at least 2 points for a line\n",
    "    slope_blue, intercept_blue, r_blue, p_blue, std_err_blue = stats.linregress(accuracy_percent[valid_mce_indices], mce_values[valid_mce_indices])\n",
    "    x_line_blue = np.linspace(min(accuracy_percent[valid_mce_indices]), max(accuracy_percent[valid_mce_indices]), 100)\n",
    "    y_line_blue = slope_blue * x_line_blue + intercept_blue\n",
    "    ax.plot(x_line_blue, y_line_blue, '-', color='#8fbbd9', linewidth=2, label=f'mCE Trend (R={r_blue:.2f})')\n",
    "else:\n",
    "    print(\"Not enough data points to plot mCE trend line.\")\n",
    "\n",
    "# Add linear regression for Relative mCE (orange points)\n",
    "valid_rel_mce_indices = ~np.isnan(accuracy_percent) & ~np.isnan(relative_mce_values)\n",
    "if np.sum(valid_rel_mce_indices) >= 2: # Need at least 2 points for a line\n",
    "    slope_orange, intercept_orange, r_orange, p_orange, std_err_orange = stats.linregress(accuracy_percent[valid_rel_mce_indices], relative_mce_values[valid_rel_mce_indices])\n",
    "    x_line_orange = np.linspace(min(accuracy_percent[valid_rel_mce_indices]), max(accuracy_percent[valid_rel_mce_indices]), 100)\n",
    "    y_line_orange = slope_orange * x_line_orange + intercept_orange\n",
    "    ax.plot(x_line_orange, y_line_orange, '-', color='#ffcfa4', linewidth=2, label=f'Relative mCE Trend (R={r_orange:.2f})')\n",
    "else:\n",
    "    print(\"Not enough data points to plot Relative mCE trend line.\")\n",
    "\n",
    "# Define specific annotation styles for each model to match the example's aesthetic\n",
    "# (model_name: {'xytext': (offset_x, offset_y_in_points), 'ha': horizontal_alignment})\n",
    "# You'll likely need to adjust these offsets based on your actual data point locations.\n",
    "annotation_configs = {\n",
    "    'LCNN': {'xytext': (-50, 25), 'ha': 'right'},  # Text to the left and above the point\n",
    "    'MobileNetV3': {'xytext': (-55, -30), 'ha': 'right'}, # Text to the left and below\n",
    "    'EfficientNet': {'xytext': (20, 30), 'ha': 'left'},   # Text to the right and above\n",
    "    'EfficientNetB0': {'xytext': (20, 30), 'ha': 'left'} # Alias for EfficientNetB0\n",
    "    # Add your third model here if it's named differently\n",
    "}\n",
    "\n",
    "# Add annotations with arrows for your models, pointing to the mCE values\n",
    "for i in range(len(model_labels)):\n",
    "    model_name = model_labels[i]\n",
    "    acc_val = accuracy_percent[i]\n",
    "    mce_val = mce_values[i] # Annotating on the mCE line like in the example\n",
    "\n",
    "    # Skip if data is NaN\n",
    "    if np.isnan(acc_val) or np.isnan(mce_val):\n",
    "        print(f\"Skipping annotation for {model_name} due to NaN values.\")\n",
    "        continue\n",
    "\n",
    "    # Get specific config or use a default\n",
    "    config = annotation_configs.get(model_name)\n",
    "    if not config: # Fallback for models not in explicit config\n",
    "        # Default annotation to prevent errors, place it to the right of the point\n",
    "        config = {'xytext': (10, 10), 'ha': 'left'} \n",
    "        print(f\"Warning: No specific annotation config for {model_name}, using default.\")\n",
    "\n",
    "\n",
    "    ax.annotate(model_name,\n",
    "                (acc_val, mce_val),\n",
    "                textcoords=\"offset points\", # Offset is in points from the xy value\n",
    "                xytext=config['xytext'],\n",
    "                ha=config['ha'],\n",
    "                fontsize=9,\n",
    "                arrowprops=dict(arrowstyle=\"->\",\n",
    "                                connectionstyle=\"arc3,rad=0.2\", # Slight curve for the arrow\n",
    "                                color='gray'))\n",
    "\n",
    "# Formatting the graph\n",
    "ax.set_xlabel(\"Architecture Accuracy (%)\")\n",
    "ax.set_ylabel(\"%\") # Y-axis label from your original script\n",
    "ax.set_title(\"Architecture Corruption Robustness\")\n",
    "ax.legend()\n",
    "ax.grid(True, linestyle='--', alpha=0.6) # Dashed grid like the example\n",
    "\n",
    "# Adjust plot limits if necessary, Matplotlib usually does a good job automatically\n",
    "# ax.set_xlim(min(accuracy_percent)-5, max(accuracy_percent)+5) \n",
    "# ax.set_ylim(0, max(np.nanmax(mce_values), np.nanmax(relative_mce_values)) * 1.1)\n",
    "\n",
    "\n",
    "# Salvando o gráfico\n",
    "output_path = 'results/mce/architecture_corruption_robustness_styled.png'\n",
    "plt.savefig(output_path, dpi=300, bbox_inches='tight')\n",
    "print(f\"Graph saved as {output_path}\")\n",
    "\n",
    "# Mostrando o gráfico\n",
    "plt.show()"
   ]
  },
  {
   "cell_type": "code",
   "execution_count": 85,
   "metadata": {},
   "outputs": [
    {
     "name": "stdout",
     "output_type": "stream",
     "text": [
      "Calculando mCE para LCNN com baseline LCNN\n",
      "Calculando mCE para MobileNetV3 com baseline LCNN\n",
      "Calculando mCE para EfficientNet com baseline LCNN\n",
      "Calculando mCE para LCNN com baseline MobileNetV3\n",
      "Calculando mCE para MobileNetV3 com baseline MobileNetV3\n",
      "Calculando mCE para EfficientNet com baseline MobileNetV3\n",
      "Calculando mCE para LCNN com baseline EfficientNet\n",
      "Calculando mCE para MobileNetV3 com baseline EfficientNet\n",
      "Calculando mCE para EfficientNet com baseline EfficientNet\n"
     ]
    }
   ],
   "source": [
    "def calculate_mce_with_different_baselines():\n",
    "    \"\"\"\n",
    "    Calcula mCE usando diferentes modelos como baseline (denominador)\n",
    "    Retorna uma matriz com os resultados\n",
    "    \"\"\"\n",
    "    \n",
    "    # Dicionário com os dados de corrupção de cada modelo\n",
    "    corruption_data = {\n",
    "        'LCNN': corruption_error_lcnn,\n",
    "        'MobileNetV3': corruption_error_mobilenetv3,\n",
    "        'EfficientNet': corruption_error_efficientnet\n",
    "    }\n",
    "    \n",
    "    # Dicionário com os erros limpos de cada modelo\n",
    "    clean_errors = {\n",
    "        'LCNN': CLEAN_ERROR_LCNN,\n",
    "        'MobileNetV3': CLEAN_ERROR_MOBILENETV3,\n",
    "        'EfficientNet': CLEAN_ERROR_EFFICIENTNET\n",
    "    }\n",
    "    \n",
    "    # Lista de modelos\n",
    "    models = ['LCNN', 'MobileNetV3', 'EfficientNet']\n",
    "    \n",
    "    # Dicionário para armazenar os resultados\n",
    "    results_matrix = {}\n",
    "    \n",
    "    # Para cada modelo como baseline (denominador)\n",
    "    for baseline_model in models:\n",
    "        results_matrix[baseline_model] = {}\n",
    "        \n",
    "        # Calcular soma dos erros de corrupção para o modelo baseline\n",
    "        sum_corruption_error_baseline = sum_corruption_error_by_corruption(corruption_data[baseline_model])\n",
    "        sum_relative_corruption_error_baseline = sum_relative_corruption_error(\n",
    "            corruption_data[baseline_model], \n",
    "            clean_errors[baseline_model]\n",
    "        )\n",
    "        \n",
    "        # Para cada modelo sendo avaliado (numerador)\n",
    "        for eval_model in models:\n",
    "            print(f\"Calculando mCE para {eval_model} com baseline {baseline_model}\")\n",
    "            \n",
    "            # Calcular soma dos erros de corrupção para o modelo sendo avaliado\n",
    "            sum_corruption_error_eval = sum_corruption_error_by_corruption(corruption_data[eval_model])\n",
    "            sum_relative_corruption_error_eval = sum_relative_corruption_error(\n",
    "                corruption_data[eval_model], \n",
    "                clean_errors[eval_model]\n",
    "            )\n",
    "            \n",
    "            # Calcular mCE e Relative mCE\n",
    "            ce_result, relative_ce_result = generate_relative_and_corruption_error(\n",
    "                sum_corruption_error_eval,\n",
    "                sum_relative_corruption_error_eval,\n",
    "                sum_corruption_error_baseline,  # Usando o baseline como denominador\n",
    "                sum_relative_corruption_error_baseline,  # Usando o baseline como denominador\n",
    "                eval_model,\n",
    "                clean_errors[eval_model]\n",
    "            )\n",
    "            \n",
    "            # Armazenar os resultados\n",
    "            results_matrix[baseline_model][eval_model] = {\n",
    "                'mCE': ce_result['mCE'],\n",
    "                'Rel_mCE': relative_ce_result['Rel. mCE'],\n",
    "                'Error': ce_result['Error'],\n",
    "                'full_ce_result': ce_result,\n",
    "                'full_relative_ce_result': relative_ce_result\n",
    "            }\n",
    "    \n",
    "    return results_matrix\n",
    "\n",
    "corruption_error_lcnn = load_json('results/mce/corruption_lcnn_error.json')\n",
    "corruption_error_mobilenetv3 = load_json('results/mce/corruption_mobilenetv3_error.json')\n",
    "corruption_error_efficientnet = load_json('results/mce/corruption_efficientNet_error.json')\n",
    "# Calcular a matriz de resultados\n",
    "mce_matrix_results = calculate_mce_with_different_baselines()"
   ]
  },
  {
   "cell_type": "code",
   "execution_count": 86,
   "metadata": {},
   "outputs": [
    {
     "name": "stdout",
     "output_type": "stream",
     "text": [
      "Matriz mCE (linhas = baseline, colunas = modelo avaliado):\n",
      "       Baseline   LCNN  MobileNetV3  EfficientNet\n",
      "0          LCNN  100.0         49.6          40.3\n",
      "1   MobileNetV3  413.2        100.0          63.5\n",
      "2  EfficientNet  918.4        227.8         100.0\n",
      "\n",
      "Matriz Relative mCE:\n",
      "       Baseline   LCNN  MobileNetV3  EfficientNet\n",
      "0          LCNN  100.0        102.9         166.1\n",
      "1   MobileNetV3  247.2        100.0          91.6\n",
      "2  EfficientNet  491.3        197.4         100.0\n"
     ]
    }
   ],
   "source": [
    "\n",
    "\n",
    "def create_mce_summary_tables(matrix_results):\n",
    "    \"\"\"\n",
    "    Cria tabelas resumidas dos resultados de mCE e Relative mCE\n",
    "    \"\"\"\n",
    "    models = ['LCNN', 'MobileNetV3', 'EfficientNet']\n",
    "    \n",
    "    # Criar DataFrame para mCE\n",
    "    mce_data = []\n",
    "    rel_mce_data = []\n",
    "    \n",
    "    for baseline in models:\n",
    "        mce_row = {'Baseline': baseline}\n",
    "        rel_mce_row = {'Baseline': baseline}\n",
    "        \n",
    "        for eval_model in models:\n",
    "            mce_row[eval_model] = matrix_results[baseline][eval_model]['mCE']\n",
    "            rel_mce_row[eval_model] = matrix_results[baseline][eval_model]['Rel_mCE']\n",
    "        \n",
    "        mce_data.append(mce_row)\n",
    "        rel_mce_data.append(rel_mce_row)\n",
    "    \n",
    "    df_mce_matrix = pd.DataFrame(mce_data)\n",
    "    df_rel_mce_matrix = pd.DataFrame(rel_mce_data)\n",
    "    \n",
    "    return df_mce_matrix, df_rel_mce_matrix\n",
    "\n",
    "# Criar as tabelas resumidas\n",
    "df_mce_matrix, df_rel_mce_matrix = create_mce_summary_tables(mce_matrix_results)\n",
    "\n",
    "print(\"Matriz mCE (linhas = baseline, colunas = modelo avaliado):\")\n",
    "print(df_mce_matrix)\n",
    "print(\"\\nMatriz Relative mCE:\")\n",
    "print(df_rel_mce_matrix)"
   ]
  },
  {
   "cell_type": "code",
   "execution_count": 89,
   "metadata": {},
   "outputs": [
    {
     "data": {
      "image/png": "[encoded data removed]",
      "text/plain": [
       "<Figure size 1200x500 with 4 Axes>"
      ]
     },
     "metadata": {},
     "output_type": "display_data"
    }
   ],
   "source": [
    "# Visualizar a matriz como heatmap\n",
    "import matplotlib.pyplot as plt\n",
    "import seaborn as sns\n",
    "\n",
    "fig, (ax1, ax2) = plt.subplots(1, 2, figsize=(12, 5))\n",
    "\n",
    "# Heatmap para mCE\n",
    "mce_matrix_values = df_mce_matrix.set_index('Baseline')\n",
    "sns.heatmap(mce_matrix_values, annot=True, fmt='.1f', cmap='RdYlBu_r', ax=ax1)\n",
    "ax1.set_title('mCE Matrix\\n(Rows: Baseline, Cols: Evaluated Model)')\n",
    "ax1.set_xlabel('Evaluated Model')\n",
    "ax1.set_ylabel('Baseline Model')\n",
    "\n",
    "# Heatmap para Relative mCE\n",
    "rel_mce_matrix_values = df_rel_mce_matrix.set_index('Baseline')\n",
    "sns.heatmap(rel_mce_matrix_values, annot=True, fmt='.1f', cmap='RdYlBu_r', ax=ax2)\n",
    "ax2.set_title('Relative mCE Matrix\\n(Rows: Baseline, Cols: Evaluated Model)')\n",
    "ax2.set_xlabel('Evaluated Model')\n",
    "ax2.set_ylabel('Baseline Model')\n",
    "\n",
    "plt.tight_layout()\n",
    "plt.savefig('results/mce/mce_heatmaps.png', dpi=300, bbox_inches='tight')\n",
    "plt.show()"
   ]
  }
 ],
 "metadata": {
  "kernelspec": {
   "display_name": ".venv",
   "language": "python",
   "name": "python3"
  },
  "language_info": {
   "codemirror_mode": {
    "name": "ipython",
    "version": 3
   },
   "file_extension": ".py",
   "mimetype": "text/x-python",
   "name": "python",
   "nbconvert_exporter": "python",
   "pygments_lexer": "ipython3",
   "version": "3.12.3"
  }
 },
 "nbformat": 4,
 "nbformat_minor": 2
}
