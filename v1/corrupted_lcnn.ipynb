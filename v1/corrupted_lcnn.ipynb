{
 "cells": [
  {
   "cell_type": "code",
   "execution_count": 2,
   "metadata": {},
   "outputs": [],
   "source": [
    "import pandas as pd\n",
    "import numpy as np\n",
    "import matplotlib.pyplot as plt\n",
    "import seaborn as sns\n",
    "import plotly.express as px\n",
    "from plotly.offline import iplot\n",
    "\n",
    "from sklearn.model_selection import train_test_split\n",
    "from sklearn.metrics import confusion_matrix, classification_report\n",
    "\n",
    "import tensorflow as tf\n",
    "import keras \n",
    "from keras.models import Sequential\n",
    "from keras.optimizers import Adam, Adamax\n",
    "from tensorflow.keras.preprocessing.image import ImageDataGenerator\n",
    "from keras.layers import MaxPooling2D, Flatten, Dense,BatchNormalization,GlobalAveragePooling2D,Conv2D,Dropout,Flatten,Rescaling,Input\n",
    "from keras import regularizers\n",
    "from keras.callbacks import EarlyStopping,ModelCheckpoint\n",
    "\n",
    "import os\n",
    "import random\n",
    "import cv2"
   ]
  },
  {
   "cell_type": "code",
   "execution_count": 3,
   "metadata": {},
   "outputs": [],
   "source": [
    "model = tf.keras.models.load_model(\"models/lcnn_v2.keras\")"
   ]
  },
  {
   "cell_type": "code",
   "execution_count": 4,
   "metadata": {},
   "outputs": [],
   "source": [
    "data_path = \"MangoLeaf\"\n",
    "img_size = (224,224)\n",
    "batch_size = 32\n",
    "mode = \"rgb\""
   ]
  },
  {
   "cell_type": "code",
   "execution_count": 5,
   "metadata": {},
   "outputs": [
    {
     "name": "stdout",
     "output_type": "stream",
     "text": [
      "Brightness severity 1\n",
      "Found 4000 validated image filenames belonging to 8 classes.\n"
     ]
    },
    {
     "name": "stderr",
     "output_type": "stream",
     "text": [
      "c:\\Users\\saulo\\PIBIC\\TinyML\\.venv\\Lib\\site-packages\\keras\\src\\trainers\\data_adapters\\py_dataset_adapter.py:121: UserWarning:\n",
      "\n",
      "Your `PyDataset` class should call `super().__init__(**kwargs)` in its constructor. `**kwargs` can include `workers`, `use_multiprocessing`, `max_queue_size`. Do not pass these arguments to `fit()`, as they will be ignored.\n",
      "\n"
     ]
    },
    {
     "name": "stdout",
     "output_type": "stream",
     "text": [
      "\u001b[1m125/125\u001b[0m \u001b[32m━━━━━━━━━━━━━━━━━━━━\u001b[0m\u001b[37m\u001b[0m \u001b[1m62s\u001b[0m 498ms/step\n",
      "Brightness severity 2\n",
      "Found 4000 validated image filenames belonging to 8 classes.\n"
     ]
    },
    {
     "name": "stderr",
     "output_type": "stream",
     "text": [
      "c:\\Users\\saulo\\PIBIC\\TinyML\\.venv\\Lib\\site-packages\\keras\\src\\trainers\\data_adapters\\py_dataset_adapter.py:121: UserWarning:\n",
      "\n",
      "Your `PyDataset` class should call `super().__init__(**kwargs)` in its constructor. `**kwargs` can include `workers`, `use_multiprocessing`, `max_queue_size`. Do not pass these arguments to `fit()`, as they will be ignored.\n",
      "\n"
     ]
    },
    {
     "name": "stdout",
     "output_type": "stream",
     "text": [
      "\u001b[1m125/125\u001b[0m \u001b[32m━━━━━━━━━━━━━━━━━━━━\u001b[0m\u001b[37m\u001b[0m \u001b[1m75s\u001b[0m 604ms/step\n",
      "Brightness severity 3\n",
      "Found 4000 validated image filenames belonging to 8 classes.\n"
     ]
    },
    {
     "name": "stderr",
     "output_type": "stream",
     "text": [
      "c:\\Users\\saulo\\PIBIC\\TinyML\\.venv\\Lib\\site-packages\\keras\\src\\trainers\\data_adapters\\py_dataset_adapter.py:121: UserWarning:\n",
      "\n",
      "Your `PyDataset` class should call `super().__init__(**kwargs)` in its constructor. `**kwargs` can include `workers`, `use_multiprocessing`, `max_queue_size`. Do not pass these arguments to `fit()`, as they will be ignored.\n",
      "\n"
     ]
    },
    {
     "name": "stdout",
     "output_type": "stream",
     "text": [
      "\u001b[1m125/125\u001b[0m \u001b[32m━━━━━━━━━━━━━━━━━━━━\u001b[0m\u001b[37m\u001b[0m \u001b[1m56s\u001b[0m 447ms/step\n",
      "Brightness severity 4\n",
      "Found 4000 validated image filenames belonging to 8 classes.\n"
     ]
    },
    {
     "name": "stderr",
     "output_type": "stream",
     "text": [
      "c:\\Users\\saulo\\PIBIC\\TinyML\\.venv\\Lib\\site-packages\\keras\\src\\trainers\\data_adapters\\py_dataset_adapter.py:121: UserWarning:\n",
      "\n",
      "Your `PyDataset` class should call `super().__init__(**kwargs)` in its constructor. `**kwargs` can include `workers`, `use_multiprocessing`, `max_queue_size`. Do not pass these arguments to `fit()`, as they will be ignored.\n",
      "\n"
     ]
    },
    {
     "name": "stdout",
     "output_type": "stream",
     "text": [
      "\u001b[1m125/125\u001b[0m \u001b[32m━━━━━━━━━━━━━━━━━━━━\u001b[0m\u001b[37m\u001b[0m \u001b[1m55s\u001b[0m 444ms/step\n",
      "Brightness severity 5\n",
      "Found 4000 validated image filenames belonging to 8 classes.\n"
     ]
    },
    {
     "name": "stderr",
     "output_type": "stream",
     "text": [
      "c:\\Users\\saulo\\PIBIC\\TinyML\\.venv\\Lib\\site-packages\\keras\\src\\trainers\\data_adapters\\py_dataset_adapter.py:121: UserWarning:\n",
      "\n",
      "Your `PyDataset` class should call `super().__init__(**kwargs)` in its constructor. `**kwargs` can include `workers`, `use_multiprocessing`, `max_queue_size`. Do not pass these arguments to `fit()`, as they will be ignored.\n",
      "\n"
     ]
    },
    {
     "name": "stdout",
     "output_type": "stream",
     "text": [
      "\u001b[1m125/125\u001b[0m \u001b[32m━━━━━━━━━━━━━━━━━━━━\u001b[0m\u001b[37m\u001b[0m \u001b[1m57s\u001b[0m 457ms/step\n",
      "Contrast severity 1\n",
      "Found 4000 validated image filenames belonging to 8 classes.\n"
     ]
    },
    {
     "name": "stderr",
     "output_type": "stream",
     "text": [
      "c:\\Users\\saulo\\PIBIC\\TinyML\\.venv\\Lib\\site-packages\\keras\\src\\trainers\\data_adapters\\py_dataset_adapter.py:121: UserWarning:\n",
      "\n",
      "Your `PyDataset` class should call `super().__init__(**kwargs)` in its constructor. `**kwargs` can include `workers`, `use_multiprocessing`, `max_queue_size`. Do not pass these arguments to `fit()`, as they will be ignored.\n",
      "\n"
     ]
    },
    {
     "name": "stdout",
     "output_type": "stream",
     "text": [
      "\u001b[1m125/125\u001b[0m \u001b[32m━━━━━━━━━━━━━━━━━━━━\u001b[0m\u001b[37m\u001b[0m \u001b[1m49s\u001b[0m 398ms/step\n",
      "Contrast severity 2\n",
      "Found 4000 validated image filenames belonging to 8 classes.\n"
     ]
    },
    {
     "name": "stderr",
     "output_type": "stream",
     "text": [
      "c:\\Users\\saulo\\PIBIC\\TinyML\\.venv\\Lib\\site-packages\\keras\\src\\trainers\\data_adapters\\py_dataset_adapter.py:121: UserWarning:\n",
      "\n",
      "Your `PyDataset` class should call `super().__init__(**kwargs)` in its constructor. `**kwargs` can include `workers`, `use_multiprocessing`, `max_queue_size`. Do not pass these arguments to `fit()`, as they will be ignored.\n",
      "\n"
     ]
    },
    {
     "name": "stdout",
     "output_type": "stream",
     "text": [
      "\u001b[1m125/125\u001b[0m \u001b[32m━━━━━━━━━━━━━━━━━━━━\u001b[0m\u001b[37m\u001b[0m \u001b[1m47s\u001b[0m 378ms/step\n",
      "Contrast severity 3\n",
      "Found 4000 validated image filenames belonging to 8 classes.\n"
     ]
    },
    {
     "name": "stderr",
     "output_type": "stream",
     "text": [
      "c:\\Users\\saulo\\PIBIC\\TinyML\\.venv\\Lib\\site-packages\\keras\\src\\trainers\\data_adapters\\py_dataset_adapter.py:121: UserWarning:\n",
      "\n",
      "Your `PyDataset` class should call `super().__init__(**kwargs)` in its constructor. `**kwargs` can include `workers`, `use_multiprocessing`, `max_queue_size`. Do not pass these arguments to `fit()`, as they will be ignored.\n",
      "\n"
     ]
    },
    {
     "name": "stdout",
     "output_type": "stream",
     "text": [
      "\u001b[1m125/125\u001b[0m \u001b[32m━━━━━━━━━━━━━━━━━━━━\u001b[0m\u001b[37m\u001b[0m \u001b[1m46s\u001b[0m 373ms/step\n",
      "Contrast severity 4\n",
      "Found 4000 validated image filenames belonging to 8 classes.\n"
     ]
    },
    {
     "name": "stderr",
     "output_type": "stream",
     "text": [
      "c:\\Users\\saulo\\PIBIC\\TinyML\\.venv\\Lib\\site-packages\\keras\\src\\trainers\\data_adapters\\py_dataset_adapter.py:121: UserWarning:\n",
      "\n",
      "Your `PyDataset` class should call `super().__init__(**kwargs)` in its constructor. `**kwargs` can include `workers`, `use_multiprocessing`, `max_queue_size`. Do not pass these arguments to `fit()`, as they will be ignored.\n",
      "\n"
     ]
    },
    {
     "name": "stdout",
     "output_type": "stream",
     "text": [
      "\u001b[1m125/125\u001b[0m \u001b[32m━━━━━━━━━━━━━━━━━━━━\u001b[0m\u001b[37m\u001b[0m \u001b[1m48s\u001b[0m 383ms/step\n",
      "Contrast severity 5\n",
      "Found 4000 validated image filenames belonging to 8 classes.\n"
     ]
    },
    {
     "name": "stderr",
     "output_type": "stream",
     "text": [
      "c:\\Users\\saulo\\PIBIC\\TinyML\\.venv\\Lib\\site-packages\\keras\\src\\trainers\\data_adapters\\py_dataset_adapter.py:121: UserWarning:\n",
      "\n",
      "Your `PyDataset` class should call `super().__init__(**kwargs)` in its constructor. `**kwargs` can include `workers`, `use_multiprocessing`, `max_queue_size`. Do not pass these arguments to `fit()`, as they will be ignored.\n",
      "\n"
     ]
    },
    {
     "name": "stdout",
     "output_type": "stream",
     "text": [
      "\u001b[1m125/125\u001b[0m \u001b[32m━━━━━━━━━━━━━━━━━━━━\u001b[0m\u001b[37m\u001b[0m \u001b[1m48s\u001b[0m 383ms/step\n",
      "Defocus Blur severity 1\n",
      "Found 4000 validated image filenames belonging to 8 classes.\n"
     ]
    },
    {
     "name": "stderr",
     "output_type": "stream",
     "text": [
      "c:\\Users\\saulo\\PIBIC\\TinyML\\.venv\\Lib\\site-packages\\keras\\src\\trainers\\data_adapters\\py_dataset_adapter.py:121: UserWarning:\n",
      "\n",
      "Your `PyDataset` class should call `super().__init__(**kwargs)` in its constructor. `**kwargs` can include `workers`, `use_multiprocessing`, `max_queue_size`. Do not pass these arguments to `fit()`, as they will be ignored.\n",
      "\n"
     ]
    },
    {
     "name": "stdout",
     "output_type": "stream",
     "text": [
      "\u001b[1m125/125\u001b[0m \u001b[32m━━━━━━━━━━━━━━━━━━━━\u001b[0m\u001b[37m\u001b[0m \u001b[1m49s\u001b[0m 391ms/step\n",
      "Defocus Blur severity 2\n",
      "Found 4000 validated image filenames belonging to 8 classes.\n"
     ]
    },
    {
     "name": "stderr",
     "output_type": "stream",
     "text": [
      "c:\\Users\\saulo\\PIBIC\\TinyML\\.venv\\Lib\\site-packages\\keras\\src\\trainers\\data_adapters\\py_dataset_adapter.py:121: UserWarning:\n",
      "\n",
      "Your `PyDataset` class should call `super().__init__(**kwargs)` in its constructor. `**kwargs` can include `workers`, `use_multiprocessing`, `max_queue_size`. Do not pass these arguments to `fit()`, as they will be ignored.\n",
      "\n"
     ]
    },
    {
     "name": "stdout",
     "output_type": "stream",
     "text": [
      "\u001b[1m125/125\u001b[0m \u001b[32m━━━━━━━━━━━━━━━━━━━━\u001b[0m\u001b[37m\u001b[0m \u001b[1m49s\u001b[0m 390ms/step\n",
      "Defocus Blur severity 3\n",
      "Found 4000 validated image filenames belonging to 8 classes.\n"
     ]
    },
    {
     "name": "stderr",
     "output_type": "stream",
     "text": [
      "c:\\Users\\saulo\\PIBIC\\TinyML\\.venv\\Lib\\site-packages\\keras\\src\\trainers\\data_adapters\\py_dataset_adapter.py:121: UserWarning:\n",
      "\n",
      "Your `PyDataset` class should call `super().__init__(**kwargs)` in its constructor. `**kwargs` can include `workers`, `use_multiprocessing`, `max_queue_size`. Do not pass these arguments to `fit()`, as they will be ignored.\n",
      "\n"
     ]
    },
    {
     "name": "stdout",
     "output_type": "stream",
     "text": [
      "\u001b[1m125/125\u001b[0m \u001b[32m━━━━━━━━━━━━━━━━━━━━\u001b[0m\u001b[37m\u001b[0m \u001b[1m47s\u001b[0m 381ms/step\n",
      "Defocus Blur severity 4\n",
      "Found 4000 validated image filenames belonging to 8 classes.\n"
     ]
    },
    {
     "name": "stderr",
     "output_type": "stream",
     "text": [
      "c:\\Users\\saulo\\PIBIC\\TinyML\\.venv\\Lib\\site-packages\\keras\\src\\trainers\\data_adapters\\py_dataset_adapter.py:121: UserWarning:\n",
      "\n",
      "Your `PyDataset` class should call `super().__init__(**kwargs)` in its constructor. `**kwargs` can include `workers`, `use_multiprocessing`, `max_queue_size`. Do not pass these arguments to `fit()`, as they will be ignored.\n",
      "\n"
     ]
    },
    {
     "name": "stdout",
     "output_type": "stream",
     "text": [
      "\u001b[1m125/125\u001b[0m \u001b[32m━━━━━━━━━━━━━━━━━━━━\u001b[0m\u001b[37m\u001b[0m \u001b[1m47s\u001b[0m 380ms/step\n",
      "Defocus Blur severity 5\n",
      "Found 4000 validated image filenames belonging to 8 classes.\n"
     ]
    },
    {
     "name": "stderr",
     "output_type": "stream",
     "text": [
      "c:\\Users\\saulo\\PIBIC\\TinyML\\.venv\\Lib\\site-packages\\keras\\src\\trainers\\data_adapters\\py_dataset_adapter.py:121: UserWarning:\n",
      "\n",
      "Your `PyDataset` class should call `super().__init__(**kwargs)` in its constructor. `**kwargs` can include `workers`, `use_multiprocessing`, `max_queue_size`. Do not pass these arguments to `fit()`, as they will be ignored.\n",
      "\n"
     ]
    },
    {
     "name": "stdout",
     "output_type": "stream",
     "text": [
      "\u001b[1m125/125\u001b[0m \u001b[32m━━━━━━━━━━━━━━━━━━━━\u001b[0m\u001b[37m\u001b[0m \u001b[1m47s\u001b[0m 379ms/step\n",
      "Elastic severity 1\n",
      "Found 4000 validated image filenames belonging to 8 classes.\n"
     ]
    },
    {
     "name": "stderr",
     "output_type": "stream",
     "text": [
      "c:\\Users\\saulo\\PIBIC\\TinyML\\.venv\\Lib\\site-packages\\keras\\src\\trainers\\data_adapters\\py_dataset_adapter.py:121: UserWarning:\n",
      "\n",
      "Your `PyDataset` class should call `super().__init__(**kwargs)` in its constructor. `**kwargs` can include `workers`, `use_multiprocessing`, `max_queue_size`. Do not pass these arguments to `fit()`, as they will be ignored.\n",
      "\n"
     ]
    },
    {
     "name": "stdout",
     "output_type": "stream",
     "text": [
      "\u001b[1m125/125\u001b[0m \u001b[32m━━━━━━━━━━━━━━━━━━━━\u001b[0m\u001b[37m\u001b[0m \u001b[1m46s\u001b[0m 370ms/step\n",
      "Elastic severity 2\n",
      "Found 4000 validated image filenames belonging to 8 classes.\n"
     ]
    },
    {
     "name": "stderr",
     "output_type": "stream",
     "text": [
      "c:\\Users\\saulo\\PIBIC\\TinyML\\.venv\\Lib\\site-packages\\keras\\src\\trainers\\data_adapters\\py_dataset_adapter.py:121: UserWarning:\n",
      "\n",
      "Your `PyDataset` class should call `super().__init__(**kwargs)` in its constructor. `**kwargs` can include `workers`, `use_multiprocessing`, `max_queue_size`. Do not pass these arguments to `fit()`, as they will be ignored.\n",
      "\n"
     ]
    },
    {
     "name": "stdout",
     "output_type": "stream",
     "text": [
      "\u001b[1m125/125\u001b[0m \u001b[32m━━━━━━━━━━━━━━━━━━━━\u001b[0m\u001b[37m\u001b[0m \u001b[1m47s\u001b[0m 381ms/step\n",
      "Elastic severity 3\n",
      "Found 4000 validated image filenames belonging to 8 classes.\n"
     ]
    },
    {
     "name": "stderr",
     "output_type": "stream",
     "text": [
      "c:\\Users\\saulo\\PIBIC\\TinyML\\.venv\\Lib\\site-packages\\keras\\src\\trainers\\data_adapters\\py_dataset_adapter.py:121: UserWarning:\n",
      "\n",
      "Your `PyDataset` class should call `super().__init__(**kwargs)` in its constructor. `**kwargs` can include `workers`, `use_multiprocessing`, `max_queue_size`. Do not pass these arguments to `fit()`, as they will be ignored.\n",
      "\n"
     ]
    },
    {
     "name": "stdout",
     "output_type": "stream",
     "text": [
      "\u001b[1m125/125\u001b[0m \u001b[32m━━━━━━━━━━━━━━━━━━━━\u001b[0m\u001b[37m\u001b[0m \u001b[1m47s\u001b[0m 378ms/step\n",
      "Elastic severity 4\n",
      "Found 4000 validated image filenames belonging to 8 classes.\n"
     ]
    },
    {
     "name": "stderr",
     "output_type": "stream",
     "text": [
      "c:\\Users\\saulo\\PIBIC\\TinyML\\.venv\\Lib\\site-packages\\keras\\src\\trainers\\data_adapters\\py_dataset_adapter.py:121: UserWarning:\n",
      "\n",
      "Your `PyDataset` class should call `super().__init__(**kwargs)` in its constructor. `**kwargs` can include `workers`, `use_multiprocessing`, `max_queue_size`. Do not pass these arguments to `fit()`, as they will be ignored.\n",
      "\n"
     ]
    },
    {
     "name": "stdout",
     "output_type": "stream",
     "text": [
      "\u001b[1m125/125\u001b[0m \u001b[32m━━━━━━━━━━━━━━━━━━━━\u001b[0m\u001b[37m\u001b[0m \u001b[1m49s\u001b[0m 390ms/step\n",
      "Elastic severity 5\n",
      "Found 4000 validated image filenames belonging to 8 classes.\n"
     ]
    },
    {
     "name": "stderr",
     "output_type": "stream",
     "text": [
      "c:\\Users\\saulo\\PIBIC\\TinyML\\.venv\\Lib\\site-packages\\keras\\src\\trainers\\data_adapters\\py_dataset_adapter.py:121: UserWarning:\n",
      "\n",
      "Your `PyDataset` class should call `super().__init__(**kwargs)` in its constructor. `**kwargs` can include `workers`, `use_multiprocessing`, `max_queue_size`. Do not pass these arguments to `fit()`, as they will be ignored.\n",
      "\n"
     ]
    },
    {
     "name": "stdout",
     "output_type": "stream",
     "text": [
      "\u001b[1m125/125\u001b[0m \u001b[32m━━━━━━━━━━━━━━━━━━━━\u001b[0m\u001b[37m\u001b[0m \u001b[1m54s\u001b[0m 433ms/step\n",
      "Fog severity 1\n",
      "Found 4000 validated image filenames belonging to 8 classes.\n"
     ]
    },
    {
     "name": "stderr",
     "output_type": "stream",
     "text": [
      "c:\\Users\\saulo\\PIBIC\\TinyML\\.venv\\Lib\\site-packages\\keras\\src\\trainers\\data_adapters\\py_dataset_adapter.py:121: UserWarning:\n",
      "\n",
      "Your `PyDataset` class should call `super().__init__(**kwargs)` in its constructor. `**kwargs` can include `workers`, `use_multiprocessing`, `max_queue_size`. Do not pass these arguments to `fit()`, as they will be ignored.\n",
      "\n"
     ]
    },
    {
     "name": "stdout",
     "output_type": "stream",
     "text": [
      "\u001b[1m125/125\u001b[0m \u001b[32m━━━━━━━━━━━━━━━━━━━━\u001b[0m\u001b[37m\u001b[0m \u001b[1m53s\u001b[0m 428ms/step\n",
      "Fog severity 2\n",
      "Found 4000 validated image filenames belonging to 8 classes.\n"
     ]
    },
    {
     "name": "stderr",
     "output_type": "stream",
     "text": [
      "c:\\Users\\saulo\\PIBIC\\TinyML\\.venv\\Lib\\site-packages\\keras\\src\\trainers\\data_adapters\\py_dataset_adapter.py:121: UserWarning:\n",
      "\n",
      "Your `PyDataset` class should call `super().__init__(**kwargs)` in its constructor. `**kwargs` can include `workers`, `use_multiprocessing`, `max_queue_size`. Do not pass these arguments to `fit()`, as they will be ignored.\n",
      "\n"
     ]
    },
    {
     "name": "stdout",
     "output_type": "stream",
     "text": [
      "\u001b[1m125/125\u001b[0m \u001b[32m━━━━━━━━━━━━━━━━━━━━\u001b[0m\u001b[37m\u001b[0m \u001b[1m53s\u001b[0m 427ms/step\n",
      "Fog severity 3\n",
      "Found 4000 validated image filenames belonging to 8 classes.\n"
     ]
    },
    {
     "name": "stderr",
     "output_type": "stream",
     "text": [
      "c:\\Users\\saulo\\PIBIC\\TinyML\\.venv\\Lib\\site-packages\\keras\\src\\trainers\\data_adapters\\py_dataset_adapter.py:121: UserWarning:\n",
      "\n",
      "Your `PyDataset` class should call `super().__init__(**kwargs)` in its constructor. `**kwargs` can include `workers`, `use_multiprocessing`, `max_queue_size`. Do not pass these arguments to `fit()`, as they will be ignored.\n",
      "\n"
     ]
    },
    {
     "name": "stdout",
     "output_type": "stream",
     "text": [
      "\u001b[1m125/125\u001b[0m \u001b[32m━━━━━━━━━━━━━━━━━━━━\u001b[0m\u001b[37m\u001b[0m \u001b[1m48s\u001b[0m 388ms/step\n",
      "Fog severity 4\n",
      "Found 4000 validated image filenames belonging to 8 classes.\n"
     ]
    },
    {
     "name": "stderr",
     "output_type": "stream",
     "text": [
      "c:\\Users\\saulo\\PIBIC\\TinyML\\.venv\\Lib\\site-packages\\keras\\src\\trainers\\data_adapters\\py_dataset_adapter.py:121: UserWarning:\n",
      "\n",
      "Your `PyDataset` class should call `super().__init__(**kwargs)` in its constructor. `**kwargs` can include `workers`, `use_multiprocessing`, `max_queue_size`. Do not pass these arguments to `fit()`, as they will be ignored.\n",
      "\n"
     ]
    },
    {
     "name": "stdout",
     "output_type": "stream",
     "text": [
      "\u001b[1m125/125\u001b[0m \u001b[32m━━━━━━━━━━━━━━━━━━━━\u001b[0m\u001b[37m\u001b[0m \u001b[1m47s\u001b[0m 377ms/step\n",
      "Fog severity 5\n",
      "Found 4000 validated image filenames belonging to 8 classes.\n"
     ]
    },
    {
     "name": "stderr",
     "output_type": "stream",
     "text": [
      "c:\\Users\\saulo\\PIBIC\\TinyML\\.venv\\Lib\\site-packages\\keras\\src\\trainers\\data_adapters\\py_dataset_adapter.py:121: UserWarning:\n",
      "\n",
      "Your `PyDataset` class should call `super().__init__(**kwargs)` in its constructor. `**kwargs` can include `workers`, `use_multiprocessing`, `max_queue_size`. Do not pass these arguments to `fit()`, as they will be ignored.\n",
      "\n"
     ]
    },
    {
     "name": "stdout",
     "output_type": "stream",
     "text": [
      "\u001b[1m125/125\u001b[0m \u001b[32m━━━━━━━━━━━━━━━━━━━━\u001b[0m\u001b[37m\u001b[0m \u001b[1m47s\u001b[0m 374ms/step\n",
      "Frost severity 1\n",
      "Found 4000 validated image filenames belonging to 8 classes.\n"
     ]
    },
    {
     "name": "stderr",
     "output_type": "stream",
     "text": [
      "c:\\Users\\saulo\\PIBIC\\TinyML\\.venv\\Lib\\site-packages\\keras\\src\\trainers\\data_adapters\\py_dataset_adapter.py:121: UserWarning:\n",
      "\n",
      "Your `PyDataset` class should call `super().__init__(**kwargs)` in its constructor. `**kwargs` can include `workers`, `use_multiprocessing`, `max_queue_size`. Do not pass these arguments to `fit()`, as they will be ignored.\n",
      "\n"
     ]
    },
    {
     "name": "stdout",
     "output_type": "stream",
     "text": [
      "\u001b[1m125/125\u001b[0m \u001b[32m━━━━━━━━━━━━━━━━━━━━\u001b[0m\u001b[37m\u001b[0m \u001b[1m47s\u001b[0m 382ms/step\n",
      "Frost severity 2\n",
      "Found 4000 validated image filenames belonging to 8 classes.\n"
     ]
    },
    {
     "name": "stderr",
     "output_type": "stream",
     "text": [
      "c:\\Users\\saulo\\PIBIC\\TinyML\\.venv\\Lib\\site-packages\\keras\\src\\trainers\\data_adapters\\py_dataset_adapter.py:121: UserWarning:\n",
      "\n",
      "Your `PyDataset` class should call `super().__init__(**kwargs)` in its constructor. `**kwargs` can include `workers`, `use_multiprocessing`, `max_queue_size`. Do not pass these arguments to `fit()`, as they will be ignored.\n",
      "\n"
     ]
    },
    {
     "name": "stdout",
     "output_type": "stream",
     "text": [
      "\u001b[1m125/125\u001b[0m \u001b[32m━━━━━━━━━━━━━━━━━━━━\u001b[0m\u001b[37m\u001b[0m \u001b[1m47s\u001b[0m 376ms/step\n",
      "Frost severity 3\n",
      "Found 4000 validated image filenames belonging to 8 classes.\n"
     ]
    },
    {
     "name": "stderr",
     "output_type": "stream",
     "text": [
      "c:\\Users\\saulo\\PIBIC\\TinyML\\.venv\\Lib\\site-packages\\keras\\src\\trainers\\data_adapters\\py_dataset_adapter.py:121: UserWarning:\n",
      "\n",
      "Your `PyDataset` class should call `super().__init__(**kwargs)` in its constructor. `**kwargs` can include `workers`, `use_multiprocessing`, `max_queue_size`. Do not pass these arguments to `fit()`, as they will be ignored.\n",
      "\n"
     ]
    },
    {
     "name": "stdout",
     "output_type": "stream",
     "text": [
      "\u001b[1m125/125\u001b[0m \u001b[32m━━━━━━━━━━━━━━━━━━━━\u001b[0m\u001b[37m\u001b[0m \u001b[1m46s\u001b[0m 373ms/step\n",
      "Frost severity 4\n",
      "Found 4000 validated image filenames belonging to 8 classes.\n"
     ]
    },
    {
     "name": "stderr",
     "output_type": "stream",
     "text": [
      "c:\\Users\\saulo\\PIBIC\\TinyML\\.venv\\Lib\\site-packages\\keras\\src\\trainers\\data_adapters\\py_dataset_adapter.py:121: UserWarning:\n",
      "\n",
      "Your `PyDataset` class should call `super().__init__(**kwargs)` in its constructor. `**kwargs` can include `workers`, `use_multiprocessing`, `max_queue_size`. Do not pass these arguments to `fit()`, as they will be ignored.\n",
      "\n"
     ]
    },
    {
     "name": "stdout",
     "output_type": "stream",
     "text": [
      "\u001b[1m125/125\u001b[0m \u001b[32m━━━━━━━━━━━━━━━━━━━━\u001b[0m\u001b[37m\u001b[0m \u001b[1m50s\u001b[0m 404ms/step\n",
      "Frost severity 5\n",
      "Found 4000 validated image filenames belonging to 8 classes.\n"
     ]
    },
    {
     "name": "stderr",
     "output_type": "stream",
     "text": [
      "c:\\Users\\saulo\\PIBIC\\TinyML\\.venv\\Lib\\site-packages\\keras\\src\\trainers\\data_adapters\\py_dataset_adapter.py:121: UserWarning:\n",
      "\n",
      "Your `PyDataset` class should call `super().__init__(**kwargs)` in its constructor. `**kwargs` can include `workers`, `use_multiprocessing`, `max_queue_size`. Do not pass these arguments to `fit()`, as they will be ignored.\n",
      "\n"
     ]
    },
    {
     "name": "stdout",
     "output_type": "stream",
     "text": [
      "\u001b[1m125/125\u001b[0m \u001b[32m━━━━━━━━━━━━━━━━━━━━\u001b[0m\u001b[37m\u001b[0m \u001b[1m54s\u001b[0m 432ms/step\n",
      "Gaussian Blur severity 1\n",
      "Found 4000 validated image filenames belonging to 8 classes.\n"
     ]
    },
    {
     "name": "stderr",
     "output_type": "stream",
     "text": [
      "c:\\Users\\saulo\\PIBIC\\TinyML\\.venv\\Lib\\site-packages\\keras\\src\\trainers\\data_adapters\\py_dataset_adapter.py:121: UserWarning:\n",
      "\n",
      "Your `PyDataset` class should call `super().__init__(**kwargs)` in its constructor. `**kwargs` can include `workers`, `use_multiprocessing`, `max_queue_size`. Do not pass these arguments to `fit()`, as they will be ignored.\n",
      "\n"
     ]
    },
    {
     "name": "stdout",
     "output_type": "stream",
     "text": [
      "\u001b[1m125/125\u001b[0m \u001b[32m━━━━━━━━━━━━━━━━━━━━\u001b[0m\u001b[37m\u001b[0m \u001b[1m55s\u001b[0m 439ms/step\n",
      "Gaussian Blur severity 2\n",
      "Found 4000 validated image filenames belonging to 8 classes.\n"
     ]
    },
    {
     "name": "stderr",
     "output_type": "stream",
     "text": [
      "c:\\Users\\saulo\\PIBIC\\TinyML\\.venv\\Lib\\site-packages\\keras\\src\\trainers\\data_adapters\\py_dataset_adapter.py:121: UserWarning:\n",
      "\n",
      "Your `PyDataset` class should call `super().__init__(**kwargs)` in its constructor. `**kwargs` can include `workers`, `use_multiprocessing`, `max_queue_size`. Do not pass these arguments to `fit()`, as they will be ignored.\n",
      "\n"
     ]
    },
    {
     "name": "stdout",
     "output_type": "stream",
     "text": [
      "\u001b[1m125/125\u001b[0m \u001b[32m━━━━━━━━━━━━━━━━━━━━\u001b[0m\u001b[37m\u001b[0m \u001b[1m53s\u001b[0m 427ms/step\n",
      "Gaussian Blur severity 3\n",
      "Found 4000 validated image filenames belonging to 8 classes.\n"
     ]
    },
    {
     "name": "stderr",
     "output_type": "stream",
     "text": [
      "c:\\Users\\saulo\\PIBIC\\TinyML\\.venv\\Lib\\site-packages\\keras\\src\\trainers\\data_adapters\\py_dataset_adapter.py:121: UserWarning:\n",
      "\n",
      "Your `PyDataset` class should call `super().__init__(**kwargs)` in its constructor. `**kwargs` can include `workers`, `use_multiprocessing`, `max_queue_size`. Do not pass these arguments to `fit()`, as they will be ignored.\n",
      "\n"
     ]
    },
    {
     "name": "stdout",
     "output_type": "stream",
     "text": [
      "\u001b[1m125/125\u001b[0m \u001b[32m━━━━━━━━━━━━━━━━━━━━\u001b[0m\u001b[37m\u001b[0m \u001b[1m51s\u001b[0m 408ms/step\n",
      "Gaussian Blur severity 4\n",
      "Found 4000 validated image filenames belonging to 8 classes.\n"
     ]
    },
    {
     "name": "stderr",
     "output_type": "stream",
     "text": [
      "c:\\Users\\saulo\\PIBIC\\TinyML\\.venv\\Lib\\site-packages\\keras\\src\\trainers\\data_adapters\\py_dataset_adapter.py:121: UserWarning:\n",
      "\n",
      "Your `PyDataset` class should call `super().__init__(**kwargs)` in its constructor. `**kwargs` can include `workers`, `use_multiprocessing`, `max_queue_size`. Do not pass these arguments to `fit()`, as they will be ignored.\n",
      "\n"
     ]
    },
    {
     "name": "stdout",
     "output_type": "stream",
     "text": [
      "\u001b[1m125/125\u001b[0m \u001b[32m━━━━━━━━━━━━━━━━━━━━\u001b[0m\u001b[37m\u001b[0m \u001b[1m50s\u001b[0m 405ms/step\n",
      "Gaussian Blur severity 5\n",
      "Found 4000 validated image filenames belonging to 8 classes.\n"
     ]
    },
    {
     "name": "stderr",
     "output_type": "stream",
     "text": [
      "c:\\Users\\saulo\\PIBIC\\TinyML\\.venv\\Lib\\site-packages\\keras\\src\\trainers\\data_adapters\\py_dataset_adapter.py:121: UserWarning:\n",
      "\n",
      "Your `PyDataset` class should call `super().__init__(**kwargs)` in its constructor. `**kwargs` can include `workers`, `use_multiprocessing`, `max_queue_size`. Do not pass these arguments to `fit()`, as they will be ignored.\n",
      "\n"
     ]
    },
    {
     "name": "stdout",
     "output_type": "stream",
     "text": [
      "\u001b[1m125/125\u001b[0m \u001b[32m━━━━━━━━━━━━━━━━━━━━\u001b[0m\u001b[37m\u001b[0m \u001b[1m48s\u001b[0m 386ms/step\n",
      "Gaussian Noise severity 1\n",
      "Found 4000 validated image filenames belonging to 8 classes.\n"
     ]
    },
    {
     "name": "stderr",
     "output_type": "stream",
     "text": [
      "c:\\Users\\saulo\\PIBIC\\TinyML\\.venv\\Lib\\site-packages\\keras\\src\\trainers\\data_adapters\\py_dataset_adapter.py:121: UserWarning:\n",
      "\n",
      "Your `PyDataset` class should call `super().__init__(**kwargs)` in its constructor. `**kwargs` can include `workers`, `use_multiprocessing`, `max_queue_size`. Do not pass these arguments to `fit()`, as they will be ignored.\n",
      "\n"
     ]
    },
    {
     "name": "stdout",
     "output_type": "stream",
     "text": [
      "\u001b[1m125/125\u001b[0m \u001b[32m━━━━━━━━━━━━━━━━━━━━\u001b[0m\u001b[37m\u001b[0m \u001b[1m48s\u001b[0m 388ms/step\n",
      "Gaussian Noise severity 2\n",
      "Found 4000 validated image filenames belonging to 8 classes.\n"
     ]
    },
    {
     "name": "stderr",
     "output_type": "stream",
     "text": [
      "c:\\Users\\saulo\\PIBIC\\TinyML\\.venv\\Lib\\site-packages\\keras\\src\\trainers\\data_adapters\\py_dataset_adapter.py:121: UserWarning:\n",
      "\n",
      "Your `PyDataset` class should call `super().__init__(**kwargs)` in its constructor. `**kwargs` can include `workers`, `use_multiprocessing`, `max_queue_size`. Do not pass these arguments to `fit()`, as they will be ignored.\n",
      "\n"
     ]
    },
    {
     "name": "stdout",
     "output_type": "stream",
     "text": [
      "\u001b[1m125/125\u001b[0m \u001b[32m━━━━━━━━━━━━━━━━━━━━\u001b[0m\u001b[37m\u001b[0m \u001b[1m48s\u001b[0m 388ms/step\n",
      "Gaussian Noise severity 3\n",
      "Found 4000 validated image filenames belonging to 8 classes.\n"
     ]
    },
    {
     "name": "stderr",
     "output_type": "stream",
     "text": [
      "c:\\Users\\saulo\\PIBIC\\TinyML\\.venv\\Lib\\site-packages\\keras\\src\\trainers\\data_adapters\\py_dataset_adapter.py:121: UserWarning:\n",
      "\n",
      "Your `PyDataset` class should call `super().__init__(**kwargs)` in its constructor. `**kwargs` can include `workers`, `use_multiprocessing`, `max_queue_size`. Do not pass these arguments to `fit()`, as they will be ignored.\n",
      "\n"
     ]
    },
    {
     "name": "stdout",
     "output_type": "stream",
     "text": [
      "\u001b[1m125/125\u001b[0m \u001b[32m━━━━━━━━━━━━━━━━━━━━\u001b[0m\u001b[37m\u001b[0m \u001b[1m48s\u001b[0m 386ms/step\n",
      "Gaussian Noise severity 4\n",
      "Found 4000 validated image filenames belonging to 8 classes.\n"
     ]
    },
    {
     "name": "stderr",
     "output_type": "stream",
     "text": [
      "c:\\Users\\saulo\\PIBIC\\TinyML\\.venv\\Lib\\site-packages\\keras\\src\\trainers\\data_adapters\\py_dataset_adapter.py:121: UserWarning:\n",
      "\n",
      "Your `PyDataset` class should call `super().__init__(**kwargs)` in its constructor. `**kwargs` can include `workers`, `use_multiprocessing`, `max_queue_size`. Do not pass these arguments to `fit()`, as they will be ignored.\n",
      "\n"
     ]
    },
    {
     "name": "stdout",
     "output_type": "stream",
     "text": [
      "\u001b[1m125/125\u001b[0m \u001b[32m━━━━━━━━━━━━━━━━━━━━\u001b[0m\u001b[37m\u001b[0m \u001b[1m50s\u001b[0m 405ms/step\n",
      "Gaussian Noise severity 5\n",
      "Found 4000 validated image filenames belonging to 8 classes.\n"
     ]
    },
    {
     "name": "stderr",
     "output_type": "stream",
     "text": [
      "c:\\Users\\saulo\\PIBIC\\TinyML\\.venv\\Lib\\site-packages\\keras\\src\\trainers\\data_adapters\\py_dataset_adapter.py:121: UserWarning:\n",
      "\n",
      "Your `PyDataset` class should call `super().__init__(**kwargs)` in its constructor. `**kwargs` can include `workers`, `use_multiprocessing`, `max_queue_size`. Do not pass these arguments to `fit()`, as they will be ignored.\n",
      "\n"
     ]
    },
    {
     "name": "stdout",
     "output_type": "stream",
     "text": [
      "\u001b[1m125/125\u001b[0m \u001b[32m━━━━━━━━━━━━━━━━━━━━\u001b[0m\u001b[37m\u001b[0m \u001b[1m47s\u001b[0m 380ms/step\n",
      "Glass Blur severity 1\n",
      "Found 4000 validated image filenames belonging to 8 classes.\n"
     ]
    },
    {
     "name": "stderr",
     "output_type": "stream",
     "text": [
      "c:\\Users\\saulo\\PIBIC\\TinyML\\.venv\\Lib\\site-packages\\keras\\src\\trainers\\data_adapters\\py_dataset_adapter.py:121: UserWarning:\n",
      "\n",
      "Your `PyDataset` class should call `super().__init__(**kwargs)` in its constructor. `**kwargs` can include `workers`, `use_multiprocessing`, `max_queue_size`. Do not pass these arguments to `fit()`, as they will be ignored.\n",
      "\n"
     ]
    },
    {
     "name": "stdout",
     "output_type": "stream",
     "text": [
      "\u001b[1m125/125\u001b[0m \u001b[32m━━━━━━━━━━━━━━━━━━━━\u001b[0m\u001b[37m\u001b[0m \u001b[1m47s\u001b[0m 379ms/step\n",
      "Glass Blur severity 2\n",
      "Found 4000 validated image filenames belonging to 8 classes.\n"
     ]
    },
    {
     "name": "stderr",
     "output_type": "stream",
     "text": [
      "c:\\Users\\saulo\\PIBIC\\TinyML\\.venv\\Lib\\site-packages\\keras\\src\\trainers\\data_adapters\\py_dataset_adapter.py:121: UserWarning:\n",
      "\n",
      "Your `PyDataset` class should call `super().__init__(**kwargs)` in its constructor. `**kwargs` can include `workers`, `use_multiprocessing`, `max_queue_size`. Do not pass these arguments to `fit()`, as they will be ignored.\n",
      "\n"
     ]
    },
    {
     "name": "stdout",
     "output_type": "stream",
     "text": [
      "\u001b[1m125/125\u001b[0m \u001b[32m━━━━━━━━━━━━━━━━━━━━\u001b[0m\u001b[37m\u001b[0m \u001b[1m46s\u001b[0m 373ms/step\n",
      "Glass Blur severity 3\n",
      "Found 4000 validated image filenames belonging to 8 classes.\n"
     ]
    },
    {
     "name": "stderr",
     "output_type": "stream",
     "text": [
      "c:\\Users\\saulo\\PIBIC\\TinyML\\.venv\\Lib\\site-packages\\keras\\src\\trainers\\data_adapters\\py_dataset_adapter.py:121: UserWarning:\n",
      "\n",
      "Your `PyDataset` class should call `super().__init__(**kwargs)` in its constructor. `**kwargs` can include `workers`, `use_multiprocessing`, `max_queue_size`. Do not pass these arguments to `fit()`, as they will be ignored.\n",
      "\n"
     ]
    },
    {
     "name": "stdout",
     "output_type": "stream",
     "text": [
      "\u001b[1m125/125\u001b[0m \u001b[32m━━━━━━━━━━━━━━━━━━━━\u001b[0m\u001b[37m\u001b[0m \u001b[1m46s\u001b[0m 371ms/step\n",
      "Glass Blur severity 4\n",
      "Found 4000 validated image filenames belonging to 8 classes.\n"
     ]
    },
    {
     "name": "stderr",
     "output_type": "stream",
     "text": [
      "c:\\Users\\saulo\\PIBIC\\TinyML\\.venv\\Lib\\site-packages\\keras\\src\\trainers\\data_adapters\\py_dataset_adapter.py:121: UserWarning:\n",
      "\n",
      "Your `PyDataset` class should call `super().__init__(**kwargs)` in its constructor. `**kwargs` can include `workers`, `use_multiprocessing`, `max_queue_size`. Do not pass these arguments to `fit()`, as they will be ignored.\n",
      "\n"
     ]
    },
    {
     "name": "stdout",
     "output_type": "stream",
     "text": [
      "\u001b[1m125/125\u001b[0m \u001b[32m━━━━━━━━━━━━━━━━━━━━\u001b[0m\u001b[37m\u001b[0m \u001b[1m46s\u001b[0m 368ms/step\n",
      "Glass Blur severity 5\n",
      "Found 4000 validated image filenames belonging to 8 classes.\n"
     ]
    },
    {
     "name": "stderr",
     "output_type": "stream",
     "text": [
      "c:\\Users\\saulo\\PIBIC\\TinyML\\.venv\\Lib\\site-packages\\keras\\src\\trainers\\data_adapters\\py_dataset_adapter.py:121: UserWarning:\n",
      "\n",
      "Your `PyDataset` class should call `super().__init__(**kwargs)` in its constructor. `**kwargs` can include `workers`, `use_multiprocessing`, `max_queue_size`. Do not pass these arguments to `fit()`, as they will be ignored.\n",
      "\n"
     ]
    },
    {
     "name": "stdout",
     "output_type": "stream",
     "text": [
      "\u001b[1m125/125\u001b[0m \u001b[32m━━━━━━━━━━━━━━━━━━━━\u001b[0m\u001b[37m\u001b[0m \u001b[1m46s\u001b[0m 372ms/step\n",
      "Impulse Noise severity 1\n",
      "Found 4000 validated image filenames belonging to 8 classes.\n"
     ]
    },
    {
     "name": "stderr",
     "output_type": "stream",
     "text": [
      "c:\\Users\\saulo\\PIBIC\\TinyML\\.venv\\Lib\\site-packages\\keras\\src\\trainers\\data_adapters\\py_dataset_adapter.py:121: UserWarning:\n",
      "\n",
      "Your `PyDataset` class should call `super().__init__(**kwargs)` in its constructor. `**kwargs` can include `workers`, `use_multiprocessing`, `max_queue_size`. Do not pass these arguments to `fit()`, as they will be ignored.\n",
      "\n"
     ]
    },
    {
     "name": "stdout",
     "output_type": "stream",
     "text": [
      "\u001b[1m125/125\u001b[0m \u001b[32m━━━━━━━━━━━━━━━━━━━━\u001b[0m\u001b[37m\u001b[0m \u001b[1m47s\u001b[0m 376ms/step\n",
      "Impulse Noise severity 2\n",
      "Found 4000 validated image filenames belonging to 8 classes.\n"
     ]
    },
    {
     "name": "stderr",
     "output_type": "stream",
     "text": [
      "c:\\Users\\saulo\\PIBIC\\TinyML\\.venv\\Lib\\site-packages\\keras\\src\\trainers\\data_adapters\\py_dataset_adapter.py:121: UserWarning:\n",
      "\n",
      "Your `PyDataset` class should call `super().__init__(**kwargs)` in its constructor. `**kwargs` can include `workers`, `use_multiprocessing`, `max_queue_size`. Do not pass these arguments to `fit()`, as they will be ignored.\n",
      "\n"
     ]
    },
    {
     "name": "stdout",
     "output_type": "stream",
     "text": [
      "\u001b[1m125/125\u001b[0m \u001b[32m━━━━━━━━━━━━━━━━━━━━\u001b[0m\u001b[37m\u001b[0m \u001b[1m47s\u001b[0m 377ms/step\n",
      "Impulse Noise severity 3\n",
      "Found 4000 validated image filenames belonging to 8 classes.\n"
     ]
    },
    {
     "name": "stderr",
     "output_type": "stream",
     "text": [
      "c:\\Users\\saulo\\PIBIC\\TinyML\\.venv\\Lib\\site-packages\\keras\\src\\trainers\\data_adapters\\py_dataset_adapter.py:121: UserWarning:\n",
      "\n",
      "Your `PyDataset` class should call `super().__init__(**kwargs)` in its constructor. `**kwargs` can include `workers`, `use_multiprocessing`, `max_queue_size`. Do not pass these arguments to `fit()`, as they will be ignored.\n",
      "\n"
     ]
    },
    {
     "name": "stdout",
     "output_type": "stream",
     "text": [
      "\u001b[1m125/125\u001b[0m \u001b[32m━━━━━━━━━━━━━━━━━━━━\u001b[0m\u001b[37m\u001b[0m \u001b[1m48s\u001b[0m 382ms/step\n",
      "Impulse Noise severity 4\n",
      "Found 4000 validated image filenames belonging to 8 classes.\n"
     ]
    },
    {
     "name": "stderr",
     "output_type": "stream",
     "text": [
      "c:\\Users\\saulo\\PIBIC\\TinyML\\.venv\\Lib\\site-packages\\keras\\src\\trainers\\data_adapters\\py_dataset_adapter.py:121: UserWarning:\n",
      "\n",
      "Your `PyDataset` class should call `super().__init__(**kwargs)` in its constructor. `**kwargs` can include `workers`, `use_multiprocessing`, `max_queue_size`. Do not pass these arguments to `fit()`, as they will be ignored.\n",
      "\n"
     ]
    },
    {
     "name": "stdout",
     "output_type": "stream",
     "text": [
      "\u001b[1m125/125\u001b[0m \u001b[32m━━━━━━━━━━━━━━━━━━━━\u001b[0m\u001b[37m\u001b[0m \u001b[1m49s\u001b[0m 392ms/step\n",
      "Impulse Noise severity 5\n",
      "Found 4000 validated image filenames belonging to 8 classes.\n"
     ]
    },
    {
     "name": "stderr",
     "output_type": "stream",
     "text": [
      "c:\\Users\\saulo\\PIBIC\\TinyML\\.venv\\Lib\\site-packages\\keras\\src\\trainers\\data_adapters\\py_dataset_adapter.py:121: UserWarning:\n",
      "\n",
      "Your `PyDataset` class should call `super().__init__(**kwargs)` in its constructor. `**kwargs` can include `workers`, `use_multiprocessing`, `max_queue_size`. Do not pass these arguments to `fit()`, as they will be ignored.\n",
      "\n"
     ]
    },
    {
     "name": "stdout",
     "output_type": "stream",
     "text": [
      "\u001b[1m125/125\u001b[0m \u001b[32m━━━━━━━━━━━━━━━━━━━━\u001b[0m\u001b[37m\u001b[0m \u001b[1m47s\u001b[0m 381ms/step\n",
      "JPEG severity 1\n",
      "Found 4000 validated image filenames belonging to 8 classes.\n"
     ]
    },
    {
     "name": "stderr",
     "output_type": "stream",
     "text": [
      "c:\\Users\\saulo\\PIBIC\\TinyML\\.venv\\Lib\\site-packages\\keras\\src\\trainers\\data_adapters\\py_dataset_adapter.py:121: UserWarning:\n",
      "\n",
      "Your `PyDataset` class should call `super().__init__(**kwargs)` in its constructor. `**kwargs` can include `workers`, `use_multiprocessing`, `max_queue_size`. Do not pass these arguments to `fit()`, as they will be ignored.\n",
      "\n"
     ]
    },
    {
     "name": "stdout",
     "output_type": "stream",
     "text": [
      "\u001b[1m125/125\u001b[0m \u001b[32m━━━━━━━━━━━━━━━━━━━━\u001b[0m\u001b[37m\u001b[0m \u001b[1m46s\u001b[0m 367ms/step\n",
      "JPEG severity 2\n",
      "Found 4000 validated image filenames belonging to 8 classes.\n"
     ]
    },
    {
     "name": "stderr",
     "output_type": "stream",
     "text": [
      "c:\\Users\\saulo\\PIBIC\\TinyML\\.venv\\Lib\\site-packages\\keras\\src\\trainers\\data_adapters\\py_dataset_adapter.py:121: UserWarning:\n",
      "\n",
      "Your `PyDataset` class should call `super().__init__(**kwargs)` in its constructor. `**kwargs` can include `workers`, `use_multiprocessing`, `max_queue_size`. Do not pass these arguments to `fit()`, as they will be ignored.\n",
      "\n"
     ]
    },
    {
     "name": "stdout",
     "output_type": "stream",
     "text": [
      "\u001b[1m125/125\u001b[0m \u001b[32m━━━━━━━━━━━━━━━━━━━━\u001b[0m\u001b[37m\u001b[0m \u001b[1m46s\u001b[0m 368ms/step\n",
      "JPEG severity 3\n",
      "Found 4000 validated image filenames belonging to 8 classes.\n"
     ]
    },
    {
     "name": "stderr",
     "output_type": "stream",
     "text": [
      "c:\\Users\\saulo\\PIBIC\\TinyML\\.venv\\Lib\\site-packages\\keras\\src\\trainers\\data_adapters\\py_dataset_adapter.py:121: UserWarning:\n",
      "\n",
      "Your `PyDataset` class should call `super().__init__(**kwargs)` in its constructor. `**kwargs` can include `workers`, `use_multiprocessing`, `max_queue_size`. Do not pass these arguments to `fit()`, as they will be ignored.\n",
      "\n"
     ]
    },
    {
     "name": "stdout",
     "output_type": "stream",
     "text": [
      "\u001b[1m125/125\u001b[0m \u001b[32m━━━━━━━━━━━━━━━━━━━━\u001b[0m\u001b[37m\u001b[0m \u001b[1m46s\u001b[0m 371ms/step\n",
      "JPEG severity 4\n",
      "Found 4000 validated image filenames belonging to 8 classes.\n"
     ]
    },
    {
     "name": "stderr",
     "output_type": "stream",
     "text": [
      "c:\\Users\\saulo\\PIBIC\\TinyML\\.venv\\Lib\\site-packages\\keras\\src\\trainers\\data_adapters\\py_dataset_adapter.py:121: UserWarning:\n",
      "\n",
      "Your `PyDataset` class should call `super().__init__(**kwargs)` in its constructor. `**kwargs` can include `workers`, `use_multiprocessing`, `max_queue_size`. Do not pass these arguments to `fit()`, as they will be ignored.\n",
      "\n"
     ]
    },
    {
     "name": "stdout",
     "output_type": "stream",
     "text": [
      "\u001b[1m125/125\u001b[0m \u001b[32m━━━━━━━━━━━━━━━━━━━━\u001b[0m\u001b[37m\u001b[0m \u001b[1m47s\u001b[0m 376ms/step\n",
      "JPEG severity 5\n",
      "Found 4000 validated image filenames belonging to 8 classes.\n"
     ]
    },
    {
     "name": "stderr",
     "output_type": "stream",
     "text": [
      "c:\\Users\\saulo\\PIBIC\\TinyML\\.venv\\Lib\\site-packages\\keras\\src\\trainers\\data_adapters\\py_dataset_adapter.py:121: UserWarning:\n",
      "\n",
      "Your `PyDataset` class should call `super().__init__(**kwargs)` in its constructor. `**kwargs` can include `workers`, `use_multiprocessing`, `max_queue_size`. Do not pass these arguments to `fit()`, as they will be ignored.\n",
      "\n"
     ]
    },
    {
     "name": "stdout",
     "output_type": "stream",
     "text": [
      "\u001b[1m125/125\u001b[0m \u001b[32m━━━━━━━━━━━━━━━━━━━━\u001b[0m\u001b[37m\u001b[0m \u001b[1m48s\u001b[0m 389ms/step\n",
      "Motion Blur severity 1\n",
      "Found 4000 validated image filenames belonging to 8 classes.\n"
     ]
    },
    {
     "name": "stderr",
     "output_type": "stream",
     "text": [
      "c:\\Users\\saulo\\PIBIC\\TinyML\\.venv\\Lib\\site-packages\\keras\\src\\trainers\\data_adapters\\py_dataset_adapter.py:121: UserWarning:\n",
      "\n",
      "Your `PyDataset` class should call `super().__init__(**kwargs)` in its constructor. `**kwargs` can include `workers`, `use_multiprocessing`, `max_queue_size`. Do not pass these arguments to `fit()`, as they will be ignored.\n",
      "\n"
     ]
    },
    {
     "name": "stdout",
     "output_type": "stream",
     "text": [
      "\u001b[1m125/125\u001b[0m \u001b[32m━━━━━━━━━━━━━━━━━━━━\u001b[0m\u001b[37m\u001b[0m \u001b[1m46s\u001b[0m 370ms/step\n",
      "Motion Blur severity 2\n",
      "Found 4000 validated image filenames belonging to 8 classes.\n"
     ]
    },
    {
     "name": "stderr",
     "output_type": "stream",
     "text": [
      "c:\\Users\\saulo\\PIBIC\\TinyML\\.venv\\Lib\\site-packages\\keras\\src\\trainers\\data_adapters\\py_dataset_adapter.py:121: UserWarning:\n",
      "\n",
      "Your `PyDataset` class should call `super().__init__(**kwargs)` in its constructor. `**kwargs` can include `workers`, `use_multiprocessing`, `max_queue_size`. Do not pass these arguments to `fit()`, as they will be ignored.\n",
      "\n"
     ]
    },
    {
     "name": "stdout",
     "output_type": "stream",
     "text": [
      "\u001b[1m125/125\u001b[0m \u001b[32m━━━━━━━━━━━━━━━━━━━━\u001b[0m\u001b[37m\u001b[0m \u001b[1m46s\u001b[0m 372ms/step\n",
      "Motion Blur severity 3\n",
      "Found 4000 validated image filenames belonging to 8 classes.\n"
     ]
    },
    {
     "name": "stderr",
     "output_type": "stream",
     "text": [
      "c:\\Users\\saulo\\PIBIC\\TinyML\\.venv\\Lib\\site-packages\\keras\\src\\trainers\\data_adapters\\py_dataset_adapter.py:121: UserWarning:\n",
      "\n",
      "Your `PyDataset` class should call `super().__init__(**kwargs)` in its constructor. `**kwargs` can include `workers`, `use_multiprocessing`, `max_queue_size`. Do not pass these arguments to `fit()`, as they will be ignored.\n",
      "\n"
     ]
    },
    {
     "name": "stdout",
     "output_type": "stream",
     "text": [
      "\u001b[1m125/125\u001b[0m \u001b[32m━━━━━━━━━━━━━━━━━━━━\u001b[0m\u001b[37m\u001b[0m \u001b[1m47s\u001b[0m 375ms/step\n",
      "Motion Blur severity 4\n",
      "Found 4000 validated image filenames belonging to 8 classes.\n"
     ]
    },
    {
     "name": "stderr",
     "output_type": "stream",
     "text": [
      "c:\\Users\\saulo\\PIBIC\\TinyML\\.venv\\Lib\\site-packages\\keras\\src\\trainers\\data_adapters\\py_dataset_adapter.py:121: UserWarning:\n",
      "\n",
      "Your `PyDataset` class should call `super().__init__(**kwargs)` in its constructor. `**kwargs` can include `workers`, `use_multiprocessing`, `max_queue_size`. Do not pass these arguments to `fit()`, as they will be ignored.\n",
      "\n"
     ]
    },
    {
     "name": "stdout",
     "output_type": "stream",
     "text": [
      "\u001b[1m125/125\u001b[0m \u001b[32m━━━━━━━━━━━━━━━━━━━━\u001b[0m\u001b[37m\u001b[0m \u001b[1m45s\u001b[0m 362ms/step\n",
      "Motion Blur severity 5\n",
      "Found 4000 validated image filenames belonging to 8 classes.\n"
     ]
    },
    {
     "name": "stderr",
     "output_type": "stream",
     "text": [
      "c:\\Users\\saulo\\PIBIC\\TinyML\\.venv\\Lib\\site-packages\\keras\\src\\trainers\\data_adapters\\py_dataset_adapter.py:121: UserWarning:\n",
      "\n",
      "Your `PyDataset` class should call `super().__init__(**kwargs)` in its constructor. `**kwargs` can include `workers`, `use_multiprocessing`, `max_queue_size`. Do not pass these arguments to `fit()`, as they will be ignored.\n",
      "\n"
     ]
    },
    {
     "name": "stdout",
     "output_type": "stream",
     "text": [
      "\u001b[1m125/125\u001b[0m \u001b[32m━━━━━━━━━━━━━━━━━━━━\u001b[0m\u001b[37m\u001b[0m \u001b[1m46s\u001b[0m 366ms/step\n",
      "Pixelate severity 1\n",
      "Found 4000 validated image filenames belonging to 8 classes.\n"
     ]
    },
    {
     "name": "stderr",
     "output_type": "stream",
     "text": [
      "c:\\Users\\saulo\\PIBIC\\TinyML\\.venv\\Lib\\site-packages\\keras\\src\\trainers\\data_adapters\\py_dataset_adapter.py:121: UserWarning:\n",
      "\n",
      "Your `PyDataset` class should call `super().__init__(**kwargs)` in its constructor. `**kwargs` can include `workers`, `use_multiprocessing`, `max_queue_size`. Do not pass these arguments to `fit()`, as they will be ignored.\n",
      "\n"
     ]
    },
    {
     "name": "stdout",
     "output_type": "stream",
     "text": [
      "\u001b[1m125/125\u001b[0m \u001b[32m━━━━━━━━━━━━━━━━━━━━\u001b[0m\u001b[37m\u001b[0m \u001b[1m45s\u001b[0m 365ms/step\n",
      "Pixelate severity 2\n",
      "Found 4000 validated image filenames belonging to 8 classes.\n"
     ]
    },
    {
     "name": "stderr",
     "output_type": "stream",
     "text": [
      "c:\\Users\\saulo\\PIBIC\\TinyML\\.venv\\Lib\\site-packages\\keras\\src\\trainers\\data_adapters\\py_dataset_adapter.py:121: UserWarning:\n",
      "\n",
      "Your `PyDataset` class should call `super().__init__(**kwargs)` in its constructor. `**kwargs` can include `workers`, `use_multiprocessing`, `max_queue_size`. Do not pass these arguments to `fit()`, as they will be ignored.\n",
      "\n"
     ]
    },
    {
     "name": "stdout",
     "output_type": "stream",
     "text": [
      "\u001b[1m125/125\u001b[0m \u001b[32m━━━━━━━━━━━━━━━━━━━━\u001b[0m\u001b[37m\u001b[0m \u001b[1m45s\u001b[0m 366ms/step\n",
      "Pixelate severity 3\n",
      "Found 4000 validated image filenames belonging to 8 classes.\n"
     ]
    },
    {
     "name": "stderr",
     "output_type": "stream",
     "text": [
      "c:\\Users\\saulo\\PIBIC\\TinyML\\.venv\\Lib\\site-packages\\keras\\src\\trainers\\data_adapters\\py_dataset_adapter.py:121: UserWarning:\n",
      "\n",
      "Your `PyDataset` class should call `super().__init__(**kwargs)` in its constructor. `**kwargs` can include `workers`, `use_multiprocessing`, `max_queue_size`. Do not pass these arguments to `fit()`, as they will be ignored.\n",
      "\n"
     ]
    },
    {
     "name": "stdout",
     "output_type": "stream",
     "text": [
      "\u001b[1m125/125\u001b[0m \u001b[32m━━━━━━━━━━━━━━━━━━━━\u001b[0m\u001b[37m\u001b[0m \u001b[1m46s\u001b[0m 367ms/step\n",
      "Pixelate severity 4\n",
      "Found 4000 validated image filenames belonging to 8 classes.\n"
     ]
    },
    {
     "name": "stderr",
     "output_type": "stream",
     "text": [
      "c:\\Users\\saulo\\PIBIC\\TinyML\\.venv\\Lib\\site-packages\\keras\\src\\trainers\\data_adapters\\py_dataset_adapter.py:121: UserWarning:\n",
      "\n",
      "Your `PyDataset` class should call `super().__init__(**kwargs)` in its constructor. `**kwargs` can include `workers`, `use_multiprocessing`, `max_queue_size`. Do not pass these arguments to `fit()`, as they will be ignored.\n",
      "\n"
     ]
    },
    {
     "name": "stdout",
     "output_type": "stream",
     "text": [
      "\u001b[1m125/125\u001b[0m \u001b[32m━━━━━━━━━━━━━━━━━━━━\u001b[0m\u001b[37m\u001b[0m \u001b[1m46s\u001b[0m 373ms/step\n",
      "Pixelate severity 5\n",
      "Found 4000 validated image filenames belonging to 8 classes.\n"
     ]
    },
    {
     "name": "stderr",
     "output_type": "stream",
     "text": [
      "c:\\Users\\saulo\\PIBIC\\TinyML\\.venv\\Lib\\site-packages\\keras\\src\\trainers\\data_adapters\\py_dataset_adapter.py:121: UserWarning:\n",
      "\n",
      "Your `PyDataset` class should call `super().__init__(**kwargs)` in its constructor. `**kwargs` can include `workers`, `use_multiprocessing`, `max_queue_size`. Do not pass these arguments to `fit()`, as they will be ignored.\n",
      "\n"
     ]
    },
    {
     "name": "stdout",
     "output_type": "stream",
     "text": [
      "\u001b[1m125/125\u001b[0m \u001b[32m━━━━━━━━━━━━━━━━━━━━\u001b[0m\u001b[37m\u001b[0m \u001b[1m44s\u001b[0m 354ms/step\n",
      "Saturate severity 1\n",
      "Found 4000 validated image filenames belonging to 8 classes.\n"
     ]
    },
    {
     "name": "stderr",
     "output_type": "stream",
     "text": [
      "c:\\Users\\saulo\\PIBIC\\TinyML\\.venv\\Lib\\site-packages\\keras\\src\\trainers\\data_adapters\\py_dataset_adapter.py:121: UserWarning:\n",
      "\n",
      "Your `PyDataset` class should call `super().__init__(**kwargs)` in its constructor. `**kwargs` can include `workers`, `use_multiprocessing`, `max_queue_size`. Do not pass these arguments to `fit()`, as they will be ignored.\n",
      "\n"
     ]
    },
    {
     "name": "stdout",
     "output_type": "stream",
     "text": [
      "\u001b[1m125/125\u001b[0m \u001b[32m━━━━━━━━━━━━━━━━━━━━\u001b[0m\u001b[37m\u001b[0m \u001b[1m46s\u001b[0m 366ms/step\n",
      "Saturate severity 2\n",
      "Found 4000 validated image filenames belonging to 8 classes.\n"
     ]
    },
    {
     "name": "stderr",
     "output_type": "stream",
     "text": [
      "c:\\Users\\saulo\\PIBIC\\TinyML\\.venv\\Lib\\site-packages\\keras\\src\\trainers\\data_adapters\\py_dataset_adapter.py:121: UserWarning:\n",
      "\n",
      "Your `PyDataset` class should call `super().__init__(**kwargs)` in its constructor. `**kwargs` can include `workers`, `use_multiprocessing`, `max_queue_size`. Do not pass these arguments to `fit()`, as they will be ignored.\n",
      "\n"
     ]
    },
    {
     "name": "stdout",
     "output_type": "stream",
     "text": [
      "\u001b[1m125/125\u001b[0m \u001b[32m━━━━━━━━━━━━━━━━━━━━\u001b[0m\u001b[37m\u001b[0m \u001b[1m46s\u001b[0m 369ms/step\n",
      "Saturate severity 3\n",
      "Found 4000 validated image filenames belonging to 8 classes.\n"
     ]
    },
    {
     "name": "stderr",
     "output_type": "stream",
     "text": [
      "c:\\Users\\saulo\\PIBIC\\TinyML\\.venv\\Lib\\site-packages\\keras\\src\\trainers\\data_adapters\\py_dataset_adapter.py:121: UserWarning:\n",
      "\n",
      "Your `PyDataset` class should call `super().__init__(**kwargs)` in its constructor. `**kwargs` can include `workers`, `use_multiprocessing`, `max_queue_size`. Do not pass these arguments to `fit()`, as they will be ignored.\n",
      "\n"
     ]
    },
    {
     "name": "stdout",
     "output_type": "stream",
     "text": [
      "\u001b[1m125/125\u001b[0m \u001b[32m━━━━━━━━━━━━━━━━━━━━\u001b[0m\u001b[37m\u001b[0m \u001b[1m45s\u001b[0m 364ms/step\n",
      "Saturate severity 4\n",
      "Found 4000 validated image filenames belonging to 8 classes.\n"
     ]
    },
    {
     "name": "stderr",
     "output_type": "stream",
     "text": [
      "c:\\Users\\saulo\\PIBIC\\TinyML\\.venv\\Lib\\site-packages\\keras\\src\\trainers\\data_adapters\\py_dataset_adapter.py:121: UserWarning:\n",
      "\n",
      "Your `PyDataset` class should call `super().__init__(**kwargs)` in its constructor. `**kwargs` can include `workers`, `use_multiprocessing`, `max_queue_size`. Do not pass these arguments to `fit()`, as they will be ignored.\n",
      "\n"
     ]
    },
    {
     "name": "stdout",
     "output_type": "stream",
     "text": [
      "\u001b[1m125/125\u001b[0m \u001b[32m━━━━━━━━━━━━━━━━━━━━\u001b[0m\u001b[37m\u001b[0m \u001b[1m59s\u001b[0m 477ms/step\n",
      "Saturate severity 5\n",
      "Found 4000 validated image filenames belonging to 8 classes.\n"
     ]
    },
    {
     "name": "stderr",
     "output_type": "stream",
     "text": [
      "c:\\Users\\saulo\\PIBIC\\TinyML\\.venv\\Lib\\site-packages\\keras\\src\\trainers\\data_adapters\\py_dataset_adapter.py:121: UserWarning:\n",
      "\n",
      "Your `PyDataset` class should call `super().__init__(**kwargs)` in its constructor. `**kwargs` can include `workers`, `use_multiprocessing`, `max_queue_size`. Do not pass these arguments to `fit()`, as they will be ignored.\n",
      "\n"
     ]
    },
    {
     "name": "stdout",
     "output_type": "stream",
     "text": [
      "\u001b[1m125/125\u001b[0m \u001b[32m━━━━━━━━━━━━━━━━━━━━\u001b[0m\u001b[37m\u001b[0m \u001b[1m55s\u001b[0m 442ms/step\n",
      "Shot Noise severity 1\n",
      "Found 4000 validated image filenames belonging to 8 classes.\n"
     ]
    },
    {
     "name": "stderr",
     "output_type": "stream",
     "text": [
      "c:\\Users\\saulo\\PIBIC\\TinyML\\.venv\\Lib\\site-packages\\keras\\src\\trainers\\data_adapters\\py_dataset_adapter.py:121: UserWarning:\n",
      "\n",
      "Your `PyDataset` class should call `super().__init__(**kwargs)` in its constructor. `**kwargs` can include `workers`, `use_multiprocessing`, `max_queue_size`. Do not pass these arguments to `fit()`, as they will be ignored.\n",
      "\n"
     ]
    },
    {
     "name": "stdout",
     "output_type": "stream",
     "text": [
      "\u001b[1m125/125\u001b[0m \u001b[32m━━━━━━━━━━━━━━━━━━━━\u001b[0m\u001b[37m\u001b[0m \u001b[1m75s\u001b[0m 600ms/step\n",
      "Shot Noise severity 2\n",
      "Found 4000 validated image filenames belonging to 8 classes.\n"
     ]
    },
    {
     "name": "stderr",
     "output_type": "stream",
     "text": [
      "c:\\Users\\saulo\\PIBIC\\TinyML\\.venv\\Lib\\site-packages\\keras\\src\\trainers\\data_adapters\\py_dataset_adapter.py:121: UserWarning:\n",
      "\n",
      "Your `PyDataset` class should call `super().__init__(**kwargs)` in its constructor. `**kwargs` can include `workers`, `use_multiprocessing`, `max_queue_size`. Do not pass these arguments to `fit()`, as they will be ignored.\n",
      "\n"
     ]
    },
    {
     "name": "stdout",
     "output_type": "stream",
     "text": [
      "\u001b[1m125/125\u001b[0m \u001b[32m━━━━━━━━━━━━━━━━━━━━\u001b[0m\u001b[37m\u001b[0m \u001b[1m60s\u001b[0m 483ms/step\n",
      "Shot Noise severity 3\n",
      "Found 4000 validated image filenames belonging to 8 classes.\n"
     ]
    },
    {
     "name": "stderr",
     "output_type": "stream",
     "text": [
      "c:\\Users\\saulo\\PIBIC\\TinyML\\.venv\\Lib\\site-packages\\keras\\src\\trainers\\data_adapters\\py_dataset_adapter.py:121: UserWarning:\n",
      "\n",
      "Your `PyDataset` class should call `super().__init__(**kwargs)` in its constructor. `**kwargs` can include `workers`, `use_multiprocessing`, `max_queue_size`. Do not pass these arguments to `fit()`, as they will be ignored.\n",
      "\n"
     ]
    },
    {
     "name": "stdout",
     "output_type": "stream",
     "text": [
      "\u001b[1m125/125\u001b[0m \u001b[32m━━━━━━━━━━━━━━━━━━━━\u001b[0m\u001b[37m\u001b[0m \u001b[1m62s\u001b[0m 499ms/step\n",
      "Shot Noise severity 4\n",
      "Found 4000 validated image filenames belonging to 8 classes.\n"
     ]
    },
    {
     "name": "stderr",
     "output_type": "stream",
     "text": [
      "c:\\Users\\saulo\\PIBIC\\TinyML\\.venv\\Lib\\site-packages\\keras\\src\\trainers\\data_adapters\\py_dataset_adapter.py:121: UserWarning:\n",
      "\n",
      "Your `PyDataset` class should call `super().__init__(**kwargs)` in its constructor. `**kwargs` can include `workers`, `use_multiprocessing`, `max_queue_size`. Do not pass these arguments to `fit()`, as they will be ignored.\n",
      "\n"
     ]
    },
    {
     "name": "stdout",
     "output_type": "stream",
     "text": [
      "\u001b[1m125/125\u001b[0m \u001b[32m━━━━━━━━━━━━━━━━━━━━\u001b[0m\u001b[37m\u001b[0m \u001b[1m60s\u001b[0m 483ms/step\n",
      "Shot Noise severity 5\n",
      "Found 4000 validated image filenames belonging to 8 classes.\n"
     ]
    },
    {
     "name": "stderr",
     "output_type": "stream",
     "text": [
      "c:\\Users\\saulo\\PIBIC\\TinyML\\.venv\\Lib\\site-packages\\keras\\src\\trainers\\data_adapters\\py_dataset_adapter.py:121: UserWarning:\n",
      "\n",
      "Your `PyDataset` class should call `super().__init__(**kwargs)` in its constructor. `**kwargs` can include `workers`, `use_multiprocessing`, `max_queue_size`. Do not pass these arguments to `fit()`, as they will be ignored.\n",
      "\n"
     ]
    },
    {
     "name": "stdout",
     "output_type": "stream",
     "text": [
      "\u001b[1m125/125\u001b[0m \u001b[32m━━━━━━━━━━━━━━━━━━━━\u001b[0m\u001b[37m\u001b[0m \u001b[1m51s\u001b[0m 412ms/step\n",
      "Snow severity 1\n",
      "Found 4000 validated image filenames belonging to 8 classes.\n"
     ]
    },
    {
     "name": "stderr",
     "output_type": "stream",
     "text": [
      "c:\\Users\\saulo\\PIBIC\\TinyML\\.venv\\Lib\\site-packages\\keras\\src\\trainers\\data_adapters\\py_dataset_adapter.py:121: UserWarning:\n",
      "\n",
      "Your `PyDataset` class should call `super().__init__(**kwargs)` in its constructor. `**kwargs` can include `workers`, `use_multiprocessing`, `max_queue_size`. Do not pass these arguments to `fit()`, as they will be ignored.\n",
      "\n"
     ]
    },
    {
     "name": "stdout",
     "output_type": "stream",
     "text": [
      "\u001b[1m125/125\u001b[0m \u001b[32m━━━━━━━━━━━━━━━━━━━━\u001b[0m\u001b[37m\u001b[0m \u001b[1m46s\u001b[0m 367ms/step\n",
      "Snow severity 2\n",
      "Found 4000 validated image filenames belonging to 8 classes.\n"
     ]
    },
    {
     "name": "stderr",
     "output_type": "stream",
     "text": [
      "c:\\Users\\saulo\\PIBIC\\TinyML\\.venv\\Lib\\site-packages\\keras\\src\\trainers\\data_adapters\\py_dataset_adapter.py:121: UserWarning:\n",
      "\n",
      "Your `PyDataset` class should call `super().__init__(**kwargs)` in its constructor. `**kwargs` can include `workers`, `use_multiprocessing`, `max_queue_size`. Do not pass these arguments to `fit()`, as they will be ignored.\n",
      "\n"
     ]
    },
    {
     "name": "stdout",
     "output_type": "stream",
     "text": [
      "\u001b[1m125/125\u001b[0m \u001b[32m━━━━━━━━━━━━━━━━━━━━\u001b[0m\u001b[37m\u001b[0m \u001b[1m50s\u001b[0m 406ms/step\n",
      "Snow severity 3\n",
      "Found 4000 validated image filenames belonging to 8 classes.\n"
     ]
    },
    {
     "name": "stderr",
     "output_type": "stream",
     "text": [
      "c:\\Users\\saulo\\PIBIC\\TinyML\\.venv\\Lib\\site-packages\\keras\\src\\trainers\\data_adapters\\py_dataset_adapter.py:121: UserWarning:\n",
      "\n",
      "Your `PyDataset` class should call `super().__init__(**kwargs)` in its constructor. `**kwargs` can include `workers`, `use_multiprocessing`, `max_queue_size`. Do not pass these arguments to `fit()`, as they will be ignored.\n",
      "\n"
     ]
    },
    {
     "name": "stdout",
     "output_type": "stream",
     "text": [
      "\u001b[1m125/125\u001b[0m \u001b[32m━━━━━━━━━━━━━━━━━━━━\u001b[0m\u001b[37m\u001b[0m \u001b[1m44s\u001b[0m 352ms/step\n",
      "Snow severity 4\n",
      "Found 4000 validated image filenames belonging to 8 classes.\n"
     ]
    },
    {
     "name": "stderr",
     "output_type": "stream",
     "text": [
      "c:\\Users\\saulo\\PIBIC\\TinyML\\.venv\\Lib\\site-packages\\keras\\src\\trainers\\data_adapters\\py_dataset_adapter.py:121: UserWarning:\n",
      "\n",
      "Your `PyDataset` class should call `super().__init__(**kwargs)` in its constructor. `**kwargs` can include `workers`, `use_multiprocessing`, `max_queue_size`. Do not pass these arguments to `fit()`, as they will be ignored.\n",
      "\n"
     ]
    },
    {
     "name": "stdout",
     "output_type": "stream",
     "text": [
      "\u001b[1m125/125\u001b[0m \u001b[32m━━━━━━━━━━━━━━━━━━━━\u001b[0m\u001b[37m\u001b[0m \u001b[1m44s\u001b[0m 353ms/step\n",
      "Snow severity 5\n",
      "Found 4000 validated image filenames belonging to 8 classes.\n"
     ]
    },
    {
     "name": "stderr",
     "output_type": "stream",
     "text": [
      "c:\\Users\\saulo\\PIBIC\\TinyML\\.venv\\Lib\\site-packages\\keras\\src\\trainers\\data_adapters\\py_dataset_adapter.py:121: UserWarning:\n",
      "\n",
      "Your `PyDataset` class should call `super().__init__(**kwargs)` in its constructor. `**kwargs` can include `workers`, `use_multiprocessing`, `max_queue_size`. Do not pass these arguments to `fit()`, as they will be ignored.\n",
      "\n"
     ]
    },
    {
     "name": "stdout",
     "output_type": "stream",
     "text": [
      "\u001b[1m125/125\u001b[0m \u001b[32m━━━━━━━━━━━━━━━━━━━━\u001b[0m\u001b[37m\u001b[0m \u001b[1m44s\u001b[0m 353ms/step\n",
      "Spatter severity 1\n",
      "Found 4000 validated image filenames belonging to 8 classes.\n"
     ]
    },
    {
     "name": "stderr",
     "output_type": "stream",
     "text": [
      "c:\\Users\\saulo\\PIBIC\\TinyML\\.venv\\Lib\\site-packages\\keras\\src\\trainers\\data_adapters\\py_dataset_adapter.py:121: UserWarning:\n",
      "\n",
      "Your `PyDataset` class should call `super().__init__(**kwargs)` in its constructor. `**kwargs` can include `workers`, `use_multiprocessing`, `max_queue_size`. Do not pass these arguments to `fit()`, as they will be ignored.\n",
      "\n"
     ]
    },
    {
     "name": "stdout",
     "output_type": "stream",
     "text": [
      "\u001b[1m125/125\u001b[0m \u001b[32m━━━━━━━━━━━━━━━━━━━━\u001b[0m\u001b[37m\u001b[0m \u001b[1m44s\u001b[0m 354ms/step\n",
      "Spatter severity 2\n",
      "Found 4000 validated image filenames belonging to 8 classes.\n"
     ]
    },
    {
     "name": "stderr",
     "output_type": "stream",
     "text": [
      "c:\\Users\\saulo\\PIBIC\\TinyML\\.venv\\Lib\\site-packages\\keras\\src\\trainers\\data_adapters\\py_dataset_adapter.py:121: UserWarning:\n",
      "\n",
      "Your `PyDataset` class should call `super().__init__(**kwargs)` in its constructor. `**kwargs` can include `workers`, `use_multiprocessing`, `max_queue_size`. Do not pass these arguments to `fit()`, as they will be ignored.\n",
      "\n"
     ]
    },
    {
     "name": "stdout",
     "output_type": "stream",
     "text": [
      "\u001b[1m125/125\u001b[0m \u001b[32m━━━━━━━━━━━━━━━━━━━━\u001b[0m\u001b[37m\u001b[0m \u001b[1m50s\u001b[0m 404ms/step\n",
      "Spatter severity 3\n",
      "Found 4000 validated image filenames belonging to 8 classes.\n"
     ]
    },
    {
     "name": "stderr",
     "output_type": "stream",
     "text": [
      "c:\\Users\\saulo\\PIBIC\\TinyML\\.venv\\Lib\\site-packages\\keras\\src\\trainers\\data_adapters\\py_dataset_adapter.py:121: UserWarning:\n",
      "\n",
      "Your `PyDataset` class should call `super().__init__(**kwargs)` in its constructor. `**kwargs` can include `workers`, `use_multiprocessing`, `max_queue_size`. Do not pass these arguments to `fit()`, as they will be ignored.\n",
      "\n"
     ]
    },
    {
     "name": "stdout",
     "output_type": "stream",
     "text": [
      "\u001b[1m125/125\u001b[0m \u001b[32m━━━━━━━━━━━━━━━━━━━━\u001b[0m\u001b[37m\u001b[0m \u001b[1m45s\u001b[0m 359ms/step\n",
      "Spatter severity 4\n",
      "Found 4000 validated image filenames belonging to 8 classes.\n"
     ]
    },
    {
     "name": "stderr",
     "output_type": "stream",
     "text": [
      "c:\\Users\\saulo\\PIBIC\\TinyML\\.venv\\Lib\\site-packages\\keras\\src\\trainers\\data_adapters\\py_dataset_adapter.py:121: UserWarning:\n",
      "\n",
      "Your `PyDataset` class should call `super().__init__(**kwargs)` in its constructor. `**kwargs` can include `workers`, `use_multiprocessing`, `max_queue_size`. Do not pass these arguments to `fit()`, as they will be ignored.\n",
      "\n"
     ]
    },
    {
     "name": "stdout",
     "output_type": "stream",
     "text": [
      "\u001b[1m125/125\u001b[0m \u001b[32m━━━━━━━━━━━━━━━━━━━━\u001b[0m\u001b[37m\u001b[0m \u001b[1m46s\u001b[0m 371ms/step\n",
      "Spatter severity 5\n",
      "Found 4000 validated image filenames belonging to 8 classes.\n"
     ]
    },
    {
     "name": "stderr",
     "output_type": "stream",
     "text": [
      "c:\\Users\\saulo\\PIBIC\\TinyML\\.venv\\Lib\\site-packages\\keras\\src\\trainers\\data_adapters\\py_dataset_adapter.py:121: UserWarning:\n",
      "\n",
      "Your `PyDataset` class should call `super().__init__(**kwargs)` in its constructor. `**kwargs` can include `workers`, `use_multiprocessing`, `max_queue_size`. Do not pass these arguments to `fit()`, as they will be ignored.\n",
      "\n"
     ]
    },
    {
     "name": "stdout",
     "output_type": "stream",
     "text": [
      "\u001b[1m125/125\u001b[0m \u001b[32m━━━━━━━━━━━━━━━━━━━━\u001b[0m\u001b[37m\u001b[0m \u001b[1m45s\u001b[0m 361ms/step\n",
      "Speckle Noise severity 1\n",
      "Found 4000 validated image filenames belonging to 8 classes.\n"
     ]
    },
    {
     "name": "stderr",
     "output_type": "stream",
     "text": [
      "c:\\Users\\saulo\\PIBIC\\TinyML\\.venv\\Lib\\site-packages\\keras\\src\\trainers\\data_adapters\\py_dataset_adapter.py:121: UserWarning:\n",
      "\n",
      "Your `PyDataset` class should call `super().__init__(**kwargs)` in its constructor. `**kwargs` can include `workers`, `use_multiprocessing`, `max_queue_size`. Do not pass these arguments to `fit()`, as they will be ignored.\n",
      "\n"
     ]
    },
    {
     "name": "stdout",
     "output_type": "stream",
     "text": [
      "\u001b[1m125/125\u001b[0m \u001b[32m━━━━━━━━━━━━━━━━━━━━\u001b[0m\u001b[37m\u001b[0m \u001b[1m45s\u001b[0m 362ms/step\n",
      "Speckle Noise severity 2\n",
      "Found 4000 validated image filenames belonging to 8 classes.\n"
     ]
    },
    {
     "name": "stderr",
     "output_type": "stream",
     "text": [
      "c:\\Users\\saulo\\PIBIC\\TinyML\\.venv\\Lib\\site-packages\\keras\\src\\trainers\\data_adapters\\py_dataset_adapter.py:121: UserWarning:\n",
      "\n",
      "Your `PyDataset` class should call `super().__init__(**kwargs)` in its constructor. `**kwargs` can include `workers`, `use_multiprocessing`, `max_queue_size`. Do not pass these arguments to `fit()`, as they will be ignored.\n",
      "\n"
     ]
    },
    {
     "name": "stdout",
     "output_type": "stream",
     "text": [
      "\u001b[1m125/125\u001b[0m \u001b[32m━━━━━━━━━━━━━━━━━━━━\u001b[0m\u001b[37m\u001b[0m \u001b[1m45s\u001b[0m 365ms/step\n",
      "Speckle Noise severity 3\n",
      "Found 4000 validated image filenames belonging to 8 classes.\n"
     ]
    },
    {
     "name": "stderr",
     "output_type": "stream",
     "text": [
      "c:\\Users\\saulo\\PIBIC\\TinyML\\.venv\\Lib\\site-packages\\keras\\src\\trainers\\data_adapters\\py_dataset_adapter.py:121: UserWarning:\n",
      "\n",
      "Your `PyDataset` class should call `super().__init__(**kwargs)` in its constructor. `**kwargs` can include `workers`, `use_multiprocessing`, `max_queue_size`. Do not pass these arguments to `fit()`, as they will be ignored.\n",
      "\n"
     ]
    },
    {
     "name": "stdout",
     "output_type": "stream",
     "text": [
      "\u001b[1m125/125\u001b[0m \u001b[32m━━━━━━━━━━━━━━━━━━━━\u001b[0m\u001b[37m\u001b[0m \u001b[1m45s\u001b[0m 363ms/step\n",
      "Speckle Noise severity 4\n",
      "Found 4000 validated image filenames belonging to 8 classes.\n"
     ]
    },
    {
     "name": "stderr",
     "output_type": "stream",
     "text": [
      "c:\\Users\\saulo\\PIBIC\\TinyML\\.venv\\Lib\\site-packages\\keras\\src\\trainers\\data_adapters\\py_dataset_adapter.py:121: UserWarning:\n",
      "\n",
      "Your `PyDataset` class should call `super().__init__(**kwargs)` in its constructor. `**kwargs` can include `workers`, `use_multiprocessing`, `max_queue_size`. Do not pass these arguments to `fit()`, as they will be ignored.\n",
      "\n"
     ]
    },
    {
     "name": "stdout",
     "output_type": "stream",
     "text": [
      "\u001b[1m125/125\u001b[0m \u001b[32m━━━━━━━━━━━━━━━━━━━━\u001b[0m\u001b[37m\u001b[0m \u001b[1m45s\u001b[0m 362ms/step\n",
      "Speckle Noise severity 5\n",
      "Found 4000 validated image filenames belonging to 8 classes.\n"
     ]
    },
    {
     "name": "stderr",
     "output_type": "stream",
     "text": [
      "c:\\Users\\saulo\\PIBIC\\TinyML\\.venv\\Lib\\site-packages\\keras\\src\\trainers\\data_adapters\\py_dataset_adapter.py:121: UserWarning:\n",
      "\n",
      "Your `PyDataset` class should call `super().__init__(**kwargs)` in its constructor. `**kwargs` can include `workers`, `use_multiprocessing`, `max_queue_size`. Do not pass these arguments to `fit()`, as they will be ignored.\n",
      "\n"
     ]
    },
    {
     "name": "stdout",
     "output_type": "stream",
     "text": [
      "\u001b[1m125/125\u001b[0m \u001b[32m━━━━━━━━━━━━━━━━━━━━\u001b[0m\u001b[37m\u001b[0m \u001b[1m45s\u001b[0m 361ms/step\n",
      "Zoom Blur severity 1\n",
      "Found 4000 validated image filenames belonging to 8 classes.\n"
     ]
    },
    {
     "name": "stderr",
     "output_type": "stream",
     "text": [
      "c:\\Users\\saulo\\PIBIC\\TinyML\\.venv\\Lib\\site-packages\\keras\\src\\trainers\\data_adapters\\py_dataset_adapter.py:121: UserWarning:\n",
      "\n",
      "Your `PyDataset` class should call `super().__init__(**kwargs)` in its constructor. `**kwargs` can include `workers`, `use_multiprocessing`, `max_queue_size`. Do not pass these arguments to `fit()`, as they will be ignored.\n",
      "\n"
     ]
    },
    {
     "name": "stdout",
     "output_type": "stream",
     "text": [
      "\u001b[1m125/125\u001b[0m \u001b[32m━━━━━━━━━━━━━━━━━━━━\u001b[0m\u001b[37m\u001b[0m \u001b[1m45s\u001b[0m 358ms/step\n",
      "Zoom Blur severity 2\n",
      "Found 4000 validated image filenames belonging to 8 classes.\n"
     ]
    },
    {
     "name": "stderr",
     "output_type": "stream",
     "text": [
      "c:\\Users\\saulo\\PIBIC\\TinyML\\.venv\\Lib\\site-packages\\keras\\src\\trainers\\data_adapters\\py_dataset_adapter.py:121: UserWarning:\n",
      "\n",
      "Your `PyDataset` class should call `super().__init__(**kwargs)` in its constructor. `**kwargs` can include `workers`, `use_multiprocessing`, `max_queue_size`. Do not pass these arguments to `fit()`, as they will be ignored.\n",
      "\n"
     ]
    },
    {
     "name": "stdout",
     "output_type": "stream",
     "text": [
      "\u001b[1m125/125\u001b[0m \u001b[32m━━━━━━━━━━━━━━━━━━━━\u001b[0m\u001b[37m\u001b[0m \u001b[1m46s\u001b[0m 366ms/step\n",
      "Zoom Blur severity 3\n",
      "Found 4000 validated image filenames belonging to 8 classes.\n"
     ]
    },
    {
     "name": "stderr",
     "output_type": "stream",
     "text": [
      "c:\\Users\\saulo\\PIBIC\\TinyML\\.venv\\Lib\\site-packages\\keras\\src\\trainers\\data_adapters\\py_dataset_adapter.py:121: UserWarning:\n",
      "\n",
      "Your `PyDataset` class should call `super().__init__(**kwargs)` in its constructor. `**kwargs` can include `workers`, `use_multiprocessing`, `max_queue_size`. Do not pass these arguments to `fit()`, as they will be ignored.\n",
      "\n"
     ]
    },
    {
     "name": "stdout",
     "output_type": "stream",
     "text": [
      "\u001b[1m125/125\u001b[0m \u001b[32m━━━━━━━━━━━━━━━━━━━━\u001b[0m\u001b[37m\u001b[0m \u001b[1m44s\u001b[0m 356ms/step\n",
      "Zoom Blur severity 4\n",
      "Found 4000 validated image filenames belonging to 8 classes.\n"
     ]
    },
    {
     "name": "stderr",
     "output_type": "stream",
     "text": [
      "c:\\Users\\saulo\\PIBIC\\TinyML\\.venv\\Lib\\site-packages\\keras\\src\\trainers\\data_adapters\\py_dataset_adapter.py:121: UserWarning:\n",
      "\n",
      "Your `PyDataset` class should call `super().__init__(**kwargs)` in its constructor. `**kwargs` can include `workers`, `use_multiprocessing`, `max_queue_size`. Do not pass these arguments to `fit()`, as they will be ignored.\n",
      "\n"
     ]
    },
    {
     "name": "stdout",
     "output_type": "stream",
     "text": [
      "\u001b[1m125/125\u001b[0m \u001b[32m━━━━━━━━━━━━━━━━━━━━\u001b[0m\u001b[37m\u001b[0m \u001b[1m44s\u001b[0m 354ms/step\n",
      "Zoom Blur severity 5\n",
      "Found 4000 validated image filenames belonging to 8 classes.\n"
     ]
    },
    {
     "name": "stderr",
     "output_type": "stream",
     "text": [
      "c:\\Users\\saulo\\PIBIC\\TinyML\\.venv\\Lib\\site-packages\\keras\\src\\trainers\\data_adapters\\py_dataset_adapter.py:121: UserWarning:\n",
      "\n",
      "Your `PyDataset` class should call `super().__init__(**kwargs)` in its constructor. `**kwargs` can include `workers`, `use_multiprocessing`, `max_queue_size`. Do not pass these arguments to `fit()`, as they will be ignored.\n",
      "\n"
     ]
    },
    {
     "name": "stdout",
     "output_type": "stream",
     "text": [
      "\u001b[1m125/125\u001b[0m \u001b[32m━━━━━━━━━━━━━━━━━━━━\u001b[0m\u001b[37m\u001b[0m \u001b[1m46s\u001b[0m 373ms/step\n",
      "ok\n"
     ]
    }
   ],
   "source": [
    "# Função para processar e avaliar cada banco corrompido\n",
    "import pandas as pd\n",
    "import numpy as np\n",
    "import os\n",
    "from tensorflow import keras\n",
    "\n",
    "def funcaoParaObterAcuraciaParaMultiClasses(verdade, predicao, numeroDeClasses, ImagensPorClasse):\n",
    "    \n",
    "    vetorAuxiliar = [0 for _ in range(numeroDeClasses)]\n",
    "\n",
    "    for i in range(0, len(predicao)):\n",
    "        if verdade[i] == predicao[i]:\n",
    "            vetorAuxiliar[verdade[i]] = vetorAuxiliar[(verdade[i])] + 1\n",
    "\n",
    "    vetorDeAcuracia = [0, 0, 0, 0, 0, 0, 0, 0]\n",
    "    \n",
    "        \n",
    "    for i in range(0, len(vetorAuxiliar)):\n",
    "        vetorDeAcuracia[i] = vetorAuxiliar[i]/ImagensPorClasse\n",
    "        \n",
    "    return vetorDeAcuracia\n",
    "\n",
    "\n",
    "\n",
    "def df_maker(path):\n",
    "    file_paths = []\n",
    "    labels = []\n",
    "\n",
    "    # Listando as pastas dentro do diretório base (representam as classes)\n",
    "    folds = os.listdir(path)\n",
    "    for fold in folds:\n",
    "        fold_path = os.path.join(path, fold)\n",
    "        file_list = os.listdir(fold_path)\n",
    "        for file in file_list:\n",
    "            file_path = os.path.join(fold_path, file)\n",
    "            file_paths.append(file_path)\n",
    "            labels.append(fold)\n",
    "\n",
    "    # Criando uma série para caminhos e rótulos\n",
    "    file_series = pd.Series(file_paths, name=\"file_paths\")\n",
    "    label_series = pd.Series(labels, name=\"labels\")\n",
    "\n",
    "    # Concatenando as séries para formar um dataframe\n",
    "    df = pd.concat([file_series, label_series], axis=1)\n",
    "    return df\n",
    "\n",
    "\n",
    "\n",
    "def evaluate_corrupted_model(model, corrupted_data_path, corruption_name):\n",
    "    # Cria o dataframe com o caminho das imagens e rótulos\n",
    "    corrupted_df = df_maker(corrupted_data_path)\n",
    "    \n",
    "    # Cria o generator para o banco corrompido\n",
    "    corrupted_datagen = ImageDataGenerator()\n",
    "    corrupted_data = corrupted_datagen.flow_from_dataframe(\n",
    "        corrupted_df,\n",
    "        x_col=\"file_paths\",\n",
    "        y_col=\"labels\",\n",
    "        target_size=(224, 224),\n",
    "        color_mode=mode,\n",
    "        class_mode='categorical',\n",
    "        batch_size=batch_size,\n",
    "        shuffle=False,\n",
    "    )\n",
    "\n",
    "    # Realiza as predições\n",
    "    predictions = model.predict(corrupted_data)\n",
    "    y_pred = np.argmax(predictions, axis=1)\n",
    "    y_true = corrupted_data.classes\n",
    "\n",
    "    # Calcula e coleta métricas\n",
    "    report = classification_report(y_true, y_pred, output_dict=True, zero_division = 0)\n",
    "    report['corruption'] = corruption_name  # Adiciona o nome da corrupção para referência\n",
    "    \n",
    "    acuraciaPorClasse = funcaoParaObterAcuraciaParaMultiClasses(y_true, y_pred, 8, ImagensPorClasse=500)\n",
    "\n",
    "    report['acuraciaPorClasse'] = acuraciaPorClasse\n",
    "    \n",
    "    return report\n",
    "\n",
    "base_path = \"bancos/bancos\"\n",
    "\n",
    "corruption_types = [\n",
    "    \"Brightness\", \"Contrast\", \"Defocus Blur\", \"Elastic\", \"Fog\",\n",
    "    \"Frost\", \"Gaussian Blur\", \"Gaussian Noise\", \"Glass Blur\",\n",
    "    \"Impulse Noise\", \"JPEG\", \"Motion Blur\", \"Pixelate\", \"Saturate\",\n",
    "    \"Shot Noise\", \"Snow\", \"Spatter\", \"Speckle Noise\", \"Zoom Blur\"\n",
    "]\n",
    "\n",
    "severities = [1, 2, 3, 4, 5]\n",
    "\n",
    "corrupted_paths = [\n",
    "    os.path.join(base_path, f\"{corruption}_severity_{severity}\")\n",
    "    for corruption in corruption_types\n",
    "    for severity in severities\n",
    "]\n",
    "\n",
    "# Avaliação de todos os bancos\n",
    "results = []\n",
    "# Validar caminhos\n",
    "for path in corrupted_paths:\n",
    "    if not os.path.exists(path):\n",
    "        print(f\"Aviso: O caminho {path} não existe e será ignorado.\")\n",
    "        continue\n",
    "    corruption_name = os.path.basename(path).replace(\"_\", \" \")\n",
    "    print(corruption_name)\n",
    "    report = evaluate_corrupted_model(model, path, corruption_name)\n",
    "    results.append(report)\n",
    "\n",
    "\n",
    "# Criar e salvar DataFrame\n",
    "results_df = pd.DataFrame(results)\n",
    "results_df.to_csv(\"results/results_lcnn_v2.csv\", index=False)\n",
    "\n",
    "print(\"ok\")\n",
    "\n",
    "\n",
    "# # Cria o DataFrame com os resultados para visualização\n",
    "# results_df = pd.DataFrame(results)\n",
    "# print(results_df)"
   ]
  },
  {
   "cell_type": "code",
   "execution_count": 7,
   "metadata": {},
   "outputs": [
    {
     "name": "stdout",
     "output_type": "stream",
     "text": [
      "DataFrame inicial:\n",
      "    accuracy                                          macro avg  \\\n",
      "0    0.96775  {'precision': 0.9701254901464218, 'recall': 0....   \n",
      "1    0.95700  {'precision': 0.9614668176056158, 'recall': 0....   \n",
      "2    0.93150  {'precision': 0.9434257577330267, 'recall': 0....   \n",
      "3    0.88975  {'precision': 0.9171486775630111, 'recall': 0....   \n",
      "4    0.76350  {'precision': 0.8509089752353227, 'recall': 0....   \n",
      "..       ...                                                ...   \n",
      "90   0.93800  {'precision': 0.9464022461018792, 'recall': 0....   \n",
      "91   0.87225  {'precision': 0.9014590429362744, 'recall': 0....   \n",
      "92   0.82125  {'precision': 0.8697643572053462, 'recall': 0....   \n",
      "93   0.75150  {'precision': 0.8283447595843405, 'recall': 0....   \n",
      "94   0.70875  {'precision': 0.8091399729533775, 'recall': 0....   \n",
      "\n",
      "               corruption  \n",
      "0   Brightness severity 1  \n",
      "1   Brightness severity 2  \n",
      "2   Brightness severity 3  \n",
      "3   Brightness severity 4  \n",
      "4   Brightness severity 5  \n",
      "..                    ...  \n",
      "90   Zoom Blur severity 1  \n",
      "91   Zoom Blur severity 2  \n",
      "92   Zoom Blur severity 3  \n",
      "93   Zoom Blur severity 4  \n",
      "94   Zoom Blur severity 5  \n",
      "\n",
      "[95 rows x 3 columns]\n",
      "\n",
      "Resultado Geral:\n",
      "Precision: 0.844114566294591\n",
      "Recall: 0.7858605263157895\n",
      "f1-score: 0.7762554713857137\n",
      "Acuracia: 74.65675\n",
      "\n",
      "Novo DataFrame:\n",
      "    precision   recall  f1-score             corruption  acuracia\n",
      "0    0.970125  0.96775  0.967822  Brightness severity 1   0.96775\n",
      "1    0.961467  0.95700  0.957220  Brightness severity 2   0.95700\n",
      "2    0.943426  0.93150  0.931931  Brightness severity 3   0.93150\n",
      "3    0.917149  0.88975  0.889420  Brightness severity 4   0.88975\n",
      "4    0.850909  0.76350  0.753283  Brightness severity 5   0.76350\n",
      "..        ...      ...       ...                    ...       ...\n",
      "90   0.946402  0.93800  0.938209   Zoom Blur severity 1   0.93800\n",
      "91   0.901459  0.87225  0.871242   Zoom Blur severity 2   0.87225\n",
      "92   0.869764  0.82125  0.818956   Zoom Blur severity 3   0.82125\n",
      "93   0.828345  0.75150  0.744099   Zoom Blur severity 4   0.75150\n",
      "94   0.809140  0.70875  0.699595   Zoom Blur severity 5   0.70875\n",
      "\n",
      "[95 rows x 5 columns]\n",
      "DataFrame salvo com sucesso em: results/results_corrupted_data_lcnn.xlsx\n"
     ]
    },
    {
     "name": "stderr",
     "output_type": "stream",
     "text": [
      "C:\\Users\\saulo\\AppData\\Local\\Temp\\ipykernel_8064\\2238734261.py:53: FutureWarning:\n",
      "\n",
      "The behavior of DataFrame concatenation with empty or all-NA entries is deprecated. In a future version, this will no longer exclude empty or all-NA columns when determining the result dtypes. To retain the old behavior, exclude the relevant entries before the concat operation.\n",
      "\n"
     ]
    }
   ],
   "source": [
    "import pandas as pd\n",
    "import ast\n",
    "\n",
    "# Convert from .csv to .xlsx\n",
    "df = pd.read_csv(\"results/results_lcnn_v2.csv\")\n",
    "df.to_excel(\"results/results_lcnn_forEach_corruption.xlsx\", index=False)\n",
    "\n",
    "# Caminho do arquivo .xlsx\n",
    "# caminho_arquivo = r\"C:\\projeto\\resultadosDalccnParaCadaBancoModeloEscolhido.xlsx\"\n",
    "archive_path = \"results/results_lcnn_forEach_corruption.xlsx\"\n",
    "\n",
    "# Nome das colunas que você deseja extrair\n",
    "colunas_desejadas = ['macro avg', 'accuracy', 'corruption']\n",
    "\n",
    "# Ler o arquivo Excel e selecionar as colunas desejadas\n",
    "df = pd.read_excel(archive_path, usecols=colunas_desejadas)\n",
    "\n",
    "# Exibir o DataFrame com as colunas selecionadas\n",
    "print(\"DataFrame inicial:\")\n",
    "print(df)\n",
    "\n",
    "# Inicializar variáveis para somar os valores\n",
    "somaPrecision = 0\n",
    "somaRecall = 0\n",
    "somaF1Score = 0\n",
    "somaAcuracia = 0\n",
    "\n",
    "# Criar um novo DataFrame para armazenar os resultados\n",
    "novodf = pd.DataFrame(columns=['precision', 'recall', 'f1-score', 'corruption', 'acuracia'])\n",
    "\n",
    "# Iterar sobre as linhas do DataFrame\n",
    "for index, row in df.iterrows():\n",
    "    try:\n",
    "        # Converter a string da coluna 'macro avg' em um dicionário\n",
    "        dicionario = ast.literal_eval(row['macro avg'])\n",
    "        \n",
    "        # Somar os valores\n",
    "        somaPrecision += dicionario['precision']\n",
    "        somaRecall += dicionario['recall']\n",
    "        somaF1Score += dicionario['f1-score']\n",
    "        somaAcuracia += row['accuracy']\n",
    "        \n",
    "        # Adicionar uma nova linha ao novo DataFrame\n",
    "        novalinha = {\n",
    "            'precision': dicionario['precision'],\n",
    "            'recall': dicionario['recall'],\n",
    "            'f1-score': dicionario['f1-score'],\n",
    "            'corruption': row['corruption'],\n",
    "            'acuracia': row['accuracy']\n",
    "        }\n",
    "        \n",
    "        # Usar pd.concat para adicionar a nova linha\n",
    "        novodf = pd.concat([novodf, pd.DataFrame([novalinha])], ignore_index=True)\n",
    "    \n",
    "    except (ValueError, SyntaxError):\n",
    "        # Caso ocorra um erro ao converter a string para dicionário\n",
    "        print(f\"Erro ao processar a linha {index}: {row['macro avg']}\")\n",
    "        continue\n",
    "\n",
    "# Calcular as médias\n",
    "total_linhas = len(df)\n",
    "if total_linhas > 0:\n",
    "    mediaPrecision = somaPrecision / total_linhas\n",
    "    mediaRecall = somaRecall / total_linhas\n",
    "    mediaF1Score = somaF1Score / total_linhas\n",
    "else:\n",
    "    mediaPrecision = mediaRecall = mediaF1Score = 0\n",
    "\n",
    "# Exibir os resultados\n",
    "print(\"\\nResultado Geral:\")\n",
    "print(f\"Precision: {mediaPrecision}\")\n",
    "print(f\"Recall: {mediaRecall}\")\n",
    "print(f\"f1-score: {mediaF1Score}\")\n",
    "print(f\"Acuracia: {somaAcuracia}\")\n",
    "\n",
    "# Exibir o novo DataFrame\n",
    "print(\"\\nNovo DataFrame:\")\n",
    "print(novodf)\n",
    "\n",
    "# Salvar o novo DataFrame em um arquivo .xlsx\n",
    "output_path = \"results/results_corrupted_data_lcnn.xlsx\"\n",
    "novodf.to_excel(output_path, index=False)\n",
    "print(f\"DataFrame salvo com sucesso em: {output_path}\")"
   ]
  },
  {
   "cell_type": "code",
   "execution_count": 8,
   "metadata": {},
   "outputs": [
    {
     "name": "stdout",
     "output_type": "stream",
     "text": [
      "DataFrame inicial:\n",
      "                                                    0  \\\n",
      "0   {'precision': 0.9977777777777778, 'recall': 0....   \n",
      "1   {'precision': 0.9934640522875817, 'recall': 0....   \n",
      "2   {'precision': 0.9935064935064936, 'recall': 0....   \n",
      "3   {'precision': 0.9603340292275574, 'recall': 0....   \n",
      "4   {'precision': 0.8133802816901409, 'recall': 0....   \n",
      "..                                                ...   \n",
      "90  {'precision': 0.9955357142857143, 'recall': 0....   \n",
      "91  {'precision': 0.9678111587982833, 'recall': 0....   \n",
      "92  {'precision': 0.9046653144016227, 'recall': 0....   \n",
      "93  {'precision': 0.8387096774193549, 'recall': 0....   \n",
      "94  {'precision': 0.7898550724637681, 'recall': 0....   \n",
      "\n",
      "                                                    1  \\\n",
      "0   {'precision': 0.8942652329749103, 'recall': 0....   \n",
      "1   {'precision': 0.8573883161512027, 'recall': 0....   \n",
      "2   {'precision': 0.7583586626139818, 'recall': 0....   \n",
      "3   {'precision': 0.653997378768021, 'recall': 0.9...   \n",
      "4   {'precision': 0.4681647940074906, 'recall': 1....   \n",
      "..                                                ...   \n",
      "90  {'precision': 0.8180327868852459, 'recall': 0....   \n",
      "91  {'precision': 0.6779891304347826, 'recall': 0....   \n",
      "92  {'precision': 0.5815850815850816, 'recall': 0....   \n",
      "93  {'precision': 0.4825918762088975, 'recall': 0....   \n",
      "94  {'precision': 0.43215211754537597, 'recall': 1...   \n",
      "\n",
      "                                                    2  \\\n",
      "0   {'precision': 0.9979879275653923, 'recall': 0....   \n",
      "1   {'precision': 1.0, 'recall': 0.992, 'f1-score'...   \n",
      "2   {'precision': 0.9979879275653923, 'recall': 0....   \n",
      "3   {'precision': 0.9979879275653923, 'recall': 0....   \n",
      "4   {'precision': 0.9978947368421053, 'recall': 0....   \n",
      "..                                                ...   \n",
      "90  {'precision': 1.0, 'recall': 0.976, 'f1-score'...   \n",
      "91  {'precision': 1.0, 'recall': 0.932, 'f1-score'...   \n",
      "92  {'precision': 1.0, 'recall': 0.91, 'f1-score':...   \n",
      "93  {'precision': 0.9976958525345622, 'recall': 0....   \n",
      "94  {'precision': 0.9975550122249389, 'recall': 0....   \n",
      "\n",
      "                                                    3  \\\n",
      "0   {'precision': 0.9670542635658915, 'recall': 0....   \n",
      "1   {'precision': 0.9688715953307393, 'recall': 0....   \n",
      "2   {'precision': 0.9745098039215686, 'recall': 0....   \n",
      "3   {'precision': 0.974155069582505, 'recall': 0.9...   \n",
      "4   {'precision': 0.9403578528827038, 'recall': 0....   \n",
      "..                                                ...   \n",
      "90  {'precision': 0.9485714285714286, 'recall': 0....   \n",
      "91  {'precision': 0.908256880733945, 'recall': 0.9...   \n",
      "92  {'precision': 0.8862815884476535, 'recall': 0....   \n",
      "93  {'precision': 0.8460207612456747, 'recall': 0....   \n",
      "94  {'precision': 0.8039538714991763, 'recall': 0....   \n",
      "\n",
      "                                                    4  \\\n",
      "0   {'precision': 0.9915966386554622, 'recall': 0....   \n",
      "1   {'precision': 0.9911699779249448, 'recall': 0....   \n",
      "2   {'precision': 0.989821882951654, 'recall': 0.7...   \n",
      "3   {'precision': 0.990506329113924, 'recall': 0.6...   \n",
      "4   {'precision': 0.987012987012987, 'recall': 0.3...   \n",
      "..                                                ...   \n",
      "90  {'precision': 0.9864864864864865, 'recall': 0....   \n",
      "91  {'precision': 0.9751381215469613, 'recall': 0....   \n",
      "92  {'precision': 0.9640522875816994, 'recall': 0....   \n",
      "93  {'precision': 0.9271255060728745, 'recall': 0....   \n",
      "94  {'precision': 0.9296482412060302, 'recall': 0....   \n",
      "\n",
      "                                                    5  \\\n",
      "0   {'precision': 0.9919517102615694, 'recall': 0....   \n",
      "1   {'precision': 0.9919517102615694, 'recall': 0....   \n",
      "2   {'precision': 0.9860279441117764, 'recall': 0....   \n",
      "3   {'precision': 0.9777327935222672, 'recall': 0....   \n",
      "4   {'precision': 0.9880668257756563, 'recall': 0....   \n",
      "..                                                ...   \n",
      "90  {'precision': 0.9899598393574297, 'recall': 0....   \n",
      "91  {'precision': 0.9916492693110647, 'recall': 0....   \n",
      "92  {'precision': 0.9954545454545455, 'recall': 0....   \n",
      "93  {'precision': 0.9973262032085561, 'recall': 0....   \n",
      "94  {'precision': 0.9969230769230769, 'recall': 0....   \n",
      "\n",
      "                                                    6  \\\n",
      "0   {'precision': 1.0, 'recall': 0.932, 'f1-score'...   \n",
      "1   {'precision': 1.0, 'recall': 0.882, 'f1-score'...   \n",
      "2   {'precision': 0.9975429975429976, 'recall': 0....   \n",
      "3   {'precision': 0.9971181556195965, 'recall': 0....   \n",
      "4   {'precision': 0.984375, 'recall': 0.378, 'f1-s...   \n",
      "..                                                ...   \n",
      "90  {'precision': 0.9950248756218906, 'recall': 0....   \n",
      "91  {'precision': 0.9828767123287672, 'recall': 0....   \n",
      "92  {'precision': 0.9705882352941176, 'recall': 0....   \n",
      "93  {'precision': 0.9329268292682927, 'recall': 0....   \n",
      "94  {'precision': 0.9319727891156463, 'recall': 0....   \n",
      "\n",
      "                                                    7  \\\n",
      "0   {'precision': 0.9203703703703704, 'recall': 0....   \n",
      "1   {'precision': 0.8888888888888888, 'recall': 0....   \n",
      "2   {'precision': 0.8496503496503497, 'recall': 0....   \n",
      "3   {'precision': 0.7853577371048253, 'recall': 0....   \n",
      "4   {'precision': 0.6280193236714976, 'recall': 0....   \n",
      "..                                                ...   \n",
      "90  {'precision': 0.8376068376068376, 'recall': 0....   \n",
      "91  {'precision': 0.7079510703363915, 'recall': 0....   \n",
      "92  {'precision': 0.6554878048780488, 'recall': 0....   \n",
      "93  {'precision': 0.6043613707165109, 'recall': 0....   \n",
      "94  {'precision': 0.5910596026490066, 'recall': 0....   \n",
      "\n",
      "                                    acuraciaPorClasse  \n",
      "0   [0.898, 0.998, 0.992, 0.998, 0.944, 0.986, 0.9...  \n",
      "1   [0.912, 0.998, 0.992, 0.996, 0.898, 0.986, 0.8...  \n",
      "2   [0.918, 0.998, 0.992, 0.994, 0.778, 0.988, 0.8...  \n",
      "3   [0.92, 0.998, 0.992, 0.98, 0.626, 0.966, 0.692...  \n",
      "4   [0.924, 1.0, 0.948, 0.946, 0.304, 0.828, 0.378...  \n",
      "..                                                ...  \n",
      "90  [0.892, 0.998, 0.976, 0.996, 0.876, 0.986, 0.8...  \n",
      "91  [0.902, 0.998, 0.932, 0.99, 0.706, 0.95, 0.574...  \n",
      "92  [0.892, 0.998, 0.91, 0.982, 0.59, 0.876, 0.462...  \n",
      "93  [0.884, 0.998, 0.866, 0.978, 0.458, 0.746, 0.3...  \n",
      "94  [0.872, 1.0, 0.816, 0.976, 0.37, 0.648, 0.274,...  \n",
      "\n",
      "[95 rows x 9 columns]\n",
      "DataFrame com os resultados (dividido por 95):\n",
      "   precision    recall  f1-score  acuracia\n",
      "0   0.932736  0.681558  0.745859  0.681558\n",
      "1   0.649377  0.875600  0.726996  0.875600\n",
      "2   0.960402  0.882968  0.910277  0.882968\n",
      "3   0.879736  0.913642  0.884475  0.913642\n",
      "4   0.906166  0.583411  0.657749  0.583411\n",
      "5   0.943201  0.761621  0.805613  0.761621\n",
      "6   0.802283  0.732232  0.740401  0.732232\n",
      "7   0.679015  0.855853  0.738674  0.855853\n",
      "Os resultados foram exportados para o arquivo: results/resultados_classes_lcnn.xlsx\n"
     ]
    }
   ],
   "source": [
    "import pandas as pd\n",
    "import ast\n",
    "\n",
    "# Caminho do arquivo .xlsx\n",
    "# caminho_arquivo = r\"C:\\projeto\\resultadosDalccnParaCadaBancoModeloEscolhido.xlsx\"\n",
    "archive_path = \"results/results_lcnn_forEach_corruption.xlsx\"\n",
    "\n",
    "# Nome das colunas que você deseja extrair\n",
    "colunas_desejadas = ['0', '1', '2', '3', '4', '5', '6', '7', 'acuraciaPorClasse']\n",
    "\n",
    "# Ler o arquivo Excel e selecionar as colunas desejadas\n",
    "df = pd.read_excel(archive_path, usecols=colunas_desejadas)\n",
    "\n",
    "# Exibir o DataFrame com as colunas selecionadas\n",
    "print(\"DataFrame inicial:\")\n",
    "print(df)\n",
    "\n",
    "# Inicializar os dicionários para cada classe\n",
    "Anthracnose = {'precision': 0.0, 'recall': 0.0, 'f1-score': 0.0, 'acuracia': 0.0}\n",
    "BacterialCanker = {'precision': 0.0, 'recall': 0.0, 'f1-score': 0.0, 'acuracia': 0.0}\n",
    "CuttingWeevil = {'precision': 0.0, 'recall': 0.0, 'f1-score': 0.0, 'acuracia': 0.0}\n",
    "DieBack = {'precision': 0.0, 'recall': 0.0, 'f1-score': 0.0, 'acuracia': 0.0}\n",
    "GallMidge = {'precision': 0.0, 'recall': 0.0, 'f1-score': 0.0, 'acuracia': 0.0}\n",
    "Healthy = {'precision': 0.0, 'recall': 0.0, 'f1-score': 0.0, 'acuracia': 0.0}\n",
    "PowderyMildew = {'precision': 0.0, 'recall': 0.0, 'f1-score': 0.0, 'acuracia': 0.0}\n",
    "SootyMould = {'precision': 0.0, 'recall': 0.0, 'f1-score': 0.0, 'acuracia': 0.0}\n",
    "\n",
    "# Iterar sobre as linhas do DataFrame\n",
    "for index, row in df.iterrows():\n",
    "    # Converter a string da coluna 'macro avg' em um dicionário\n",
    "    classe0 = ast.literal_eval(row['0'])\n",
    "    classe1 = ast.literal_eval(row['1'])\n",
    "    classe2 = ast.literal_eval(row['2'])\n",
    "    classe3 = ast.literal_eval(row['3'])\n",
    "    classe4 = ast.literal_eval(row['4'])\n",
    "    classe5 = ast.literal_eval(row['5'])\n",
    "    classe6 = ast.literal_eval(row['6'])\n",
    "    classe7 = ast.literal_eval(row['7'])\n",
    "    \n",
    "    # Converter a string da coluna 'acuraciaPorClasse' em uma lista\n",
    "    classe8 = ast.literal_eval(row['acuraciaPorClasse'])\n",
    "    \n",
    "    # Somar os valores para cada classe\n",
    "    Anthracnose['precision'] += classe0['precision']\n",
    "    Anthracnose['recall'] += classe0['recall']\n",
    "    Anthracnose['f1-score'] += classe0['f1-score']\n",
    "    Anthracnose['acuracia'] += float(classe8[0])  # Converter para float\n",
    "    \n",
    "    BacterialCanker['precision'] += classe1['precision']\n",
    "    BacterialCanker['recall'] += classe1['recall']\n",
    "    BacterialCanker['f1-score'] += classe1['f1-score']\n",
    "    BacterialCanker['acuracia'] += float(classe8[1])  # Converter para float\n",
    "    \n",
    "    CuttingWeevil['precision'] += classe2['precision']\n",
    "    CuttingWeevil['recall'] += classe2['recall']\n",
    "    CuttingWeevil['f1-score'] += classe2['f1-score']\n",
    "    CuttingWeevil['acuracia'] += float(classe8[2])  # Converter para float\n",
    "    \n",
    "    DieBack['precision'] += classe3['precision']\n",
    "    DieBack['recall'] += classe3['recall']\n",
    "    DieBack['f1-score'] += classe3['f1-score']\n",
    "    DieBack['acuracia'] += float(classe8[3])  # Converter para float\n",
    "    \n",
    "    GallMidge['precision'] += classe4['precision']\n",
    "    GallMidge['recall'] += classe4['recall']\n",
    "    GallMidge['f1-score'] += classe4['f1-score']\n",
    "    GallMidge['acuracia'] += float(classe8[4])  # Converter para float\n",
    "    \n",
    "    Healthy['precision'] += classe5['precision']\n",
    "    Healthy['recall'] += classe5['recall']\n",
    "    Healthy['f1-score'] += classe5['f1-score']\n",
    "    Healthy['acuracia'] += float(classe8[5])  # Converter para float\n",
    "    \n",
    "    PowderyMildew['precision'] += classe6['precision']\n",
    "    PowderyMildew['recall'] += classe6['recall']\n",
    "    PowderyMildew['f1-score'] += classe6['f1-score']\n",
    "    PowderyMildew['acuracia'] += float(classe8[6])  # Converter para float\n",
    "    \n",
    "    SootyMould['precision'] += classe7['precision']\n",
    "    SootyMould['recall'] += classe7['recall']\n",
    "    SootyMould['f1-score'] += classe7['f1-score']\n",
    "    SootyMould['acuracia'] += float(classe8[7])  # Converter para float\n",
    "\n",
    "# Criar um DataFrame com os resultados\n",
    "resultados = pd.DataFrame([Anthracnose, BacterialCanker, CuttingWeevil, DieBack, GallMidge, Healthy, PowderyMildew, SootyMould])\n",
    "\n",
    "# Dividir cada valor do DataFrame por 95\n",
    "resultados = resultados / 95\n",
    "\n",
    "# Exibir o DataFrame com os resultados\n",
    "print(\"DataFrame com os resultados (dividido por 95):\")\n",
    "print(resultados)\n",
    "\n",
    "# Exportar o DataFrame para um arquivo Excel\n",
    "# caminho_saida = r\"C:\\projeto\\resultados_classes_lcnnModeloEscolhido.xlsx\"\n",
    "caminho_saida = \"results/resultados_classes_lcnn.xlsx\"\n",
    "resultados.to_excel(caminho_saida, index=False)\n",
    "\n",
    "print(f\"Os resultados foram exportados para o arquivo: {caminho_saida}\")"
   ]
  },
  {
   "cell_type": "code",
   "execution_count": 9,
   "metadata": {},
   "outputs": [
    {
     "name": "stderr",
     "output_type": "stream",
     "text": [
      "C:\\Users\\saulo\\AppData\\Local\\Temp\\ipykernel_8064\\2417513219.py:34: FutureWarning:\n",
      "\n",
      "The behavior of DataFrame concatenation with empty or all-NA entries is deprecated. In a future version, this will no longer exclude empty or all-NA columns when determining the result dtypes. To retain the old behavior, exclude the relevant entries before the concat operation.\n",
      "\n",
      "C:\\Users\\saulo\\AppData\\Local\\Temp\\ipykernel_8064\\2417513219.py:42: FutureWarning:\n",
      "\n",
      "The behavior of DataFrame concatenation with empty or all-NA entries is deprecated. In a future version, this will no longer exclude empty or all-NA columns when determining the result dtypes. To retain the old behavior, exclude the relevant entries before the concat operation.\n",
      "\n"
     ]
    },
    {
     "name": "stdout",
     "output_type": "stream",
     "text": [
      "\n",
      "3 melhores corrupções:\n",
      "     corruption  acuraciaMediaDasCorrupcoes\n",
      "8    Glass Blur                     0.97295\n",
      "2  Defocus Blur                     0.96975\n",
      "3       Elastic                     0.96900\n",
      "\n",
      "3 piores corrupções:\n",
      "       corruption  acuraciaMediaDasCorrupcoes\n",
      "13       Saturate                     0.60835\n",
      "9   Impulse Noise                     0.55655\n",
      "1        Contrast                     0.37740\n"
     ]
    },
    {
     "name": "stderr",
     "output_type": "stream",
     "text": [
      "Looks like you are using a tranform that doesn't support FancyArrowPatch, using ax.annotate instead. The arrows might strike through texts. Increasing shrinkA in arrowprops might help.\n"
     ]
    },
    {
     "name": "stdout",
     "output_type": "stream",
     "text": [
      "Gráfico salvo em: results/grafico_lcnn_corrupcoes.png\n"
     ]
    },
    {
     "data": {
      "image/png": "[encoded data removed]",
      "text/plain": [
       "<Figure size 1200x800 with 1 Axes>"
      ]
     },
     "metadata": {},
     "output_type": "display_data"
    }
   ],
   "source": [
    "import pandas as pd\n",
    "import matplotlib.pyplot as plt\n",
    "from adjustText import adjust_text\n",
    "\n",
    "# Caminho do arquivo .xlsx\n",
    "# caminho_arquivo = r\"C:/Users/DESKTOP/pesquisaGabriel/resultadosDasRedes/resultado_final_geral_bancosCorrompidos_ResNet50ModeloEscolhido.xlsx\"\n",
    "archive_path = \"results/results_corrupted_data_lcnn.xlsx\"\n",
    "\n",
    "# Nome das colunas que você deseja extrair\n",
    "colunas_desejadas = ['corruption', 'acuracia', 'f1-score']\n",
    "\n",
    "# Ler o arquivo Excel e selecionar as colunas desejadas\n",
    "df = pd.read_excel(archive_path, usecols=colunas_desejadas)\n",
    "\n",
    "# Criar um novo DataFrame vazio\n",
    "novodf = pd.DataFrame(columns=['corruption', 'somaDasAcuracia', 'qtdItens'])\n",
    "\n",
    "# Função para verificar se uma string já existe na coluna 'corruption'\n",
    "def verifica_corrupcao_existente(df, string):\n",
    "    return string in df['corruption'].values\n",
    "\n",
    "def get_prefix_before_severity(text):\n",
    "    parts = text.split(\"severity\", 1)\n",
    "    return parts[0].strip()\n",
    "\n",
    "# Iterar sobre as linhas do DataFrame\n",
    "for index, row in df.iterrows():\n",
    "    string = get_prefix_before_severity(row['corruption'])\n",
    "    if verifica_corrupcao_existente(novodf, string):\n",
    "        novodf.loc[novodf['corruption'] == string, 'somaDasAcuracia'] += row['acuracia']\n",
    "        novodf.loc[novodf['corruption'] == string, 'qtdItens'] += 1\n",
    "    else:\n",
    "        nova_linha = pd.DataFrame({'corruption': [string], 'somaDasAcuracia': [row['acuracia']], 'qtdItens': [1]})\n",
    "        novodf = pd.concat([novodf, nova_linha], ignore_index=True)\n",
    "\n",
    "# Criar um novo DataFrame para as médias\n",
    "novodf2 = pd.DataFrame(columns=['corruption', 'acuraciaMediaDasCorrupcoes'])\n",
    "\n",
    "# Iterar sobre as linhas do DataFrame\n",
    "for index, row in novodf.iterrows():\n",
    "    nova_linha = pd.DataFrame({'corruption': [row['corruption']], 'acuraciaMediaDasCorrupcoes': [row['somaDasAcuracia'] / row['qtdItens']]})\n",
    "    novodf2 = pd.concat([novodf2, nova_linha], ignore_index=True)\n",
    "\n",
    "# Ordenar o DataFrame pela coluna 'acuraciaMediaDasCorrupcoes' em ordem decrescente\n",
    "novodf2 = novodf2.sort_values(by='acuraciaMediaDasCorrupcoes', ascending=False)\n",
    "\n",
    "# Pegar as 3 melhores e as 3 piores corrupções\n",
    "top_3_melhores = novodf2.head(3)\n",
    "top_3_piores = novodf2.tail(3)\n",
    "\n",
    "# Exibir os resultados\n",
    "print(\"\\n3 melhores corrupções:\")\n",
    "print(top_3_melhores)\n",
    "\n",
    "print(\"\\n3 piores corrupções:\")\n",
    "print(top_3_piores)\n",
    "\n",
    "# Criar um DataFrame para o gráfico\n",
    "novodf_grafico = pd.DataFrame(columns=['corruption', 'severidade', 'f1-score'])\n",
    "\n",
    "# Iterar sobre as linhas do DataFrame original\n",
    "for index, row in df.iterrows():\n",
    "    string = row['corruption']\n",
    "    parts = string.split()\n",
    "    corrupcao = ''\n",
    "    severidade = 0\n",
    "    if len(parts) == 3:\n",
    "        corrupcao = parts[0]\n",
    "        severidade = int(parts[2])\n",
    "    elif len(parts) == 4:\n",
    "        corrupcao = parts[0] + \" \" + parts[1]\n",
    "        severidade = int(parts[3])\n",
    "    novodf_grafico.loc[index] = [corrupcao, severidade, row['f1-score']]\n",
    "\n",
    "# Criar o gráfico\n",
    "plt.figure(figsize=(12, 8))\n",
    "\n",
    "# Lista de cores únicas para as linhas\n",
    "cores = plt.cm.tab20.colors\n",
    "\n",
    "# Lista de estilos de linhas e marcadores\n",
    "linestyles = ['-', '--', '-.', ':']\n",
    "markers = ['o', '^', 's', 'D']\n",
    "\n",
    "# Dicionário para mapear cada corrupção a uma cor única\n",
    "cor_mapping = {}\n",
    "cor_index = 0\n",
    "\n",
    "# Agrupar os dados por corrupção\n",
    "for i, (name, group) in enumerate(novodf_grafico.groupby('corruption')):\n",
    "    group = group.sort_values(by='severidade')\n",
    "    if name not in cor_mapping:\n",
    "        cor_mapping[name] = cores[cor_index]\n",
    "        cor_index = (cor_index + 1) % len(cores)\n",
    "    linestyle = linestyles[i % len(linestyles)]\n",
    "    marker = markers[i % len(markers)]\n",
    "    plt.plot(group['severidade'], group['f1-score'], marker=marker, linestyle=linestyle, label=name, color=cor_mapping[name])\n",
    "\n",
    "# Adicionar rótulos e título\n",
    "plt.xlabel('Severidade')\n",
    "plt.ylabel('F1-Score')\n",
    "plt.title('LCNN - Desempenho por Corrupção (Top3 e Bottom3 destacados)')\n",
    "\n",
    "# Definir os ticks do eixo x como 1, 2, 3, 4, 5\n",
    "plt.xticks([1, 2, 3, 4, 5, 6])\n",
    "\n",
    "# Adicionar mais ticks no eixo y\n",
    "plt.yticks([0, 0.1, 0.2, 0.3, 0.4, 0.5, 0.6, 0.7, 0.8, 0.9, 1.0, 1.1, 1.2])\n",
    "\n",
    "# Adicionar a legenda embaixo do gráfico\n",
    "legenda = plt.legend(loc='upper center', bbox_to_anchor=(0.5, -0.15), ncol=3)\n",
    "\n",
    "# Lista para armazenar as anotações\n",
    "annotations = []\n",
    "\n",
    "# Adicionar anotações para as 3 melhores corrupções (Top1, Top2, Top3)\n",
    "for i, (index, row) in enumerate(top_3_melhores.iterrows(), start=1):\n",
    "    corrupcao = row['corruption']\n",
    "    media = row['acuraciaMediaDasCorrupcoes']\n",
    "    dados_corrupcao = novodf_grafico[novodf_grafico['corruption'] == corrupcao]\n",
    "    if not dados_corrupcao.empty:\n",
    "        severidade = dados_corrupcao['severidade'].max()\n",
    "        f1_score = dados_corrupcao[dados_corrupcao['severidade'] == severidade]['f1-score'].values[0]\n",
    "        annotations.append(plt.annotate(f'Top{i}: {corrupcao}\\navg: {media:.4f}', \n",
    "                                        xy=(severidade, f1_score), \n",
    "                                        xytext=(severidade + 0.2, f1_score - 0.05), \n",
    "                                        arrowprops=dict(facecolor='green', edgecolor='green', shrink=0.05, width = 0.4, headwidth = 8),\n",
    "                                        fontsize=9, color='green'))\n",
    "\n",
    "# Adicionar anotações para as 3 piores corrupções (Bottom1, Bottom2, Bottom3)\n",
    "for i, (index, row) in enumerate(top_3_piores.iterrows(), start=1):\n",
    "    corrupcao = row['corruption']\n",
    "    media = row['acuraciaMediaDasCorrupcoes']\n",
    "    dados_corrupcao = novodf_grafico[novodf_grafico['corruption'] == corrupcao]\n",
    "    if not dados_corrupcao.empty:\n",
    "        severidade = dados_corrupcao['severidade'].max()\n",
    "        f1_score = dados_corrupcao[dados_corrupcao['severidade'] == severidade]['f1-score'].values[0]\n",
    "        annotations.append(plt.annotate(f'Bottom{i}: {corrupcao}\\navg: {media:.4f}', \n",
    "                                        xy=(severidade, f1_score), \n",
    "                                        xytext=(severidade + 0.2, f1_score + 0.05), \n",
    "                                        arrowprops=dict(facecolor='red', edgecolor='red', shrink=0.05, width = 0.4, headwidth = 8),\n",
    "                                        fontsize=9, color='red'))\n",
    "\n",
    "# Ajustar as anotações para evitar sobreposição\n",
    "adjust_text(annotations, \n",
    "            arrowprops=dict(arrowstyle='->', color='none'), \n",
    "            expand_points=(0.0, 0.0),  # Aumenta a distância entre as anotações\n",
    "            expand_text=(0.0, 0.0),    # Aumenta o espaço ao redor do texto\n",
    "            force_text=(-5, 2),     # Força o ajuste do texto\n",
    "            force_points=(0.00, 0.00))   # Força o ajuste dos pontos\n",
    "\n",
    "# Ajustar o layout para evitar sobreposição\n",
    "plt.tight_layout()\n",
    "\n",
    "# Salvar o gráfico em um arquivo\n",
    "caminho_grafico = \"results/grafico_lcnn_corrupcoes.png\"\n",
    "plt.savefig(caminho_grafico, dpi=500, bbox_inches='tight')  # dpi=300 para alta qualidade\n",
    "print(f\"Gráfico salvo em: {caminho_grafico}\")\n",
    "\n",
    "# Mostrar o gráfico\n",
    "plt.show()"
   ]
  }
 ],
 "metadata": {
  "kernelspec": {
   "display_name": ".venv",
   "language": "python",
   "name": "python3"
  },
  "language_info": {
   "codemirror_mode": {
    "name": "ipython",
    "version": 3
   },
   "file_extension": ".py",
   "mimetype": "text/x-python",
   "name": "python",
   "nbconvert_exporter": "python",
   "pygments_lexer": "ipython3",
   "version": "3.12.6"
  }
 },
 "nbformat": 4,
 "nbformat_minor": 2
}
